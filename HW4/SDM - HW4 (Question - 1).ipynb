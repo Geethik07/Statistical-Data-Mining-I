{
 "cells": [
  {
   "cell_type": "markdown",
   "id": "3d3974c4",
   "metadata": {},
   "source": [
    "# Question 1"
   ]
  },
  {
   "cell_type": "code",
   "execution_count": 1,
   "id": "f03a09ef",
   "metadata": {},
   "outputs": [
    {
     "name": "stderr",
     "output_type": "stream",
     "text": [
      "Loading required package: Matrix\n",
      "\n",
      "Loaded glmnet 4.1-4\n",
      "\n"
     ]
    }
   ],
   "source": [
    "library(glmnet)"
   ]
  },
  {
   "cell_type": "code",
   "execution_count": 2,
   "id": "246ad17f",
   "metadata": {},
   "outputs": [],
   "source": [
    "library(leaps)"
   ]
  },
  {
   "cell_type": "code",
   "execution_count": 3,
   "id": "00f61976",
   "metadata": {},
   "outputs": [
    {
     "name": "stderr",
     "output_type": "stream",
     "text": [
      "\n",
      "Attaching package: ‘pls’\n",
      "\n",
      "\n",
      "The following object is masked from ‘package:stats’:\n",
      "\n",
      "    loadings\n",
      "\n",
      "\n"
     ]
    }
   ],
   "source": [
    "library(pls)"
   ]
  },
  {
   "cell_type": "code",
   "execution_count": 4,
   "id": "1a42a6fd",
   "metadata": {},
   "outputs": [],
   "source": [
    "rm (list = ls())"
   ]
  },
  {
   "cell_type": "code",
   "execution_count": 5,
   "id": "751a8f11",
   "metadata": {},
   "outputs": [],
   "source": [
    "prostate <- data.frame(read.table(\"http://statweb.stanford.edu/~tibs/ElemStatLearn/datasets/prostate.data\"))"
   ]
  },
  {
   "cell_type": "code",
   "execution_count": 6,
   "id": "3f91a7d6",
   "metadata": {},
   "outputs": [
    {
     "data": {
      "text/html": [
       "<style>\n",
       ".list-inline {list-style: none; margin:0; padding: 0}\n",
       ".list-inline>li {display: inline-block}\n",
       ".list-inline>li:not(:last-child)::after {content: \"\\00b7\"; padding: 0 .5ex}\n",
       "</style>\n",
       "<ol class=list-inline><li>97</li><li>10</li></ol>\n"
      ],
      "text/latex": [
       "\\begin{enumerate*}\n",
       "\\item 97\n",
       "\\item 10\n",
       "\\end{enumerate*}\n"
      ],
      "text/markdown": [
       "1. 97\n",
       "2. 10\n",
       "\n",
       "\n"
      ],
      "text/plain": [
       "[1] 97 10"
      ]
     },
     "metadata": {},
     "output_type": "display_data"
    },
    {
     "data": {
      "text/html": [
       "<table class=\"dataframe\">\n",
       "<caption>A data.frame: 10 × 10</caption>\n",
       "<thead>\n",
       "\t<tr><th></th><th scope=col>lcavol</th><th scope=col>lweight</th><th scope=col>age</th><th scope=col>lbph</th><th scope=col>svi</th><th scope=col>lcp</th><th scope=col>gleason</th><th scope=col>pgg45</th><th scope=col>lpsa</th><th scope=col>train</th></tr>\n",
       "\t<tr><th></th><th scope=col>&lt;dbl&gt;</th><th scope=col>&lt;dbl&gt;</th><th scope=col>&lt;int&gt;</th><th scope=col>&lt;dbl&gt;</th><th scope=col>&lt;int&gt;</th><th scope=col>&lt;dbl&gt;</th><th scope=col>&lt;int&gt;</th><th scope=col>&lt;int&gt;</th><th scope=col>&lt;dbl&gt;</th><th scope=col>&lt;lgl&gt;</th></tr>\n",
       "</thead>\n",
       "<tbody>\n",
       "\t<tr><th scope=row>1</th><td>-0.5798185</td><td>2.769459</td><td>50</td><td>-1.3862944</td><td>0</td><td>-1.386294</td><td>6</td><td> 0</td><td>-0.4307829</td><td> TRUE</td></tr>\n",
       "\t<tr><th scope=row>2</th><td>-0.9942523</td><td>3.319626</td><td>58</td><td>-1.3862944</td><td>0</td><td>-1.386294</td><td>6</td><td> 0</td><td>-0.1625189</td><td> TRUE</td></tr>\n",
       "\t<tr><th scope=row>3</th><td>-0.5108256</td><td>2.691243</td><td>74</td><td>-1.3862944</td><td>0</td><td>-1.386294</td><td>7</td><td>20</td><td>-0.1625189</td><td> TRUE</td></tr>\n",
       "\t<tr><th scope=row>4</th><td>-1.2039728</td><td>3.282789</td><td>58</td><td>-1.3862944</td><td>0</td><td>-1.386294</td><td>6</td><td> 0</td><td>-0.1625189</td><td> TRUE</td></tr>\n",
       "\t<tr><th scope=row>5</th><td> 0.7514161</td><td>3.432373</td><td>62</td><td>-1.3862944</td><td>0</td><td>-1.386294</td><td>6</td><td> 0</td><td> 0.3715636</td><td> TRUE</td></tr>\n",
       "\t<tr><th scope=row>6</th><td>-1.0498221</td><td>3.228826</td><td>50</td><td>-1.3862944</td><td>0</td><td>-1.386294</td><td>6</td><td> 0</td><td> 0.7654678</td><td> TRUE</td></tr>\n",
       "\t<tr><th scope=row>7</th><td> 0.7371641</td><td>3.473518</td><td>64</td><td> 0.6151856</td><td>0</td><td>-1.386294</td><td>6</td><td> 0</td><td> 0.7654678</td><td>FALSE</td></tr>\n",
       "\t<tr><th scope=row>8</th><td> 0.6931472</td><td>3.539509</td><td>58</td><td> 1.5368672</td><td>0</td><td>-1.386294</td><td>6</td><td> 0</td><td> 0.8544153</td><td> TRUE</td></tr>\n",
       "\t<tr><th scope=row>9</th><td>-0.7765288</td><td>3.539509</td><td>47</td><td>-1.3862944</td><td>0</td><td>-1.386294</td><td>6</td><td> 0</td><td> 1.0473190</td><td>FALSE</td></tr>\n",
       "\t<tr><th scope=row>10</th><td> 0.2231436</td><td>3.244544</td><td>63</td><td>-1.3862944</td><td>0</td><td>-1.386294</td><td>6</td><td> 0</td><td> 1.0473190</td><td>FALSE</td></tr>\n",
       "</tbody>\n",
       "</table>\n"
      ],
      "text/latex": [
       "A data.frame: 10 × 10\n",
       "\\begin{tabular}{r|llllllllll}\n",
       "  & lcavol & lweight & age & lbph & svi & lcp & gleason & pgg45 & lpsa & train\\\\\n",
       "  & <dbl> & <dbl> & <int> & <dbl> & <int> & <dbl> & <int> & <int> & <dbl> & <lgl>\\\\\n",
       "\\hline\n",
       "\t1 & -0.5798185 & 2.769459 & 50 & -1.3862944 & 0 & -1.386294 & 6 &  0 & -0.4307829 &  TRUE\\\\\n",
       "\t2 & -0.9942523 & 3.319626 & 58 & -1.3862944 & 0 & -1.386294 & 6 &  0 & -0.1625189 &  TRUE\\\\\n",
       "\t3 & -0.5108256 & 2.691243 & 74 & -1.3862944 & 0 & -1.386294 & 7 & 20 & -0.1625189 &  TRUE\\\\\n",
       "\t4 & -1.2039728 & 3.282789 & 58 & -1.3862944 & 0 & -1.386294 & 6 &  0 & -0.1625189 &  TRUE\\\\\n",
       "\t5 &  0.7514161 & 3.432373 & 62 & -1.3862944 & 0 & -1.386294 & 6 &  0 &  0.3715636 &  TRUE\\\\\n",
       "\t6 & -1.0498221 & 3.228826 & 50 & -1.3862944 & 0 & -1.386294 & 6 &  0 &  0.7654678 &  TRUE\\\\\n",
       "\t7 &  0.7371641 & 3.473518 & 64 &  0.6151856 & 0 & -1.386294 & 6 &  0 &  0.7654678 & FALSE\\\\\n",
       "\t8 &  0.6931472 & 3.539509 & 58 &  1.5368672 & 0 & -1.386294 & 6 &  0 &  0.8544153 &  TRUE\\\\\n",
       "\t9 & -0.7765288 & 3.539509 & 47 & -1.3862944 & 0 & -1.386294 & 6 &  0 &  1.0473190 & FALSE\\\\\n",
       "\t10 &  0.2231436 & 3.244544 & 63 & -1.3862944 & 0 & -1.386294 & 6 &  0 &  1.0473190 & FALSE\\\\\n",
       "\\end{tabular}\n"
      ],
      "text/markdown": [
       "\n",
       "A data.frame: 10 × 10\n",
       "\n",
       "| <!--/--> | lcavol &lt;dbl&gt; | lweight &lt;dbl&gt; | age &lt;int&gt; | lbph &lt;dbl&gt; | svi &lt;int&gt; | lcp &lt;dbl&gt; | gleason &lt;int&gt; | pgg45 &lt;int&gt; | lpsa &lt;dbl&gt; | train &lt;lgl&gt; |\n",
       "|---|---|---|---|---|---|---|---|---|---|---|\n",
       "| 1 | -0.5798185 | 2.769459 | 50 | -1.3862944 | 0 | -1.386294 | 6 |  0 | -0.4307829 |  TRUE |\n",
       "| 2 | -0.9942523 | 3.319626 | 58 | -1.3862944 | 0 | -1.386294 | 6 |  0 | -0.1625189 |  TRUE |\n",
       "| 3 | -0.5108256 | 2.691243 | 74 | -1.3862944 | 0 | -1.386294 | 7 | 20 | -0.1625189 |  TRUE |\n",
       "| 4 | -1.2039728 | 3.282789 | 58 | -1.3862944 | 0 | -1.386294 | 6 |  0 | -0.1625189 |  TRUE |\n",
       "| 5 |  0.7514161 | 3.432373 | 62 | -1.3862944 | 0 | -1.386294 | 6 |  0 |  0.3715636 |  TRUE |\n",
       "| 6 | -1.0498221 | 3.228826 | 50 | -1.3862944 | 0 | -1.386294 | 6 |  0 |  0.7654678 |  TRUE |\n",
       "| 7 |  0.7371641 | 3.473518 | 64 |  0.6151856 | 0 | -1.386294 | 6 |  0 |  0.7654678 | FALSE |\n",
       "| 8 |  0.6931472 | 3.539509 | 58 |  1.5368672 | 0 | -1.386294 | 6 |  0 |  0.8544153 |  TRUE |\n",
       "| 9 | -0.7765288 | 3.539509 | 47 | -1.3862944 | 0 | -1.386294 | 6 |  0 |  1.0473190 | FALSE |\n",
       "| 10 |  0.2231436 | 3.244544 | 63 | -1.3862944 | 0 | -1.386294 | 6 |  0 |  1.0473190 | FALSE |\n",
       "\n"
      ],
      "text/plain": [
       "   lcavol     lweight  age lbph       svi lcp       gleason pgg45 lpsa      \n",
       "1  -0.5798185 2.769459 50  -1.3862944 0   -1.386294 6        0    -0.4307829\n",
       "2  -0.9942523 3.319626 58  -1.3862944 0   -1.386294 6        0    -0.1625189\n",
       "3  -0.5108256 2.691243 74  -1.3862944 0   -1.386294 7       20    -0.1625189\n",
       "4  -1.2039728 3.282789 58  -1.3862944 0   -1.386294 6        0    -0.1625189\n",
       "5   0.7514161 3.432373 62  -1.3862944 0   -1.386294 6        0     0.3715636\n",
       "6  -1.0498221 3.228826 50  -1.3862944 0   -1.386294 6        0     0.7654678\n",
       "7   0.7371641 3.473518 64   0.6151856 0   -1.386294 6        0     0.7654678\n",
       "8   0.6931472 3.539509 58   1.5368672 0   -1.386294 6        0     0.8544153\n",
       "9  -0.7765288 3.539509 47  -1.3862944 0   -1.386294 6        0     1.0473190\n",
       "10  0.2231436 3.244544 63  -1.3862944 0   -1.386294 6        0     1.0473190\n",
       "   train\n",
       "1   TRUE\n",
       "2   TRUE\n",
       "3   TRUE\n",
       "4   TRUE\n",
       "5   TRUE\n",
       "6   TRUE\n",
       "7  FALSE\n",
       "8   TRUE\n",
       "9  FALSE\n",
       "10 FALSE"
      ]
     },
     "metadata": {},
     "output_type": "display_data"
    }
   ],
   "source": [
    "dim(prostate)\n",
    "head(prostate, 10)"
   ]
  },
  {
   "cell_type": "code",
   "execution_count": 7,
   "id": "365b4b12",
   "metadata": {},
   "outputs": [],
   "source": [
    "pro_1_train = sample(1:nrow(prostate), nrow(prostate)*0.80)"
   ]
  },
  {
   "cell_type": "code",
   "execution_count": 8,
   "id": "b394687c",
   "metadata": {},
   "outputs": [
    {
     "data": {
      "text/html": [
       "<style>\n",
       ".list-inline {list-style: none; margin:0; padding: 0}\n",
       ".list-inline>li {display: inline-block}\n",
       ".list-inline>li:not(:last-child)::after {content: \"\\00b7\"; padding: 0 .5ex}\n",
       "</style>\n",
       "<ol class=list-inline><li>77</li><li>10</li></ol>\n"
      ],
      "text/latex": [
       "\\begin{enumerate*}\n",
       "\\item 77\n",
       "\\item 10\n",
       "\\end{enumerate*}\n"
      ],
      "text/markdown": [
       "1. 77\n",
       "2. 10\n",
       "\n",
       "\n"
      ],
      "text/plain": [
       "[1] 77 10"
      ]
     },
     "metadata": {},
     "output_type": "display_data"
    },
    {
     "data": {
      "text/html": [
       "<style>\n",
       ".list-inline {list-style: none; margin:0; padding: 0}\n",
       ".list-inline>li {display: inline-block}\n",
       ".list-inline>li:not(:last-child)::after {content: \"\\00b7\"; padding: 0 .5ex}\n",
       "</style>\n",
       "<ol class=list-inline><li>20</li><li>10</li></ol>\n"
      ],
      "text/latex": [
       "\\begin{enumerate*}\n",
       "\\item 20\n",
       "\\item 10\n",
       "\\end{enumerate*}\n"
      ],
      "text/markdown": [
       "1. 20\n",
       "2. 10\n",
       "\n",
       "\n"
      ],
      "text/plain": [
       "[1] 20 10"
      ]
     },
     "metadata": {},
     "output_type": "display_data"
    }
   ],
   "source": [
    "pro_1_train_data = prostate[pro_1_train,]\n",
    "pro_1_test_data = prostate[-pro_1_train,]\n",
    "dim(pro_1_train_data)\n",
    "dim(pro_1_test_data)"
   ]
  },
  {
   "cell_type": "code",
   "execution_count": 9,
   "id": "2ded47a2",
   "metadata": {},
   "outputs": [],
   "source": [
    "best_subset = regsubsets(train ~., data = prostate, method = \"exhaustive\")"
   ]
  },
  {
   "cell_type": "code",
   "execution_count": 10,
   "id": "ed9d22d9",
   "metadata": {},
   "outputs": [
    {
     "data": {
      "text/plain": [
       "Subset selection object\n",
       "Call: regsubsets.formula(train ~ ., data = prostate, method = \"exhaustive\")\n",
       "9 Variables  (and intercept)\n",
       "        Forced in Forced out\n",
       "lcavol      FALSE      FALSE\n",
       "lweight     FALSE      FALSE\n",
       "age         FALSE      FALSE\n",
       "lbph        FALSE      FALSE\n",
       "svi         FALSE      FALSE\n",
       "lcp         FALSE      FALSE\n",
       "gleason     FALSE      FALSE\n",
       "pgg45       FALSE      FALSE\n",
       "lpsa        FALSE      FALSE\n",
       "1 subsets of each size up to 8\n",
       "Selection Algorithm: exhaustive\n",
       "         lcavol lweight age lbph svi lcp gleason pgg45 lpsa\n",
       "1  ( 1 ) \" \"    \" \"     \"*\" \" \"  \" \" \" \" \" \"     \" \"   \" \" \n",
       "2  ( 1 ) \" \"    \" \"     \" \" \" \"  \" \" \" \" \"*\"     \"*\"   \" \" \n",
       "3  ( 1 ) \" \"    \" \"     \"*\" \" \"  \" \" \" \" \"*\"     \"*\"   \" \" \n",
       "4  ( 1 ) \" \"    \" \"     \"*\" \" \"  \" \" \"*\" \"*\"     \"*\"   \" \" \n",
       "5  ( 1 ) \" \"    \" \"     \"*\" \"*\"  \" \" \"*\" \"*\"     \"*\"   \" \" \n",
       "6  ( 1 ) \" \"    \"*\"     \"*\" \"*\"  \" \" \"*\" \"*\"     \"*\"   \" \" \n",
       "7  ( 1 ) \" \"    \"*\"     \"*\" \"*\"  \"*\" \"*\" \"*\"     \"*\"   \" \" \n",
       "8  ( 1 ) \"*\"    \"*\"     \"*\" \"*\"  \"*\" \"*\" \"*\"     \"*\"   \" \" "
      ]
     },
     "metadata": {},
     "output_type": "display_data"
    }
   ],
   "source": [
    "reg_summary = summary(best_subset)\n",
    "reg_summary"
   ]
  },
  {
   "cell_type": "code",
   "execution_count": 11,
   "id": "701e2cf7",
   "metadata": {},
   "outputs": [
    {
     "data": {
      "text/html": [
       "<style>\n",
       ".list-inline {list-style: none; margin:0; padding: 0}\n",
       ".list-inline>li {display: inline-block}\n",
       ".list-inline>li:not(:last-child)::after {content: \"\\00b7\"; padding: 0 .5ex}\n",
       "</style>\n",
       "<ol class=list-inline><li>0.465038259387114</li><li>1.35041373216973</li><li>0.418162013025778</li><li>1.37000222957705</li><li>2.32340781343726</li><li>4.17449424939343</li><li>6.10014352852281</li><li>8.00063575689109</li></ol>\n"
      ],
      "text/latex": [
       "\\begin{enumerate*}\n",
       "\\item 0.465038259387114\n",
       "\\item 1.35041373216973\n",
       "\\item 0.418162013025778\n",
       "\\item 1.37000222957705\n",
       "\\item 2.32340781343726\n",
       "\\item 4.17449424939343\n",
       "\\item 6.10014352852281\n",
       "\\item 8.00063575689109\n",
       "\\end{enumerate*}\n"
      ],
      "text/markdown": [
       "1. 0.465038259387114\n",
       "2. 1.35041373216973\n",
       "3. 0.418162013025778\n",
       "4. 1.37000222957705\n",
       "5. 2.32340781343726\n",
       "6. 4.17449424939343\n",
       "7. 6.10014352852281\n",
       "8. 8.00063575689109\n",
       "\n",
       "\n"
      ],
      "text/plain": [
       "[1] 0.4650383 1.3504137 0.4181620 1.3700022 2.3234078 4.1744942 6.1001435\n",
       "[8] 8.0006358"
      ]
     },
     "metadata": {},
     "output_type": "display_data"
    }
   ],
   "source": [
    "#computing AIC value is same as cp for regsubsets, so I computed cp value.\n",
    "reg_summary$cp"
   ]
  },
  {
   "cell_type": "markdown",
   "id": "3c12161c",
   "metadata": {},
   "source": [
    "Third is the best "
   ]
  },
  {
   "cell_type": "code",
   "execution_count": 12,
   "id": "337868a1",
   "metadata": {},
   "outputs": [
    {
     "data": {
      "text/html": [
       "<style>\n",
       ".list-inline {list-style: none; margin:0; padding: 0}\n",
       ".list-inline>li {display: inline-block}\n",
       ".list-inline>li:not(:last-child)::after {content: \"\\00b7\"; padding: 0 .5ex}\n",
       "</style>\n",
       "<ol class=list-inline><li>6.04002809977902</li><li>9.45100511742926</li><li>10.8958781452241</li><li>14.3268383301543</li><li>17.7458900363196</li><li>22.1550446494113</li><li>26.6469894784168</li><li>31.1108192197547</li></ol>\n"
      ],
      "text/latex": [
       "\\begin{enumerate*}\n",
       "\\item 6.04002809977902\n",
       "\\item 9.45100511742926\n",
       "\\item 10.8958781452241\n",
       "\\item 14.3268383301543\n",
       "\\item 17.7458900363196\n",
       "\\item 22.1550446494113\n",
       "\\item 26.6469894784168\n",
       "\\item 31.1108192197547\n",
       "\\end{enumerate*}\n"
      ],
      "text/markdown": [
       "1. 6.04002809977902\n",
       "2. 9.45100511742926\n",
       "3. 10.8958781452241\n",
       "4. 14.3268383301543\n",
       "5. 17.7458900363196\n",
       "6. 22.1550446494113\n",
       "7. 26.6469894784168\n",
       "8. 31.1108192197547\n",
       "\n",
       "\n"
      ],
      "text/plain": [
       "[1]  6.040028  9.451005 10.895878 14.326838 17.745890 22.155045 26.646989\n",
       "[8] 31.110819"
      ]
     },
     "metadata": {},
     "output_type": "display_data"
    }
   ],
   "source": [
    "reg_summary$bic"
   ]
  },
  {
   "cell_type": "markdown",
   "id": "973aba7a",
   "metadata": {},
   "source": [
    "First is the best"
   ]
  },
  {
   "cell_type": "code",
   "execution_count": 13,
   "id": "19c6d0ce",
   "metadata": {},
   "outputs": [],
   "source": [
    "#5 fold\n",
    "best_sub = regsubsets(train~.,data = pro_1_train_data,method=\"exhaustive\")\n",
    "train_errors = rep(NA,8)\n",
    "test_errors = rep(NA,8)\n",
    "Y_train = pro_1_train_data$train\n",
    "Y_test = pro_1_test_data$train\n",
    "train_pred_matrix = model.matrix(train~., data = pro_1_train_data)"
   ]
  },
  {
   "cell_type": "code",
   "execution_count": 14,
   "id": "6bc959a6",
   "metadata": {},
   "outputs": [],
   "source": [
    "test_pred_matrix = model.matrix(train~., data = pro_1_test_data)"
   ]
  },
  {
   "cell_type": "code",
   "execution_count": 15,
   "id": "049c175a",
   "metadata": {},
   "outputs": [],
   "source": [
    "for (i in 1:8) {\n",
    "    coefi = coef(best_sub, id = i)\n",
    "    pred_train <- train_pred_matrix[,names(coefi)] %*% coefi\n",
    "    train_errors[i] = mean((Y_train - pred_train)^2)\n",
    "    pred_test <- test_pred_matrix[,names(coefi)] %*% coefi\n",
    "    test_errors[i] = mean((Y_test - pred_test)^2)\n",
    "}"
   ]
  },
  {
   "cell_type": "code",
   "execution_count": 16,
   "id": "5dfde1fe",
   "metadata": {},
   "outputs": [
    {
     "data": {
      "text/html": [
       "<style>\n",
       ".list-inline {list-style: none; margin:0; padding: 0}\n",
       ".list-inline>li {display: inline-block}\n",
       ".list-inline>li:not(:last-child)::after {content: \"\\00b7\"; padding: 0 .5ex}\n",
       "</style>\n",
       "<ol class=list-inline><li>0.213666615636004</li><li>0.225454051245864</li><li>0.264109886351189</li><li>0.250677312427267</li><li>0.249032505441243</li><li>0.250182276880184</li><li>0.249010540981108</li><li>0.252034712986672</li></ol>\n"
      ],
      "text/latex": [
       "\\begin{enumerate*}\n",
       "\\item 0.213666615636004\n",
       "\\item 0.225454051245864\n",
       "\\item 0.264109886351189\n",
       "\\item 0.250677312427267\n",
       "\\item 0.249032505441243\n",
       "\\item 0.250182276880184\n",
       "\\item 0.249010540981108\n",
       "\\item 0.252034712986672\n",
       "\\end{enumerate*}\n"
      ],
      "text/markdown": [
       "1. 0.213666615636004\n",
       "2. 0.225454051245864\n",
       "3. 0.264109886351189\n",
       "4. 0.250677312427267\n",
       "5. 0.249032505441243\n",
       "6. 0.250182276880184\n",
       "7. 0.249010540981108\n",
       "8. 0.252034712986672\n",
       "\n",
       "\n"
      ],
      "text/plain": [
       "[1] 0.2136666 0.2254541 0.2641099 0.2506773 0.2490325 0.2501823 0.2490105\n",
       "[8] 0.2520347"
      ]
     },
     "metadata": {},
     "output_type": "display_data"
    }
   ],
   "source": [
    "test_errors"
   ]
  },
  {
   "cell_type": "markdown",
   "id": "634d905e",
   "metadata": {},
   "source": [
    "First is the best"
   ]
  },
  {
   "cell_type": "code",
   "execution_count": 17,
   "id": "c68747a2",
   "metadata": {},
   "outputs": [],
   "source": [
    "#10 fold \n",
    "pro_1_train = sample(1:nrow(prostate), nrow(prostate)*0.90)\n",
    "pro_1_test = -pro_1_train\n",
    "pro_1_train_data = prostate[pro_1_train, ]\n",
    "pro_1_test_data = prostate[pro_1_test, ]"
   ]
  },
  {
   "cell_type": "code",
   "execution_count": 18,
   "id": "bfba1959",
   "metadata": {},
   "outputs": [],
   "source": [
    "best_sub = regsubsets(train~.,data = pro_1_train_data,method = \"exhaustive\")\n",
    "train_errors = rep(NA,8)\n",
    "test_errors = rep(NA,8)\n",
    "Y_train = pro_1_train_data$train\n",
    "Y_test = pro_1_test_data$train\n",
    "train_pred_matrix = model.matrix(train~., data = pro_1_train_data)"
   ]
  },
  {
   "cell_type": "code",
   "execution_count": 19,
   "id": "fcdc1c24",
   "metadata": {},
   "outputs": [],
   "source": [
    "test_pred_matrix = model.matrix(train~., data = pro_1_test_data)"
   ]
  },
  {
   "cell_type": "code",
   "execution_count": 20,
   "id": "f69a9c19",
   "metadata": {},
   "outputs": [],
   "source": [
    "for (i in 1:8) {\n",
    "    coefi = coef(best_sub, id = i)\n",
    "    pred_train <- train_pred_matrix[,names(coefi)] %*% coefi\n",
    "    train_errors[i] = mean((Y_train - pred_train)^2)\n",
    "    pred_test <- test_pred_matrix[,names(coefi)] %*% coefi\n",
    "    test_errors[i] = mean((Y_test - pred_test)^2)\n",
    "}\n"
   ]
  },
  {
   "cell_type": "code",
   "execution_count": 21,
   "id": "1bdc20fc",
   "metadata": {},
   "outputs": [
    {
     "data": {
      "text/html": [
       "<style>\n",
       ".list-inline {list-style: none; margin:0; padding: 0}\n",
       ".list-inline>li {display: inline-block}\n",
       ".list-inline>li:not(:last-child)::after {content: \"\\00b7\"; padding: 0 .5ex}\n",
       "</style>\n",
       "<ol class=list-inline><li>0.233929646791328</li><li>0.25268926283616</li><li>0.22300331766003</li><li>0.237166444411312</li><li>0.243062848335404</li><li>0.270138319212542</li><li>0.266833879615953</li><li>0.270831410459553</li></ol>\n"
      ],
      "text/latex": [
       "\\begin{enumerate*}\n",
       "\\item 0.233929646791328\n",
       "\\item 0.25268926283616\n",
       "\\item 0.22300331766003\n",
       "\\item 0.237166444411312\n",
       "\\item 0.243062848335404\n",
       "\\item 0.270138319212542\n",
       "\\item 0.266833879615953\n",
       "\\item 0.270831410459553\n",
       "\\end{enumerate*}\n"
      ],
      "text/markdown": [
       "1. 0.233929646791328\n",
       "2. 0.25268926283616\n",
       "3. 0.22300331766003\n",
       "4. 0.237166444411312\n",
       "5. 0.243062848335404\n",
       "6. 0.270138319212542\n",
       "7. 0.266833879615953\n",
       "8. 0.270831410459553\n",
       "\n",
       "\n"
      ],
      "text/plain": [
       "[1] 0.2339296 0.2526893 0.2230033 0.2371664 0.2430628 0.2701383 0.2668339\n",
       "[8] 0.2708314"
      ]
     },
     "metadata": {},
     "output_type": "display_data"
    }
   ],
   "source": [
    "test_errors"
   ]
  },
  {
   "cell_type": "markdown",
   "id": "9fc94e11",
   "metadata": {},
   "source": [
    "3rd is the best "
   ]
  },
  {
   "cell_type": "code",
   "execution_count": 22,
   "id": "7811c906",
   "metadata": {},
   "outputs": [],
   "source": [
    "#bootstrap\n",
    "#install.packages(\"bootstrap\")"
   ]
  },
  {
   "cell_type": "code",
   "execution_count": 23,
   "id": "78eafe6a",
   "metadata": {},
   "outputs": [
    {
     "name": "stderr",
     "output_type": "stream",
     "text": [
      "\n",
      "Attaching package: ‘bootstrap’\n",
      "\n",
      "\n",
      "The following object is masked from ‘package:pls’:\n",
      "\n",
      "    crossval\n",
      "\n",
      "\n"
     ]
    }
   ],
   "source": [
    "library(bootstrap)"
   ]
  },
  {
   "cell_type": "code",
   "execution_count": 24,
   "id": "227c8d3f",
   "metadata": {},
   "outputs": [
    {
     "data": {
      "text/plain": [
       "Subset selection object\n",
       "Call: regsubsets.formula(train ~ ., data = prostate, method = \"exhaustive\")\n",
       "9 Variables  (and intercept)\n",
       "        Forced in Forced out\n",
       "lcavol      FALSE      FALSE\n",
       "lweight     FALSE      FALSE\n",
       "age         FALSE      FALSE\n",
       "lbph        FALSE      FALSE\n",
       "svi         FALSE      FALSE\n",
       "lcp         FALSE      FALSE\n",
       "gleason     FALSE      FALSE\n",
       "pgg45       FALSE      FALSE\n",
       "lpsa        FALSE      FALSE\n",
       "1 subsets of each size up to 8\n",
       "Selection Algorithm: exhaustive\n",
       "         lcavol lweight age lbph svi lcp gleason pgg45 lpsa\n",
       "1  ( 1 ) \" \"    \" \"     \"*\" \" \"  \" \" \" \" \" \"     \" \"   \" \" \n",
       "2  ( 1 ) \" \"    \" \"     \" \" \" \"  \" \" \" \" \"*\"     \"*\"   \" \" \n",
       "3  ( 1 ) \" \"    \" \"     \"*\" \" \"  \" \" \" \" \"*\"     \"*\"   \" \" \n",
       "4  ( 1 ) \" \"    \" \"     \"*\" \" \"  \" \" \"*\" \"*\"     \"*\"   \" \" \n",
       "5  ( 1 ) \" \"    \" \"     \"*\" \"*\"  \" \" \"*\" \"*\"     \"*\"   \" \" \n",
       "6  ( 1 ) \" \"    \"*\"     \"*\" \"*\"  \" \" \"*\" \"*\"     \"*\"   \" \" \n",
       "7  ( 1 ) \" \"    \"*\"     \"*\" \"*\"  \"*\" \"*\" \"*\"     \"*\"   \" \" \n",
       "8  ( 1 ) \"*\"    \"*\"     \"*\" \"*\"  \"*\" \"*\" \"*\"     \"*\"   \" \" "
      ]
     },
     "metadata": {},
     "output_type": "display_data"
    }
   ],
   "source": [
    "best_sub = regsubsets(train~.,data = prostate,method=\"exhaustive\")\n",
    "reg_summary=summary(best_sub)\n",
    "reg_summary"
   ]
  },
  {
   "cell_type": "code",
   "execution_count": 25,
   "id": "c52c4ccd",
   "metadata": {},
   "outputs": [],
   "source": [
    "beta.fit <- function(X,Y){\n",
    "\tlsfit(X,Y)\t\n",
    "}"
   ]
  },
  {
   "cell_type": "code",
   "execution_count": 26,
   "id": "e2ee43bc",
   "metadata": {},
   "outputs": [],
   "source": [
    "beta.predict <- function(fit, X){\n",
    "\tcbind(1,X)%*%fit$coef\n",
    "}"
   ]
  },
  {
   "cell_type": "code",
   "execution_count": 27,
   "id": "a4791376",
   "metadata": {},
   "outputs": [],
   "source": [
    "sq.error <- function(Y,Yhat){\n",
    "\t(Y-Yhat)^2\n",
    "}\n"
   ]
  },
  {
   "cell_type": "code",
   "execution_count": 28,
   "id": "89a61539",
   "metadata": {},
   "outputs": [],
   "source": [
    "select = reg_summary$outmat\n",
    "error_store <- c()"
   ]
  },
  {
   "cell_type": "code",
   "execution_count": 29,
   "id": "30401cff",
   "metadata": {},
   "outputs": [],
   "source": [
    "for (i in 1:8){\n",
    "\t# Pull out the model\n",
    "\ttemp <- which(select[i,] == \"*\")\n",
    "\t\n",
    "\tres <- bootpred(prostate[,temp], prostate$train, nboot = 50, theta.fit = beta.fit, theta.predict = beta.predict, err.meas = sq.error) \n",
    "\terror_store <- c(error_store, res[[3]])\n",
    "\t\n",
    "}"
   ]
  },
  {
   "cell_type": "code",
   "execution_count": 30,
   "id": "f5edbeb2",
   "metadata": {},
   "outputs": [
    {
     "data": {
      "text/html": [
       "<style>\n",
       ".list-inline {list-style: none; margin:0; padding: 0}\n",
       ".list-inline>li {display: inline-block}\n",
       ".list-inline>li:not(:last-child)::after {content: \"\\00b7\"; padding: 0 .5ex}\n",
       "</style>\n",
       "<ol class=list-inline><li>0.214387084411343</li><li>0.216647136643235</li><li>0.215260170227752</li><li>0.214614679144961</li><li>0.216047681369919</li><li>0.221136418800898</li><li>0.224497618503505</li><li>0.232187618652277</li></ol>\n"
      ],
      "text/latex": [
       "\\begin{enumerate*}\n",
       "\\item 0.214387084411343\n",
       "\\item 0.216647136643235\n",
       "\\item 0.215260170227752\n",
       "\\item 0.214614679144961\n",
       "\\item 0.216047681369919\n",
       "\\item 0.221136418800898\n",
       "\\item 0.224497618503505\n",
       "\\item 0.232187618652277\n",
       "\\end{enumerate*}\n"
      ],
      "text/markdown": [
       "1. 0.214387084411343\n",
       "2. 0.216647136643235\n",
       "3. 0.215260170227752\n",
       "4. 0.214614679144961\n",
       "5. 0.216047681369919\n",
       "6. 0.221136418800898\n",
       "7. 0.224497618503505\n",
       "8. 0.232187618652277\n",
       "\n",
       "\n"
      ],
      "text/plain": [
       "[1] 0.2143871 0.2166471 0.2152602 0.2146147 0.2160477 0.2211364 0.2244976\n",
       "[8] 0.2321876"
      ]
     },
     "metadata": {},
     "output_type": "display_data"
    }
   ],
   "source": [
    "error_store"
   ]
  },
  {
   "cell_type": "markdown",
   "id": "abb1de48",
   "metadata": {},
   "source": [
    "First is the best"
   ]
  },
  {
   "cell_type": "code",
   "execution_count": null,
   "id": "14b85b9a",
   "metadata": {},
   "outputs": [],
   "source": []
  }
 ],
 "metadata": {
  "kernelspec": {
   "display_name": "R",
   "language": "R",
   "name": "ir"
  },
  "language_info": {
   "codemirror_mode": "r",
   "file_extension": ".r",
   "mimetype": "text/x-r-source",
   "name": "R",
   "pygments_lexer": "r",
   "version": "4.2.1"
  }
 },
 "nbformat": 4,
 "nbformat_minor": 5
}
