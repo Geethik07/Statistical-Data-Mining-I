{
 "cells": [
  {
   "cell_type": "code",
   "execution_count": 1,
   "id": "ee81abbe",
   "metadata": {},
   "outputs": [],
   "source": [
    "#2) The insurance company benchmark data set gives information on customers. Specifically, it contains 86 variables on product-usage data and socio-demographic data derived from zip area codes. There are 5,822 customers in the training set and another 4,000 in the test set. The data were collected to answer the following questions: Can you predict who will be interested in buying a caravan insurance policy and give an explanation why? Compute the OLS estimates and compare them with those obtained from the following variable-selection algorithms: Forwards Selection, Backwards Selection, Lasso regression, and Ridge regression. What methods performed the best in the prediction?\n",
    "rm(list = ls())"
   ]
  },
  {
   "cell_type": "code",
   "execution_count": 2,
   "id": "3032ab95",
   "metadata": {},
   "outputs": [
    {
     "name": "stdout",
     "output_type": "stream",
     "text": [
      "\n",
      "The downloaded binary packages are in\n",
      "\t/var/folders/_3/nbf8r53d0f19nygyl0lz56p40000gn/T//RtmpuzWJxB/downloaded_packages\n"
     ]
    }
   ],
   "source": [
    "install.packages('leaps')\n",
    "library(leaps)"
   ]
  },
  {
   "cell_type": "code",
   "execution_count": 3,
   "id": "e32d82fa",
   "metadata": {},
   "outputs": [
    {
     "name": "stderr",
     "output_type": "stream",
     "text": [
      "Loading required package: Matrix\n",
      "\n",
      "Loaded glmnet 4.1-4\n",
      "\n"
     ]
    }
   ],
   "source": [
    "library(glmnet)"
   ]
  },
  {
   "cell_type": "code",
   "execution_count": 13,
   "id": "9f5c205e",
   "metadata": {},
   "outputs": [
    {
     "name": "stdout",
     "output_type": "stream",
     "text": [
      "\n",
      "The downloaded binary packages are in\n",
      "\t/var/folders/_3/nbf8r53d0f19nygyl0lz56p40000gn/T//RtmpuzWJxB/downloaded_packages\n"
     ]
    }
   ],
   "source": [
    "install.packages(\"caret\")"
   ]
  },
  {
   "cell_type": "code",
   "execution_count": 15,
   "id": "6ad1ad13",
   "metadata": {},
   "outputs": [],
   "source": [
    "library(caret)"
   ]
  },
  {
   "cell_type": "code",
   "execution_count": 16,
   "id": "1a0cc47a",
   "metadata": {},
   "outputs": [],
   "source": [
    "training_set  <- data.frame(read.table('ticdata2000.txt')) #Training data \n",
    "x_testing_set <- data.frame(read.table('ticeval2000.txt')) #Testing data\n",
    "y_testing_set <- data.frame(read.table('tictgts2000.txt')) #For Evalutaion\n",
    "# str(training_set)"
   ]
  },
  {
   "cell_type": "code",
   "execution_count": 17,
   "id": "5e40b1bb",
   "metadata": {},
   "outputs": [],
   "source": [
    "x_training_set = training_set[, -86] \n",
    "y_training_set = training_set[, \"V86\"] "
   ]
  },
  {
   "cell_type": "code",
   "execution_count": 18,
   "id": "4c4c670f",
   "metadata": {},
   "outputs": [
    {
     "data": {
      "text/html": [
       "<style>\n",
       ".list-inline {list-style: none; margin:0; padding: 0}\n",
       ".list-inline>li {display: inline-block}\n",
       ".list-inline>li:not(:last-child)::after {content: \"\\00b7\"; padding: 0 .5ex}\n",
       "</style>\n",
       "<ol class=list-inline><li>5822</li><li>86</li></ol>\n"
      ],
      "text/latex": [
       "\\begin{enumerate*}\n",
       "\\item 5822\n",
       "\\item 86\n",
       "\\end{enumerate*}\n"
      ],
      "text/markdown": [
       "1. 5822\n",
       "2. 86\n",
       "\n",
       "\n"
      ],
      "text/plain": [
       "[1] 5822   86"
      ]
     },
     "metadata": {},
     "output_type": "display_data"
    },
    {
     "data": {
      "text/html": [
       "<style>\n",
       ".list-inline {list-style: none; margin:0; padding: 0}\n",
       ".list-inline>li {display: inline-block}\n",
       ".list-inline>li:not(:last-child)::after {content: \"\\00b7\"; padding: 0 .5ex}\n",
       "</style>\n",
       "<ol class=list-inline><li>4000</li><li>85</li></ol>\n"
      ],
      "text/latex": [
       "\\begin{enumerate*}\n",
       "\\item 4000\n",
       "\\item 85\n",
       "\\end{enumerate*}\n"
      ],
      "text/markdown": [
       "1. 4000\n",
       "2. 85\n",
       "\n",
       "\n"
      ],
      "text/plain": [
       "[1] 4000   85"
      ]
     },
     "metadata": {},
     "output_type": "display_data"
    },
    {
     "data": {
      "text/html": [
       "<style>\n",
       ".list-inline {list-style: none; margin:0; padding: 0}\n",
       ".list-inline>li {display: inline-block}\n",
       ".list-inline>li:not(:last-child)::after {content: \"\\00b7\"; padding: 0 .5ex}\n",
       "</style>\n",
       "<ol class=list-inline><li>5822</li><li>85</li></ol>\n"
      ],
      "text/latex": [
       "\\begin{enumerate*}\n",
       "\\item 5822\n",
       "\\item 85\n",
       "\\end{enumerate*}\n"
      ],
      "text/markdown": [
       "1. 5822\n",
       "2. 85\n",
       "\n",
       "\n"
      ],
      "text/plain": [
       "[1] 5822   85"
      ]
     },
     "metadata": {},
     "output_type": "display_data"
    }
   ],
   "source": [
    "dim(training_set)\n",
    "dim(x_testing_set)\n",
    "dim(x_training_set)"
   ]
  },
  {
   "cell_type": "code",
   "execution_count": 19,
   "id": "997641b4",
   "metadata": {},
   "outputs": [
    {
     "data": {
      "text/html": [
       "<style>\n",
       ".dl-inline {width: auto; margin:0; padding: 0}\n",
       ".dl-inline>dt, .dl-inline>dd {float: none; width: auto; display: inline-block}\n",
       ".dl-inline>dt::after {content: \":\\0020\"; padding-right: .5ex}\n",
       ".dl-inline>dt:not(:first-of-type) {padding-left: .5ex}\n",
       "</style><dl class=dl-inline><dt>V1</dt><dd>0</dd><dt>V2</dt><dd>0</dd><dt>V3</dt><dd>0</dd><dt>V4</dt><dd>0</dd><dt>V5</dt><dd>0</dd><dt>V6</dt><dd>0</dd><dt>V7</dt><dd>0</dd><dt>V8</dt><dd>0</dd><dt>V9</dt><dd>0</dd><dt>V10</dt><dd>0</dd><dt>V11</dt><dd>0</dd><dt>V12</dt><dd>0</dd><dt>V13</dt><dd>0</dd><dt>V14</dt><dd>0</dd><dt>V15</dt><dd>0</dd><dt>V16</dt><dd>0</dd><dt>V17</dt><dd>0</dd><dt>V18</dt><dd>0</dd><dt>V19</dt><dd>0</dd><dt>V20</dt><dd>0</dd><dt>V21</dt><dd>0</dd><dt>V22</dt><dd>0</dd><dt>V23</dt><dd>0</dd><dt>V24</dt><dd>0</dd><dt>V25</dt><dd>0</dd><dt>V26</dt><dd>0</dd><dt>V27</dt><dd>0</dd><dt>V28</dt><dd>0</dd><dt>V29</dt><dd>0</dd><dt>V30</dt><dd>0</dd><dt>V31</dt><dd>0</dd><dt>V32</dt><dd>0</dd><dt>V33</dt><dd>0</dd><dt>V34</dt><dd>0</dd><dt>V35</dt><dd>0</dd><dt>V36</dt><dd>0</dd><dt>V37</dt><dd>0</dd><dt>V38</dt><dd>0</dd><dt>V39</dt><dd>0</dd><dt>V40</dt><dd>0</dd><dt>V41</dt><dd>0</dd><dt>V42</dt><dd>0</dd><dt>V43</dt><dd>0</dd><dt>V44</dt><dd>0</dd><dt>V45</dt><dd>0</dd><dt>V46</dt><dd>0</dd><dt>V47</dt><dd>0</dd><dt>V48</dt><dd>0</dd><dt>V49</dt><dd>0</dd><dt>V50</dt><dd>0</dd><dt>V51</dt><dd>0</dd><dt>V52</dt><dd>0</dd><dt>V53</dt><dd>0</dd><dt>V54</dt><dd>0</dd><dt>V55</dt><dd>0</dd><dt>V56</dt><dd>0</dd><dt>V57</dt><dd>0</dd><dt>V58</dt><dd>0</dd><dt>V59</dt><dd>0</dd><dt>V60</dt><dd>0</dd><dt>V61</dt><dd>0</dd><dt>V62</dt><dd>0</dd><dt>V63</dt><dd>0</dd><dt>V64</dt><dd>0</dd><dt>V65</dt><dd>0</dd><dt>V66</dt><dd>0</dd><dt>V67</dt><dd>0</dd><dt>V68</dt><dd>0</dd><dt>V69</dt><dd>0</dd><dt>V70</dt><dd>0</dd><dt>V71</dt><dd>0</dd><dt>V72</dt><dd>0</dd><dt>V73</dt><dd>0</dd><dt>V74</dt><dd>0</dd><dt>V75</dt><dd>0</dd><dt>V76</dt><dd>0</dd><dt>V77</dt><dd>0</dd><dt>V78</dt><dd>0</dd><dt>V79</dt><dd>0</dd><dt>V80</dt><dd>0</dd><dt>V81</dt><dd>0</dd><dt>V82</dt><dd>0</dd><dt>V83</dt><dd>0</dd><dt>V84</dt><dd>0</dd><dt>V85</dt><dd>0</dd><dt>V86</dt><dd>0</dd></dl>\n"
      ],
      "text/latex": [
       "\\begin{description*}\n",
       "\\item[V1] 0\n",
       "\\item[V2] 0\n",
       "\\item[V3] 0\n",
       "\\item[V4] 0\n",
       "\\item[V5] 0\n",
       "\\item[V6] 0\n",
       "\\item[V7] 0\n",
       "\\item[V8] 0\n",
       "\\item[V9] 0\n",
       "\\item[V10] 0\n",
       "\\item[V11] 0\n",
       "\\item[V12] 0\n",
       "\\item[V13] 0\n",
       "\\item[V14] 0\n",
       "\\item[V15] 0\n",
       "\\item[V16] 0\n",
       "\\item[V17] 0\n",
       "\\item[V18] 0\n",
       "\\item[V19] 0\n",
       "\\item[V20] 0\n",
       "\\item[V21] 0\n",
       "\\item[V22] 0\n",
       "\\item[V23] 0\n",
       "\\item[V24] 0\n",
       "\\item[V25] 0\n",
       "\\item[V26] 0\n",
       "\\item[V27] 0\n",
       "\\item[V28] 0\n",
       "\\item[V29] 0\n",
       "\\item[V30] 0\n",
       "\\item[V31] 0\n",
       "\\item[V32] 0\n",
       "\\item[V33] 0\n",
       "\\item[V34] 0\n",
       "\\item[V35] 0\n",
       "\\item[V36] 0\n",
       "\\item[V37] 0\n",
       "\\item[V38] 0\n",
       "\\item[V39] 0\n",
       "\\item[V40] 0\n",
       "\\item[V41] 0\n",
       "\\item[V42] 0\n",
       "\\item[V43] 0\n",
       "\\item[V44] 0\n",
       "\\item[V45] 0\n",
       "\\item[V46] 0\n",
       "\\item[V47] 0\n",
       "\\item[V48] 0\n",
       "\\item[V49] 0\n",
       "\\item[V50] 0\n",
       "\\item[V51] 0\n",
       "\\item[V52] 0\n",
       "\\item[V53] 0\n",
       "\\item[V54] 0\n",
       "\\item[V55] 0\n",
       "\\item[V56] 0\n",
       "\\item[V57] 0\n",
       "\\item[V58] 0\n",
       "\\item[V59] 0\n",
       "\\item[V60] 0\n",
       "\\item[V61] 0\n",
       "\\item[V62] 0\n",
       "\\item[V63] 0\n",
       "\\item[V64] 0\n",
       "\\item[V65] 0\n",
       "\\item[V66] 0\n",
       "\\item[V67] 0\n",
       "\\item[V68] 0\n",
       "\\item[V69] 0\n",
       "\\item[V70] 0\n",
       "\\item[V71] 0\n",
       "\\item[V72] 0\n",
       "\\item[V73] 0\n",
       "\\item[V74] 0\n",
       "\\item[V75] 0\n",
       "\\item[V76] 0\n",
       "\\item[V77] 0\n",
       "\\item[V78] 0\n",
       "\\item[V79] 0\n",
       "\\item[V80] 0\n",
       "\\item[V81] 0\n",
       "\\item[V82] 0\n",
       "\\item[V83] 0\n",
       "\\item[V84] 0\n",
       "\\item[V85] 0\n",
       "\\item[V86] 0\n",
       "\\end{description*}\n"
      ],
      "text/markdown": [
       "V1\n",
       ":   0V2\n",
       ":   0V3\n",
       ":   0V4\n",
       ":   0V5\n",
       ":   0V6\n",
       ":   0V7\n",
       ":   0V8\n",
       ":   0V9\n",
       ":   0V10\n",
       ":   0V11\n",
       ":   0V12\n",
       ":   0V13\n",
       ":   0V14\n",
       ":   0V15\n",
       ":   0V16\n",
       ":   0V17\n",
       ":   0V18\n",
       ":   0V19\n",
       ":   0V20\n",
       ":   0V21\n",
       ":   0V22\n",
       ":   0V23\n",
       ":   0V24\n",
       ":   0V25\n",
       ":   0V26\n",
       ":   0V27\n",
       ":   0V28\n",
       ":   0V29\n",
       ":   0V30\n",
       ":   0V31\n",
       ":   0V32\n",
       ":   0V33\n",
       ":   0V34\n",
       ":   0V35\n",
       ":   0V36\n",
       ":   0V37\n",
       ":   0V38\n",
       ":   0V39\n",
       ":   0V40\n",
       ":   0V41\n",
       ":   0V42\n",
       ":   0V43\n",
       ":   0V44\n",
       ":   0V45\n",
       ":   0V46\n",
       ":   0V47\n",
       ":   0V48\n",
       ":   0V49\n",
       ":   0V50\n",
       ":   0V51\n",
       ":   0V52\n",
       ":   0V53\n",
       ":   0V54\n",
       ":   0V55\n",
       ":   0V56\n",
       ":   0V57\n",
       ":   0V58\n",
       ":   0V59\n",
       ":   0V60\n",
       ":   0V61\n",
       ":   0V62\n",
       ":   0V63\n",
       ":   0V64\n",
       ":   0V65\n",
       ":   0V66\n",
       ":   0V67\n",
       ":   0V68\n",
       ":   0V69\n",
       ":   0V70\n",
       ":   0V71\n",
       ":   0V72\n",
       ":   0V73\n",
       ":   0V74\n",
       ":   0V75\n",
       ":   0V76\n",
       ":   0V77\n",
       ":   0V78\n",
       ":   0V79\n",
       ":   0V80\n",
       ":   0V81\n",
       ":   0V82\n",
       ":   0V83\n",
       ":   0V84\n",
       ":   0V85\n",
       ":   0V86\n",
       ":   0\n",
       "\n"
      ],
      "text/plain": [
       " V1  V2  V3  V4  V5  V6  V7  V8  V9 V10 V11 V12 V13 V14 V15 V16 V17 V18 V19 V20 \n",
       "  0   0   0   0   0   0   0   0   0   0   0   0   0   0   0   0   0   0   0   0 \n",
       "V21 V22 V23 V24 V25 V26 V27 V28 V29 V30 V31 V32 V33 V34 V35 V36 V37 V38 V39 V40 \n",
       "  0   0   0   0   0   0   0   0   0   0   0   0   0   0   0   0   0   0   0   0 \n",
       "V41 V42 V43 V44 V45 V46 V47 V48 V49 V50 V51 V52 V53 V54 V55 V56 V57 V58 V59 V60 \n",
       "  0   0   0   0   0   0   0   0   0   0   0   0   0   0   0   0   0   0   0   0 \n",
       "V61 V62 V63 V64 V65 V66 V67 V68 V69 V70 V71 V72 V73 V74 V75 V76 V77 V78 V79 V80 \n",
       "  0   0   0   0   0   0   0   0   0   0   0   0   0   0   0   0   0   0   0   0 \n",
       "V81 V82 V83 V84 V85 V86 \n",
       "  0   0   0   0   0   0 "
      ]
     },
     "metadata": {},
     "output_type": "display_data"
    },
    {
     "data": {
      "text/html": [
       "<style>\n",
       ".dl-inline {width: auto; margin:0; padding: 0}\n",
       ".dl-inline>dt, .dl-inline>dd {float: none; width: auto; display: inline-block}\n",
       ".dl-inline>dt::after {content: \":\\0020\"; padding-right: .5ex}\n",
       ".dl-inline>dt:not(:first-of-type) {padding-left: .5ex}\n",
       "</style><dl class=dl-inline><dt>V1</dt><dd>0</dd><dt>V2</dt><dd>0</dd><dt>V3</dt><dd>0</dd><dt>V4</dt><dd>0</dd><dt>V5</dt><dd>0</dd><dt>V6</dt><dd>0</dd><dt>V7</dt><dd>0</dd><dt>V8</dt><dd>0</dd><dt>V9</dt><dd>0</dd><dt>V10</dt><dd>0</dd><dt>V11</dt><dd>0</dd><dt>V12</dt><dd>0</dd><dt>V13</dt><dd>0</dd><dt>V14</dt><dd>0</dd><dt>V15</dt><dd>0</dd><dt>V16</dt><dd>0</dd><dt>V17</dt><dd>0</dd><dt>V18</dt><dd>0</dd><dt>V19</dt><dd>0</dd><dt>V20</dt><dd>0</dd><dt>V21</dt><dd>0</dd><dt>V22</dt><dd>0</dd><dt>V23</dt><dd>0</dd><dt>V24</dt><dd>0</dd><dt>V25</dt><dd>0</dd><dt>V26</dt><dd>0</dd><dt>V27</dt><dd>0</dd><dt>V28</dt><dd>0</dd><dt>V29</dt><dd>0</dd><dt>V30</dt><dd>0</dd><dt>V31</dt><dd>0</dd><dt>V32</dt><dd>0</dd><dt>V33</dt><dd>0</dd><dt>V34</dt><dd>0</dd><dt>V35</dt><dd>0</dd><dt>V36</dt><dd>0</dd><dt>V37</dt><dd>0</dd><dt>V38</dt><dd>0</dd><dt>V39</dt><dd>0</dd><dt>V40</dt><dd>0</dd><dt>V41</dt><dd>0</dd><dt>V42</dt><dd>0</dd><dt>V43</dt><dd>0</dd><dt>V44</dt><dd>0</dd><dt>V45</dt><dd>0</dd><dt>V46</dt><dd>0</dd><dt>V47</dt><dd>0</dd><dt>V48</dt><dd>0</dd><dt>V49</dt><dd>0</dd><dt>V50</dt><dd>0</dd><dt>V51</dt><dd>0</dd><dt>V52</dt><dd>0</dd><dt>V53</dt><dd>0</dd><dt>V54</dt><dd>0</dd><dt>V55</dt><dd>0</dd><dt>V56</dt><dd>0</dd><dt>V57</dt><dd>0</dd><dt>V58</dt><dd>0</dd><dt>V59</dt><dd>0</dd><dt>V60</dt><dd>0</dd><dt>V61</dt><dd>0</dd><dt>V62</dt><dd>0</dd><dt>V63</dt><dd>0</dd><dt>V64</dt><dd>0</dd><dt>V65</dt><dd>0</dd><dt>V66</dt><dd>0</dd><dt>V67</dt><dd>0</dd><dt>V68</dt><dd>0</dd><dt>V69</dt><dd>0</dd><dt>V70</dt><dd>0</dd><dt>V71</dt><dd>0</dd><dt>V72</dt><dd>0</dd><dt>V73</dt><dd>0</dd><dt>V74</dt><dd>0</dd><dt>V75</dt><dd>0</dd><dt>V76</dt><dd>0</dd><dt>V77</dt><dd>0</dd><dt>V78</dt><dd>0</dd><dt>V79</dt><dd>0</dd><dt>V80</dt><dd>0</dd><dt>V81</dt><dd>0</dd><dt>V82</dt><dd>0</dd><dt>V83</dt><dd>0</dd><dt>V84</dt><dd>0</dd><dt>V85</dt><dd>0</dd></dl>\n"
      ],
      "text/latex": [
       "\\begin{description*}\n",
       "\\item[V1] 0\n",
       "\\item[V2] 0\n",
       "\\item[V3] 0\n",
       "\\item[V4] 0\n",
       "\\item[V5] 0\n",
       "\\item[V6] 0\n",
       "\\item[V7] 0\n",
       "\\item[V8] 0\n",
       "\\item[V9] 0\n",
       "\\item[V10] 0\n",
       "\\item[V11] 0\n",
       "\\item[V12] 0\n",
       "\\item[V13] 0\n",
       "\\item[V14] 0\n",
       "\\item[V15] 0\n",
       "\\item[V16] 0\n",
       "\\item[V17] 0\n",
       "\\item[V18] 0\n",
       "\\item[V19] 0\n",
       "\\item[V20] 0\n",
       "\\item[V21] 0\n",
       "\\item[V22] 0\n",
       "\\item[V23] 0\n",
       "\\item[V24] 0\n",
       "\\item[V25] 0\n",
       "\\item[V26] 0\n",
       "\\item[V27] 0\n",
       "\\item[V28] 0\n",
       "\\item[V29] 0\n",
       "\\item[V30] 0\n",
       "\\item[V31] 0\n",
       "\\item[V32] 0\n",
       "\\item[V33] 0\n",
       "\\item[V34] 0\n",
       "\\item[V35] 0\n",
       "\\item[V36] 0\n",
       "\\item[V37] 0\n",
       "\\item[V38] 0\n",
       "\\item[V39] 0\n",
       "\\item[V40] 0\n",
       "\\item[V41] 0\n",
       "\\item[V42] 0\n",
       "\\item[V43] 0\n",
       "\\item[V44] 0\n",
       "\\item[V45] 0\n",
       "\\item[V46] 0\n",
       "\\item[V47] 0\n",
       "\\item[V48] 0\n",
       "\\item[V49] 0\n",
       "\\item[V50] 0\n",
       "\\item[V51] 0\n",
       "\\item[V52] 0\n",
       "\\item[V53] 0\n",
       "\\item[V54] 0\n",
       "\\item[V55] 0\n",
       "\\item[V56] 0\n",
       "\\item[V57] 0\n",
       "\\item[V58] 0\n",
       "\\item[V59] 0\n",
       "\\item[V60] 0\n",
       "\\item[V61] 0\n",
       "\\item[V62] 0\n",
       "\\item[V63] 0\n",
       "\\item[V64] 0\n",
       "\\item[V65] 0\n",
       "\\item[V66] 0\n",
       "\\item[V67] 0\n",
       "\\item[V68] 0\n",
       "\\item[V69] 0\n",
       "\\item[V70] 0\n",
       "\\item[V71] 0\n",
       "\\item[V72] 0\n",
       "\\item[V73] 0\n",
       "\\item[V74] 0\n",
       "\\item[V75] 0\n",
       "\\item[V76] 0\n",
       "\\item[V77] 0\n",
       "\\item[V78] 0\n",
       "\\item[V79] 0\n",
       "\\item[V80] 0\n",
       "\\item[V81] 0\n",
       "\\item[V82] 0\n",
       "\\item[V83] 0\n",
       "\\item[V84] 0\n",
       "\\item[V85] 0\n",
       "\\end{description*}\n"
      ],
      "text/markdown": [
       "V1\n",
       ":   0V2\n",
       ":   0V3\n",
       ":   0V4\n",
       ":   0V5\n",
       ":   0V6\n",
       ":   0V7\n",
       ":   0V8\n",
       ":   0V9\n",
       ":   0V10\n",
       ":   0V11\n",
       ":   0V12\n",
       ":   0V13\n",
       ":   0V14\n",
       ":   0V15\n",
       ":   0V16\n",
       ":   0V17\n",
       ":   0V18\n",
       ":   0V19\n",
       ":   0V20\n",
       ":   0V21\n",
       ":   0V22\n",
       ":   0V23\n",
       ":   0V24\n",
       ":   0V25\n",
       ":   0V26\n",
       ":   0V27\n",
       ":   0V28\n",
       ":   0V29\n",
       ":   0V30\n",
       ":   0V31\n",
       ":   0V32\n",
       ":   0V33\n",
       ":   0V34\n",
       ":   0V35\n",
       ":   0V36\n",
       ":   0V37\n",
       ":   0V38\n",
       ":   0V39\n",
       ":   0V40\n",
       ":   0V41\n",
       ":   0V42\n",
       ":   0V43\n",
       ":   0V44\n",
       ":   0V45\n",
       ":   0V46\n",
       ":   0V47\n",
       ":   0V48\n",
       ":   0V49\n",
       ":   0V50\n",
       ":   0V51\n",
       ":   0V52\n",
       ":   0V53\n",
       ":   0V54\n",
       ":   0V55\n",
       ":   0V56\n",
       ":   0V57\n",
       ":   0V58\n",
       ":   0V59\n",
       ":   0V60\n",
       ":   0V61\n",
       ":   0V62\n",
       ":   0V63\n",
       ":   0V64\n",
       ":   0V65\n",
       ":   0V66\n",
       ":   0V67\n",
       ":   0V68\n",
       ":   0V69\n",
       ":   0V70\n",
       ":   0V71\n",
       ":   0V72\n",
       ":   0V73\n",
       ":   0V74\n",
       ":   0V75\n",
       ":   0V76\n",
       ":   0V77\n",
       ":   0V78\n",
       ":   0V79\n",
       ":   0V80\n",
       ":   0V81\n",
       ":   0V82\n",
       ":   0V83\n",
       ":   0V84\n",
       ":   0V85\n",
       ":   0\n",
       "\n"
      ],
      "text/plain": [
       " V1  V2  V3  V4  V5  V6  V7  V8  V9 V10 V11 V12 V13 V14 V15 V16 V17 V18 V19 V20 \n",
       "  0   0   0   0   0   0   0   0   0   0   0   0   0   0   0   0   0   0   0   0 \n",
       "V21 V22 V23 V24 V25 V26 V27 V28 V29 V30 V31 V32 V33 V34 V35 V36 V37 V38 V39 V40 \n",
       "  0   0   0   0   0   0   0   0   0   0   0   0   0   0   0   0   0   0   0   0 \n",
       "V41 V42 V43 V44 V45 V46 V47 V48 V49 V50 V51 V52 V53 V54 V55 V56 V57 V58 V59 V60 \n",
       "  0   0   0   0   0   0   0   0   0   0   0   0   0   0   0   0   0   0   0   0 \n",
       "V61 V62 V63 V64 V65 V66 V67 V68 V69 V70 V71 V72 V73 V74 V75 V76 V77 V78 V79 V80 \n",
       "  0   0   0   0   0   0   0   0   0   0   0   0   0   0   0   0   0   0   0   0 \n",
       "V81 V82 V83 V84 V85 \n",
       "  0   0   0   0   0 "
      ]
     },
     "metadata": {},
     "output_type": "display_data"
    }
   ],
   "source": [
    "# checking if there are missing values (NAs)\n",
    "colSums(is.na(training_set))\n",
    "colSums(is.na(x_testing_set))"
   ]
  },
  {
   "cell_type": "markdown",
   "id": "438608db",
   "metadata": {},
   "source": [
    "From the description of the dataset it is given that, attribute 86, \"CARAVAN:Number of mobile home policies\", is the target variable. i.e V86 is the target variable"
   ]
  },
  {
   "cell_type": "code",
   "execution_count": 20,
   "id": "b73c399e",
   "metadata": {},
   "outputs": [
    {
     "data": {
      "text/plain": [
       "\n",
       "   0    1 \n",
       "5474  348 "
      ]
     },
     "metadata": {},
     "output_type": "display_data"
    }
   ],
   "source": [
    "table(training_set$V86)"
   ]
  },
  {
   "cell_type": "code",
   "execution_count": 21,
   "id": "1a023f5f",
   "metadata": {},
   "outputs": [
    {
     "data": {
      "text/plain": [
       "\n",
       "Call:\n",
       "lm(formula = V86 ~ ., data = training_set)\n",
       "\n",
       "Residuals:\n",
       "     Min       1Q   Median       3Q      Max \n",
       "-0.67293 -0.08720 -0.04593 -0.00639  1.04628 \n",
       "\n",
       "Coefficients:\n",
       "              Estimate Std. Error t value Pr(>|t|)    \n",
       "(Intercept)  0.7685381  0.4298406   1.788 0.073835 .  \n",
       "V1           0.0035209  0.0022512   1.564 0.117866    \n",
       "V2          -0.0072642  0.0076739  -0.947 0.343875    \n",
       "V3          -0.0012739  0.0071737  -0.178 0.859055    \n",
       "V4           0.0107473  0.0049596   2.167 0.030279 *  \n",
       "V5          -0.0154869  0.0101044  -1.533 0.125405    \n",
       "V6          -0.0056016  0.0056016  -1.000 0.317353    \n",
       "V7          -0.0002069  0.0060664  -0.034 0.972795    \n",
       "V8           0.0003569  0.0054592   0.065 0.947874    \n",
       "V9          -0.0030237  0.0058038  -0.521 0.602399    \n",
       "V10          0.0086829  0.0075479   1.150 0.250036    \n",
       "V11          0.0020367  0.0072008   0.283 0.777310    \n",
       "V12          0.0055682  0.0076295   0.730 0.465526    \n",
       "V13         -0.0038250  0.0065474  -0.584 0.559107    \n",
       "V14         -0.0050625  0.0066861  -0.757 0.448980    \n",
       "V15         -0.0026253  0.0069795  -0.376 0.706824    \n",
       "V16          0.0021357  0.0068161   0.313 0.754038    \n",
       "V17         -0.0048456  0.0071396  -0.679 0.497358    \n",
       "V18         -0.0113977  0.0073004  -1.561 0.118525    \n",
       "V19          0.0021884  0.0045182   0.484 0.628153    \n",
       "V20         -0.0004665  0.0052201  -0.089 0.928796    \n",
       "V21         -0.0050974  0.0050426  -1.011 0.312122    \n",
       "V22          0.0041254  0.0044806   0.921 0.357228    \n",
       "V23         -0.0006060  0.0044709  -0.136 0.892190    \n",
       "V24          0.0019733  0.0044532   0.443 0.657690    \n",
       "V25         -0.0013674  0.0051653  -0.265 0.791225    \n",
       "V26         -0.0031701  0.0050198  -0.632 0.527724    \n",
       "V27         -0.0012603  0.0044827  -0.281 0.778603    \n",
       "V28          0.0024879  0.0049115   0.507 0.612502    \n",
       "V29         -0.0008866  0.0047145  -0.188 0.850832    \n",
       "V30         -0.0454201  0.0376622  -1.206 0.227872    \n",
       "V31         -0.0432242  0.0376290  -1.149 0.250730    \n",
       "V32          0.0085964  0.0075592   1.137 0.255502    \n",
       "V33          0.0077871  0.0068554   1.136 0.256038    \n",
       "V34          0.0047215  0.0072646   0.650 0.515762    \n",
       "V35         -0.0561024  0.0444643  -1.262 0.207094    \n",
       "V36         -0.0593733  0.0443897  -1.338 0.181097    \n",
       "V37          0.0070879  0.0051150   1.386 0.165884    \n",
       "V38          0.0069414  0.0049276   1.409 0.158986    \n",
       "V39          0.0049679  0.0050144   0.991 0.321862    \n",
       "V40          0.0059267  0.0052728   1.124 0.261053    \n",
       "V41         -0.0098939  0.0069270  -1.428 0.153258    \n",
       "V42          0.0063044  0.0045645   1.381 0.167277    \n",
       "V43          0.0029097  0.0022664   1.284 0.199250    \n",
       "V44          0.0284931  0.0166017   1.716 0.086166 .  \n",
       "V45         -0.0101533  0.0205121  -0.495 0.620625    \n",
       "V46         -0.0201220  0.0390424  -0.515 0.606301    \n",
       "V47          0.0102787  0.0026346   3.901 9.67e-05 ***\n",
       "V48          0.0014405  0.0148574   0.097 0.922765    \n",
       "V49         -0.0061279  0.0079415  -0.772 0.440364    \n",
       "V50         -0.0249190  0.0415892  -0.599 0.549083    \n",
       "V51          0.0588044  0.0557610   1.055 0.291662    \n",
       "V52          0.0121481  0.0142358   0.853 0.393504    \n",
       "V53         -0.0062440  0.0370186  -0.169 0.866060    \n",
       "V54          0.0078683  0.0152793   0.515 0.606598    \n",
       "V55         -0.0155397  0.0064753  -2.400 0.016433 *  \n",
       "V56          0.0098926  0.0335157   0.295 0.767880    \n",
       "V57          0.1937254  0.0793370   2.442 0.014644 *  \n",
       "V58          0.0647933  0.0256913   2.522 0.011696 *  \n",
       "V59          0.0132643  0.0035906   3.694 0.000223 ***\n",
       "V60         -0.1917507  0.1439848  -1.332 0.182998    \n",
       "V61         -0.0299076  0.0269224  -1.111 0.266666    \n",
       "V62         -0.0107777  0.0549693  -0.196 0.844564    \n",
       "V63         -0.0441620  0.0307404  -1.437 0.150883    \n",
       "V64         -0.0184858  0.0288890  -0.640 0.522269    \n",
       "V65         -0.0377952  0.0323794  -1.167 0.243154    \n",
       "V66          0.0185448  0.0529740   0.350 0.726296    \n",
       "V67          0.0180904  0.1374585   0.132 0.895300    \n",
       "V68          0.0002821  0.0127496   0.022 0.982347    \n",
       "V69         -0.0214816  0.0652955  -0.329 0.742175    \n",
       "V70          0.0203252  0.0310683   0.654 0.513004    \n",
       "V71          0.0563675  0.1589388   0.355 0.722866    \n",
       "V72         -0.0804238  0.0944352  -0.852 0.394455    \n",
       "V73         -0.0395651  0.0353795  -1.118 0.263484    \n",
       "V74         -0.0010526  0.0728240  -0.014 0.988468    \n",
       "V75         -0.0236462  0.0467611  -0.506 0.613101    \n",
       "V76          0.0372344  0.0154024   2.417 0.015661 *  \n",
       "V77         -0.0464279  0.0954471  -0.486 0.626684    \n",
       "V78         -0.4050642  0.1898715  -2.133 0.032938 *  \n",
       "V79         -0.2304561  0.1243310  -1.854 0.063852 .  \n",
       "V80         -0.0211374  0.0116048  -1.821 0.068593 .  \n",
       "V81          0.4958051  0.2815591   1.761 0.078304 .  \n",
       "V82          0.3633887  0.0885318   4.105 4.11e-05 ***\n",
       "V83          0.0416061  0.0408644   1.018 0.308650    \n",
       "V84          0.0959436  0.0699079   1.372 0.169983    \n",
       "V85          0.1312250  0.0983836   1.334 0.182319    \n",
       "---\n",
       "Signif. codes:  0 ‘***’ 0.001 ‘**’ 0.01 ‘*’ 0.05 ‘.’ 0.1 ‘ ’ 1\n",
       "\n",
       "Residual standard error: 0.23 on 5736 degrees of freedom\n",
       "Multiple R-squared:  0.0729,\tAdjusted R-squared:  0.05916 \n",
       "F-statistic: 5.306 on 85 and 5736 DF,  p-value: < 2.2e-16\n"
      ]
     },
     "metadata": {},
     "output_type": "display_data"
    }
   ],
   "source": [
    "linear_fit <- lm(V86 ~ ., data = training_set)\n",
    "summary(linear_fit)"
   ]
  },
  {
   "cell_type": "code",
   "execution_count": 22,
   "id": "fe0a6a1a",
   "metadata": {},
   "outputs": [
    {
     "data": {
      "text/html": [
       "<style>\n",
       ".dl-inline {width: auto; margin:0; padding: 0}\n",
       ".dl-inline>dt, .dl-inline>dd {float: none; width: auto; display: inline-block}\n",
       ".dl-inline>dt::after {content: \":\\0020\"; padding-right: .5ex}\n",
       ".dl-inline>dt:not(:first-of-type) {padding-left: .5ex}\n",
       "</style><dl class=dl-inline><dt>1</dt><dd>0.0973854085790504</dd><dt>2</dt><dd>0.0134593836573387</dd><dt>3</dt><dd>0.0835452322719556</dd><dt>4</dt><dd>0.0907575365075538</dd><dt>5</dt><dd>0.0430740016596878</dd><dt>6</dt><dd>0.0147574884376324</dd></dl>\n"
      ],
      "text/latex": [
       "\\begin{description*}\n",
       "\\item[1] 0.0973854085790504\n",
       "\\item[2] 0.0134593836573387\n",
       "\\item[3] 0.0835452322719556\n",
       "\\item[4] 0.0907575365075538\n",
       "\\item[5] 0.0430740016596878\n",
       "\\item[6] 0.0147574884376324\n",
       "\\end{description*}\n"
      ],
      "text/markdown": [
       "1\n",
       ":   0.09738540857905042\n",
       ":   0.01345938365733873\n",
       ":   0.08354523227195564\n",
       ":   0.09075753650755385\n",
       ":   0.04307400165968786\n",
       ":   0.0147574884376324\n",
       "\n"
      ],
      "text/plain": [
       "         1          2          3          4          5          6 \n",
       "0.09738541 0.01345938 0.08354523 0.09075754 0.04307400 0.01475749 "
      ]
     },
     "metadata": {},
     "output_type": "display_data"
    },
    {
     "data": {
      "text/html": [
       "<style>\n",
       ".dl-inline {width: auto; margin:0; padding: 0}\n",
       ".dl-inline>dt, .dl-inline>dd {float: none; width: auto; display: inline-block}\n",
       ".dl-inline>dt::after {content: \":\\0020\"; padding-right: .5ex}\n",
       ".dl-inline>dt:not(:first-of-type) {padding-left: .5ex}\n",
       "</style><dl class=dl-inline><dt>1</dt><dd>0.0144411319271558</dd><dt>2</dt><dd>0.215946829190439</dd><dt>3</dt><dd>0.0999374815518389</dd><dt>4</dt><dd>0.0954398876946328</dd><dt>5</dt><dd>0.00594584064363715</dd><dt>6</dt><dd>0.0275200159830441</dd></dl>\n"
      ],
      "text/latex": [
       "\\begin{description*}\n",
       "\\item[1] 0.0144411319271558\n",
       "\\item[2] 0.215946829190439\n",
       "\\item[3] 0.0999374815518389\n",
       "\\item[4] 0.0954398876946328\n",
       "\\item[5] 0.00594584064363715\n",
       "\\item[6] 0.0275200159830441\n",
       "\\end{description*}\n"
      ],
      "text/markdown": [
       "1\n",
       ":   0.01444113192715582\n",
       ":   0.2159468291904393\n",
       ":   0.09993748155183894\n",
       ":   0.09543988769463285\n",
       ":   0.005945840643637156\n",
       ":   0.0275200159830441\n",
       "\n"
      ],
      "text/plain": [
       "          1           2           3           4           5           6 \n",
       "0.014441132 0.215946829 0.099937482 0.095439888 0.005945841 0.027520016 "
      ]
     },
     "metadata": {},
     "output_type": "display_data"
    }
   ],
   "source": [
    "#predictiing training and testing samples\n",
    "\n",
    "linear_train_pred = predict(linear_fit, x_training_set)\n",
    "linear_test_pred  = predict(linear_fit, x_testing_set)\n",
    "head(linear_train_pred)\n",
    "head(linear_test_pred)"
   ]
  },
  {
   "cell_type": "code",
   "execution_count": 23,
   "id": "f4bde1d6",
   "metadata": {},
   "outputs": [],
   "source": [
    "#since we are classifying lets convert values above 0.5 to 1 and below or equal to 0.5 to 0\n",
    "\n",
    "linear_train_pred = ifelse(linear_train_pred > 0.5, 1, 0)\n",
    "linear_test_pred  = ifelse(linear_test_pred > 0.5, 1, 0)"
   ]
  },
  {
   "cell_type": "code",
   "execution_count": 24,
   "id": "0ce395fd",
   "metadata": {},
   "outputs": [
    {
     "data": {
      "text/html": [
       "<style>\n",
       ".dl-inline {width: auto; margin:0; padding: 0}\n",
       ".dl-inline>dt, .dl-inline>dd {float: none; width: auto; display: inline-block}\n",
       ".dl-inline>dt::after {content: \":\\0020\"; padding-right: .5ex}\n",
       ".dl-inline>dt:not(:first-of-type) {padding-left: .5ex}\n",
       "</style><dl class=dl-inline><dt>RMSE</dt><dd>0.2441342079842</dd><dt>Rsquared</dt><dd>0.00337876573782862</dd><dt>MAE</dt><dd>0.0596015115080728</dd></dl>\n"
      ],
      "text/latex": [
       "\\begin{description*}\n",
       "\\item[RMSE] 0.2441342079842\n",
       "\\item[Rsquared] 0.00337876573782862\n",
       "\\item[MAE] 0.0596015115080728\n",
       "\\end{description*}\n"
      ],
      "text/markdown": [
       "RMSE\n",
       ":   0.2441342079842Rsquared\n",
       ":   0.00337876573782862MAE\n",
       ":   0.0596015115080728\n",
       "\n"
      ],
      "text/plain": [
       "       RMSE    Rsquared         MAE \n",
       "0.244134208 0.003378766 0.059601512 "
      ]
     },
     "metadata": {},
     "output_type": "display_data"
    },
    {
     "data": {
      "text/html": [
       "<style>\n",
       ".dl-inline {width: auto; margin:0; padding: 0}\n",
       ".dl-inline>dt, .dl-inline>dd {float: none; width: auto; display: inline-block}\n",
       ".dl-inline>dt::after {content: \":\\0020\"; padding-right: .5ex}\n",
       ".dl-inline>dt:not(:first-of-type) {padding-left: .5ex}\n",
       "</style><dl class=dl-inline><dt>RMSE</dt><dd>0.244438131231606</dd><dt>Rsquared</dt><dd>0.00100573593309244</dd><dt>MAE</dt><dd>0.05975</dd></dl>\n"
      ],
      "text/latex": [
       "\\begin{description*}\n",
       "\\item[RMSE] 0.244438131231606\n",
       "\\item[Rsquared] 0.00100573593309244\n",
       "\\item[MAE] 0.05975\n",
       "\\end{description*}\n"
      ],
      "text/markdown": [
       "RMSE\n",
       ":   0.244438131231606Rsquared\n",
       ":   0.00100573593309244MAE\n",
       ":   0.05975\n",
       "\n"
      ],
      "text/plain": [
       "       RMSE    Rsquared         MAE \n",
       "0.244438131 0.001005736 0.059750000 "
      ]
     },
     "metadata": {},
     "output_type": "display_data"
    }
   ],
   "source": [
    "#calculating training and testing error\n",
    "\n",
    "train_error <- postResample(linear_train_pred, training_set[, 86])\n",
    "test_error  <- postResample(linear_test_pred, y_testing_set[, 1])\n",
    "train_error\n",
    "test_error"
   ]
  },
  {
   "cell_type": "code",
   "execution_count": 25,
   "id": "8bc89607",
   "metadata": {},
   "outputs": [
    {
     "data": {
      "text/html": [
       "<table class=\"dataframe\">\n",
       "<caption>A data.frame: 6 × 86</caption>\n",
       "<thead>\n",
       "\t<tr><th></th><th scope=col>V1</th><th scope=col>V2</th><th scope=col>V3</th><th scope=col>V4</th><th scope=col>V5</th><th scope=col>V6</th><th scope=col>V7</th><th scope=col>V8</th><th scope=col>V9</th><th scope=col>V10</th><th scope=col>⋯</th><th scope=col>V77</th><th scope=col>V78</th><th scope=col>V79</th><th scope=col>V80</th><th scope=col>V81</th><th scope=col>V82</th><th scope=col>V83</th><th scope=col>V84</th><th scope=col>V85</th><th scope=col>V86</th></tr>\n",
       "\t<tr><th></th><th scope=col>&lt;int&gt;</th><th scope=col>&lt;int&gt;</th><th scope=col>&lt;int&gt;</th><th scope=col>&lt;int&gt;</th><th scope=col>&lt;int&gt;</th><th scope=col>&lt;int&gt;</th><th scope=col>&lt;int&gt;</th><th scope=col>&lt;int&gt;</th><th scope=col>&lt;int&gt;</th><th scope=col>&lt;int&gt;</th><th scope=col>⋯</th><th scope=col>&lt;int&gt;</th><th scope=col>&lt;int&gt;</th><th scope=col>&lt;int&gt;</th><th scope=col>&lt;int&gt;</th><th scope=col>&lt;int&gt;</th><th scope=col>&lt;int&gt;</th><th scope=col>&lt;int&gt;</th><th scope=col>&lt;int&gt;</th><th scope=col>&lt;int&gt;</th><th scope=col>&lt;int&gt;</th></tr>\n",
       "</thead>\n",
       "<tbody>\n",
       "\t<tr><th scope=row>1</th><td>33</td><td>1</td><td>4</td><td>2</td><td>8</td><td>0</td><td>6</td><td>0</td><td>3</td><td>5</td><td>⋯</td><td>0</td><td>0</td><td>0</td><td>1</td><td>0</td><td>0</td><td>0</td><td>0</td><td>0</td><td>0</td></tr>\n",
       "\t<tr><th scope=row>2</th><td> 6</td><td>1</td><td>3</td><td>2</td><td>2</td><td>0</td><td>5</td><td>0</td><td>4</td><td>5</td><td>⋯</td><td>0</td><td>0</td><td>0</td><td>1</td><td>0</td><td>0</td><td>0</td><td>0</td><td>0</td><td>1</td></tr>\n",
       "\t<tr><th scope=row>3</th><td>39</td><td>1</td><td>3</td><td>3</td><td>9</td><td>1</td><td>4</td><td>2</td><td>3</td><td>5</td><td>⋯</td><td>0</td><td>0</td><td>0</td><td>1</td><td>0</td><td>0</td><td>0</td><td>0</td><td>0</td><td>0</td></tr>\n",
       "\t<tr><th scope=row>4</th><td> 9</td><td>1</td><td>2</td><td>3</td><td>3</td><td>2</td><td>3</td><td>2</td><td>4</td><td>5</td><td>⋯</td><td>0</td><td>0</td><td>0</td><td>1</td><td>0</td><td>0</td><td>0</td><td>0</td><td>0</td><td>0</td></tr>\n",
       "\t<tr><th scope=row>5</th><td>31</td><td>1</td><td>2</td><td>4</td><td>7</td><td>0</td><td>2</td><td>0</td><td>7</td><td>9</td><td>⋯</td><td>0</td><td>0</td><td>0</td><td>1</td><td>0</td><td>0</td><td>0</td><td>0</td><td>0</td><td>0</td></tr>\n",
       "\t<tr><th scope=row>6</th><td>30</td><td>1</td><td>2</td><td>4</td><td>7</td><td>1</td><td>4</td><td>2</td><td>3</td><td>5</td><td>⋯</td><td>0</td><td>0</td><td>0</td><td>2</td><td>0</td><td>0</td><td>0</td><td>0</td><td>0</td><td>0</td></tr>\n",
       "</tbody>\n",
       "</table>\n"
      ],
      "text/latex": [
       "A data.frame: 6 × 86\n",
       "\\begin{tabular}{r|lllllllllllllllllllll}\n",
       "  & V1 & V2 & V3 & V4 & V5 & V6 & V7 & V8 & V9 & V10 & ⋯ & V77 & V78 & V79 & V80 & V81 & V82 & V83 & V84 & V85 & V86\\\\\n",
       "  & <int> & <int> & <int> & <int> & <int> & <int> & <int> & <int> & <int> & <int> & ⋯ & <int> & <int> & <int> & <int> & <int> & <int> & <int> & <int> & <int> & <int>\\\\\n",
       "\\hline\n",
       "\t1 & 33 & 1 & 4 & 2 & 8 & 0 & 6 & 0 & 3 & 5 & ⋯ & 0 & 0 & 0 & 1 & 0 & 0 & 0 & 0 & 0 & 0\\\\\n",
       "\t2 &  6 & 1 & 3 & 2 & 2 & 0 & 5 & 0 & 4 & 5 & ⋯ & 0 & 0 & 0 & 1 & 0 & 0 & 0 & 0 & 0 & 1\\\\\n",
       "\t3 & 39 & 1 & 3 & 3 & 9 & 1 & 4 & 2 & 3 & 5 & ⋯ & 0 & 0 & 0 & 1 & 0 & 0 & 0 & 0 & 0 & 0\\\\\n",
       "\t4 &  9 & 1 & 2 & 3 & 3 & 2 & 3 & 2 & 4 & 5 & ⋯ & 0 & 0 & 0 & 1 & 0 & 0 & 0 & 0 & 0 & 0\\\\\n",
       "\t5 & 31 & 1 & 2 & 4 & 7 & 0 & 2 & 0 & 7 & 9 & ⋯ & 0 & 0 & 0 & 1 & 0 & 0 & 0 & 0 & 0 & 0\\\\\n",
       "\t6 & 30 & 1 & 2 & 4 & 7 & 1 & 4 & 2 & 3 & 5 & ⋯ & 0 & 0 & 0 & 2 & 0 & 0 & 0 & 0 & 0 & 0\\\\\n",
       "\\end{tabular}\n"
      ],
      "text/markdown": [
       "\n",
       "A data.frame: 6 × 86\n",
       "\n",
       "| <!--/--> | V1 &lt;int&gt; | V2 &lt;int&gt; | V3 &lt;int&gt; | V4 &lt;int&gt; | V5 &lt;int&gt; | V6 &lt;int&gt; | V7 &lt;int&gt; | V8 &lt;int&gt; | V9 &lt;int&gt; | V10 &lt;int&gt; | ⋯ ⋯ | V77 &lt;int&gt; | V78 &lt;int&gt; | V79 &lt;int&gt; | V80 &lt;int&gt; | V81 &lt;int&gt; | V82 &lt;int&gt; | V83 &lt;int&gt; | V84 &lt;int&gt; | V85 &lt;int&gt; | V86 &lt;int&gt; |\n",
       "|---|---|---|---|---|---|---|---|---|---|---|---|---|---|---|---|---|---|---|---|---|---|\n",
       "| 1 | 33 | 1 | 4 | 2 | 8 | 0 | 6 | 0 | 3 | 5 | ⋯ | 0 | 0 | 0 | 1 | 0 | 0 | 0 | 0 | 0 | 0 |\n",
       "| 2 |  6 | 1 | 3 | 2 | 2 | 0 | 5 | 0 | 4 | 5 | ⋯ | 0 | 0 | 0 | 1 | 0 | 0 | 0 | 0 | 0 | 1 |\n",
       "| 3 | 39 | 1 | 3 | 3 | 9 | 1 | 4 | 2 | 3 | 5 | ⋯ | 0 | 0 | 0 | 1 | 0 | 0 | 0 | 0 | 0 | 0 |\n",
       "| 4 |  9 | 1 | 2 | 3 | 3 | 2 | 3 | 2 | 4 | 5 | ⋯ | 0 | 0 | 0 | 1 | 0 | 0 | 0 | 0 | 0 | 0 |\n",
       "| 5 | 31 | 1 | 2 | 4 | 7 | 0 | 2 | 0 | 7 | 9 | ⋯ | 0 | 0 | 0 | 1 | 0 | 0 | 0 | 0 | 0 | 0 |\n",
       "| 6 | 30 | 1 | 2 | 4 | 7 | 1 | 4 | 2 | 3 | 5 | ⋯ | 0 | 0 | 0 | 2 | 0 | 0 | 0 | 0 | 0 | 0 |\n",
       "\n"
      ],
      "text/plain": [
       "  V1 V2 V3 V4 V5 V6 V7 V8 V9 V10 ⋯ V77 V78 V79 V80 V81 V82 V83 V84 V85 V86\n",
       "1 33 1  4  2  8  0  6  0  3  5   ⋯ 0   0   0   1   0   0   0   0   0   0  \n",
       "2  6 1  3  2  2  0  5  0  4  5   ⋯ 0   0   0   1   0   0   0   0   0   1  \n",
       "3 39 1  3  3  9  1  4  2  3  5   ⋯ 0   0   0   1   0   0   0   0   0   0  \n",
       "4  9 1  2  3  3  2  3  2  4  5   ⋯ 0   0   0   1   0   0   0   0   0   0  \n",
       "5 31 1  2  4  7  0  2  0  7  9   ⋯ 0   0   0   1   0   0   0   0   0   0  \n",
       "6 30 1  2  4  7  1  4  2  3  5   ⋯ 0   0   0   2   0   0   0   0   0   0  "
      ]
     },
     "metadata": {},
     "output_type": "display_data"
    }
   ],
   "source": [
    "#combining testing data\n",
    "\n",
    "names(y_testing_set) <- \"V86\"\n",
    "testing_set <- cbind(x_testing_set, y_testing_set)\n",
    "head(testing_set)"
   ]
  },
  {
   "cell_type": "code",
   "execution_count": 27,
   "id": "7c83d119",
   "metadata": {},
   "outputs": [],
   "source": [
    "#Forward Selection\n",
    "regfit_forward  <- regsubsets(V86~., nbest = 1, data = training_set, method = \"forward\",  nvmax = 85)"
   ]
  },
  {
   "cell_type": "code",
   "execution_count": 28,
   "id": "41f20c31",
   "metadata": {},
   "outputs": [],
   "source": [
    "forward_summary <- summary(regfit_forward)"
   ]
  },
  {
   "cell_type": "code",
   "execution_count": 29,
   "id": "9a4986d0",
   "metadata": {},
   "outputs": [
    {
     "data": {
      "text/html": [
       "<style>\n",
       ".list-inline {list-style: none; margin:0; padding: 0}\n",
       ".list-inline>li {display: inline-block}\n",
       ".list-inline>li:not(:last-child)::after {content: \"\\00b7\"; padding: 0 .5ex}\n",
       "</style>\n",
       "<ol class=list-inline><li>'which'</li><li>'rsq'</li><li>'rss'</li><li>'adjr2'</li><li>'cp'</li><li>'bic'</li><li>'outmat'</li><li>'obj'</li></ol>\n"
      ],
      "text/latex": [
       "\\begin{enumerate*}\n",
       "\\item 'which'\n",
       "\\item 'rsq'\n",
       "\\item 'rss'\n",
       "\\item 'adjr2'\n",
       "\\item 'cp'\n",
       "\\item 'bic'\n",
       "\\item 'outmat'\n",
       "\\item 'obj'\n",
       "\\end{enumerate*}\n"
      ],
      "text/markdown": [
       "1. 'which'\n",
       "2. 'rsq'\n",
       "3. 'rss'\n",
       "4. 'adjr2'\n",
       "5. 'cp'\n",
       "6. 'bic'\n",
       "7. 'outmat'\n",
       "8. 'obj'\n",
       "\n",
       "\n"
      ],
      "text/plain": [
       "[1] \"which\"  \"rsq\"    \"rss\"    \"adjr2\"  \"cp\"     \"bic\"    \"outmat\" \"obj\"   "
      ]
     },
     "metadata": {},
     "output_type": "display_data"
    }
   ],
   "source": [
    "names(forward_summary)"
   ]
  },
  {
   "cell_type": "code",
   "execution_count": 30,
   "id": "75cf39c8",
   "metadata": {},
   "outputs": [
    {
     "data": {
      "image/png": "[encoded data removed]",
      "text/plain": [
       "plot without title"
      ]
     },
     "metadata": {
      "image/png": {
       "height": 420,
       "width": 420
      }
     },
     "output_type": "display_data"
    }
   ],
   "source": [
    "# plotting model selection measures of forward selection\n",
    "\n",
    "par(mfrow = c(2,2))\n",
    "plot(forward_summary$cp, xlab = \"Number of Variables\", ylab = \"CP\") #Mallows CP\n",
    "plot(forward_summary$bic, xlab = \"Number of Variables\", ylab = \"BIC\") #Bayes Information Criterion\n",
    "plot(forward_summary$rss, xlab = \"Number of Variables\", ylab = \"RSS\") #Residual Sum of Squares\n",
    "plot(forward_summary$adjr2, xlab = \"Number of Variables\", ylab = \"Adjusted R^2\") #Adjusted R Squared"
   ]
  },
  {
   "cell_type": "code",
   "execution_count": 31,
   "id": "e31d082f",
   "metadata": {},
   "outputs": [
    {
     "data": {
      "text/html": [
       "<table class=\"dataframe\">\n",
       "<caption>A matrix: 85 × 85 of type chr</caption>\n",
       "<thead>\n",
       "\t<tr><th></th><th scope=col>V1</th><th scope=col>V2</th><th scope=col>V3</th><th scope=col>V4</th><th scope=col>V5</th><th scope=col>V6</th><th scope=col>V7</th><th scope=col>V8</th><th scope=col>V9</th><th scope=col>V10</th><th scope=col>⋯</th><th scope=col>V76</th><th scope=col>V77</th><th scope=col>V78</th><th scope=col>V79</th><th scope=col>V80</th><th scope=col>V81</th><th scope=col>V82</th><th scope=col>V83</th><th scope=col>V84</th><th scope=col>V85</th></tr>\n",
       "</thead>\n",
       "<tbody>\n",
       "\t<tr><th scope=row>1  ( 1 )</th><td> </td><td> </td><td> </td><td> </td><td> </td><td> </td><td> </td><td> </td><td> </td><td> </td><td>⋯</td><td> </td><td> </td><td> </td><td> </td><td> </td><td> </td><td> </td><td> </td><td> </td><td> </td></tr>\n",
       "\t<tr><th scope=row>2  ( 1 )</th><td> </td><td> </td><td> </td><td> </td><td> </td><td> </td><td> </td><td> </td><td> </td><td> </td><td>⋯</td><td> </td><td> </td><td> </td><td> </td><td> </td><td> </td><td>*</td><td> </td><td> </td><td> </td></tr>\n",
       "\t<tr><th scope=row>3  ( 1 )</th><td> </td><td> </td><td> </td><td> </td><td> </td><td> </td><td> </td><td> </td><td> </td><td> </td><td>⋯</td><td> </td><td> </td><td> </td><td> </td><td> </td><td> </td><td>*</td><td> </td><td> </td><td> </td></tr>\n",
       "\t<tr><th scope=row>4  ( 1 )</th><td> </td><td> </td><td> </td><td> </td><td> </td><td> </td><td> </td><td> </td><td> </td><td> </td><td>⋯</td><td> </td><td> </td><td> </td><td> </td><td> </td><td> </td><td>*</td><td> </td><td> </td><td> </td></tr>\n",
       "\t<tr><th scope=row>5  ( 1 )</th><td> </td><td> </td><td> </td><td> </td><td> </td><td> </td><td> </td><td> </td><td> </td><td> </td><td>⋯</td><td> </td><td> </td><td> </td><td> </td><td> </td><td> </td><td>*</td><td> </td><td> </td><td> </td></tr>\n",
       "\t<tr><th scope=row>6  ( 1 )</th><td> </td><td> </td><td> </td><td> </td><td> </td><td> </td><td> </td><td> </td><td> </td><td>*</td><td>⋯</td><td> </td><td> </td><td> </td><td> </td><td> </td><td> </td><td>*</td><td> </td><td> </td><td> </td></tr>\n",
       "\t<tr><th scope=row>7  ( 1 )</th><td> </td><td> </td><td> </td><td> </td><td> </td><td> </td><td> </td><td> </td><td> </td><td>*</td><td>⋯</td><td> </td><td> </td><td> </td><td> </td><td> </td><td> </td><td>*</td><td> </td><td> </td><td> </td></tr>\n",
       "\t<tr><th scope=row>8  ( 1 )</th><td> </td><td> </td><td> </td><td> </td><td> </td><td> </td><td> </td><td> </td><td> </td><td>*</td><td>⋯</td><td> </td><td> </td><td> </td><td> </td><td> </td><td> </td><td>*</td><td> </td><td> </td><td>*</td></tr>\n",
       "\t<tr><th scope=row>9  ( 1 )</th><td> </td><td> </td><td> </td><td> </td><td> </td><td> </td><td> </td><td> </td><td> </td><td>*</td><td>⋯</td><td> </td><td> </td><td> </td><td> </td><td> </td><td> </td><td>*</td><td> </td><td> </td><td>*</td></tr>\n",
       "\t<tr><th scope=row>10  ( 1 )</th><td> </td><td> </td><td> </td><td> </td><td> </td><td> </td><td> </td><td> </td><td> </td><td>*</td><td>⋯</td><td> </td><td> </td><td> </td><td> </td><td> </td><td> </td><td>*</td><td>*</td><td> </td><td>*</td></tr>\n",
       "\t<tr><th scope=row>11  ( 1 )</th><td> </td><td> </td><td> </td><td> </td><td> </td><td> </td><td> </td><td> </td><td> </td><td>*</td><td>⋯</td><td> </td><td> </td><td> </td><td> </td><td> </td><td> </td><td>*</td><td>*</td><td> </td><td>*</td></tr>\n",
       "\t<tr><th scope=row>12  ( 1 )</th><td> </td><td> </td><td> </td><td> </td><td> </td><td> </td><td> </td><td> </td><td> </td><td>*</td><td>⋯</td><td> </td><td> </td><td> </td><td> </td><td> </td><td> </td><td>*</td><td>*</td><td> </td><td>*</td></tr>\n",
       "\t<tr><th scope=row>13  ( 1 )</th><td> </td><td> </td><td> </td><td>*</td><td> </td><td> </td><td> </td><td> </td><td> </td><td>*</td><td>⋯</td><td> </td><td> </td><td> </td><td> </td><td> </td><td> </td><td>*</td><td>*</td><td> </td><td>*</td></tr>\n",
       "\t<tr><th scope=row>14  ( 1 )</th><td> </td><td> </td><td> </td><td>*</td><td> </td><td> </td><td> </td><td> </td><td> </td><td>*</td><td>⋯</td><td> </td><td> </td><td> </td><td> </td><td> </td><td> </td><td>*</td><td>*</td><td> </td><td>*</td></tr>\n",
       "\t<tr><th scope=row>15  ( 1 )</th><td> </td><td> </td><td> </td><td>*</td><td> </td><td> </td><td> </td><td> </td><td> </td><td>*</td><td>⋯</td><td> </td><td> </td><td> </td><td> </td><td> </td><td> </td><td>*</td><td>*</td><td> </td><td>*</td></tr>\n",
       "\t<tr><th scope=row>16  ( 1 )</th><td> </td><td> </td><td> </td><td>*</td><td> </td><td> </td><td> </td><td> </td><td> </td><td>*</td><td>⋯</td><td> </td><td> </td><td> </td><td> </td><td>*</td><td> </td><td>*</td><td>*</td><td> </td><td>*</td></tr>\n",
       "\t<tr><th scope=row>17  ( 1 )</th><td> </td><td> </td><td> </td><td>*</td><td> </td><td> </td><td> </td><td> </td><td> </td><td>*</td><td>⋯</td><td> </td><td> </td><td> </td><td>*</td><td>*</td><td> </td><td>*</td><td>*</td><td> </td><td>*</td></tr>\n",
       "\t<tr><th scope=row>18  ( 1 )</th><td> </td><td> </td><td> </td><td>*</td><td> </td><td> </td><td> </td><td> </td><td> </td><td>*</td><td>⋯</td><td> </td><td> </td><td> </td><td>*</td><td>*</td><td> </td><td>*</td><td>*</td><td> </td><td>*</td></tr>\n",
       "\t<tr><th scope=row>19  ( 1 )</th><td> </td><td> </td><td> </td><td>*</td><td> </td><td> </td><td>*</td><td> </td><td> </td><td>*</td><td>⋯</td><td> </td><td> </td><td> </td><td>*</td><td>*</td><td> </td><td>*</td><td>*</td><td> </td><td>*</td></tr>\n",
       "\t<tr><th scope=row>20  ( 1 )</th><td> </td><td> </td><td> </td><td>*</td><td> </td><td> </td><td>*</td><td> </td><td> </td><td>*</td><td>⋯</td><td> </td><td> </td><td> </td><td>*</td><td>*</td><td> </td><td>*</td><td>*</td><td> </td><td>*</td></tr>\n",
       "\t<tr><th scope=row>21  ( 1 )</th><td> </td><td> </td><td> </td><td>*</td><td> </td><td> </td><td>*</td><td> </td><td> </td><td>*</td><td>⋯</td><td> </td><td> </td><td> </td><td>*</td><td>*</td><td> </td><td>*</td><td>*</td><td> </td><td>*</td></tr>\n",
       "\t<tr><th scope=row>22  ( 1 )</th><td> </td><td> </td><td> </td><td>*</td><td> </td><td> </td><td>*</td><td> </td><td> </td><td>*</td><td>⋯</td><td> </td><td> </td><td> </td><td>*</td><td>*</td><td> </td><td>*</td><td>*</td><td> </td><td>*</td></tr>\n",
       "\t<tr><th scope=row>23  ( 1 )</th><td> </td><td> </td><td> </td><td>*</td><td> </td><td> </td><td>*</td><td> </td><td> </td><td>*</td><td>⋯</td><td> </td><td> </td><td>*</td><td>*</td><td>*</td><td> </td><td>*</td><td>*</td><td> </td><td>*</td></tr>\n",
       "\t<tr><th scope=row>24  ( 1 )</th><td> </td><td> </td><td> </td><td>*</td><td> </td><td> </td><td>*</td><td> </td><td> </td><td>*</td><td>⋯</td><td> </td><td> </td><td>*</td><td>*</td><td>*</td><td> </td><td>*</td><td>*</td><td> </td><td>*</td></tr>\n",
       "\t<tr><th scope=row>25  ( 1 )</th><td> </td><td> </td><td> </td><td>*</td><td> </td><td> </td><td>*</td><td> </td><td> </td><td>*</td><td>⋯</td><td> </td><td> </td><td>*</td><td>*</td><td>*</td><td> </td><td>*</td><td>*</td><td> </td><td>*</td></tr>\n",
       "\t<tr><th scope=row>26  ( 1 )</th><td> </td><td> </td><td> </td><td>*</td><td> </td><td> </td><td>*</td><td> </td><td> </td><td>*</td><td>⋯</td><td> </td><td> </td><td>*</td><td>*</td><td>*</td><td> </td><td>*</td><td>*</td><td> </td><td>*</td></tr>\n",
       "\t<tr><th scope=row>27  ( 1 )</th><td> </td><td> </td><td> </td><td>*</td><td> </td><td> </td><td>*</td><td> </td><td> </td><td>*</td><td>⋯</td><td> </td><td> </td><td>*</td><td>*</td><td>*</td><td>*</td><td>*</td><td>*</td><td> </td><td>*</td></tr>\n",
       "\t<tr><th scope=row>28  ( 1 )</th><td> </td><td> </td><td> </td><td>*</td><td> </td><td> </td><td>*</td><td> </td><td> </td><td>*</td><td>⋯</td><td> </td><td> </td><td>*</td><td>*</td><td>*</td><td>*</td><td>*</td><td>*</td><td> </td><td>*</td></tr>\n",
       "\t<tr><th scope=row>29  ( 1 )</th><td> </td><td> </td><td> </td><td>*</td><td> </td><td> </td><td>*</td><td> </td><td> </td><td>*</td><td>⋯</td><td> </td><td> </td><td>*</td><td>*</td><td>*</td><td>*</td><td>*</td><td>*</td><td> </td><td>*</td></tr>\n",
       "\t<tr><th scope=row>30  ( 1 )</th><td> </td><td> </td><td> </td><td>*</td><td> </td><td> </td><td>*</td><td> </td><td> </td><td>*</td><td>⋯</td><td> </td><td> </td><td>*</td><td>*</td><td>*</td><td>*</td><td>*</td><td>*</td><td> </td><td>*</td></tr>\n",
       "\t<tr><th scope=row>⋮</th><td>⋮</td><td>⋮</td><td>⋮</td><td>⋮</td><td>⋮</td><td>⋮</td><td>⋮</td><td>⋮</td><td>⋮</td><td>⋮</td><td>⋱</td><td>⋮</td><td>⋮</td><td>⋮</td><td>⋮</td><td>⋮</td><td>⋮</td><td>⋮</td><td>⋮</td><td>⋮</td><td>⋮</td></tr>\n",
       "\t<tr><th scope=row>56  ( 1 )</th><td> </td><td>*</td><td> </td><td>*</td><td> </td><td>*</td><td>*</td><td>*</td><td> </td><td>*</td><td>⋯</td><td>*</td><td>*</td><td>*</td><td>*</td><td>*</td><td>*</td><td>*</td><td>*</td><td>*</td><td>*</td></tr>\n",
       "\t<tr><th scope=row>57  ( 1 )</th><td> </td><td>*</td><td> </td><td>*</td><td> </td><td>*</td><td>*</td><td>*</td><td> </td><td>*</td><td>⋯</td><td>*</td><td>*</td><td>*</td><td>*</td><td>*</td><td>*</td><td>*</td><td>*</td><td>*</td><td>*</td></tr>\n",
       "\t<tr><th scope=row>58  ( 1 )</th><td> </td><td>*</td><td> </td><td>*</td><td> </td><td>*</td><td>*</td><td>*</td><td> </td><td>*</td><td>⋯</td><td>*</td><td>*</td><td>*</td><td>*</td><td>*</td><td>*</td><td>*</td><td>*</td><td>*</td><td>*</td></tr>\n",
       "\t<tr><th scope=row>59  ( 1 )</th><td> </td><td>*</td><td> </td><td>*</td><td> </td><td>*</td><td>*</td><td>*</td><td> </td><td>*</td><td>⋯</td><td>*</td><td>*</td><td>*</td><td>*</td><td>*</td><td>*</td><td>*</td><td>*</td><td>*</td><td>*</td></tr>\n",
       "\t<tr><th scope=row>60  ( 1 )</th><td> </td><td>*</td><td> </td><td>*</td><td> </td><td>*</td><td>*</td><td>*</td><td> </td><td>*</td><td>⋯</td><td>*</td><td>*</td><td>*</td><td>*</td><td>*</td><td>*</td><td>*</td><td>*</td><td>*</td><td>*</td></tr>\n",
       "\t<tr><th scope=row>61  ( 1 )</th><td> </td><td>*</td><td> </td><td>*</td><td> </td><td>*</td><td>*</td><td>*</td><td>*</td><td>*</td><td>⋯</td><td>*</td><td>*</td><td>*</td><td>*</td><td>*</td><td>*</td><td>*</td><td>*</td><td>*</td><td>*</td></tr>\n",
       "\t<tr><th scope=row>62  ( 1 )</th><td> </td><td>*</td><td> </td><td>*</td><td> </td><td>*</td><td>*</td><td>*</td><td>*</td><td>*</td><td>⋯</td><td>*</td><td>*</td><td>*</td><td>*</td><td>*</td><td>*</td><td>*</td><td>*</td><td>*</td><td>*</td></tr>\n",
       "\t<tr><th scope=row>63  ( 1 )</th><td> </td><td>*</td><td> </td><td>*</td><td> </td><td>*</td><td>*</td><td>*</td><td>*</td><td>*</td><td>⋯</td><td>*</td><td>*</td><td>*</td><td>*</td><td>*</td><td>*</td><td>*</td><td>*</td><td>*</td><td>*</td></tr>\n",
       "\t<tr><th scope=row>64  ( 1 )</th><td> </td><td>*</td><td> </td><td>*</td><td> </td><td>*</td><td>*</td><td>*</td><td>*</td><td>*</td><td>⋯</td><td>*</td><td>*</td><td>*</td><td>*</td><td>*</td><td>*</td><td>*</td><td>*</td><td>*</td><td>*</td></tr>\n",
       "\t<tr><th scope=row>65  ( 1 )</th><td> </td><td>*</td><td> </td><td>*</td><td> </td><td>*</td><td>*</td><td>*</td><td>*</td><td>*</td><td>⋯</td><td>*</td><td>*</td><td>*</td><td>*</td><td>*</td><td>*</td><td>*</td><td>*</td><td>*</td><td>*</td></tr>\n",
       "\t<tr><th scope=row>66  ( 1 )</th><td> </td><td>*</td><td> </td><td>*</td><td> </td><td>*</td><td>*</td><td>*</td><td>*</td><td>*</td><td>⋯</td><td>*</td><td>*</td><td>*</td><td>*</td><td>*</td><td>*</td><td>*</td><td>*</td><td>*</td><td>*</td></tr>\n",
       "\t<tr><th scope=row>67  ( 1 )</th><td> </td><td>*</td><td> </td><td>*</td><td> </td><td>*</td><td>*</td><td>*</td><td>*</td><td>*</td><td>⋯</td><td>*</td><td>*</td><td>*</td><td>*</td><td>*</td><td>*</td><td>*</td><td>*</td><td>*</td><td>*</td></tr>\n",
       "\t<tr><th scope=row>68  ( 1 )</th><td> </td><td>*</td><td> </td><td>*</td><td> </td><td>*</td><td>*</td><td>*</td><td>*</td><td>*</td><td>⋯</td><td>*</td><td>*</td><td>*</td><td>*</td><td>*</td><td>*</td><td>*</td><td>*</td><td>*</td><td>*</td></tr>\n",
       "\t<tr><th scope=row>69  ( 1 )</th><td> </td><td>*</td><td> </td><td>*</td><td> </td><td>*</td><td>*</td><td>*</td><td>*</td><td>*</td><td>⋯</td><td>*</td><td>*</td><td>*</td><td>*</td><td>*</td><td>*</td><td>*</td><td>*</td><td>*</td><td>*</td></tr>\n",
       "\t<tr><th scope=row>70  ( 1 )</th><td> </td><td>*</td><td> </td><td>*</td><td> </td><td>*</td><td>*</td><td>*</td><td>*</td><td>*</td><td>⋯</td><td>*</td><td>*</td><td>*</td><td>*</td><td>*</td><td>*</td><td>*</td><td>*</td><td>*</td><td>*</td></tr>\n",
       "\t<tr><th scope=row>71  ( 1 )</th><td>*</td><td>*</td><td> </td><td>*</td><td> </td><td>*</td><td>*</td><td>*</td><td>*</td><td>*</td><td>⋯</td><td>*</td><td>*</td><td>*</td><td>*</td><td>*</td><td>*</td><td>*</td><td>*</td><td>*</td><td>*</td></tr>\n",
       "\t<tr><th scope=row>72  ( 1 )</th><td>*</td><td>*</td><td> </td><td>*</td><td>*</td><td>*</td><td>*</td><td>*</td><td>*</td><td>*</td><td>⋯</td><td>*</td><td>*</td><td>*</td><td>*</td><td>*</td><td>*</td><td>*</td><td>*</td><td>*</td><td>*</td></tr>\n",
       "\t<tr><th scope=row>73  ( 1 )</th><td>*</td><td>*</td><td> </td><td>*</td><td>*</td><td>*</td><td>*</td><td>*</td><td>*</td><td>*</td><td>⋯</td><td>*</td><td>*</td><td>*</td><td>*</td><td>*</td><td>*</td><td>*</td><td>*</td><td>*</td><td>*</td></tr>\n",
       "\t<tr><th scope=row>74  ( 1 )</th><td>*</td><td>*</td><td>*</td><td>*</td><td>*</td><td>*</td><td>*</td><td>*</td><td>*</td><td>*</td><td>⋯</td><td>*</td><td>*</td><td>*</td><td>*</td><td>*</td><td>*</td><td>*</td><td>*</td><td>*</td><td>*</td></tr>\n",
       "\t<tr><th scope=row>75  ( 1 )</th><td>*</td><td>*</td><td>*</td><td>*</td><td>*</td><td>*</td><td>*</td><td>*</td><td>*</td><td>*</td><td>⋯</td><td>*</td><td>*</td><td>*</td><td>*</td><td>*</td><td>*</td><td>*</td><td>*</td><td>*</td><td>*</td></tr>\n",
       "\t<tr><th scope=row>76  ( 1 )</th><td>*</td><td>*</td><td>*</td><td>*</td><td>*</td><td>*</td><td>*</td><td>*</td><td>*</td><td>*</td><td>⋯</td><td>*</td><td>*</td><td>*</td><td>*</td><td>*</td><td>*</td><td>*</td><td>*</td><td>*</td><td>*</td></tr>\n",
       "\t<tr><th scope=row>77  ( 1 )</th><td>*</td><td>*</td><td>*</td><td>*</td><td>*</td><td>*</td><td>*</td><td>*</td><td>*</td><td>*</td><td>⋯</td><td>*</td><td>*</td><td>*</td><td>*</td><td>*</td><td>*</td><td>*</td><td>*</td><td>*</td><td>*</td></tr>\n",
       "\t<tr><th scope=row>78  ( 1 )</th><td>*</td><td>*</td><td>*</td><td>*</td><td>*</td><td>*</td><td>*</td><td>*</td><td>*</td><td>*</td><td>⋯</td><td>*</td><td>*</td><td>*</td><td>*</td><td>*</td><td>*</td><td>*</td><td>*</td><td>*</td><td>*</td></tr>\n",
       "\t<tr><th scope=row>79  ( 1 )</th><td>*</td><td>*</td><td>*</td><td>*</td><td>*</td><td>*</td><td>*</td><td>*</td><td>*</td><td>*</td><td>⋯</td><td>*</td><td>*</td><td>*</td><td>*</td><td>*</td><td>*</td><td>*</td><td>*</td><td>*</td><td>*</td></tr>\n",
       "\t<tr><th scope=row>80  ( 1 )</th><td>*</td><td>*</td><td>*</td><td>*</td><td>*</td><td>*</td><td>*</td><td>*</td><td>*</td><td>*</td><td>⋯</td><td>*</td><td>*</td><td>*</td><td>*</td><td>*</td><td>*</td><td>*</td><td>*</td><td>*</td><td>*</td></tr>\n",
       "\t<tr><th scope=row>81  ( 1 )</th><td>*</td><td>*</td><td>*</td><td>*</td><td>*</td><td>*</td><td>*</td><td>*</td><td>*</td><td>*</td><td>⋯</td><td>*</td><td>*</td><td>*</td><td>*</td><td>*</td><td>*</td><td>*</td><td>*</td><td>*</td><td>*</td></tr>\n",
       "\t<tr><th scope=row>82  ( 1 )</th><td>*</td><td>*</td><td>*</td><td>*</td><td>*</td><td>*</td><td>*</td><td>*</td><td>*</td><td>*</td><td>⋯</td><td>*</td><td>*</td><td>*</td><td>*</td><td>*</td><td>*</td><td>*</td><td>*</td><td>*</td><td>*</td></tr>\n",
       "\t<tr><th scope=row>83  ( 1 )</th><td>*</td><td>*</td><td>*</td><td>*</td><td>*</td><td>*</td><td>*</td><td>*</td><td>*</td><td>*</td><td>⋯</td><td>*</td><td>*</td><td>*</td><td>*</td><td>*</td><td>*</td><td>*</td><td>*</td><td>*</td><td>*</td></tr>\n",
       "\t<tr><th scope=row>84  ( 1 )</th><td>*</td><td>*</td><td>*</td><td>*</td><td>*</td><td>*</td><td>*</td><td>*</td><td>*</td><td>*</td><td>⋯</td><td>*</td><td>*</td><td>*</td><td>*</td><td>*</td><td>*</td><td>*</td><td>*</td><td>*</td><td>*</td></tr>\n",
       "\t<tr><th scope=row>85  ( 1 )</th><td>*</td><td>*</td><td>*</td><td>*</td><td>*</td><td>*</td><td>*</td><td>*</td><td>*</td><td>*</td><td>⋯</td><td>*</td><td>*</td><td>*</td><td>*</td><td>*</td><td>*</td><td>*</td><td>*</td><td>*</td><td>*</td></tr>\n",
       "</tbody>\n",
       "</table>\n"
      ],
      "text/latex": [
       "A matrix: 85 × 85 of type chr\n",
       "\\begin{tabular}{r|lllllllllllllllllllll}\n",
       "  & V1 & V2 & V3 & V4 & V5 & V6 & V7 & V8 & V9 & V10 & ⋯ & V76 & V77 & V78 & V79 & V80 & V81 & V82 & V83 & V84 & V85\\\\\n",
       "\\hline\n",
       "\t1  ( 1 ) &   &   &   &   &   &   &   &   &   &   & ⋯ &   &   &   &   &   &   &   &   &   &  \\\\\n",
       "\t2  ( 1 ) &   &   &   &   &   &   &   &   &   &   & ⋯ &   &   &   &   &   &   & * &   &   &  \\\\\n",
       "\t3  ( 1 ) &   &   &   &   &   &   &   &   &   &   & ⋯ &   &   &   &   &   &   & * &   &   &  \\\\\n",
       "\t4  ( 1 ) &   &   &   &   &   &   &   &   &   &   & ⋯ &   &   &   &   &   &   & * &   &   &  \\\\\n",
       "\t5  ( 1 ) &   &   &   &   &   &   &   &   &   &   & ⋯ &   &   &   &   &   &   & * &   &   &  \\\\\n",
       "\t6  ( 1 ) &   &   &   &   &   &   &   &   &   & * & ⋯ &   &   &   &   &   &   & * &   &   &  \\\\\n",
       "\t7  ( 1 ) &   &   &   &   &   &   &   &   &   & * & ⋯ &   &   &   &   &   &   & * &   &   &  \\\\\n",
       "\t8  ( 1 ) &   &   &   &   &   &   &   &   &   & * & ⋯ &   &   &   &   &   &   & * &   &   & *\\\\\n",
       "\t9  ( 1 ) &   &   &   &   &   &   &   &   &   & * & ⋯ &   &   &   &   &   &   & * &   &   & *\\\\\n",
       "\t10  ( 1 ) &   &   &   &   &   &   &   &   &   & * & ⋯ &   &   &   &   &   &   & * & * &   & *\\\\\n",
       "\t11  ( 1 ) &   &   &   &   &   &   &   &   &   & * & ⋯ &   &   &   &   &   &   & * & * &   & *\\\\\n",
       "\t12  ( 1 ) &   &   &   &   &   &   &   &   &   & * & ⋯ &   &   &   &   &   &   & * & * &   & *\\\\\n",
       "\t13  ( 1 ) &   &   &   & * &   &   &   &   &   & * & ⋯ &   &   &   &   &   &   & * & * &   & *\\\\\n",
       "\t14  ( 1 ) &   &   &   & * &   &   &   &   &   & * & ⋯ &   &   &   &   &   &   & * & * &   & *\\\\\n",
       "\t15  ( 1 ) &   &   &   & * &   &   &   &   &   & * & ⋯ &   &   &   &   &   &   & * & * &   & *\\\\\n",
       "\t16  ( 1 ) &   &   &   & * &   &   &   &   &   & * & ⋯ &   &   &   &   & * &   & * & * &   & *\\\\\n",
       "\t17  ( 1 ) &   &   &   & * &   &   &   &   &   & * & ⋯ &   &   &   & * & * &   & * & * &   & *\\\\\n",
       "\t18  ( 1 ) &   &   &   & * &   &   &   &   &   & * & ⋯ &   &   &   & * & * &   & * & * &   & *\\\\\n",
       "\t19  ( 1 ) &   &   &   & * &   &   & * &   &   & * & ⋯ &   &   &   & * & * &   & * & * &   & *\\\\\n",
       "\t20  ( 1 ) &   &   &   & * &   &   & * &   &   & * & ⋯ &   &   &   & * & * &   & * & * &   & *\\\\\n",
       "\t21  ( 1 ) &   &   &   & * &   &   & * &   &   & * & ⋯ &   &   &   & * & * &   & * & * &   & *\\\\\n",
       "\t22  ( 1 ) &   &   &   & * &   &   & * &   &   & * & ⋯ &   &   &   & * & * &   & * & * &   & *\\\\\n",
       "\t23  ( 1 ) &   &   &   & * &   &   & * &   &   & * & ⋯ &   &   & * & * & * &   & * & * &   & *\\\\\n",
       "\t24  ( 1 ) &   &   &   & * &   &   & * &   &   & * & ⋯ &   &   & * & * & * &   & * & * &   & *\\\\\n",
       "\t25  ( 1 ) &   &   &   & * &   &   & * &   &   & * & ⋯ &   &   & * & * & * &   & * & * &   & *\\\\\n",
       "\t26  ( 1 ) &   &   &   & * &   &   & * &   &   & * & ⋯ &   &   & * & * & * &   & * & * &   & *\\\\\n",
       "\t27  ( 1 ) &   &   &   & * &   &   & * &   &   & * & ⋯ &   &   & * & * & * & * & * & * &   & *\\\\\n",
       "\t28  ( 1 ) &   &   &   & * &   &   & * &   &   & * & ⋯ &   &   & * & * & * & * & * & * &   & *\\\\\n",
       "\t29  ( 1 ) &   &   &   & * &   &   & * &   &   & * & ⋯ &   &   & * & * & * & * & * & * &   & *\\\\\n",
       "\t30  ( 1 ) &   &   &   & * &   &   & * &   &   & * & ⋯ &   &   & * & * & * & * & * & * &   & *\\\\\n",
       "\t⋮ & ⋮ & ⋮ & ⋮ & ⋮ & ⋮ & ⋮ & ⋮ & ⋮ & ⋮ & ⋮ & ⋱ & ⋮ & ⋮ & ⋮ & ⋮ & ⋮ & ⋮ & ⋮ & ⋮ & ⋮ & ⋮\\\\\n",
       "\t56  ( 1 ) &   & * &   & * &   & * & * & * &   & * & ⋯ & * & * & * & * & * & * & * & * & * & *\\\\\n",
       "\t57  ( 1 ) &   & * &   & * &   & * & * & * &   & * & ⋯ & * & * & * & * & * & * & * & * & * & *\\\\\n",
       "\t58  ( 1 ) &   & * &   & * &   & * & * & * &   & * & ⋯ & * & * & * & * & * & * & * & * & * & *\\\\\n",
       "\t59  ( 1 ) &   & * &   & * &   & * & * & * &   & * & ⋯ & * & * & * & * & * & * & * & * & * & *\\\\\n",
       "\t60  ( 1 ) &   & * &   & * &   & * & * & * &   & * & ⋯ & * & * & * & * & * & * & * & * & * & *\\\\\n",
       "\t61  ( 1 ) &   & * &   & * &   & * & * & * & * & * & ⋯ & * & * & * & * & * & * & * & * & * & *\\\\\n",
       "\t62  ( 1 ) &   & * &   & * &   & * & * & * & * & * & ⋯ & * & * & * & * & * & * & * & * & * & *\\\\\n",
       "\t63  ( 1 ) &   & * &   & * &   & * & * & * & * & * & ⋯ & * & * & * & * & * & * & * & * & * & *\\\\\n",
       "\t64  ( 1 ) &   & * &   & * &   & * & * & * & * & * & ⋯ & * & * & * & * & * & * & * & * & * & *\\\\\n",
       "\t65  ( 1 ) &   & * &   & * &   & * & * & * & * & * & ⋯ & * & * & * & * & * & * & * & * & * & *\\\\\n",
       "\t66  ( 1 ) &   & * &   & * &   & * & * & * & * & * & ⋯ & * & * & * & * & * & * & * & * & * & *\\\\\n",
       "\t67  ( 1 ) &   & * &   & * &   & * & * & * & * & * & ⋯ & * & * & * & * & * & * & * & * & * & *\\\\\n",
       "\t68  ( 1 ) &   & * &   & * &   & * & * & * & * & * & ⋯ & * & * & * & * & * & * & * & * & * & *\\\\\n",
       "\t69  ( 1 ) &   & * &   & * &   & * & * & * & * & * & ⋯ & * & * & * & * & * & * & * & * & * & *\\\\\n",
       "\t70  ( 1 ) &   & * &   & * &   & * & * & * & * & * & ⋯ & * & * & * & * & * & * & * & * & * & *\\\\\n",
       "\t71  ( 1 ) & * & * &   & * &   & * & * & * & * & * & ⋯ & * & * & * & * & * & * & * & * & * & *\\\\\n",
       "\t72  ( 1 ) & * & * &   & * & * & * & * & * & * & * & ⋯ & * & * & * & * & * & * & * & * & * & *\\\\\n",
       "\t73  ( 1 ) & * & * &   & * & * & * & * & * & * & * & ⋯ & * & * & * & * & * & * & * & * & * & *\\\\\n",
       "\t74  ( 1 ) & * & * & * & * & * & * & * & * & * & * & ⋯ & * & * & * & * & * & * & * & * & * & *\\\\\n",
       "\t75  ( 1 ) & * & * & * & * & * & * & * & * & * & * & ⋯ & * & * & * & * & * & * & * & * & * & *\\\\\n",
       "\t76  ( 1 ) & * & * & * & * & * & * & * & * & * & * & ⋯ & * & * & * & * & * & * & * & * & * & *\\\\\n",
       "\t77  ( 1 ) & * & * & * & * & * & * & * & * & * & * & ⋯ & * & * & * & * & * & * & * & * & * & *\\\\\n",
       "\t78  ( 1 ) & * & * & * & * & * & * & * & * & * & * & ⋯ & * & * & * & * & * & * & * & * & * & *\\\\\n",
       "\t79  ( 1 ) & * & * & * & * & * & * & * & * & * & * & ⋯ & * & * & * & * & * & * & * & * & * & *\\\\\n",
       "\t80  ( 1 ) & * & * & * & * & * & * & * & * & * & * & ⋯ & * & * & * & * & * & * & * & * & * & *\\\\\n",
       "\t81  ( 1 ) & * & * & * & * & * & * & * & * & * & * & ⋯ & * & * & * & * & * & * & * & * & * & *\\\\\n",
       "\t82  ( 1 ) & * & * & * & * & * & * & * & * & * & * & ⋯ & * & * & * & * & * & * & * & * & * & *\\\\\n",
       "\t83  ( 1 ) & * & * & * & * & * & * & * & * & * & * & ⋯ & * & * & * & * & * & * & * & * & * & *\\\\\n",
       "\t84  ( 1 ) & * & * & * & * & * & * & * & * & * & * & ⋯ & * & * & * & * & * & * & * & * & * & *\\\\\n",
       "\t85  ( 1 ) & * & * & * & * & * & * & * & * & * & * & ⋯ & * & * & * & * & * & * & * & * & * & *\\\\\n",
       "\\end{tabular}\n"
      ],
      "text/markdown": [
       "\n",
       "A matrix: 85 × 85 of type chr\n",
       "\n",
       "| <!--/--> | V1 | V2 | V3 | V4 | V5 | V6 | V7 | V8 | V9 | V10 | ⋯ | V76 | V77 | V78 | V79 | V80 | V81 | V82 | V83 | V84 | V85 |\n",
       "|---|---|---|---|---|---|---|---|---|---|---|---|---|---|---|---|---|---|---|---|---|---|\n",
       "| 1  ( 1 ) | <!----> | <!----> | <!----> | <!----> | <!----> | <!----> | <!----> | <!----> | <!----> | <!----> | ⋯ | <!----> | <!----> | <!----> | <!----> | <!----> | <!----> | <!----> | <!----> | <!----> | <!----> |\n",
       "| 2  ( 1 ) | <!----> | <!----> | <!----> | <!----> | <!----> | <!----> | <!----> | <!----> | <!----> | <!----> | ⋯ | <!----> | <!----> | <!----> | <!----> | <!----> | <!----> | * | <!----> | <!----> | <!----> |\n",
       "| 3  ( 1 ) | <!----> | <!----> | <!----> | <!----> | <!----> | <!----> | <!----> | <!----> | <!----> | <!----> | ⋯ | <!----> | <!----> | <!----> | <!----> | <!----> | <!----> | * | <!----> | <!----> | <!----> |\n",
       "| 4  ( 1 ) | <!----> | <!----> | <!----> | <!----> | <!----> | <!----> | <!----> | <!----> | <!----> | <!----> | ⋯ | <!----> | <!----> | <!----> | <!----> | <!----> | <!----> | * | <!----> | <!----> | <!----> |\n",
       "| 5  ( 1 ) | <!----> | <!----> | <!----> | <!----> | <!----> | <!----> | <!----> | <!----> | <!----> | <!----> | ⋯ | <!----> | <!----> | <!----> | <!----> | <!----> | <!----> | * | <!----> | <!----> | <!----> |\n",
       "| 6  ( 1 ) | <!----> | <!----> | <!----> | <!----> | <!----> | <!----> | <!----> | <!----> | <!----> | * | ⋯ | <!----> | <!----> | <!----> | <!----> | <!----> | <!----> | * | <!----> | <!----> | <!----> |\n",
       "| 7  ( 1 ) | <!----> | <!----> | <!----> | <!----> | <!----> | <!----> | <!----> | <!----> | <!----> | * | ⋯ | <!----> | <!----> | <!----> | <!----> | <!----> | <!----> | * | <!----> | <!----> | <!----> |\n",
       "| 8  ( 1 ) | <!----> | <!----> | <!----> | <!----> | <!----> | <!----> | <!----> | <!----> | <!----> | * | ⋯ | <!----> | <!----> | <!----> | <!----> | <!----> | <!----> | * | <!----> | <!----> | * |\n",
       "| 9  ( 1 ) | <!----> | <!----> | <!----> | <!----> | <!----> | <!----> | <!----> | <!----> | <!----> | * | ⋯ | <!----> | <!----> | <!----> | <!----> | <!----> | <!----> | * | <!----> | <!----> | * |\n",
       "| 10  ( 1 ) | <!----> | <!----> | <!----> | <!----> | <!----> | <!----> | <!----> | <!----> | <!----> | * | ⋯ | <!----> | <!----> | <!----> | <!----> | <!----> | <!----> | * | * | <!----> | * |\n",
       "| 11  ( 1 ) | <!----> | <!----> | <!----> | <!----> | <!----> | <!----> | <!----> | <!----> | <!----> | * | ⋯ | <!----> | <!----> | <!----> | <!----> | <!----> | <!----> | * | * | <!----> | * |\n",
       "| 12  ( 1 ) | <!----> | <!----> | <!----> | <!----> | <!----> | <!----> | <!----> | <!----> | <!----> | * | ⋯ | <!----> | <!----> | <!----> | <!----> | <!----> | <!----> | * | * | <!----> | * |\n",
       "| 13  ( 1 ) | <!----> | <!----> | <!----> | * | <!----> | <!----> | <!----> | <!----> | <!----> | * | ⋯ | <!----> | <!----> | <!----> | <!----> | <!----> | <!----> | * | * | <!----> | * |\n",
       "| 14  ( 1 ) | <!----> | <!----> | <!----> | * | <!----> | <!----> | <!----> | <!----> | <!----> | * | ⋯ | <!----> | <!----> | <!----> | <!----> | <!----> | <!----> | * | * | <!----> | * |\n",
       "| 15  ( 1 ) | <!----> | <!----> | <!----> | * | <!----> | <!----> | <!----> | <!----> | <!----> | * | ⋯ | <!----> | <!----> | <!----> | <!----> | <!----> | <!----> | * | * | <!----> | * |\n",
       "| 16  ( 1 ) | <!----> | <!----> | <!----> | * | <!----> | <!----> | <!----> | <!----> | <!----> | * | ⋯ | <!----> | <!----> | <!----> | <!----> | * | <!----> | * | * | <!----> | * |\n",
       "| 17  ( 1 ) | <!----> | <!----> | <!----> | * | <!----> | <!----> | <!----> | <!----> | <!----> | * | ⋯ | <!----> | <!----> | <!----> | * | * | <!----> | * | * | <!----> | * |\n",
       "| 18  ( 1 ) | <!----> | <!----> | <!----> | * | <!----> | <!----> | <!----> | <!----> | <!----> | * | ⋯ | <!----> | <!----> | <!----> | * | * | <!----> | * | * | <!----> | * |\n",
       "| 19  ( 1 ) | <!----> | <!----> | <!----> | * | <!----> | <!----> | * | <!----> | <!----> | * | ⋯ | <!----> | <!----> | <!----> | * | * | <!----> | * | * | <!----> | * |\n",
       "| 20  ( 1 ) | <!----> | <!----> | <!----> | * | <!----> | <!----> | * | <!----> | <!----> | * | ⋯ | <!----> | <!----> | <!----> | * | * | <!----> | * | * | <!----> | * |\n",
       "| 21  ( 1 ) | <!----> | <!----> | <!----> | * | <!----> | <!----> | * | <!----> | <!----> | * | ⋯ | <!----> | <!----> | <!----> | * | * | <!----> | * | * | <!----> | * |\n",
       "| 22  ( 1 ) | <!----> | <!----> | <!----> | * | <!----> | <!----> | * | <!----> | <!----> | * | ⋯ | <!----> | <!----> | <!----> | * | * | <!----> | * | * | <!----> | * |\n",
       "| 23  ( 1 ) | <!----> | <!----> | <!----> | * | <!----> | <!----> | * | <!----> | <!----> | * | ⋯ | <!----> | <!----> | * | * | * | <!----> | * | * | <!----> | * |\n",
       "| 24  ( 1 ) | <!----> | <!----> | <!----> | * | <!----> | <!----> | * | <!----> | <!----> | * | ⋯ | <!----> | <!----> | * | * | * | <!----> | * | * | <!----> | * |\n",
       "| 25  ( 1 ) | <!----> | <!----> | <!----> | * | <!----> | <!----> | * | <!----> | <!----> | * | ⋯ | <!----> | <!----> | * | * | * | <!----> | * | * | <!----> | * |\n",
       "| 26  ( 1 ) | <!----> | <!----> | <!----> | * | <!----> | <!----> | * | <!----> | <!----> | * | ⋯ | <!----> | <!----> | * | * | * | <!----> | * | * | <!----> | * |\n",
       "| 27  ( 1 ) | <!----> | <!----> | <!----> | * | <!----> | <!----> | * | <!----> | <!----> | * | ⋯ | <!----> | <!----> | * | * | * | * | * | * | <!----> | * |\n",
       "| 28  ( 1 ) | <!----> | <!----> | <!----> | * | <!----> | <!----> | * | <!----> | <!----> | * | ⋯ | <!----> | <!----> | * | * | * | * | * | * | <!----> | * |\n",
       "| 29  ( 1 ) | <!----> | <!----> | <!----> | * | <!----> | <!----> | * | <!----> | <!----> | * | ⋯ | <!----> | <!----> | * | * | * | * | * | * | <!----> | * |\n",
       "| 30  ( 1 ) | <!----> | <!----> | <!----> | * | <!----> | <!----> | * | <!----> | <!----> | * | ⋯ | <!----> | <!----> | * | * | * | * | * | * | <!----> | * |\n",
       "| ⋮ | ⋮ | ⋮ | ⋮ | ⋮ | ⋮ | ⋮ | ⋮ | ⋮ | ⋮ | ⋮ | ⋱ | ⋮ | ⋮ | ⋮ | ⋮ | ⋮ | ⋮ | ⋮ | ⋮ | ⋮ | ⋮ |\n",
       "| 56  ( 1 ) | <!----> | * | <!----> | * | <!----> | * | * | * | <!----> | * | ⋯ | * | * | * | * | * | * | * | * | * | * |\n",
       "| 57  ( 1 ) | <!----> | * | <!----> | * | <!----> | * | * | * | <!----> | * | ⋯ | * | * | * | * | * | * | * | * | * | * |\n",
       "| 58  ( 1 ) | <!----> | * | <!----> | * | <!----> | * | * | * | <!----> | * | ⋯ | * | * | * | * | * | * | * | * | * | * |\n",
       "| 59  ( 1 ) | <!----> | * | <!----> | * | <!----> | * | * | * | <!----> | * | ⋯ | * | * | * | * | * | * | * | * | * | * |\n",
       "| 60  ( 1 ) | <!----> | * | <!----> | * | <!----> | * | * | * | <!----> | * | ⋯ | * | * | * | * | * | * | * | * | * | * |\n",
       "| 61  ( 1 ) | <!----> | * | <!----> | * | <!----> | * | * | * | * | * | ⋯ | * | * | * | * | * | * | * | * | * | * |\n",
       "| 62  ( 1 ) | <!----> | * | <!----> | * | <!----> | * | * | * | * | * | ⋯ | * | * | * | * | * | * | * | * | * | * |\n",
       "| 63  ( 1 ) | <!----> | * | <!----> | * | <!----> | * | * | * | * | * | ⋯ | * | * | * | * | * | * | * | * | * | * |\n",
       "| 64  ( 1 ) | <!----> | * | <!----> | * | <!----> | * | * | * | * | * | ⋯ | * | * | * | * | * | * | * | * | * | * |\n",
       "| 65  ( 1 ) | <!----> | * | <!----> | * | <!----> | * | * | * | * | * | ⋯ | * | * | * | * | * | * | * | * | * | * |\n",
       "| 66  ( 1 ) | <!----> | * | <!----> | * | <!----> | * | * | * | * | * | ⋯ | * | * | * | * | * | * | * | * | * | * |\n",
       "| 67  ( 1 ) | <!----> | * | <!----> | * | <!----> | * | * | * | * | * | ⋯ | * | * | * | * | * | * | * | * | * | * |\n",
       "| 68  ( 1 ) | <!----> | * | <!----> | * | <!----> | * | * | * | * | * | ⋯ | * | * | * | * | * | * | * | * | * | * |\n",
       "| 69  ( 1 ) | <!----> | * | <!----> | * | <!----> | * | * | * | * | * | ⋯ | * | * | * | * | * | * | * | * | * | * |\n",
       "| 70  ( 1 ) | <!----> | * | <!----> | * | <!----> | * | * | * | * | * | ⋯ | * | * | * | * | * | * | * | * | * | * |\n",
       "| 71  ( 1 ) | * | * | <!----> | * | <!----> | * | * | * | * | * | ⋯ | * | * | * | * | * | * | * | * | * | * |\n",
       "| 72  ( 1 ) | * | * | <!----> | * | * | * | * | * | * | * | ⋯ | * | * | * | * | * | * | * | * | * | * |\n",
       "| 73  ( 1 ) | * | * | <!----> | * | * | * | * | * | * | * | ⋯ | * | * | * | * | * | * | * | * | * | * |\n",
       "| 74  ( 1 ) | * | * | * | * | * | * | * | * | * | * | ⋯ | * | * | * | * | * | * | * | * | * | * |\n",
       "| 75  ( 1 ) | * | * | * | * | * | * | * | * | * | * | ⋯ | * | * | * | * | * | * | * | * | * | * |\n",
       "| 76  ( 1 ) | * | * | * | * | * | * | * | * | * | * | ⋯ | * | * | * | * | * | * | * | * | * | * |\n",
       "| 77  ( 1 ) | * | * | * | * | * | * | * | * | * | * | ⋯ | * | * | * | * | * | * | * | * | * | * |\n",
       "| 78  ( 1 ) | * | * | * | * | * | * | * | * | * | * | ⋯ | * | * | * | * | * | * | * | * | * | * |\n",
       "| 79  ( 1 ) | * | * | * | * | * | * | * | * | * | * | ⋯ | * | * | * | * | * | * | * | * | * | * |\n",
       "| 80  ( 1 ) | * | * | * | * | * | * | * | * | * | * | ⋯ | * | * | * | * | * | * | * | * | * | * |\n",
       "| 81  ( 1 ) | * | * | * | * | * | * | * | * | * | * | ⋯ | * | * | * | * | * | * | * | * | * | * |\n",
       "| 82  ( 1 ) | * | * | * | * | * | * | * | * | * | * | ⋯ | * | * | * | * | * | * | * | * | * | * |\n",
       "| 83  ( 1 ) | * | * | * | * | * | * | * | * | * | * | ⋯ | * | * | * | * | * | * | * | * | * | * |\n",
       "| 84  ( 1 ) | * | * | * | * | * | * | * | * | * | * | ⋯ | * | * | * | * | * | * | * | * | * | * |\n",
       "| 85  ( 1 ) | * | * | * | * | * | * | * | * | * | * | ⋯ | * | * | * | * | * | * | * | * | * | * |\n",
       "\n"
      ],
      "text/plain": [
       "          V1 V2 V3 V4 V5 V6 V7 V8 V9 V10 ⋯ V76 V77 V78 V79 V80 V81 V82 V83 V84\n",
       "1  ( 1 )                                 ⋯                                    \n",
       "2  ( 1 )                                 ⋯                         *          \n",
       "3  ( 1 )                                 ⋯                         *          \n",
       "4  ( 1 )                                 ⋯                         *          \n",
       "5  ( 1 )                                 ⋯                         *          \n",
       "6  ( 1 )                             *   ⋯                         *          \n",
       "7  ( 1 )                             *   ⋯                         *          \n",
       "8  ( 1 )                             *   ⋯                         *          \n",
       "9  ( 1 )                             *   ⋯                         *          \n",
       "10  ( 1 )                            *   ⋯                         *   *      \n",
       "11  ( 1 )                            *   ⋯                         *   *      \n",
       "12  ( 1 )                            *   ⋯                         *   *      \n",
       "13  ( 1 )          *                 *   ⋯                         *   *      \n",
       "14  ( 1 )          *                 *   ⋯                         *   *      \n",
       "15  ( 1 )          *                 *   ⋯                         *   *      \n",
       "16  ( 1 )          *                 *   ⋯                 *       *   *      \n",
       "17  ( 1 )          *                 *   ⋯             *   *       *   *      \n",
       "18  ( 1 )          *                 *   ⋯             *   *       *   *      \n",
       "19  ( 1 )          *        *        *   ⋯             *   *       *   *      \n",
       "20  ( 1 )          *        *        *   ⋯             *   *       *   *      \n",
       "21  ( 1 )          *        *        *   ⋯             *   *       *   *      \n",
       "22  ( 1 )          *        *        *   ⋯             *   *       *   *      \n",
       "23  ( 1 )          *        *        *   ⋯         *   *   *       *   *      \n",
       "24  ( 1 )          *        *        *   ⋯         *   *   *       *   *      \n",
       "25  ( 1 )          *        *        *   ⋯         *   *   *       *   *      \n",
       "26  ( 1 )          *        *        *   ⋯         *   *   *       *   *      \n",
       "27  ( 1 )          *        *        *   ⋯         *   *   *   *   *   *      \n",
       "28  ( 1 )          *        *        *   ⋯         *   *   *   *   *   *      \n",
       "29  ( 1 )          *        *        *   ⋯         *   *   *   *   *   *      \n",
       "30  ( 1 )          *        *        *   ⋯         *   *   *   *   *   *      \n",
       "⋮         ⋮  ⋮  ⋮  ⋮  ⋮  ⋮  ⋮  ⋮  ⋮  ⋮   ⋱ ⋮   ⋮   ⋮   ⋮   ⋮   ⋮   ⋮   ⋮   ⋮  \n",
       "56  ( 1 )    *     *     *  *  *     *   ⋯ *   *   *   *   *   *   *   *   *  \n",
       "57  ( 1 )    *     *     *  *  *     *   ⋯ *   *   *   *   *   *   *   *   *  \n",
       "58  ( 1 )    *     *     *  *  *     *   ⋯ *   *   *   *   *   *   *   *   *  \n",
       "59  ( 1 )    *     *     *  *  *     *   ⋯ *   *   *   *   *   *   *   *   *  \n",
       "60  ( 1 )    *     *     *  *  *     *   ⋯ *   *   *   *   *   *   *   *   *  \n",
       "61  ( 1 )    *     *     *  *  *  *  *   ⋯ *   *   *   *   *   *   *   *   *  \n",
       "62  ( 1 )    *     *     *  *  *  *  *   ⋯ *   *   *   *   *   *   *   *   *  \n",
       "63  ( 1 )    *     *     *  *  *  *  *   ⋯ *   *   *   *   *   *   *   *   *  \n",
       "64  ( 1 )    *     *     *  *  *  *  *   ⋯ *   *   *   *   *   *   *   *   *  \n",
       "65  ( 1 )    *     *     *  *  *  *  *   ⋯ *   *   *   *   *   *   *   *   *  \n",
       "66  ( 1 )    *     *     *  *  *  *  *   ⋯ *   *   *   *   *   *   *   *   *  \n",
       "67  ( 1 )    *     *     *  *  *  *  *   ⋯ *   *   *   *   *   *   *   *   *  \n",
       "68  ( 1 )    *     *     *  *  *  *  *   ⋯ *   *   *   *   *   *   *   *   *  \n",
       "69  ( 1 )    *     *     *  *  *  *  *   ⋯ *   *   *   *   *   *   *   *   *  \n",
       "70  ( 1 )    *     *     *  *  *  *  *   ⋯ *   *   *   *   *   *   *   *   *  \n",
       "71  ( 1 ) *  *     *     *  *  *  *  *   ⋯ *   *   *   *   *   *   *   *   *  \n",
       "72  ( 1 ) *  *     *  *  *  *  *  *  *   ⋯ *   *   *   *   *   *   *   *   *  \n",
       "73  ( 1 ) *  *     *  *  *  *  *  *  *   ⋯ *   *   *   *   *   *   *   *   *  \n",
       "74  ( 1 ) *  *  *  *  *  *  *  *  *  *   ⋯ *   *   *   *   *   *   *   *   *  \n",
       "75  ( 1 ) *  *  *  *  *  *  *  *  *  *   ⋯ *   *   *   *   *   *   *   *   *  \n",
       "76  ( 1 ) *  *  *  *  *  *  *  *  *  *   ⋯ *   *   *   *   *   *   *   *   *  \n",
       "77  ( 1 ) *  *  *  *  *  *  *  *  *  *   ⋯ *   *   *   *   *   *   *   *   *  \n",
       "78  ( 1 ) *  *  *  *  *  *  *  *  *  *   ⋯ *   *   *   *   *   *   *   *   *  \n",
       "79  ( 1 ) *  *  *  *  *  *  *  *  *  *   ⋯ *   *   *   *   *   *   *   *   *  \n",
       "80  ( 1 ) *  *  *  *  *  *  *  *  *  *   ⋯ *   *   *   *   *   *   *   *   *  \n",
       "81  ( 1 ) *  *  *  *  *  *  *  *  *  *   ⋯ *   *   *   *   *   *   *   *   *  \n",
       "82  ( 1 ) *  *  *  *  *  *  *  *  *  *   ⋯ *   *   *   *   *   *   *   *   *  \n",
       "83  ( 1 ) *  *  *  *  *  *  *  *  *  *   ⋯ *   *   *   *   *   *   *   *   *  \n",
       "84  ( 1 ) *  *  *  *  *  *  *  *  *  *   ⋯ *   *   *   *   *   *   *   *   *  \n",
       "85  ( 1 ) *  *  *  *  *  *  *  *  *  *   ⋯ *   *   *   *   *   *   *   *   *  \n",
       "          V85\n",
       "1  ( 1 )     \n",
       "2  ( 1 )     \n",
       "3  ( 1 )     \n",
       "4  ( 1 )     \n",
       "5  ( 1 )     \n",
       "6  ( 1 )     \n",
       "7  ( 1 )     \n",
       "8  ( 1 )  *  \n",
       "9  ( 1 )  *  \n",
       "10  ( 1 ) *  \n",
       "11  ( 1 ) *  \n",
       "12  ( 1 ) *  \n",
       "13  ( 1 ) *  \n",
       "14  ( 1 ) *  \n",
       "15  ( 1 ) *  \n",
       "16  ( 1 ) *  \n",
       "17  ( 1 ) *  \n",
       "18  ( 1 ) *  \n",
       "19  ( 1 ) *  \n",
       "20  ( 1 ) *  \n",
       "21  ( 1 ) *  \n",
       "22  ( 1 ) *  \n",
       "23  ( 1 ) *  \n",
       "24  ( 1 ) *  \n",
       "25  ( 1 ) *  \n",
       "26  ( 1 ) *  \n",
       "27  ( 1 ) *  \n",
       "28  ( 1 ) *  \n",
       "29  ( 1 ) *  \n",
       "30  ( 1 ) *  \n",
       "⋮         ⋮  \n",
       "56  ( 1 ) *  \n",
       "57  ( 1 ) *  \n",
       "58  ( 1 ) *  \n",
       "59  ( 1 ) *  \n",
       "60  ( 1 ) *  \n",
       "61  ( 1 ) *  \n",
       "62  ( 1 ) *  \n",
       "63  ( 1 ) *  \n",
       "64  ( 1 ) *  \n",
       "65  ( 1 ) *  \n",
       "66  ( 1 ) *  \n",
       "67  ( 1 ) *  \n",
       "68  ( 1 ) *  \n",
       "69  ( 1 ) *  \n",
       "70  ( 1 ) *  \n",
       "71  ( 1 ) *  \n",
       "72  ( 1 ) *  \n",
       "73  ( 1 ) *  \n",
       "74  ( 1 ) *  \n",
       "75  ( 1 ) *  \n",
       "76  ( 1 ) *  \n",
       "77  ( 1 ) *  \n",
       "78  ( 1 ) *  \n",
       "79  ( 1 ) *  \n",
       "80  ( 1 ) *  \n",
       "81  ( 1 ) *  \n",
       "82  ( 1 ) *  \n",
       "83  ( 1 ) *  \n",
       "84  ( 1 ) *  \n",
       "85  ( 1 ) *  "
      ]
     },
     "metadata": {},
     "output_type": "display_data"
    }
   ],
   "source": [
    "# Examining the best 'p' variable models using forward selection \n",
    "\n",
    "forward_summary$outmat"
   ]
  },
  {
   "cell_type": "code",
   "execution_count": 32,
   "id": "34292184",
   "metadata": {},
   "outputs": [
    {
     "name": "stdout",
     "output_type": "stream",
     "text": [
      "[1] \"Calculating the number of variables of best performing subset according to certain model selection measures\"\n"
     ]
    },
    {
     "data": {
      "text/html": [
       "23"
      ],
      "text/latex": [
       "23"
      ],
      "text/markdown": [
       "23"
      ],
      "text/plain": [
       "[1] 23"
      ]
     },
     "metadata": {},
     "output_type": "display_data"
    },
    {
     "data": {
      "text/html": [
       "8"
      ],
      "text/latex": [
       "8"
      ],
      "text/markdown": [
       "8"
      ],
      "text/plain": [
       "[1] 8"
      ]
     },
     "metadata": {},
     "output_type": "display_data"
    },
    {
     "data": {
      "text/html": [
       "85"
      ],
      "text/latex": [
       "85"
      ],
      "text/markdown": [
       "85"
      ],
      "text/plain": [
       "[1] 85"
      ]
     },
     "metadata": {},
     "output_type": "display_data"
    },
    {
     "data": {
      "text/html": [
       "47"
      ],
      "text/latex": [
       "47"
      ],
      "text/markdown": [
       "47"
      ],
      "text/plain": [
       "[1] 47"
      ]
     },
     "metadata": {},
     "output_type": "display_data"
    }
   ],
   "source": [
    "#Identifying the optimal models using model selection measures\n",
    "\n",
    "print(\"Calculating the number of variables of best performing subset according to certain model selection measures\")\n",
    "which(forward_summary$cp == min(forward_summary$cp))\n",
    "which(forward_summary$bic == min(forward_summary$bic)) \n",
    "which(forward_summary$rss == min(forward_summary$rss)) \n",
    "which(forward_summary$adjr2 == max(forward_summary$adjr2)) "
   ]
  },
  {
   "cell_type": "code",
   "execution_count": 33,
   "id": "c965ed1b",
   "metadata": {},
   "outputs": [
    {
     "data": {
      "text/html": [
       "<style>\n",
       ".dl-inline {width: auto; margin:0; padding: 0}\n",
       ".dl-inline>dt, .dl-inline>dd {float: none; width: auto; display: inline-block}\n",
       ".dl-inline>dt::after {content: \":\\0020\"; padding-right: .5ex}\n",
       ".dl-inline>dt:not(:first-of-type) {padding-left: .5ex}\n",
       "</style><dl class=dl-inline><dt>V1</dt><dd>' '</dd><dt>V2</dt><dd>' '</dd><dt>V3</dt><dd>' '</dd><dt>V4</dt><dd>'*'</dd><dt>V5</dt><dd>' '</dd><dt>V6</dt><dd>' '</dd><dt>V7</dt><dd>'*'</dd><dt>V8</dt><dd>' '</dd><dt>V9</dt><dd>' '</dd><dt>V10</dt><dd>'*'</dd><dt>V11</dt><dd>' '</dd><dt>V12</dt><dd>' '</dd><dt>V13</dt><dd>' '</dd><dt>V14</dt><dd>' '</dd><dt>V15</dt><dd>' '</dd><dt>V16</dt><dd>'*'</dd><dt>V17</dt><dd>' '</dd><dt>V18</dt><dd>'*'</dd><dt>V19</dt><dd>' '</dd><dt>V20</dt><dd>' '</dd><dt>V21</dt><dd>'*'</dd><dt>V22</dt><dd>' '</dd><dt>V23</dt><dd>' '</dd><dt>V24</dt><dd>' '</dd><dt>V25</dt><dd>' '</dd><dt>V26</dt><dd>' '</dd><dt>V27</dt><dd>' '</dd><dt>V28</dt><dd>' '</dd><dt>V29</dt><dd>' '</dd><dt>V30</dt><dd>' '</dd><dt>V31</dt><dd>' '</dd><dt>V32</dt><dd>' '</dd><dt>V33</dt><dd>' '</dd><dt>V34</dt><dd>' '</dd><dt>V35</dt><dd>'*'</dd><dt>V36</dt><dd>'*'</dd><dt>V37</dt><dd>' '</dd><dt>V38</dt><dd>' '</dd><dt>V39</dt><dd>' '</dd><dt>V40</dt><dd>' '</dd><dt>V41</dt><dd>'*'</dd><dt>V42</dt><dd>'*'</dd><dt>V43</dt><dd>'*'</dd><dt>V44</dt><dd>'*'</dd><dt>V45</dt><dd>' '</dd><dt>V46</dt><dd>'*'</dd><dt>V47</dt><dd>'*'</dd><dt>V48</dt><dd>' '</dd><dt>V49</dt><dd>' '</dd><dt>V50</dt><dd>' '</dd><dt>V51</dt><dd>' '</dd><dt>V52</dt><dd>' '</dd><dt>V53</dt><dd>' '</dd><dt>V54</dt><dd>' '</dd><dt>V55</dt><dd>' '</dd><dt>V56</dt><dd>' '</dd><dt>V57</dt><dd>'*'</dd><dt>V58</dt><dd>'*'</dd><dt>V59</dt><dd>'*'</dd><dt>V60</dt><dd>' '</dd><dt>V61</dt><dd>' '</dd><dt>V62</dt><dd>' '</dd><dt>V63</dt><dd>' '</dd><dt>V64</dt><dd>' '</dd><dt>V65</dt><dd>' '</dd><dt>V66</dt><dd>' '</dd><dt>V67</dt><dd>' '</dd><dt>V68</dt><dd>' '</dd><dt>V69</dt><dd>' '</dd><dt>V70</dt><dd>' '</dd><dt>V71</dt><dd>' '</dd><dt>V72</dt><dd>' '</dd><dt>V73</dt><dd>' '</dd><dt>V74</dt><dd>' '</dd><dt>V75</dt><dd>' '</dd><dt>V76</dt><dd>' '</dd><dt>V77</dt><dd>' '</dd><dt>V78</dt><dd>'*'</dd><dt>V79</dt><dd>'*'</dd><dt>V80</dt><dd>'*'</dd><dt>V81</dt><dd>' '</dd><dt>V82</dt><dd>'*'</dd><dt>V83</dt><dd>'*'</dd><dt>V84</dt><dd>' '</dd><dt>V85</dt><dd>'*'</dd></dl>\n"
      ],
      "text/latex": [
       "\\begin{description*}\n",
       "\\item[V1] ' '\n",
       "\\item[V2] ' '\n",
       "\\item[V3] ' '\n",
       "\\item[V4] '*'\n",
       "\\item[V5] ' '\n",
       "\\item[V6] ' '\n",
       "\\item[V7] '*'\n",
       "\\item[V8] ' '\n",
       "\\item[V9] ' '\n",
       "\\item[V10] '*'\n",
       "\\item[V11] ' '\n",
       "\\item[V12] ' '\n",
       "\\item[V13] ' '\n",
       "\\item[V14] ' '\n",
       "\\item[V15] ' '\n",
       "\\item[V16] '*'\n",
       "\\item[V17] ' '\n",
       "\\item[V18] '*'\n",
       "\\item[V19] ' '\n",
       "\\item[V20] ' '\n",
       "\\item[V21] '*'\n",
       "\\item[V22] ' '\n",
       "\\item[V23] ' '\n",
       "\\item[V24] ' '\n",
       "\\item[V25] ' '\n",
       "\\item[V26] ' '\n",
       "\\item[V27] ' '\n",
       "\\item[V28] ' '\n",
       "\\item[V29] ' '\n",
       "\\item[V30] ' '\n",
       "\\item[V31] ' '\n",
       "\\item[V32] ' '\n",
       "\\item[V33] ' '\n",
       "\\item[V34] ' '\n",
       "\\item[V35] '*'\n",
       "\\item[V36] '*'\n",
       "\\item[V37] ' '\n",
       "\\item[V38] ' '\n",
       "\\item[V39] ' '\n",
       "\\item[V40] ' '\n",
       "\\item[V41] '*'\n",
       "\\item[V42] '*'\n",
       "\\item[V43] '*'\n",
       "\\item[V44] '*'\n",
       "\\item[V45] ' '\n",
       "\\item[V46] '*'\n",
       "\\item[V47] '*'\n",
       "\\item[V48] ' '\n",
       "\\item[V49] ' '\n",
       "\\item[V50] ' '\n",
       "\\item[V51] ' '\n",
       "\\item[V52] ' '\n",
       "\\item[V53] ' '\n",
       "\\item[V54] ' '\n",
       "\\item[V55] ' '\n",
       "\\item[V56] ' '\n",
       "\\item[V57] '*'\n",
       "\\item[V58] '*'\n",
       "\\item[V59] '*'\n",
       "\\item[V60] ' '\n",
       "\\item[V61] ' '\n",
       "\\item[V62] ' '\n",
       "\\item[V63] ' '\n",
       "\\item[V64] ' '\n",
       "\\item[V65] ' '\n",
       "\\item[V66] ' '\n",
       "\\item[V67] ' '\n",
       "\\item[V68] ' '\n",
       "\\item[V69] ' '\n",
       "\\item[V70] ' '\n",
       "\\item[V71] ' '\n",
       "\\item[V72] ' '\n",
       "\\item[V73] ' '\n",
       "\\item[V74] ' '\n",
       "\\item[V75] ' '\n",
       "\\item[V76] ' '\n",
       "\\item[V77] ' '\n",
       "\\item[V78] '*'\n",
       "\\item[V79] '*'\n",
       "\\item[V80] '*'\n",
       "\\item[V81] ' '\n",
       "\\item[V82] '*'\n",
       "\\item[V83] '*'\n",
       "\\item[V84] ' '\n",
       "\\item[V85] '*'\n",
       "\\end{description*}\n"
      ],
      "text/markdown": [
       "V1\n",
       ":   ' 'V2\n",
       ":   ' 'V3\n",
       ":   ' 'V4\n",
       ":   '*'V5\n",
       ":   ' 'V6\n",
       ":   ' 'V7\n",
       ":   '*'V8\n",
       ":   ' 'V9\n",
       ":   ' 'V10\n",
       ":   '*'V11\n",
       ":   ' 'V12\n",
       ":   ' 'V13\n",
       ":   ' 'V14\n",
       ":   ' 'V15\n",
       ":   ' 'V16\n",
       ":   '*'V17\n",
       ":   ' 'V18\n",
       ":   '*'V19\n",
       ":   ' 'V20\n",
       ":   ' 'V21\n",
       ":   '*'V22\n",
       ":   ' 'V23\n",
       ":   ' 'V24\n",
       ":   ' 'V25\n",
       ":   ' 'V26\n",
       ":   ' 'V27\n",
       ":   ' 'V28\n",
       ":   ' 'V29\n",
       ":   ' 'V30\n",
       ":   ' 'V31\n",
       ":   ' 'V32\n",
       ":   ' 'V33\n",
       ":   ' 'V34\n",
       ":   ' 'V35\n",
       ":   '*'V36\n",
       ":   '*'V37\n",
       ":   ' 'V38\n",
       ":   ' 'V39\n",
       ":   ' 'V40\n",
       ":   ' 'V41\n",
       ":   '*'V42\n",
       ":   '*'V43\n",
       ":   '*'V44\n",
       ":   '*'V45\n",
       ":   ' 'V46\n",
       ":   '*'V47\n",
       ":   '*'V48\n",
       ":   ' 'V49\n",
       ":   ' 'V50\n",
       ":   ' 'V51\n",
       ":   ' 'V52\n",
       ":   ' 'V53\n",
       ":   ' 'V54\n",
       ":   ' 'V55\n",
       ":   ' 'V56\n",
       ":   ' 'V57\n",
       ":   '*'V58\n",
       ":   '*'V59\n",
       ":   '*'V60\n",
       ":   ' 'V61\n",
       ":   ' 'V62\n",
       ":   ' 'V63\n",
       ":   ' 'V64\n",
       ":   ' 'V65\n",
       ":   ' 'V66\n",
       ":   ' 'V67\n",
       ":   ' 'V68\n",
       ":   ' 'V69\n",
       ":   ' 'V70\n",
       ":   ' 'V71\n",
       ":   ' 'V72\n",
       ":   ' 'V73\n",
       ":   ' 'V74\n",
       ":   ' 'V75\n",
       ":   ' 'V76\n",
       ":   ' 'V77\n",
       ":   ' 'V78\n",
       ":   '*'V79\n",
       ":   '*'V80\n",
       ":   '*'V81\n",
       ":   ' 'V82\n",
       ":   '*'V83\n",
       ":   '*'V84\n",
       ":   ' 'V85\n",
       ":   '*'\n",
       "\n"
      ],
      "text/plain": [
       " V1  V2  V3  V4  V5  V6  V7  V8  V9 V10 V11 V12 V13 V14 V15 V16 V17 V18 V19 V20 \n",
       "\" \" \" \" \" \" \"*\" \" \" \" \" \"*\" \" \" \" \" \"*\" \" \" \" \" \" \" \" \" \" \" \"*\" \" \" \"*\" \" \" \" \" \n",
       "V21 V22 V23 V24 V25 V26 V27 V28 V29 V30 V31 V32 V33 V34 V35 V36 V37 V38 V39 V40 \n",
       "\"*\" \" \" \" \" \" \" \" \" \" \" \" \" \" \" \" \" \" \" \" \" \" \" \" \" \" \" \"*\" \"*\" \" \" \" \" \" \" \" \" \n",
       "V41 V42 V43 V44 V45 V46 V47 V48 V49 V50 V51 V52 V53 V54 V55 V56 V57 V58 V59 V60 \n",
       "\"*\" \"*\" \"*\" \"*\" \" \" \"*\" \"*\" \" \" \" \" \" \" \" \" \" \" \" \" \" \" \" \" \" \" \"*\" \"*\" \"*\" \" \" \n",
       "V61 V62 V63 V64 V65 V66 V67 V68 V69 V70 V71 V72 V73 V74 V75 V76 V77 V78 V79 V80 \n",
       "\" \" \" \" \" \" \" \" \" \" \" \" \" \" \" \" \" \" \" \" \" \" \" \" \" \" \" \" \" \" \" \" \" \" \"*\" \"*\" \"*\" \n",
       "V81 V82 V83 V84 V85 \n",
       "\" \" \"*\" \"*\" \" \" \"*\" "
      ]
     },
     "metadata": {},
     "output_type": "display_data"
    }
   ],
   "source": [
    "#best 23 variable subset (selected via forward selection)\n",
    "forward_summary$outmat[23, ] "
   ]
  },
  {
   "cell_type": "code",
   "execution_count": 34,
   "id": "6638d522",
   "metadata": {},
   "outputs": [
    {
     "data": {
      "text/html": [
       "<style>\n",
       ".dl-inline {width: auto; margin:0; padding: 0}\n",
       ".dl-inline>dt, .dl-inline>dd {float: none; width: auto; display: inline-block}\n",
       ".dl-inline>dt::after {content: \":\\0020\"; padding-right: .5ex}\n",
       ".dl-inline>dt:not(:first-of-type) {padding-left: .5ex}\n",
       "</style><dl class=dl-inline><dt>(Intercept)</dt><dd>0.601138904761682</dd><dt>V4</dt><dd>0.00960930214002603</dd><dt>V7</dt><dd>0.00356603487581566</dd><dt>V10</dt><dd>0.00508983441824055</dd><dt>V16</dt><dd>0.0048940385026084</dd><dt>V18</dt><dd>-0.00556383224310815</dd><dt>V21</dt><dd>-0.00855966127720788</dd><dt>V35</dt><dd>-0.0748299168741961</dd><dt>V36</dt><dd>-0.0781826417491789</dd><dt>V41</dt><dd>-0.0140899622666096</dd><dt>V42</dt><dd>0.00617512302317529</dd><dt>V43</dt><dd>0.00317808013663568</dd><dt>V44</dt><dd>0.0103281503552817</dd><dt>V46</dt><dd>-0.0160142592678363</dd><dt>V47</dt><dd>0.0103028711748965</dd><dt>V57</dt><dd>0.191534808013032</dd><dt>V58</dt><dd>0.0621013010504129</dd><dt>V59</dt><dd>0.0132498661906397</dd><dt>V78</dt><dd>-0.40555682224929</dd><dt>V79</dt><dd>-0.220446131902269</dd><dt>V80</dt><dd>-0.0218925772956851</dd><dt>V82</dt><dd>0.283548603876119</dd><dt>V83</dt><dd>0.037377965226743</dd><dt>V85</dt><dd>0.0701204123292275</dd></dl>\n"
      ],
      "text/latex": [
       "\\begin{description*}\n",
       "\\item[(Intercept)] 0.601138904761682\n",
       "\\item[V4] 0.00960930214002603\n",
       "\\item[V7] 0.00356603487581566\n",
       "\\item[V10] 0.00508983441824055\n",
       "\\item[V16] 0.0048940385026084\n",
       "\\item[V18] -0.00556383224310815\n",
       "\\item[V21] -0.00855966127720788\n",
       "\\item[V35] -0.0748299168741961\n",
       "\\item[V36] -0.0781826417491789\n",
       "\\item[V41] -0.0140899622666096\n",
       "\\item[V42] 0.00617512302317529\n",
       "\\item[V43] 0.00317808013663568\n",
       "\\item[V44] 0.0103281503552817\n",
       "\\item[V46] -0.0160142592678363\n",
       "\\item[V47] 0.0103028711748965\n",
       "\\item[V57] 0.191534808013032\n",
       "\\item[V58] 0.0621013010504129\n",
       "\\item[V59] 0.0132498661906397\n",
       "\\item[V78] -0.40555682224929\n",
       "\\item[V79] -0.220446131902269\n",
       "\\item[V80] -0.0218925772956851\n",
       "\\item[V82] 0.283548603876119\n",
       "\\item[V83] 0.037377965226743\n",
       "\\item[V85] 0.0701204123292275\n",
       "\\end{description*}\n"
      ],
      "text/markdown": [
       "(Intercept)\n",
       ":   0.601138904761682V4\n",
       ":   0.00960930214002603V7\n",
       ":   0.00356603487581566V10\n",
       ":   0.00508983441824055V16\n",
       ":   0.0048940385026084V18\n",
       ":   -0.00556383224310815V21\n",
       ":   -0.00855966127720788V35\n",
       ":   -0.0748299168741961V36\n",
       ":   -0.0781826417491789V41\n",
       ":   -0.0140899622666096V42\n",
       ":   0.00617512302317529V43\n",
       ":   0.00317808013663568V44\n",
       ":   0.0103281503552817V46\n",
       ":   -0.0160142592678363V47\n",
       ":   0.0103028711748965V57\n",
       ":   0.191534808013032V58\n",
       ":   0.0621013010504129V59\n",
       ":   0.0132498661906397V78\n",
       ":   -0.40555682224929V79\n",
       ":   -0.220446131902269V80\n",
       ":   -0.0218925772956851V82\n",
       ":   0.283548603876119V83\n",
       ":   0.037377965226743V85\n",
       ":   0.0701204123292275\n",
       "\n"
      ],
      "text/plain": [
       " (Intercept)           V4           V7          V10          V16          V18 \n",
       " 0.601138905  0.009609302  0.003566035  0.005089834  0.004894039 -0.005563832 \n",
       "         V21          V35          V36          V41          V42          V43 \n",
       "-0.008559661 -0.074829917 -0.078182642 -0.014089962  0.006175123  0.003178080 \n",
       "         V44          V46          V47          V57          V58          V59 \n",
       " 0.010328150 -0.016014259  0.010302871  0.191534808  0.062101301  0.013249866 \n",
       "         V78          V79          V80          V82          V83          V85 \n",
       "-0.405556822 -0.220446132 -0.021892577  0.283548604  0.037377965  0.070120412 "
      ]
     },
     "metadata": {},
     "output_type": "display_data"
    }
   ],
   "source": [
    "#OLS estimates for the best 23 variable subset (selected via forward selection)\n",
    "coef(regfit_forward, 23)"
   ]
  },
  {
   "cell_type": "code",
   "execution_count": 35,
   "id": "d3997b14",
   "metadata": {},
   "outputs": [],
   "source": [
    "#Backward Subset Selection\n",
    "regfit_backward <- regsubsets(V86~., nbest = 1, data = training_set, method = \"backward\", nvmax = 85)"
   ]
  },
  {
   "cell_type": "code",
   "execution_count": 36,
   "id": "3f8ee1fd",
   "metadata": {},
   "outputs": [],
   "source": [
    "backward_summary<- summary(regfit_backward)"
   ]
  },
  {
   "cell_type": "code",
   "execution_count": 37,
   "id": "db531832",
   "metadata": {},
   "outputs": [
    {
     "data": {
      "text/html": [
       "<style>\n",
       ".list-inline {list-style: none; margin:0; padding: 0}\n",
       ".list-inline>li {display: inline-block}\n",
       ".list-inline>li:not(:last-child)::after {content: \"\\00b7\"; padding: 0 .5ex}\n",
       "</style>\n",
       "<ol class=list-inline><li>'which'</li><li>'rsq'</li><li>'rss'</li><li>'adjr2'</li><li>'cp'</li><li>'bic'</li><li>'outmat'</li><li>'obj'</li></ol>\n"
      ],
      "text/latex": [
       "\\begin{enumerate*}\n",
       "\\item 'which'\n",
       "\\item 'rsq'\n",
       "\\item 'rss'\n",
       "\\item 'adjr2'\n",
       "\\item 'cp'\n",
       "\\item 'bic'\n",
       "\\item 'outmat'\n",
       "\\item 'obj'\n",
       "\\end{enumerate*}\n"
      ],
      "text/markdown": [
       "1. 'which'\n",
       "2. 'rsq'\n",
       "3. 'rss'\n",
       "4. 'adjr2'\n",
       "5. 'cp'\n",
       "6. 'bic'\n",
       "7. 'outmat'\n",
       "8. 'obj'\n",
       "\n",
       "\n"
      ],
      "text/plain": [
       "[1] \"which\"  \"rsq\"    \"rss\"    \"adjr2\"  \"cp\"     \"bic\"    \"outmat\" \"obj\"   "
      ]
     },
     "metadata": {},
     "output_type": "display_data"
    }
   ],
   "source": [
    "names(backward_summary)"
   ]
  },
  {
   "cell_type": "code",
   "execution_count": 38,
   "id": "85f38135",
   "metadata": {},
   "outputs": [
    {
     "data": {
      "image/png": "[encoded data removed]",
      "text/plain": [
       "plot without title"
      ]
     },
     "metadata": {
      "image/png": {
       "height": 420,
       "width": 420
      }
     },
     "output_type": "display_data"
    }
   ],
   "source": [
    "# plotting model selection measures of forward selection\n",
    "\n",
    "par(mfrow = c(2,2))\n",
    "plot(backward_summary$cp, xlab = \"Number of Variables\", ylab = \"CP\") #Mallows CP\n",
    "plot(backward_summary$bic, xlab = \"Number of Variables\", ylab = \"BIC\") #Bayes Information Criterion\n",
    "plot(backward_summary$rss, xlab = \"Number of Variables\", ylab = \"RSS\") #Residual Sum of Squares\n",
    "plot(backward_summary$adjr2, xlab = \"Number of Variables\", ylab = \"Adjusted R^2\") #Adjusted R Square"
   ]
  },
  {
   "cell_type": "code",
   "execution_count": 39,
   "id": "cbe4d45b",
   "metadata": {},
   "outputs": [
    {
     "data": {
      "text/html": [
       "<table class=\"dataframe\">\n",
       "<caption>A matrix: 85 × 85 of type chr</caption>\n",
       "<thead>\n",
       "\t<tr><th></th><th scope=col>V1</th><th scope=col>V2</th><th scope=col>V3</th><th scope=col>V4</th><th scope=col>V5</th><th scope=col>V6</th><th scope=col>V7</th><th scope=col>V8</th><th scope=col>V9</th><th scope=col>V10</th><th scope=col>⋯</th><th scope=col>V76</th><th scope=col>V77</th><th scope=col>V78</th><th scope=col>V79</th><th scope=col>V80</th><th scope=col>V81</th><th scope=col>V82</th><th scope=col>V83</th><th scope=col>V84</th><th scope=col>V85</th></tr>\n",
       "</thead>\n",
       "<tbody>\n",
       "\t<tr><th scope=row>1  ( 1 )</th><td> </td><td> </td><td> </td><td> </td><td> </td><td> </td><td> </td><td> </td><td> </td><td> </td><td>⋯</td><td> </td><td> </td><td> </td><td> </td><td> </td><td> </td><td> </td><td> </td><td> </td><td> </td></tr>\n",
       "\t<tr><th scope=row>2  ( 1 )</th><td> </td><td> </td><td> </td><td> </td><td> </td><td> </td><td> </td><td> </td><td> </td><td> </td><td>⋯</td><td> </td><td> </td><td> </td><td> </td><td> </td><td> </td><td>*</td><td> </td><td> </td><td> </td></tr>\n",
       "\t<tr><th scope=row>3  ( 1 )</th><td> </td><td> </td><td> </td><td> </td><td> </td><td> </td><td> </td><td> </td><td> </td><td> </td><td>⋯</td><td> </td><td> </td><td> </td><td> </td><td> </td><td> </td><td>*</td><td> </td><td> </td><td> </td></tr>\n",
       "\t<tr><th scope=row>4  ( 1 )</th><td> </td><td> </td><td> </td><td> </td><td> </td><td> </td><td> </td><td> </td><td> </td><td> </td><td>⋯</td><td> </td><td> </td><td> </td><td> </td><td> </td><td> </td><td>*</td><td> </td><td> </td><td> </td></tr>\n",
       "\t<tr><th scope=row>5  ( 1 )</th><td> </td><td> </td><td> </td><td> </td><td> </td><td> </td><td> </td><td> </td><td> </td><td>*</td><td>⋯</td><td> </td><td> </td><td> </td><td> </td><td> </td><td> </td><td>*</td><td> </td><td> </td><td> </td></tr>\n",
       "\t<tr><th scope=row>6  ( 1 )</th><td> </td><td> </td><td> </td><td> </td><td> </td><td> </td><td> </td><td> </td><td> </td><td>*</td><td>⋯</td><td> </td><td> </td><td> </td><td> </td><td> </td><td> </td><td>*</td><td> </td><td> </td><td> </td></tr>\n",
       "\t<tr><th scope=row>7  ( 1 )</th><td> </td><td> </td><td> </td><td> </td><td> </td><td> </td><td> </td><td> </td><td> </td><td>*</td><td>⋯</td><td> </td><td> </td><td> </td><td> </td><td> </td><td> </td><td>*</td><td> </td><td> </td><td>*</td></tr>\n",
       "\t<tr><th scope=row>8  ( 1 )</th><td> </td><td> </td><td> </td><td> </td><td> </td><td> </td><td> </td><td> </td><td> </td><td>*</td><td>⋯</td><td> </td><td> </td><td> </td><td> </td><td> </td><td> </td><td>*</td><td> </td><td> </td><td>*</td></tr>\n",
       "\t<tr><th scope=row>9  ( 1 )</th><td> </td><td> </td><td> </td><td> </td><td> </td><td> </td><td> </td><td> </td><td> </td><td>*</td><td>⋯</td><td> </td><td> </td><td> </td><td> </td><td> </td><td> </td><td>*</td><td>*</td><td> </td><td>*</td></tr>\n",
       "\t<tr><th scope=row>10  ( 1 )</th><td> </td><td> </td><td> </td><td> </td><td> </td><td> </td><td> </td><td> </td><td> </td><td>*</td><td>⋯</td><td>*</td><td> </td><td> </td><td> </td><td> </td><td> </td><td>*</td><td>*</td><td> </td><td>*</td></tr>\n",
       "\t<tr><th scope=row>11  ( 1 )</th><td> </td><td> </td><td> </td><td> </td><td> </td><td> </td><td> </td><td> </td><td> </td><td>*</td><td>⋯</td><td>*</td><td> </td><td> </td><td> </td><td> </td><td> </td><td>*</td><td>*</td><td> </td><td>*</td></tr>\n",
       "\t<tr><th scope=row>12  ( 1 )</th><td> </td><td> </td><td> </td><td> </td><td> </td><td> </td><td> </td><td> </td><td> </td><td>*</td><td>⋯</td><td>*</td><td> </td><td> </td><td> </td><td> </td><td> </td><td>*</td><td>*</td><td> </td><td>*</td></tr>\n",
       "\t<tr><th scope=row>13  ( 1 )</th><td> </td><td> </td><td> </td><td> </td><td> </td><td> </td><td> </td><td> </td><td> </td><td>*</td><td>⋯</td><td>*</td><td> </td><td> </td><td> </td><td> </td><td> </td><td>*</td><td>*</td><td> </td><td>*</td></tr>\n",
       "\t<tr><th scope=row>14  ( 1 )</th><td> </td><td> </td><td> </td><td> </td><td> </td><td> </td><td> </td><td> </td><td> </td><td>*</td><td>⋯</td><td>*</td><td> </td><td> </td><td> </td><td> </td><td> </td><td>*</td><td>*</td><td> </td><td>*</td></tr>\n",
       "\t<tr><th scope=row>15  ( 1 )</th><td> </td><td> </td><td> </td><td> </td><td> </td><td> </td><td> </td><td> </td><td> </td><td>*</td><td>⋯</td><td>*</td><td> </td><td> </td><td> </td><td> </td><td> </td><td>*</td><td>*</td><td> </td><td>*</td></tr>\n",
       "\t<tr><th scope=row>16  ( 1 )</th><td> </td><td> </td><td> </td><td>*</td><td> </td><td> </td><td> </td><td> </td><td> </td><td>*</td><td>⋯</td><td>*</td><td> </td><td> </td><td> </td><td> </td><td> </td><td>*</td><td>*</td><td> </td><td>*</td></tr>\n",
       "\t<tr><th scope=row>17  ( 1 )</th><td> </td><td> </td><td> </td><td>*</td><td> </td><td> </td><td> </td><td> </td><td> </td><td>*</td><td>⋯</td><td>*</td><td> </td><td> </td><td> </td><td> </td><td> </td><td>*</td><td>*</td><td> </td><td>*</td></tr>\n",
       "\t<tr><th scope=row>18  ( 1 )</th><td> </td><td> </td><td> </td><td>*</td><td> </td><td> </td><td> </td><td> </td><td> </td><td>*</td><td>⋯</td><td>*</td><td> </td><td>*</td><td> </td><td> </td><td> </td><td>*</td><td>*</td><td> </td><td>*</td></tr>\n",
       "\t<tr><th scope=row>19  ( 1 )</th><td> </td><td> </td><td> </td><td>*</td><td> </td><td> </td><td> </td><td> </td><td> </td><td>*</td><td>⋯</td><td>*</td><td> </td><td>*</td><td> </td><td> </td><td> </td><td>*</td><td>*</td><td> </td><td>*</td></tr>\n",
       "\t<tr><th scope=row>20  ( 1 )</th><td> </td><td> </td><td> </td><td>*</td><td> </td><td> </td><td> </td><td> </td><td> </td><td>*</td><td>⋯</td><td>*</td><td> </td><td>*</td><td> </td><td>*</td><td> </td><td>*</td><td>*</td><td> </td><td>*</td></tr>\n",
       "\t<tr><th scope=row>21  ( 1 )</th><td> </td><td> </td><td> </td><td>*</td><td> </td><td> </td><td> </td><td> </td><td> </td><td>*</td><td>⋯</td><td>*</td><td> </td><td>*</td><td> </td><td>*</td><td> </td><td>*</td><td>*</td><td> </td><td>*</td></tr>\n",
       "\t<tr><th scope=row>22  ( 1 )</th><td> </td><td> </td><td> </td><td>*</td><td> </td><td> </td><td> </td><td> </td><td> </td><td>*</td><td>⋯</td><td>*</td><td> </td><td>*</td><td> </td><td>*</td><td> </td><td>*</td><td>*</td><td>*</td><td>*</td></tr>\n",
       "\t<tr><th scope=row>23  ( 1 )</th><td> </td><td> </td><td> </td><td>*</td><td> </td><td> </td><td> </td><td> </td><td> </td><td>*</td><td>⋯</td><td>*</td><td> </td><td>*</td><td> </td><td>*</td><td> </td><td>*</td><td>*</td><td>*</td><td>*</td></tr>\n",
       "\t<tr><th scope=row>24  ( 1 )</th><td> </td><td> </td><td> </td><td>*</td><td> </td><td> </td><td> </td><td> </td><td> </td><td>*</td><td>⋯</td><td>*</td><td> </td><td>*</td><td>*</td><td>*</td><td> </td><td>*</td><td>*</td><td>*</td><td>*</td></tr>\n",
       "\t<tr><th scope=row>25  ( 1 )</th><td> </td><td> </td><td> </td><td>*</td><td> </td><td> </td><td> </td><td> </td><td> </td><td>*</td><td>⋯</td><td>*</td><td> </td><td>*</td><td>*</td><td>*</td><td> </td><td>*</td><td>*</td><td>*</td><td>*</td></tr>\n",
       "\t<tr><th scope=row>26  ( 1 )</th><td> </td><td> </td><td> </td><td>*</td><td> </td><td> </td><td> </td><td> </td><td> </td><td>*</td><td>⋯</td><td>*</td><td> </td><td>*</td><td>*</td><td>*</td><td> </td><td>*</td><td>*</td><td>*</td><td>*</td></tr>\n",
       "\t<tr><th scope=row>27  ( 1 )</th><td> </td><td> </td><td> </td><td>*</td><td> </td><td> </td><td> </td><td> </td><td> </td><td>*</td><td>⋯</td><td>*</td><td> </td><td>*</td><td>*</td><td>*</td><td> </td><td>*</td><td>*</td><td>*</td><td>*</td></tr>\n",
       "\t<tr><th scope=row>28  ( 1 )</th><td> </td><td> </td><td> </td><td>*</td><td> </td><td> </td><td> </td><td> </td><td> </td><td>*</td><td>⋯</td><td>*</td><td> </td><td>*</td><td>*</td><td>*</td><td> </td><td>*</td><td>*</td><td>*</td><td>*</td></tr>\n",
       "\t<tr><th scope=row>29  ( 1 )</th><td> </td><td> </td><td> </td><td>*</td><td> </td><td>*</td><td> </td><td> </td><td> </td><td>*</td><td>⋯</td><td>*</td><td> </td><td>*</td><td>*</td><td>*</td><td> </td><td>*</td><td>*</td><td>*</td><td>*</td></tr>\n",
       "\t<tr><th scope=row>30  ( 1 )</th><td> </td><td> </td><td> </td><td>*</td><td> </td><td>*</td><td> </td><td> </td><td> </td><td>*</td><td>⋯</td><td>*</td><td> </td><td>*</td><td>*</td><td>*</td><td> </td><td>*</td><td>*</td><td>*</td><td>*</td></tr>\n",
       "\t<tr><th scope=row>⋮</th><td>⋮</td><td>⋮</td><td>⋮</td><td>⋮</td><td>⋮</td><td>⋮</td><td>⋮</td><td>⋮</td><td>⋮</td><td>⋮</td><td>⋱</td><td>⋮</td><td>⋮</td><td>⋮</td><td>⋮</td><td>⋮</td><td>⋮</td><td>⋮</td><td>⋮</td><td>⋮</td><td>⋮</td></tr>\n",
       "\t<tr><th scope=row>56  ( 1 )</th><td>*</td><td>*</td><td> </td><td>*</td><td>*</td><td>*</td><td> </td><td> </td><td>*</td><td>*</td><td>⋯</td><td>*</td><td> </td><td>*</td><td>*</td><td>*</td><td>*</td><td>*</td><td>*</td><td>*</td><td>*</td></tr>\n",
       "\t<tr><th scope=row>57  ( 1 )</th><td>*</td><td>*</td><td> </td><td>*</td><td>*</td><td>*</td><td> </td><td> </td><td>*</td><td>*</td><td>⋯</td><td>*</td><td> </td><td>*</td><td>*</td><td>*</td><td>*</td><td>*</td><td>*</td><td>*</td><td>*</td></tr>\n",
       "\t<tr><th scope=row>58  ( 1 )</th><td>*</td><td>*</td><td> </td><td>*</td><td>*</td><td>*</td><td> </td><td> </td><td>*</td><td>*</td><td>⋯</td><td>*</td><td> </td><td>*</td><td>*</td><td>*</td><td>*</td><td>*</td><td>*</td><td>*</td><td>*</td></tr>\n",
       "\t<tr><th scope=row>59  ( 1 )</th><td>*</td><td>*</td><td> </td><td>*</td><td>*</td><td>*</td><td> </td><td> </td><td>*</td><td>*</td><td>⋯</td><td>*</td><td> </td><td>*</td><td>*</td><td>*</td><td>*</td><td>*</td><td>*</td><td>*</td><td>*</td></tr>\n",
       "\t<tr><th scope=row>60  ( 1 )</th><td>*</td><td>*</td><td> </td><td>*</td><td>*</td><td>*</td><td> </td><td> </td><td>*</td><td>*</td><td>⋯</td><td>*</td><td> </td><td>*</td><td>*</td><td>*</td><td>*</td><td>*</td><td>*</td><td>*</td><td>*</td></tr>\n",
       "\t<tr><th scope=row>61  ( 1 )</th><td>*</td><td>*</td><td> </td><td>*</td><td>*</td><td>*</td><td> </td><td> </td><td>*</td><td>*</td><td>⋯</td><td>*</td><td> </td><td>*</td><td>*</td><td>*</td><td>*</td><td>*</td><td>*</td><td>*</td><td>*</td></tr>\n",
       "\t<tr><th scope=row>62  ( 1 )</th><td>*</td><td>*</td><td> </td><td>*</td><td>*</td><td>*</td><td> </td><td> </td><td>*</td><td>*</td><td>⋯</td><td>*</td><td> </td><td>*</td><td>*</td><td>*</td><td>*</td><td>*</td><td>*</td><td>*</td><td>*</td></tr>\n",
       "\t<tr><th scope=row>63  ( 1 )</th><td>*</td><td>*</td><td> </td><td>*</td><td>*</td><td>*</td><td> </td><td> </td><td>*</td><td>*</td><td>⋯</td><td>*</td><td> </td><td>*</td><td>*</td><td>*</td><td>*</td><td>*</td><td>*</td><td>*</td><td>*</td></tr>\n",
       "\t<tr><th scope=row>64  ( 1 )</th><td>*</td><td>*</td><td> </td><td>*</td><td>*</td><td>*</td><td> </td><td> </td><td>*</td><td>*</td><td>⋯</td><td>*</td><td>*</td><td>*</td><td>*</td><td>*</td><td>*</td><td>*</td><td>*</td><td>*</td><td>*</td></tr>\n",
       "\t<tr><th scope=row>65  ( 1 )</th><td>*</td><td>*</td><td> </td><td>*</td><td>*</td><td>*</td><td> </td><td> </td><td>*</td><td>*</td><td>⋯</td><td>*</td><td>*</td><td>*</td><td>*</td><td>*</td><td>*</td><td>*</td><td>*</td><td>*</td><td>*</td></tr>\n",
       "\t<tr><th scope=row>66  ( 1 )</th><td>*</td><td>*</td><td> </td><td>*</td><td>*</td><td>*</td><td> </td><td> </td><td>*</td><td>*</td><td>⋯</td><td>*</td><td>*</td><td>*</td><td>*</td><td>*</td><td>*</td><td>*</td><td>*</td><td>*</td><td>*</td></tr>\n",
       "\t<tr><th scope=row>67  ( 1 )</th><td>*</td><td>*</td><td> </td><td>*</td><td>*</td><td>*</td><td> </td><td> </td><td>*</td><td>*</td><td>⋯</td><td>*</td><td>*</td><td>*</td><td>*</td><td>*</td><td>*</td><td>*</td><td>*</td><td>*</td><td>*</td></tr>\n",
       "\t<tr><th scope=row>68  ( 1 )</th><td>*</td><td>*</td><td> </td><td>*</td><td>*</td><td>*</td><td> </td><td> </td><td>*</td><td>*</td><td>⋯</td><td>*</td><td>*</td><td>*</td><td>*</td><td>*</td><td>*</td><td>*</td><td>*</td><td>*</td><td>*</td></tr>\n",
       "\t<tr><th scope=row>69  ( 1 )</th><td>*</td><td>*</td><td> </td><td>*</td><td>*</td><td>*</td><td> </td><td> </td><td>*</td><td>*</td><td>⋯</td><td>*</td><td>*</td><td>*</td><td>*</td><td>*</td><td>*</td><td>*</td><td>*</td><td>*</td><td>*</td></tr>\n",
       "\t<tr><th scope=row>70  ( 1 )</th><td>*</td><td>*</td><td> </td><td>*</td><td>*</td><td>*</td><td> </td><td> </td><td>*</td><td>*</td><td>⋯</td><td>*</td><td>*</td><td>*</td><td>*</td><td>*</td><td>*</td><td>*</td><td>*</td><td>*</td><td>*</td></tr>\n",
       "\t<tr><th scope=row>71  ( 1 )</th><td>*</td><td>*</td><td> </td><td>*</td><td>*</td><td>*</td><td> </td><td> </td><td>*</td><td>*</td><td>⋯</td><td>*</td><td>*</td><td>*</td><td>*</td><td>*</td><td>*</td><td>*</td><td>*</td><td>*</td><td>*</td></tr>\n",
       "\t<tr><th scope=row>72  ( 1 )</th><td>*</td><td>*</td><td> </td><td>*</td><td>*</td><td>*</td><td> </td><td> </td><td>*</td><td>*</td><td>⋯</td><td>*</td><td>*</td><td>*</td><td>*</td><td>*</td><td>*</td><td>*</td><td>*</td><td>*</td><td>*</td></tr>\n",
       "\t<tr><th scope=row>73  ( 1 )</th><td>*</td><td>*</td><td> </td><td>*</td><td>*</td><td>*</td><td> </td><td> </td><td>*</td><td>*</td><td>⋯</td><td>*</td><td>*</td><td>*</td><td>*</td><td>*</td><td>*</td><td>*</td><td>*</td><td>*</td><td>*</td></tr>\n",
       "\t<tr><th scope=row>74  ( 1 )</th><td>*</td><td>*</td><td> </td><td>*</td><td>*</td><td>*</td><td> </td><td> </td><td>*</td><td>*</td><td>⋯</td><td>*</td><td>*</td><td>*</td><td>*</td><td>*</td><td>*</td><td>*</td><td>*</td><td>*</td><td>*</td></tr>\n",
       "\t<tr><th scope=row>75  ( 1 )</th><td>*</td><td>*</td><td> </td><td>*</td><td>*</td><td>*</td><td> </td><td> </td><td>*</td><td>*</td><td>⋯</td><td>*</td><td>*</td><td>*</td><td>*</td><td>*</td><td>*</td><td>*</td><td>*</td><td>*</td><td>*</td></tr>\n",
       "\t<tr><th scope=row>76  ( 1 )</th><td>*</td><td>*</td><td> </td><td>*</td><td>*</td><td>*</td><td> </td><td> </td><td>*</td><td>*</td><td>⋯</td><td>*</td><td>*</td><td>*</td><td>*</td><td>*</td><td>*</td><td>*</td><td>*</td><td>*</td><td>*</td></tr>\n",
       "\t<tr><th scope=row>77  ( 1 )</th><td>*</td><td>*</td><td>*</td><td>*</td><td>*</td><td>*</td><td> </td><td> </td><td>*</td><td>*</td><td>⋯</td><td>*</td><td>*</td><td>*</td><td>*</td><td>*</td><td>*</td><td>*</td><td>*</td><td>*</td><td>*</td></tr>\n",
       "\t<tr><th scope=row>78  ( 1 )</th><td>*</td><td>*</td><td>*</td><td>*</td><td>*</td><td>*</td><td> </td><td>*</td><td>*</td><td>*</td><td>⋯</td><td>*</td><td>*</td><td>*</td><td>*</td><td>*</td><td>*</td><td>*</td><td>*</td><td>*</td><td>*</td></tr>\n",
       "\t<tr><th scope=row>79  ( 1 )</th><td>*</td><td>*</td><td>*</td><td>*</td><td>*</td><td>*</td><td> </td><td>*</td><td>*</td><td>*</td><td>⋯</td><td>*</td><td>*</td><td>*</td><td>*</td><td>*</td><td>*</td><td>*</td><td>*</td><td>*</td><td>*</td></tr>\n",
       "\t<tr><th scope=row>80  ( 1 )</th><td>*</td><td>*</td><td>*</td><td>*</td><td>*</td><td>*</td><td> </td><td>*</td><td>*</td><td>*</td><td>⋯</td><td>*</td><td>*</td><td>*</td><td>*</td><td>*</td><td>*</td><td>*</td><td>*</td><td>*</td><td>*</td></tr>\n",
       "\t<tr><th scope=row>81  ( 1 )</th><td>*</td><td>*</td><td>*</td><td>*</td><td>*</td><td>*</td><td> </td><td>*</td><td>*</td><td>*</td><td>⋯</td><td>*</td><td>*</td><td>*</td><td>*</td><td>*</td><td>*</td><td>*</td><td>*</td><td>*</td><td>*</td></tr>\n",
       "\t<tr><th scope=row>82  ( 1 )</th><td>*</td><td>*</td><td>*</td><td>*</td><td>*</td><td>*</td><td> </td><td>*</td><td>*</td><td>*</td><td>⋯</td><td>*</td><td>*</td><td>*</td><td>*</td><td>*</td><td>*</td><td>*</td><td>*</td><td>*</td><td>*</td></tr>\n",
       "\t<tr><th scope=row>83  ( 1 )</th><td>*</td><td>*</td><td>*</td><td>*</td><td>*</td><td>*</td><td>*</td><td>*</td><td>*</td><td>*</td><td>⋯</td><td>*</td><td>*</td><td>*</td><td>*</td><td>*</td><td>*</td><td>*</td><td>*</td><td>*</td><td>*</td></tr>\n",
       "\t<tr><th scope=row>84  ( 1 )</th><td>*</td><td>*</td><td>*</td><td>*</td><td>*</td><td>*</td><td>*</td><td>*</td><td>*</td><td>*</td><td>⋯</td><td>*</td><td>*</td><td>*</td><td>*</td><td>*</td><td>*</td><td>*</td><td>*</td><td>*</td><td>*</td></tr>\n",
       "\t<tr><th scope=row>85  ( 1 )</th><td>*</td><td>*</td><td>*</td><td>*</td><td>*</td><td>*</td><td>*</td><td>*</td><td>*</td><td>*</td><td>⋯</td><td>*</td><td>*</td><td>*</td><td>*</td><td>*</td><td>*</td><td>*</td><td>*</td><td>*</td><td>*</td></tr>\n",
       "</tbody>\n",
       "</table>\n"
      ],
      "text/latex": [
       "A matrix: 85 × 85 of type chr\n",
       "\\begin{tabular}{r|lllllllllllllllllllll}\n",
       "  & V1 & V2 & V3 & V4 & V5 & V6 & V7 & V8 & V9 & V10 & ⋯ & V76 & V77 & V78 & V79 & V80 & V81 & V82 & V83 & V84 & V85\\\\\n",
       "\\hline\n",
       "\t1  ( 1 ) &   &   &   &   &   &   &   &   &   &   & ⋯ &   &   &   &   &   &   &   &   &   &  \\\\\n",
       "\t2  ( 1 ) &   &   &   &   &   &   &   &   &   &   & ⋯ &   &   &   &   &   &   & * &   &   &  \\\\\n",
       "\t3  ( 1 ) &   &   &   &   &   &   &   &   &   &   & ⋯ &   &   &   &   &   &   & * &   &   &  \\\\\n",
       "\t4  ( 1 ) &   &   &   &   &   &   &   &   &   &   & ⋯ &   &   &   &   &   &   & * &   &   &  \\\\\n",
       "\t5  ( 1 ) &   &   &   &   &   &   &   &   &   & * & ⋯ &   &   &   &   &   &   & * &   &   &  \\\\\n",
       "\t6  ( 1 ) &   &   &   &   &   &   &   &   &   & * & ⋯ &   &   &   &   &   &   & * &   &   &  \\\\\n",
       "\t7  ( 1 ) &   &   &   &   &   &   &   &   &   & * & ⋯ &   &   &   &   &   &   & * &   &   & *\\\\\n",
       "\t8  ( 1 ) &   &   &   &   &   &   &   &   &   & * & ⋯ &   &   &   &   &   &   & * &   &   & *\\\\\n",
       "\t9  ( 1 ) &   &   &   &   &   &   &   &   &   & * & ⋯ &   &   &   &   &   &   & * & * &   & *\\\\\n",
       "\t10  ( 1 ) &   &   &   &   &   &   &   &   &   & * & ⋯ & * &   &   &   &   &   & * & * &   & *\\\\\n",
       "\t11  ( 1 ) &   &   &   &   &   &   &   &   &   & * & ⋯ & * &   &   &   &   &   & * & * &   & *\\\\\n",
       "\t12  ( 1 ) &   &   &   &   &   &   &   &   &   & * & ⋯ & * &   &   &   &   &   & * & * &   & *\\\\\n",
       "\t13  ( 1 ) &   &   &   &   &   &   &   &   &   & * & ⋯ & * &   &   &   &   &   & * & * &   & *\\\\\n",
       "\t14  ( 1 ) &   &   &   &   &   &   &   &   &   & * & ⋯ & * &   &   &   &   &   & * & * &   & *\\\\\n",
       "\t15  ( 1 ) &   &   &   &   &   &   &   &   &   & * & ⋯ & * &   &   &   &   &   & * & * &   & *\\\\\n",
       "\t16  ( 1 ) &   &   &   & * &   &   &   &   &   & * & ⋯ & * &   &   &   &   &   & * & * &   & *\\\\\n",
       "\t17  ( 1 ) &   &   &   & * &   &   &   &   &   & * & ⋯ & * &   &   &   &   &   & * & * &   & *\\\\\n",
       "\t18  ( 1 ) &   &   &   & * &   &   &   &   &   & * & ⋯ & * &   & * &   &   &   & * & * &   & *\\\\\n",
       "\t19  ( 1 ) &   &   &   & * &   &   &   &   &   & * & ⋯ & * &   & * &   &   &   & * & * &   & *\\\\\n",
       "\t20  ( 1 ) &   &   &   & * &   &   &   &   &   & * & ⋯ & * &   & * &   & * &   & * & * &   & *\\\\\n",
       "\t21  ( 1 ) &   &   &   & * &   &   &   &   &   & * & ⋯ & * &   & * &   & * &   & * & * &   & *\\\\\n",
       "\t22  ( 1 ) &   &   &   & * &   &   &   &   &   & * & ⋯ & * &   & * &   & * &   & * & * & * & *\\\\\n",
       "\t23  ( 1 ) &   &   &   & * &   &   &   &   &   & * & ⋯ & * &   & * &   & * &   & * & * & * & *\\\\\n",
       "\t24  ( 1 ) &   &   &   & * &   &   &   &   &   & * & ⋯ & * &   & * & * & * &   & * & * & * & *\\\\\n",
       "\t25  ( 1 ) &   &   &   & * &   &   &   &   &   & * & ⋯ & * &   & * & * & * &   & * & * & * & *\\\\\n",
       "\t26  ( 1 ) &   &   &   & * &   &   &   &   &   & * & ⋯ & * &   & * & * & * &   & * & * & * & *\\\\\n",
       "\t27  ( 1 ) &   &   &   & * &   &   &   &   &   & * & ⋯ & * &   & * & * & * &   & * & * & * & *\\\\\n",
       "\t28  ( 1 ) &   &   &   & * &   &   &   &   &   & * & ⋯ & * &   & * & * & * &   & * & * & * & *\\\\\n",
       "\t29  ( 1 ) &   &   &   & * &   & * &   &   &   & * & ⋯ & * &   & * & * & * &   & * & * & * & *\\\\\n",
       "\t30  ( 1 ) &   &   &   & * &   & * &   &   &   & * & ⋯ & * &   & * & * & * &   & * & * & * & *\\\\\n",
       "\t⋮ & ⋮ & ⋮ & ⋮ & ⋮ & ⋮ & ⋮ & ⋮ & ⋮ & ⋮ & ⋮ & ⋱ & ⋮ & ⋮ & ⋮ & ⋮ & ⋮ & ⋮ & ⋮ & ⋮ & ⋮ & ⋮\\\\\n",
       "\t56  ( 1 ) & * & * &   & * & * & * &   &   & * & * & ⋯ & * &   & * & * & * & * & * & * & * & *\\\\\n",
       "\t57  ( 1 ) & * & * &   & * & * & * &   &   & * & * & ⋯ & * &   & * & * & * & * & * & * & * & *\\\\\n",
       "\t58  ( 1 ) & * & * &   & * & * & * &   &   & * & * & ⋯ & * &   & * & * & * & * & * & * & * & *\\\\\n",
       "\t59  ( 1 ) & * & * &   & * & * & * &   &   & * & * & ⋯ & * &   & * & * & * & * & * & * & * & *\\\\\n",
       "\t60  ( 1 ) & * & * &   & * & * & * &   &   & * & * & ⋯ & * &   & * & * & * & * & * & * & * & *\\\\\n",
       "\t61  ( 1 ) & * & * &   & * & * & * &   &   & * & * & ⋯ & * &   & * & * & * & * & * & * & * & *\\\\\n",
       "\t62  ( 1 ) & * & * &   & * & * & * &   &   & * & * & ⋯ & * &   & * & * & * & * & * & * & * & *\\\\\n",
       "\t63  ( 1 ) & * & * &   & * & * & * &   &   & * & * & ⋯ & * &   & * & * & * & * & * & * & * & *\\\\\n",
       "\t64  ( 1 ) & * & * &   & * & * & * &   &   & * & * & ⋯ & * & * & * & * & * & * & * & * & * & *\\\\\n",
       "\t65  ( 1 ) & * & * &   & * & * & * &   &   & * & * & ⋯ & * & * & * & * & * & * & * & * & * & *\\\\\n",
       "\t66  ( 1 ) & * & * &   & * & * & * &   &   & * & * & ⋯ & * & * & * & * & * & * & * & * & * & *\\\\\n",
       "\t67  ( 1 ) & * & * &   & * & * & * &   &   & * & * & ⋯ & * & * & * & * & * & * & * & * & * & *\\\\\n",
       "\t68  ( 1 ) & * & * &   & * & * & * &   &   & * & * & ⋯ & * & * & * & * & * & * & * & * & * & *\\\\\n",
       "\t69  ( 1 ) & * & * &   & * & * & * &   &   & * & * & ⋯ & * & * & * & * & * & * & * & * & * & *\\\\\n",
       "\t70  ( 1 ) & * & * &   & * & * & * &   &   & * & * & ⋯ & * & * & * & * & * & * & * & * & * & *\\\\\n",
       "\t71  ( 1 ) & * & * &   & * & * & * &   &   & * & * & ⋯ & * & * & * & * & * & * & * & * & * & *\\\\\n",
       "\t72  ( 1 ) & * & * &   & * & * & * &   &   & * & * & ⋯ & * & * & * & * & * & * & * & * & * & *\\\\\n",
       "\t73  ( 1 ) & * & * &   & * & * & * &   &   & * & * & ⋯ & * & * & * & * & * & * & * & * & * & *\\\\\n",
       "\t74  ( 1 ) & * & * &   & * & * & * &   &   & * & * & ⋯ & * & * & * & * & * & * & * & * & * & *\\\\\n",
       "\t75  ( 1 ) & * & * &   & * & * & * &   &   & * & * & ⋯ & * & * & * & * & * & * & * & * & * & *\\\\\n",
       "\t76  ( 1 ) & * & * &   & * & * & * &   &   & * & * & ⋯ & * & * & * & * & * & * & * & * & * & *\\\\\n",
       "\t77  ( 1 ) & * & * & * & * & * & * &   &   & * & * & ⋯ & * & * & * & * & * & * & * & * & * & *\\\\\n",
       "\t78  ( 1 ) & * & * & * & * & * & * &   & * & * & * & ⋯ & * & * & * & * & * & * & * & * & * & *\\\\\n",
       "\t79  ( 1 ) & * & * & * & * & * & * &   & * & * & * & ⋯ & * & * & * & * & * & * & * & * & * & *\\\\\n",
       "\t80  ( 1 ) & * & * & * & * & * & * &   & * & * & * & ⋯ & * & * & * & * & * & * & * & * & * & *\\\\\n",
       "\t81  ( 1 ) & * & * & * & * & * & * &   & * & * & * & ⋯ & * & * & * & * & * & * & * & * & * & *\\\\\n",
       "\t82  ( 1 ) & * & * & * & * & * & * &   & * & * & * & ⋯ & * & * & * & * & * & * & * & * & * & *\\\\\n",
       "\t83  ( 1 ) & * & * & * & * & * & * & * & * & * & * & ⋯ & * & * & * & * & * & * & * & * & * & *\\\\\n",
       "\t84  ( 1 ) & * & * & * & * & * & * & * & * & * & * & ⋯ & * & * & * & * & * & * & * & * & * & *\\\\\n",
       "\t85  ( 1 ) & * & * & * & * & * & * & * & * & * & * & ⋯ & * & * & * & * & * & * & * & * & * & *\\\\\n",
       "\\end{tabular}\n"
      ],
      "text/markdown": [
       "\n",
       "A matrix: 85 × 85 of type chr\n",
       "\n",
       "| <!--/--> | V1 | V2 | V3 | V4 | V5 | V6 | V7 | V8 | V9 | V10 | ⋯ | V76 | V77 | V78 | V79 | V80 | V81 | V82 | V83 | V84 | V85 |\n",
       "|---|---|---|---|---|---|---|---|---|---|---|---|---|---|---|---|---|---|---|---|---|---|\n",
       "| 1  ( 1 ) | <!----> | <!----> | <!----> | <!----> | <!----> | <!----> | <!----> | <!----> | <!----> | <!----> | ⋯ | <!----> | <!----> | <!----> | <!----> | <!----> | <!----> | <!----> | <!----> | <!----> | <!----> |\n",
       "| 2  ( 1 ) | <!----> | <!----> | <!----> | <!----> | <!----> | <!----> | <!----> | <!----> | <!----> | <!----> | ⋯ | <!----> | <!----> | <!----> | <!----> | <!----> | <!----> | * | <!----> | <!----> | <!----> |\n",
       "| 3  ( 1 ) | <!----> | <!----> | <!----> | <!----> | <!----> | <!----> | <!----> | <!----> | <!----> | <!----> | ⋯ | <!----> | <!----> | <!----> | <!----> | <!----> | <!----> | * | <!----> | <!----> | <!----> |\n",
       "| 4  ( 1 ) | <!----> | <!----> | <!----> | <!----> | <!----> | <!----> | <!----> | <!----> | <!----> | <!----> | ⋯ | <!----> | <!----> | <!----> | <!----> | <!----> | <!----> | * | <!----> | <!----> | <!----> |\n",
       "| 5  ( 1 ) | <!----> | <!----> | <!----> | <!----> | <!----> | <!----> | <!----> | <!----> | <!----> | * | ⋯ | <!----> | <!----> | <!----> | <!----> | <!----> | <!----> | * | <!----> | <!----> | <!----> |\n",
       "| 6  ( 1 ) | <!----> | <!----> | <!----> | <!----> | <!----> | <!----> | <!----> | <!----> | <!----> | * | ⋯ | <!----> | <!----> | <!----> | <!----> | <!----> | <!----> | * | <!----> | <!----> | <!----> |\n",
       "| 7  ( 1 ) | <!----> | <!----> | <!----> | <!----> | <!----> | <!----> | <!----> | <!----> | <!----> | * | ⋯ | <!----> | <!----> | <!----> | <!----> | <!----> | <!----> | * | <!----> | <!----> | * |\n",
       "| 8  ( 1 ) | <!----> | <!----> | <!----> | <!----> | <!----> | <!----> | <!----> | <!----> | <!----> | * | ⋯ | <!----> | <!----> | <!----> | <!----> | <!----> | <!----> | * | <!----> | <!----> | * |\n",
       "| 9  ( 1 ) | <!----> | <!----> | <!----> | <!----> | <!----> | <!----> | <!----> | <!----> | <!----> | * | ⋯ | <!----> | <!----> | <!----> | <!----> | <!----> | <!----> | * | * | <!----> | * |\n",
       "| 10  ( 1 ) | <!----> | <!----> | <!----> | <!----> | <!----> | <!----> | <!----> | <!----> | <!----> | * | ⋯ | * | <!----> | <!----> | <!----> | <!----> | <!----> | * | * | <!----> | * |\n",
       "| 11  ( 1 ) | <!----> | <!----> | <!----> | <!----> | <!----> | <!----> | <!----> | <!----> | <!----> | * | ⋯ | * | <!----> | <!----> | <!----> | <!----> | <!----> | * | * | <!----> | * |\n",
       "| 12  ( 1 ) | <!----> | <!----> | <!----> | <!----> | <!----> | <!----> | <!----> | <!----> | <!----> | * | ⋯ | * | <!----> | <!----> | <!----> | <!----> | <!----> | * | * | <!----> | * |\n",
       "| 13  ( 1 ) | <!----> | <!----> | <!----> | <!----> | <!----> | <!----> | <!----> | <!----> | <!----> | * | ⋯ | * | <!----> | <!----> | <!----> | <!----> | <!----> | * | * | <!----> | * |\n",
       "| 14  ( 1 ) | <!----> | <!----> | <!----> | <!----> | <!----> | <!----> | <!----> | <!----> | <!----> | * | ⋯ | * | <!----> | <!----> | <!----> | <!----> | <!----> | * | * | <!----> | * |\n",
       "| 15  ( 1 ) | <!----> | <!----> | <!----> | <!----> | <!----> | <!----> | <!----> | <!----> | <!----> | * | ⋯ | * | <!----> | <!----> | <!----> | <!----> | <!----> | * | * | <!----> | * |\n",
       "| 16  ( 1 ) | <!----> | <!----> | <!----> | * | <!----> | <!----> | <!----> | <!----> | <!----> | * | ⋯ | * | <!----> | <!----> | <!----> | <!----> | <!----> | * | * | <!----> | * |\n",
       "| 17  ( 1 ) | <!----> | <!----> | <!----> | * | <!----> | <!----> | <!----> | <!----> | <!----> | * | ⋯ | * | <!----> | <!----> | <!----> | <!----> | <!----> | * | * | <!----> | * |\n",
       "| 18  ( 1 ) | <!----> | <!----> | <!----> | * | <!----> | <!----> | <!----> | <!----> | <!----> | * | ⋯ | * | <!----> | * | <!----> | <!----> | <!----> | * | * | <!----> | * |\n",
       "| 19  ( 1 ) | <!----> | <!----> | <!----> | * | <!----> | <!----> | <!----> | <!----> | <!----> | * | ⋯ | * | <!----> | * | <!----> | <!----> | <!----> | * | * | <!----> | * |\n",
       "| 20  ( 1 ) | <!----> | <!----> | <!----> | * | <!----> | <!----> | <!----> | <!----> | <!----> | * | ⋯ | * | <!----> | * | <!----> | * | <!----> | * | * | <!----> | * |\n",
       "| 21  ( 1 ) | <!----> | <!----> | <!----> | * | <!----> | <!----> | <!----> | <!----> | <!----> | * | ⋯ | * | <!----> | * | <!----> | * | <!----> | * | * | <!----> | * |\n",
       "| 22  ( 1 ) | <!----> | <!----> | <!----> | * | <!----> | <!----> | <!----> | <!----> | <!----> | * | ⋯ | * | <!----> | * | <!----> | * | <!----> | * | * | * | * |\n",
       "| 23  ( 1 ) | <!----> | <!----> | <!----> | * | <!----> | <!----> | <!----> | <!----> | <!----> | * | ⋯ | * | <!----> | * | <!----> | * | <!----> | * | * | * | * |\n",
       "| 24  ( 1 ) | <!----> | <!----> | <!----> | * | <!----> | <!----> | <!----> | <!----> | <!----> | * | ⋯ | * | <!----> | * | * | * | <!----> | * | * | * | * |\n",
       "| 25  ( 1 ) | <!----> | <!----> | <!----> | * | <!----> | <!----> | <!----> | <!----> | <!----> | * | ⋯ | * | <!----> | * | * | * | <!----> | * | * | * | * |\n",
       "| 26  ( 1 ) | <!----> | <!----> | <!----> | * | <!----> | <!----> | <!----> | <!----> | <!----> | * | ⋯ | * | <!----> | * | * | * | <!----> | * | * | * | * |\n",
       "| 27  ( 1 ) | <!----> | <!----> | <!----> | * | <!----> | <!----> | <!----> | <!----> | <!----> | * | ⋯ | * | <!----> | * | * | * | <!----> | * | * | * | * |\n",
       "| 28  ( 1 ) | <!----> | <!----> | <!----> | * | <!----> | <!----> | <!----> | <!----> | <!----> | * | ⋯ | * | <!----> | * | * | * | <!----> | * | * | * | * |\n",
       "| 29  ( 1 ) | <!----> | <!----> | <!----> | * | <!----> | * | <!----> | <!----> | <!----> | * | ⋯ | * | <!----> | * | * | * | <!----> | * | * | * | * |\n",
       "| 30  ( 1 ) | <!----> | <!----> | <!----> | * | <!----> | * | <!----> | <!----> | <!----> | * | ⋯ | * | <!----> | * | * | * | <!----> | * | * | * | * |\n",
       "| ⋮ | ⋮ | ⋮ | ⋮ | ⋮ | ⋮ | ⋮ | ⋮ | ⋮ | ⋮ | ⋮ | ⋱ | ⋮ | ⋮ | ⋮ | ⋮ | ⋮ | ⋮ | ⋮ | ⋮ | ⋮ | ⋮ |\n",
       "| 56  ( 1 ) | * | * | <!----> | * | * | * | <!----> | <!----> | * | * | ⋯ | * | <!----> | * | * | * | * | * | * | * | * |\n",
       "| 57  ( 1 ) | * | * | <!----> | * | * | * | <!----> | <!----> | * | * | ⋯ | * | <!----> | * | * | * | * | * | * | * | * |\n",
       "| 58  ( 1 ) | * | * | <!----> | * | * | * | <!----> | <!----> | * | * | ⋯ | * | <!----> | * | * | * | * | * | * | * | * |\n",
       "| 59  ( 1 ) | * | * | <!----> | * | * | * | <!----> | <!----> | * | * | ⋯ | * | <!----> | * | * | * | * | * | * | * | * |\n",
       "| 60  ( 1 ) | * | * | <!----> | * | * | * | <!----> | <!----> | * | * | ⋯ | * | <!----> | * | * | * | * | * | * | * | * |\n",
       "| 61  ( 1 ) | * | * | <!----> | * | * | * | <!----> | <!----> | * | * | ⋯ | * | <!----> | * | * | * | * | * | * | * | * |\n",
       "| 62  ( 1 ) | * | * | <!----> | * | * | * | <!----> | <!----> | * | * | ⋯ | * | <!----> | * | * | * | * | * | * | * | * |\n",
       "| 63  ( 1 ) | * | * | <!----> | * | * | * | <!----> | <!----> | * | * | ⋯ | * | <!----> | * | * | * | * | * | * | * | * |\n",
       "| 64  ( 1 ) | * | * | <!----> | * | * | * | <!----> | <!----> | * | * | ⋯ | * | * | * | * | * | * | * | * | * | * |\n",
       "| 65  ( 1 ) | * | * | <!----> | * | * | * | <!----> | <!----> | * | * | ⋯ | * | * | * | * | * | * | * | * | * | * |\n",
       "| 66  ( 1 ) | * | * | <!----> | * | * | * | <!----> | <!----> | * | * | ⋯ | * | * | * | * | * | * | * | * | * | * |\n",
       "| 67  ( 1 ) | * | * | <!----> | * | * | * | <!----> | <!----> | * | * | ⋯ | * | * | * | * | * | * | * | * | * | * |\n",
       "| 68  ( 1 ) | * | * | <!----> | * | * | * | <!----> | <!----> | * | * | ⋯ | * | * | * | * | * | * | * | * | * | * |\n",
       "| 69  ( 1 ) | * | * | <!----> | * | * | * | <!----> | <!----> | * | * | ⋯ | * | * | * | * | * | * | * | * | * | * |\n",
       "| 70  ( 1 ) | * | * | <!----> | * | * | * | <!----> | <!----> | * | * | ⋯ | * | * | * | * | * | * | * | * | * | * |\n",
       "| 71  ( 1 ) | * | * | <!----> | * | * | * | <!----> | <!----> | * | * | ⋯ | * | * | * | * | * | * | * | * | * | * |\n",
       "| 72  ( 1 ) | * | * | <!----> | * | * | * | <!----> | <!----> | * | * | ⋯ | * | * | * | * | * | * | * | * | * | * |\n",
       "| 73  ( 1 ) | * | * | <!----> | * | * | * | <!----> | <!----> | * | * | ⋯ | * | * | * | * | * | * | * | * | * | * |\n",
       "| 74  ( 1 ) | * | * | <!----> | * | * | * | <!----> | <!----> | * | * | ⋯ | * | * | * | * | * | * | * | * | * | * |\n",
       "| 75  ( 1 ) | * | * | <!----> | * | * | * | <!----> | <!----> | * | * | ⋯ | * | * | * | * | * | * | * | * | * | * |\n",
       "| 76  ( 1 ) | * | * | <!----> | * | * | * | <!----> | <!----> | * | * | ⋯ | * | * | * | * | * | * | * | * | * | * |\n",
       "| 77  ( 1 ) | * | * | * | * | * | * | <!----> | <!----> | * | * | ⋯ | * | * | * | * | * | * | * | * | * | * |\n",
       "| 78  ( 1 ) | * | * | * | * | * | * | <!----> | * | * | * | ⋯ | * | * | * | * | * | * | * | * | * | * |\n",
       "| 79  ( 1 ) | * | * | * | * | * | * | <!----> | * | * | * | ⋯ | * | * | * | * | * | * | * | * | * | * |\n",
       "| 80  ( 1 ) | * | * | * | * | * | * | <!----> | * | * | * | ⋯ | * | * | * | * | * | * | * | * | * | * |\n",
       "| 81  ( 1 ) | * | * | * | * | * | * | <!----> | * | * | * | ⋯ | * | * | * | * | * | * | * | * | * | * |\n",
       "| 82  ( 1 ) | * | * | * | * | * | * | <!----> | * | * | * | ⋯ | * | * | * | * | * | * | * | * | * | * |\n",
       "| 83  ( 1 ) | * | * | * | * | * | * | * | * | * | * | ⋯ | * | * | * | * | * | * | * | * | * | * |\n",
       "| 84  ( 1 ) | * | * | * | * | * | * | * | * | * | * | ⋯ | * | * | * | * | * | * | * | * | * | * |\n",
       "| 85  ( 1 ) | * | * | * | * | * | * | * | * | * | * | ⋯ | * | * | * | * | * | * | * | * | * | * |\n",
       "\n"
      ],
      "text/plain": [
       "          V1 V2 V3 V4 V5 V6 V7 V8 V9 V10 ⋯ V76 V77 V78 V79 V80 V81 V82 V83 V84\n",
       "1  ( 1 )                                 ⋯                                    \n",
       "2  ( 1 )                                 ⋯                         *          \n",
       "3  ( 1 )                                 ⋯                         *          \n",
       "4  ( 1 )                                 ⋯                         *          \n",
       "5  ( 1 )                             *   ⋯                         *          \n",
       "6  ( 1 )                             *   ⋯                         *          \n",
       "7  ( 1 )                             *   ⋯                         *          \n",
       "8  ( 1 )                             *   ⋯                         *          \n",
       "9  ( 1 )                             *   ⋯                         *   *      \n",
       "10  ( 1 )                            *   ⋯ *                       *   *      \n",
       "11  ( 1 )                            *   ⋯ *                       *   *      \n",
       "12  ( 1 )                            *   ⋯ *                       *   *      \n",
       "13  ( 1 )                            *   ⋯ *                       *   *      \n",
       "14  ( 1 )                            *   ⋯ *                       *   *      \n",
       "15  ( 1 )                            *   ⋯ *                       *   *      \n",
       "16  ( 1 )          *                 *   ⋯ *                       *   *      \n",
       "17  ( 1 )          *                 *   ⋯ *                       *   *      \n",
       "18  ( 1 )          *                 *   ⋯ *       *               *   *      \n",
       "19  ( 1 )          *                 *   ⋯ *       *               *   *      \n",
       "20  ( 1 )          *                 *   ⋯ *       *       *       *   *      \n",
       "21  ( 1 )          *                 *   ⋯ *       *       *       *   *      \n",
       "22  ( 1 )          *                 *   ⋯ *       *       *       *   *   *  \n",
       "23  ( 1 )          *                 *   ⋯ *       *       *       *   *   *  \n",
       "24  ( 1 )          *                 *   ⋯ *       *   *   *       *   *   *  \n",
       "25  ( 1 )          *                 *   ⋯ *       *   *   *       *   *   *  \n",
       "26  ( 1 )          *                 *   ⋯ *       *   *   *       *   *   *  \n",
       "27  ( 1 )          *                 *   ⋯ *       *   *   *       *   *   *  \n",
       "28  ( 1 )          *                 *   ⋯ *       *   *   *       *   *   *  \n",
       "29  ( 1 )          *     *           *   ⋯ *       *   *   *       *   *   *  \n",
       "30  ( 1 )          *     *           *   ⋯ *       *   *   *       *   *   *  \n",
       "⋮         ⋮  ⋮  ⋮  ⋮  ⋮  ⋮  ⋮  ⋮  ⋮  ⋮   ⋱ ⋮   ⋮   ⋮   ⋮   ⋮   ⋮   ⋮   ⋮   ⋮  \n",
       "56  ( 1 ) *  *     *  *  *        *  *   ⋯ *       *   *   *   *   *   *   *  \n",
       "57  ( 1 ) *  *     *  *  *        *  *   ⋯ *       *   *   *   *   *   *   *  \n",
       "58  ( 1 ) *  *     *  *  *        *  *   ⋯ *       *   *   *   *   *   *   *  \n",
       "59  ( 1 ) *  *     *  *  *        *  *   ⋯ *       *   *   *   *   *   *   *  \n",
       "60  ( 1 ) *  *     *  *  *        *  *   ⋯ *       *   *   *   *   *   *   *  \n",
       "61  ( 1 ) *  *     *  *  *        *  *   ⋯ *       *   *   *   *   *   *   *  \n",
       "62  ( 1 ) *  *     *  *  *        *  *   ⋯ *       *   *   *   *   *   *   *  \n",
       "63  ( 1 ) *  *     *  *  *        *  *   ⋯ *       *   *   *   *   *   *   *  \n",
       "64  ( 1 ) *  *     *  *  *        *  *   ⋯ *   *   *   *   *   *   *   *   *  \n",
       "65  ( 1 ) *  *     *  *  *        *  *   ⋯ *   *   *   *   *   *   *   *   *  \n",
       "66  ( 1 ) *  *     *  *  *        *  *   ⋯ *   *   *   *   *   *   *   *   *  \n",
       "67  ( 1 ) *  *     *  *  *        *  *   ⋯ *   *   *   *   *   *   *   *   *  \n",
       "68  ( 1 ) *  *     *  *  *        *  *   ⋯ *   *   *   *   *   *   *   *   *  \n",
       "69  ( 1 ) *  *     *  *  *        *  *   ⋯ *   *   *   *   *   *   *   *   *  \n",
       "70  ( 1 ) *  *     *  *  *        *  *   ⋯ *   *   *   *   *   *   *   *   *  \n",
       "71  ( 1 ) *  *     *  *  *        *  *   ⋯ *   *   *   *   *   *   *   *   *  \n",
       "72  ( 1 ) *  *     *  *  *        *  *   ⋯ *   *   *   *   *   *   *   *   *  \n",
       "73  ( 1 ) *  *     *  *  *        *  *   ⋯ *   *   *   *   *   *   *   *   *  \n",
       "74  ( 1 ) *  *     *  *  *        *  *   ⋯ *   *   *   *   *   *   *   *   *  \n",
       "75  ( 1 ) *  *     *  *  *        *  *   ⋯ *   *   *   *   *   *   *   *   *  \n",
       "76  ( 1 ) *  *     *  *  *        *  *   ⋯ *   *   *   *   *   *   *   *   *  \n",
       "77  ( 1 ) *  *  *  *  *  *        *  *   ⋯ *   *   *   *   *   *   *   *   *  \n",
       "78  ( 1 ) *  *  *  *  *  *     *  *  *   ⋯ *   *   *   *   *   *   *   *   *  \n",
       "79  ( 1 ) *  *  *  *  *  *     *  *  *   ⋯ *   *   *   *   *   *   *   *   *  \n",
       "80  ( 1 ) *  *  *  *  *  *     *  *  *   ⋯ *   *   *   *   *   *   *   *   *  \n",
       "81  ( 1 ) *  *  *  *  *  *     *  *  *   ⋯ *   *   *   *   *   *   *   *   *  \n",
       "82  ( 1 ) *  *  *  *  *  *     *  *  *   ⋯ *   *   *   *   *   *   *   *   *  \n",
       "83  ( 1 ) *  *  *  *  *  *  *  *  *  *   ⋯ *   *   *   *   *   *   *   *   *  \n",
       "84  ( 1 ) *  *  *  *  *  *  *  *  *  *   ⋯ *   *   *   *   *   *   *   *   *  \n",
       "85  ( 1 ) *  *  *  *  *  *  *  *  *  *   ⋯ *   *   *   *   *   *   *   *   *  \n",
       "          V85\n",
       "1  ( 1 )     \n",
       "2  ( 1 )     \n",
       "3  ( 1 )     \n",
       "4  ( 1 )     \n",
       "5  ( 1 )     \n",
       "6  ( 1 )     \n",
       "7  ( 1 )  *  \n",
       "8  ( 1 )  *  \n",
       "9  ( 1 )  *  \n",
       "10  ( 1 ) *  \n",
       "11  ( 1 ) *  \n",
       "12  ( 1 ) *  \n",
       "13  ( 1 ) *  \n",
       "14  ( 1 ) *  \n",
       "15  ( 1 ) *  \n",
       "16  ( 1 ) *  \n",
       "17  ( 1 ) *  \n",
       "18  ( 1 ) *  \n",
       "19  ( 1 ) *  \n",
       "20  ( 1 ) *  \n",
       "21  ( 1 ) *  \n",
       "22  ( 1 ) *  \n",
       "23  ( 1 ) *  \n",
       "24  ( 1 ) *  \n",
       "25  ( 1 ) *  \n",
       "26  ( 1 ) *  \n",
       "27  ( 1 ) *  \n",
       "28  ( 1 ) *  \n",
       "29  ( 1 ) *  \n",
       "30  ( 1 ) *  \n",
       "⋮         ⋮  \n",
       "56  ( 1 ) *  \n",
       "57  ( 1 ) *  \n",
       "58  ( 1 ) *  \n",
       "59  ( 1 ) *  \n",
       "60  ( 1 ) *  \n",
       "61  ( 1 ) *  \n",
       "62  ( 1 ) *  \n",
       "63  ( 1 ) *  \n",
       "64  ( 1 ) *  \n",
       "65  ( 1 ) *  \n",
       "66  ( 1 ) *  \n",
       "67  ( 1 ) *  \n",
       "68  ( 1 ) *  \n",
       "69  ( 1 ) *  \n",
       "70  ( 1 ) *  \n",
       "71  ( 1 ) *  \n",
       "72  ( 1 ) *  \n",
       "73  ( 1 ) *  \n",
       "74  ( 1 ) *  \n",
       "75  ( 1 ) *  \n",
       "76  ( 1 ) *  \n",
       "77  ( 1 ) *  \n",
       "78  ( 1 ) *  \n",
       "79  ( 1 ) *  \n",
       "80  ( 1 ) *  \n",
       "81  ( 1 ) *  \n",
       "82  ( 1 ) *  \n",
       "83  ( 1 ) *  \n",
       "84  ( 1 ) *  \n",
       "85  ( 1 ) *  "
      ]
     },
     "metadata": {},
     "output_type": "display_data"
    }
   ],
   "source": [
    "backward_summary$outmat"
   ]
  },
  {
   "cell_type": "code",
   "execution_count": 40,
   "id": "6b910643",
   "metadata": {},
   "outputs": [
    {
     "data": {
      "text/html": [
       "<style>\n",
       ".dl-inline {width: auto; margin:0; padding: 0}\n",
       ".dl-inline>dt, .dl-inline>dd {float: none; width: auto; display: inline-block}\n",
       ".dl-inline>dt::after {content: \":\\0020\"; padding-right: .5ex}\n",
       ".dl-inline>dt:not(:first-of-type) {padding-left: .5ex}\n",
       "</style><dl class=dl-inline><dt>(Intercept)</dt><dd>0.625880433301418</dd><dt>V4</dt><dd>0.0105571131382716</dd><dt>V6</dt><dd>-0.00458041206475502</dd><dt>V10</dt><dd>0.00474164944480646</dd><dt>V17</dt><dd>-0.00688523572544399</dd><dt>V18</dt><dd>-0.0131574296715484</dd><dt>V21</dt><dd>-0.00767969572405327</dd><dt>V22</dt><dd>0.00318159763505442</dd><dt>V28</dt><dd>0.00334166028597108</dd><dt>V30</dt><dd>-0.0025422310526846</dd><dt>V35</dt><dd>-0.068207078632743</dd><dt>V36</dt><dd>-0.0702340214536405</dd><dt>V41</dt><dd>-0.0136132112542899</dd><dt>V42</dt><dd>0.00572036160671768</dd><dt>V44</dt><dd>0.0103372429597373</dd><dt>V46</dt><dd>-0.0162134751594655</dd><dt>V47</dt><dd>0.0103340827642604</dd><dt>V55</dt><dd>-0.0167870899520877</dd><dt>V57</dt><dd>0.195199280013924</dd><dt>V58</dt><dd>0.0626713914084347</dd><dt>V59</dt><dd>0.0128296564425908</dd><dt>V63</dt><dd>-0.0490588782500653</dd><dt>V76</dt><dd>0.0394482406203105</dd><dt>V78</dt><dd>-0.411354128519197</dd><dt>V79</dt><dd>-0.221856162721949</dd><dt>V80</dt><dd>-0.0212897263732727</dd><dt>V82</dt><dd>0.284396710782612</dd><dt>V83</dt><dd>0.0363966460768674</dd><dt>V84</dt><dd>0.110993313546737</dd><dt>V85</dt><dd>0.0730788935293407</dd></dl>\n"
      ],
      "text/latex": [
       "\\begin{description*}\n",
       "\\item[(Intercept)] 0.625880433301418\n",
       "\\item[V4] 0.0105571131382716\n",
       "\\item[V6] -0.00458041206475502\n",
       "\\item[V10] 0.00474164944480646\n",
       "\\item[V17] -0.00688523572544399\n",
       "\\item[V18] -0.0131574296715484\n",
       "\\item[V21] -0.00767969572405327\n",
       "\\item[V22] 0.00318159763505442\n",
       "\\item[V28] 0.00334166028597108\n",
       "\\item[V30] -0.0025422310526846\n",
       "\\item[V35] -0.068207078632743\n",
       "\\item[V36] -0.0702340214536405\n",
       "\\item[V41] -0.0136132112542899\n",
       "\\item[V42] 0.00572036160671768\n",
       "\\item[V44] 0.0103372429597373\n",
       "\\item[V46] -0.0162134751594655\n",
       "\\item[V47] 0.0103340827642604\n",
       "\\item[V55] -0.0167870899520877\n",
       "\\item[V57] 0.195199280013924\n",
       "\\item[V58] 0.0626713914084347\n",
       "\\item[V59] 0.0128296564425908\n",
       "\\item[V63] -0.0490588782500653\n",
       "\\item[V76] 0.0394482406203105\n",
       "\\item[V78] -0.411354128519197\n",
       "\\item[V79] -0.221856162721949\n",
       "\\item[V80] -0.0212897263732727\n",
       "\\item[V82] 0.284396710782612\n",
       "\\item[V83] 0.0363966460768674\n",
       "\\item[V84] 0.110993313546737\n",
       "\\item[V85] 0.0730788935293407\n",
       "\\end{description*}\n"
      ],
      "text/markdown": [
       "(Intercept)\n",
       ":   0.625880433301418V4\n",
       ":   0.0105571131382716V6\n",
       ":   -0.00458041206475502V10\n",
       ":   0.00474164944480646V17\n",
       ":   -0.00688523572544399V18\n",
       ":   -0.0131574296715484V21\n",
       ":   -0.00767969572405327V22\n",
       ":   0.00318159763505442V28\n",
       ":   0.00334166028597108V30\n",
       ":   -0.0025422310526846V35\n",
       ":   -0.068207078632743V36\n",
       ":   -0.0702340214536405V41\n",
       ":   -0.0136132112542899V42\n",
       ":   0.00572036160671768V44\n",
       ":   0.0103372429597373V46\n",
       ":   -0.0162134751594655V47\n",
       ":   0.0103340827642604V55\n",
       ":   -0.0167870899520877V57\n",
       ":   0.195199280013924V58\n",
       ":   0.0626713914084347V59\n",
       ":   0.0128296564425908V63\n",
       ":   -0.0490588782500653V76\n",
       ":   0.0394482406203105V78\n",
       ":   -0.411354128519197V79\n",
       ":   -0.221856162721949V80\n",
       ":   -0.0212897263732727V82\n",
       ":   0.284396710782612V83\n",
       ":   0.0363966460768674V84\n",
       ":   0.110993313546737V85\n",
       ":   0.0730788935293407\n",
       "\n"
      ],
      "text/plain": [
       " (Intercept)           V4           V6          V10          V17          V18 \n",
       " 0.625880433  0.010557113 -0.004580412  0.004741649 -0.006885236 -0.013157430 \n",
       "         V21          V22          V28          V30          V35          V36 \n",
       "-0.007679696  0.003181598  0.003341660 -0.002542231 -0.068207079 -0.070234021 \n",
       "         V41          V42          V44          V46          V47          V55 \n",
       "-0.013613211  0.005720362  0.010337243 -0.016213475  0.010334083 -0.016787090 \n",
       "         V57          V58          V59          V63          V76          V78 \n",
       " 0.195199280  0.062671391  0.012829656 -0.049058878  0.039448241 -0.411354129 \n",
       "         V79          V80          V82          V83          V84          V85 \n",
       "-0.221856163 -0.021289726  0.284396711  0.036396646  0.110993314  0.073078894 "
      ]
     },
     "metadata": {},
     "output_type": "display_data"
    }
   ],
   "source": [
    "#best 29 variable subset selected via backward selection using mallows CP\n",
    "\n",
    "coef(regfit_backward, 29)"
   ]
  },
  {
   "cell_type": "code",
   "execution_count": 41,
   "id": "e08043d6",
   "metadata": {},
   "outputs": [],
   "source": [
    "predict.regsubsets = function(object, newdata, id)\n",
    "{\n",
    "    form  = as.formula(object$call[[2]])\n",
    "    mat   = model.matrix(form, newdata)\n",
    "    coefi = coef(object, id = id)\n",
    "    xvars = names(coefi)\n",
    "    mat[, xvars]%*%coefi\n",
    "}"
   ]
  },
  {
   "cell_type": "code",
   "execution_count": 42,
   "id": "d3f4eb0c",
   "metadata": {},
   "outputs": [],
   "source": [
    "#To store forward train and test errors\n",
    "\n",
    "fwd_train_errors <- matrix(rep(NA, 85))\n",
    "fwd_test_errors  <- matrix(rep(NA, 85))"
   ]
  },
  {
   "cell_type": "code",
   "execution_count": 43,
   "id": "789517fe",
   "metadata": {},
   "outputs": [],
   "source": [
    "# calculating training and testing errors of all best p models selected via forward selection\n",
    "\n",
    "for (i in 1:85) {\n",
    "    \n",
    "    y_pred_train = predict(regfit_forward, newdata = training_set, id = i)\n",
    "    y_pred_test  = predict(regfit_forward, newdata = testing_set, id = i)\n",
    "    \n",
    "    y_pred_train = ifelse(y_pred_train > 0.5, 1, 0)\n",
    "    y_pred_test  = ifelse(y_pred_test > 0.5, 1, 0)\n",
    "    \n",
    "    fwd_train_errors[i] = mean(y_pred_train != training_set[, 86])\n",
    "    fwd_test_errors[i]  = mean(y_pred_test  != testing_set[, 86])\n",
    "}"
   ]
  },
  {
   "cell_type": "code",
   "execution_count": 44,
   "id": "791535cd",
   "metadata": {},
   "outputs": [],
   "source": [
    "#To store backward train and test errors\n",
    "\n",
    "bwd_train_errors <- matrix(rep(NA, 85))\n",
    "bwd_test_errors  <- matrix(rep(NA, 85))"
   ]
  },
  {
   "cell_type": "code",
   "execution_count": 45,
   "id": "dd3fc94b",
   "metadata": {},
   "outputs": [],
   "source": [
    "# calculating training and testing errors of all best p models selected via backward selection\n",
    "\n",
    "for (i in 1:85) {\n",
    "    \n",
    "    y_pred_train = predict(regfit_backward, newdata = training_set, id = i)\n",
    "    y_pred_test  = predict(regfit_backward, newdata = testing_set, id = i)\n",
    "    \n",
    "    y_pred_train = ifelse(y_pred_train > 0.5, 1, 0)\n",
    "    y_pred_test  = ifelse(y_pred_test > 0.5, 1, 0)\n",
    "    \n",
    "    bwd_train_errors[i] = mean(y_pred_train != training_set[, 86])\n",
    "    bwd_test_errors[i]  = mean(y_pred_test  != testing_set[, 86])\n",
    "}"
   ]
  },
  {
   "cell_type": "code",
   "execution_count": 46,
   "id": "f9a6662d",
   "metadata": {},
   "outputs": [
    {
     "data": {
      "image/png": "[encoded data removed]",
      "text/plain": [
       "Plot with title “BACKWARD SELECTION”"
      ]
     },
     "metadata": {
      "image/png": {
       "height": 420,
       "width": 420
      }
     },
     "output_type": "display_data"
    }
   ],
   "source": [
    "#plotting training and testing errors\n",
    "\n",
    "par(mfrow = c(2, 1))\n",
    "\n",
    "plot(fwd_train_errors, col = \"blue\", type = \"o\", xlab = \"Number of Variables\", ylab = \"Mean Squared Error\",\n",
    "    main = \"FORWARD SELECTION\")\n",
    "lines(fwd_test_errors, col = \"red\", type = \"o\")\n",
    "\n",
    "\n",
    "plot(bwd_train_errors, col = \"blue\", type = \"o\", xlab = \"Number of Variables\", ylab = \"Mean Squared Error\",\n",
    "    main = \"BACKWARD SELECTION\")\n",
    "lines(bwd_test_errors, col = \"red\", type = \"o\")"
   ]
  },
  {
   "cell_type": "code",
   "execution_count": 55,
   "id": "be9fb795",
   "metadata": {},
   "outputs": [
    {
     "data": {
      "text/plain": [
       "\n",
       "Call:  cv.glmnet(x = as.matrix(x_training_set), y = y_training_set,      alpha = 0) \n",
       "\n",
       "Measure: Mean-Squared Error \n",
       "\n",
       "    Lambda Index Measure       SE Nonzero\n",
       "min   0.11    63 0.05353 0.002600      85\n",
       "1se  32.60     2 0.05606 0.002606      85"
      ]
     },
     "metadata": {},
     "output_type": "display_data"
    }
   ],
   "source": [
    "#Ridge Regression\n",
    "\n",
    "ridge_fit_insurance = cv.glmnet(as.matrix(x_training_set), y_training_set, alpha = 0)\n",
    "ridge_fit_insurance"
   ]
  },
  {
   "cell_type": "code",
   "execution_count": 56,
   "id": "ca9977b9",
   "metadata": {},
   "outputs": [
    {
     "data": {
      "image/png": "[encoded data removed]",
      "text/plain": [
       "plot without title"
      ]
     },
     "metadata": {
      "image/png": {
       "height": 420,
       "width": 420
      }
     },
     "output_type": "display_data"
    }
   ],
   "source": [
    "plot(ridge_fit_insurance)"
   ]
  },
  {
   "cell_type": "code",
   "execution_count": 57,
   "id": "7f41a8bf",
   "metadata": {},
   "outputs": [
    {
     "data": {
      "text/html": [
       "0.111824383045431"
      ],
      "text/latex": [
       "0.111824383045431"
      ],
      "text/markdown": [
       "0.111824383045431"
      ],
      "text/plain": [
       "[1] 0.1118244"
      ]
     },
     "metadata": {},
     "output_type": "display_data"
    }
   ],
   "source": [
    "#finding best lambda for ridge regression\n",
    "\n",
    "best_lambda_ridge = ridge_fit_insurance$lambda.min\n",
    "best_lambda_ridge"
   ]
  },
  {
   "cell_type": "code",
   "execution_count": 58,
   "id": "bc1790da",
   "metadata": {},
   "outputs": [
    {
     "data": {
      "text/plain": [
       "86 x 1 sparse Matrix of class \"dgCMatrix\"\n",
       "                       s1\n",
       "(Intercept) -3.196340e-02\n",
       "V1          -2.753259e-05\n",
       "V2          -4.450321e-03\n",
       "V3          -7.328045e-04\n",
       "V4           5.023184e-03\n",
       "V5          -4.683932e-04\n",
       "V6          -2.470581e-03\n",
       "V7           1.310684e-03\n",
       "V8           1.728589e-03\n",
       "V9          -1.206961e-03\n",
       "V10          1.482973e-03\n",
       "V11         -2.563685e-03\n",
       "V12         -4.012080e-04\n",
       "V13         -4.938140e-04\n",
       "V14         -9.263812e-04\n",
       "V15          5.712260e-04\n",
       "V16          3.781320e-03\n",
       "V17          5.792195e-04\n",
       "V18         -2.309590e-03\n",
       "V19          6.402587e-04\n",
       "V20          3.246971e-04\n",
       "V21         -5.099191e-03\n",
       "V22          2.175742e-03\n",
       "V23         -6.646076e-04\n",
       "V24          1.771682e-04\n",
       "V25          6.017910e-04\n",
       "V26         -3.312903e-04\n",
       "V27         -4.536061e-04\n",
       "V28          8.300282e-04\n",
       "V29         -1.179224e-03\n",
       "V30         -9.252265e-04\n",
       "V31          8.058020e-04\n",
       "V32          1.949192e-03\n",
       "V33          3.055772e-04\n",
       "V34         -8.346179e-04\n",
       "V35          4.542201e-04\n",
       "V36         -6.699323e-04\n",
       "V37         -2.439231e-04\n",
       "V38          7.194250e-04\n",
       "V39          1.763074e-04\n",
       "V40          2.942146e-03\n",
       "V41         -7.882299e-03\n",
       "V42          2.881173e-03\n",
       "V43          2.030383e-03\n",
       "V44          5.927629e-03\n",
       "V45         -2.036648e-03\n",
       "V46         -5.059882e-03\n",
       "V47          5.025883e-03\n",
       "V48         -8.358631e-04\n",
       "V49         -1.163805e-03\n",
       "V50         -5.000499e-03\n",
       "V51          7.586878e-03\n",
       "V52          5.216787e-05\n",
       "V53         -4.790102e-03\n",
       "V54         -4.583839e-04\n",
       "V55         -3.287930e-03\n",
       "V56         -1.137748e-03\n",
       "V57          1.775771e-02\n",
       "V58          1.277001e-02\n",
       "V59          4.601741e-03\n",
       "V60         -2.326177e-02\n",
       "V61          2.232286e-02\n",
       "V62          1.497162e-02\n",
       "V63         -1.017619e-02\n",
       "V64          7.626553e-03\n",
       "V65          7.351566e-03\n",
       "V66          1.484361e-03\n",
       "V67         -1.634368e-02\n",
       "V68          1.809460e-02\n",
       "V69         -7.453078e-03\n",
       "V70          3.040563e-03\n",
       "V71         -1.228607e-02\n",
       "V72          1.277928e-03\n",
       "V73         -8.776641e-03\n",
       "V74         -6.692748e-03\n",
       "V75         -3.445912e-03\n",
       "V76          9.705977e-03\n",
       "V77         -1.253773e-02\n",
       "V78          6.013731e-03\n",
       "V79          9.020416e-03\n",
       "V80          1.126519e-03\n",
       "V81          1.346512e-01\n",
       "V82          1.471587e-01\n",
       "V83          1.691925e-02\n",
       "V84          2.081736e-02\n",
       "V85          3.753464e-02"
      ]
     },
     "metadata": {},
     "output_type": "display_data"
    }
   ],
   "source": [
    "best_ridge_coeff <- predict(ridge_fit_insurance, s= best_lambda_ridge, type = \"coefficients\")\n",
    "best_ridge_coeff"
   ]
  },
  {
   "cell_type": "code",
   "execution_count": 59,
   "id": "ff7b1991",
   "metadata": {},
   "outputs": [],
   "source": [
    "#Predicting training samples using best lambda\n",
    "\n",
    "train_predict_ridge <- predict(ridge_fit_insurance, s = best_lambda_ridge, newx = as.matrix(x_training_set), type = 'response')\n",
    "train_predict_ridge <- ifelse(train_predict_ridge > 0.5, 1, 0)"
   ]
  },
  {
   "cell_type": "code",
   "execution_count": 60,
   "id": "aa76e681",
   "metadata": {},
   "outputs": [],
   "source": [
    "#Predicting testing samples using best lambda\n",
    "\n",
    "test_predict_ridge <- predict(ridge_fit_insurance, s = best_lambda_ridge, newx = as.matrix(x_testing_set), type = 'response')\n",
    "test_predict_ridge <- ifelse(test_predict_ridge > 0.5, 1, 0)"
   ]
  },
  {
   "cell_type": "code",
   "execution_count": 61,
   "id": "772841eb",
   "metadata": {},
   "outputs": [
    {
     "data": {
      "text/plain": [
       "                   y_training_set\n",
       "train_predict_ridge    0    1\n",
       "                  0 5474  347\n",
       "                  1    0    1"
      ]
     },
     "metadata": {},
     "output_type": "display_data"
    },
    {
     "data": {
      "text/plain": [
       "                  \n",
       "test_predict_ridge    0    1\n",
       "                 0 3762  237\n",
       "                 1    0    1"
      ]
     },
     "metadata": {},
     "output_type": "display_data"
    }
   ],
   "source": [
    "table(train_predict_ridge, y_training_set)\n",
    "table(test_predict_ridge, as.integer(unlist(y_testing_set)))"
   ]
  },
  {
   "cell_type": "code",
   "execution_count": 62,
   "id": "4ce0f2c9",
   "metadata": {},
   "outputs": [
    {
     "data": {
      "text/html": [
       "0.0596015115080728"
      ],
      "text/latex": [
       "0.0596015115080728"
      ],
      "text/markdown": [
       "0.0596015115080728"
      ],
      "text/plain": [
       "[1] 0.05960151"
      ]
     },
     "metadata": {},
     "output_type": "display_data"
    }
   ],
   "source": [
    "#Training Error (MAE)\n",
    "\n",
    "train_error_ridge <- mean(y_training_set != train_predict_ridge )\n",
    "train_error_ridge"
   ]
  },
  {
   "cell_type": "code",
   "execution_count": 63,
   "id": "6633812f",
   "metadata": {},
   "outputs": [
    {
     "data": {
      "text/html": [
       "<style>\n",
       ".dl-inline {width: auto; margin:0; padding: 0}\n",
       ".dl-inline>dt, .dl-inline>dd {float: none; width: auto; display: inline-block}\n",
       ".dl-inline>dt::after {content: \":\\0020\"; padding-right: .5ex}\n",
       ".dl-inline>dt:not(:first-of-type) {padding-left: .5ex}\n",
       "</style><dl class=dl-inline><dt>RMSE</dt><dd>0.243413228892762</dd><dt>Rsquared</dt><dd>0.00395266883947878</dd><dt>MAE</dt><dd>0.05925</dd></dl>\n"
      ],
      "text/latex": [
       "\\begin{description*}\n",
       "\\item[RMSE] 0.243413228892762\n",
       "\\item[Rsquared] 0.00395266883947878\n",
       "\\item[MAE] 0.05925\n",
       "\\end{description*}\n"
      ],
      "text/markdown": [
       "RMSE\n",
       ":   0.243413228892762Rsquared\n",
       ":   0.00395266883947878MAE\n",
       ":   0.05925\n",
       "\n"
      ],
      "text/plain": [
       "       RMSE    Rsquared         MAE \n",
       "0.243413229 0.003952669 0.059250000 "
      ]
     },
     "metadata": {},
     "output_type": "display_data"
    }
   ],
   "source": [
    "postResample(y_testing_set, test_predict_ridge)"
   ]
  },
  {
   "cell_type": "code",
   "execution_count": 64,
   "id": "0aa45c0f",
   "metadata": {},
   "outputs": [
    {
     "data": {
      "text/html": [
       "<style>\n",
       ".dl-inline {width: auto; margin:0; padding: 0}\n",
       ".dl-inline>dt, .dl-inline>dd {float: none; width: auto; display: inline-block}\n",
       ".dl-inline>dt::after {content: \":\\0020\"; padding-right: .5ex}\n",
       ".dl-inline>dt:not(:first-of-type) {padding-left: .5ex}\n",
       "</style><dl class=dl-inline><dt>RMSE</dt><dd>0.2441342079842</dd><dt>Rsquared</dt><dd>0.00270226508460252</dd><dt>MAE</dt><dd>0.0596015115080728</dd></dl>\n"
      ],
      "text/latex": [
       "\\begin{description*}\n",
       "\\item[RMSE] 0.2441342079842\n",
       "\\item[Rsquared] 0.00270226508460252\n",
       "\\item[MAE] 0.0596015115080728\n",
       "\\end{description*}\n"
      ],
      "text/markdown": [
       "RMSE\n",
       ":   0.2441342079842Rsquared\n",
       ":   0.00270226508460252MAE\n",
       ":   0.0596015115080728\n",
       "\n"
      ],
      "text/plain": [
       "       RMSE    Rsquared         MAE \n",
       "0.244134208 0.002702265 0.059601512 "
      ]
     },
     "metadata": {},
     "output_type": "display_data"
    }
   ],
   "source": [
    "postResample(y_training_set, train_predict_ridge)"
   ]
  },
  {
   "cell_type": "code",
   "execution_count": 65,
   "id": "07f80027",
   "metadata": {},
   "outputs": [
    {
     "data": {
      "text/plain": [
       "\n",
       "Call:  cv.glmnet(x = as.matrix(x_training_set), y = y_training_set,      alpha = 1) \n",
       "\n",
       "Measure: Mean-Squared Error \n",
       "\n",
       "      Lambda Index Measure       SE Nonzero\n",
       "min 0.003185    27 0.05357 0.002154      29\n",
       "1se 0.027063     4 0.05568 0.002409       1"
      ]
     },
     "metadata": {},
     "output_type": "display_data"
    }
   ],
   "source": [
    "#Lasso Regression\n",
    "lasso_fit_insurance = cv.glmnet(as.matrix(x_training_set), y_training_set, alpha = 1)\n",
    "lasso_fit_insurance"
   ]
  },
  {
   "cell_type": "code",
   "execution_count": 66,
   "id": "cea14a9c",
   "metadata": {},
   "outputs": [
    {
     "data": {
      "image/png": "[encoded data removed]",
      "text/plain": [
       "plot without title"
      ]
     },
     "metadata": {
      "image/png": {
       "height": 420,
       "width": 420
      }
     },
     "output_type": "display_data"
    }
   ],
   "source": [
    "plot(lasso_fit_insurance)"
   ]
  },
  {
   "cell_type": "code",
   "execution_count": 67,
   "id": "80a6d7be",
   "metadata": {},
   "outputs": [
    {
     "data": {
      "text/html": [
       "0.00318479853879091"
      ],
      "text/latex": [
       "0.00318479853879091"
      ],
      "text/markdown": [
       "0.00318479853879091"
      ],
      "text/plain": [
       "[1] 0.003184799"
      ]
     },
     "metadata": {},
     "output_type": "display_data"
    }
   ],
   "source": [
    "best_lambda_lasso2= lasso_fit_insurance$lambda.min\n",
    "best_lambda_lasso2"
   ]
  },
  {
   "cell_type": "code",
   "execution_count": 68,
   "id": "15dcbb98",
   "metadata": {},
   "outputs": [
    {
     "data": {
      "text/plain": [
       "86 x 1 sparse Matrix of class \"dgCMatrix\"\n",
       "                       s1\n",
       "(Intercept) -0.0347380256\n",
       "V1           .           \n",
       "V2           .           \n",
       "V3           .           \n",
       "V4           0.0019717852\n",
       "V5           .           \n",
       "V6          -0.0003004838\n",
       "V7           0.0010583648\n",
       "V8           .           \n",
       "V9          -0.0004851515\n",
       "V10          0.0023624578\n",
       "V11         -0.0011501645\n",
       "V12          .           \n",
       "V13          .           \n",
       "V14          .           \n",
       "V15          .           \n",
       "V16          0.0036692332\n",
       "V17          .           \n",
       "V18         -0.0026950253\n",
       "V19          .           \n",
       "V20          .           \n",
       "V21         -0.0053892547\n",
       "V22          0.0012519363\n",
       "V23          .           \n",
       "V24          .           \n",
       "V25          .           \n",
       "V26          .           \n",
       "V27          .           \n",
       "V28          .           \n",
       "V29          .           \n",
       "V30         -0.0012125152\n",
       "V31          .           \n",
       "V32          0.0018945608\n",
       "V33          .           \n",
       "V34          .           \n",
       "V35          .           \n",
       "V36          .           \n",
       "V37          .           \n",
       "V38          .           \n",
       "V39          .           \n",
       "V40          0.0009758639\n",
       "V41         -0.0059834052\n",
       "V42          0.0033655200\n",
       "V43          0.0024304623\n",
       "V44          0.0081656111\n",
       "V45          .           \n",
       "V46         -0.0075198995\n",
       "V47          0.0094321029\n",
       "V48          .           \n",
       "V49          .           \n",
       "V50          .           \n",
       "V51          .           \n",
       "V52          .           \n",
       "V53         -0.0004165151\n",
       "V54          .           \n",
       "V55          .           \n",
       "V56          .           \n",
       "V57          0.0124369281\n",
       "V58          0.0110502347\n",
       "V59          0.0059646058\n",
       "V60          .           \n",
       "V61          .           \n",
       "V62          .           \n",
       "V63          .           \n",
       "V64          .           \n",
       "V65          .           \n",
       "V66          .           \n",
       "V67          .           \n",
       "V68          0.0021737537\n",
       "V69          .           \n",
       "V70          .           \n",
       "V71          .           \n",
       "V72          .           \n",
       "V73         -0.0062407368\n",
       "V74          .           \n",
       "V75          .           \n",
       "V76          .           \n",
       "V77          .           \n",
       "V78          .           \n",
       "V79          .           \n",
       "V80          .           \n",
       "V81          0.0418197246\n",
       "V82          0.2475802427\n",
       "V83          0.0229556812\n",
       "V84          .           \n",
       "V85          0.0550274184"
      ]
     },
     "metadata": {},
     "output_type": "display_data"
    }
   ],
   "source": [
    "best_lasso_coeff <- predict(lasso_fit_insurance, s= best_lambda_lasso2, type = \"coefficients\")\n",
    "best_lasso_coeff"
   ]
  },
  {
   "cell_type": "code",
   "execution_count": 69,
   "id": "b2eb3681",
   "metadata": {},
   "outputs": [],
   "source": [
    "#predicting training samples\n",
    "\n",
    "train_predict_lasso <- predict(lasso_fit_insurance, s=best_lambda_lasso2, newx = as.matrix(x_training_set), \n",
    "                               type = \"response\")\n",
    "train_predict_lasso <- ifelse(train_predict_lasso > 0.5, 1, 0)"
   ]
  },
  {
   "cell_type": "code",
   "execution_count": 70,
   "id": "0ebb4868",
   "metadata": {},
   "outputs": [
    {
     "data": {
      "text/plain": [
       "                   y_training_set\n",
       "train_predict_lasso    0    1\n",
       "                  0 5473  347\n",
       "                  1    1    1"
      ]
     },
     "metadata": {},
     "output_type": "display_data"
    },
    {
     "data": {
      "text/html": [
       "94.0549828178694"
      ],
      "text/latex": [
       "94.0549828178694"
      ],
      "text/markdown": [
       "94.0549828178694"
      ],
      "text/plain": [
       "[1] 94.05498"
      ]
     },
     "metadata": {},
     "output_type": "display_data"
    }
   ],
   "source": [
    "table(train_predict_lasso, y_training_set)\n",
    "training_accuracy <- 5474 / 5820 # number of correct predictions / total predictions \n",
    "training_accuracy * 100"
   ]
  },
  {
   "cell_type": "code",
   "execution_count": 71,
   "id": "01981aea",
   "metadata": {},
   "outputs": [],
   "source": [
    "#predicting testing samples\n",
    "\n",
    "test_predict_lasso <- predict(lasso_fit_insurance, s=best_lambda_lasso2, newx = as.matrix(x_testing_set), \n",
    "                               type = \"response\")\n",
    "test_predict_lasso <- ifelse(test_predict_lasso > 0.5, 1, 0)"
   ]
  },
  {
   "cell_type": "code",
   "execution_count": 72,
   "id": "c5e78957",
   "metadata": {},
   "outputs": [
    {
     "data": {
      "text/plain": [
       "                  \n",
       "test_predict_lasso    0    1\n",
       "                 0 3760  237\n",
       "                 1    2    1"
      ]
     },
     "metadata": {},
     "output_type": "display_data"
    },
    {
     "data": {
      "text/html": [
       "94.025"
      ],
      "text/latex": [
       "94.025"
      ],
      "text/markdown": [
       "94.025"
      ],
      "text/plain": [
       "[1] 94.025"
      ]
     },
     "metadata": {},
     "output_type": "display_data"
    }
   ],
   "source": [
    "table(test_predict_lasso, y_testing_set[, 1])\n",
    "training_accuracy <- 3761 / 4000 # number of correct predictions / total predictions \n",
    "training_accuracy * 100"
   ]
  },
  {
   "cell_type": "code",
   "execution_count": 73,
   "id": "7dbe0e3d",
   "metadata": {},
   "outputs": [
    {
     "data": {
      "text/html": [
       "0.0597732737890759"
      ],
      "text/latex": [
       "0.0597732737890759"
      ],
      "text/markdown": [
       "0.0597732737890759"
      ],
      "text/plain": [
       "[1] 0.05977327"
      ]
     },
     "metadata": {},
     "output_type": "display_data"
    }
   ],
   "source": [
    "# Training Error (MAE)\n",
    "\n",
    "train_error_lasso <- mean(y_training_set != train_predict_lasso)\n",
    "train_error_lasso"
   ]
  },
  {
   "cell_type": "code",
   "execution_count": 74,
   "id": "b78b8a58",
   "metadata": {},
   "outputs": [
    {
     "data": {
      "text/html": [
       "0.05975"
      ],
      "text/latex": [
       "0.05975"
      ],
      "text/markdown": [
       "0.05975"
      ],
      "text/plain": [
       "[1] 0.05975"
      ]
     },
     "metadata": {},
     "output_type": "display_data"
    }
   ],
   "source": [
    "# Testing Error (MAE)\n",
    "\n",
    "test_error_lasso <- mean(y_testing_set != test_predict_lasso)\n",
    "test_error_lasso"
   ]
  },
  {
   "cell_type": "code",
   "execution_count": 75,
   "id": "883b4758",
   "metadata": {},
   "outputs": [
    {
     "data": {
      "text/html": [
       "<style>\n",
       ".dl-inline {width: auto; margin:0; padding: 0}\n",
       ".dl-inline>dt, .dl-inline>dd {float: none; width: auto; display: inline-block}\n",
       ".dl-inline>dt::after {content: \":\\0020\"; padding-right: .5ex}\n",
       ".dl-inline>dt:not(:first-of-type) {padding-left: .5ex}\n",
       "</style><dl class=dl-inline><dt>RMSE</dt><dd>0.244485733303757</dd><dt>Rsquared</dt><dd>0.00118500500969591</dd><dt>MAE</dt><dd>0.0597732737890759</dd></dl>\n"
      ],
      "text/latex": [
       "\\begin{description*}\n",
       "\\item[RMSE] 0.244485733303757\n",
       "\\item[Rsquared] 0.00118500500969591\n",
       "\\item[MAE] 0.0597732737890759\n",
       "\\end{description*}\n"
      ],
      "text/markdown": [
       "RMSE\n",
       ":   0.244485733303757Rsquared\n",
       ":   0.00118500500969591MAE\n",
       ":   0.0597732737890759\n",
       "\n"
      ],
      "text/plain": [
       "       RMSE    Rsquared         MAE \n",
       "0.244485733 0.001185005 0.059773274 "
      ]
     },
     "metadata": {},
     "output_type": "display_data"
    },
    {
     "data": {
      "text/html": [
       "<style>\n",
       ".dl-inline {width: auto; margin:0; padding: 0}\n",
       ".dl-inline>dt, .dl-inline>dd {float: none; width: auto; display: inline-block}\n",
       ".dl-inline>dt::after {content: \":\\0020\"; padding-right: .5ex}\n",
       ".dl-inline>dt:not(:first-of-type) {padding-left: .5ex}\n",
       "</style><dl class=dl-inline><dt>RMSE</dt><dd>0.244438131231606</dd><dt>Rsquared</dt><dd>0.00100573593309244</dd><dt>MAE</dt><dd>0.05975</dd></dl>\n"
      ],
      "text/latex": [
       "\\begin{description*}\n",
       "\\item[RMSE] 0.244438131231606\n",
       "\\item[Rsquared] 0.00100573593309244\n",
       "\\item[MAE] 0.05975\n",
       "\\end{description*}\n"
      ],
      "text/markdown": [
       "RMSE\n",
       ":   0.244438131231606Rsquared\n",
       ":   0.00100573593309244MAE\n",
       ":   0.05975\n",
       "\n"
      ],
      "text/plain": [
       "       RMSE    Rsquared         MAE \n",
       "0.244438131 0.001005736 0.059750000 "
      ]
     },
     "metadata": {},
     "output_type": "display_data"
    }
   ],
   "source": [
    "postResample(y_training_set, train_predict_lasso) # training\n",
    "postResample(y_testing_set, test_predict_lasso) # testing"
   ]
  },
  {
   "cell_type": "markdown",
   "id": "7cb978c7",
   "metadata": {},
   "source": [
    "Lower the RMSE value, better the model is for prediction. \n",
    "From the above error estimates using OLS, Forward selection, Backward selection, Ridge and Lasso regression methods, we can determine that all the models are performing similar but using OLS estimates, Linear regressed performed slightly better with less RMSE and Rsquared values.\n",
    "Hence, from all of the models Linear regression performed the best for our dataset."
   ]
  }
 ],
 "metadata": {
  "kernelspec": {
   "display_name": "R",
   "language": "R",
   "name": "ir"
  },
  "language_info": {
   "codemirror_mode": "r",
   "file_extension": ".r",
   "mimetype": "text/x-r-source",
   "name": "R",
   "pygments_lexer": "r",
   "version": "4.2.1"
  }
 },
 "nbformat": 4,
 "nbformat_minor": 5
}
