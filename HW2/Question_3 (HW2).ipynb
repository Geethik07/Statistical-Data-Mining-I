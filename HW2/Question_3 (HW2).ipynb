{
 "cells": [
  {
   "cell_type": "code",
   "execution_count": 2,
   "id": "9736d4bd",
   "metadata": {},
   "outputs": [
    {
     "data": {
      "text/html": [
       "<table class=\"dataframe\">\n",
       "<caption>A data.frame: 6 × 257</caption>\n",
       "<thead>\n",
       "\t<tr><th></th><th scope=col>V1</th><th scope=col>V2</th><th scope=col>V3</th><th scope=col>V4</th><th scope=col>V5</th><th scope=col>V6</th><th scope=col>V7</th><th scope=col>V8</th><th scope=col>V9</th><th scope=col>V10</th><th scope=col>⋯</th><th scope=col>V248</th><th scope=col>V249</th><th scope=col>V250</th><th scope=col>V251</th><th scope=col>V252</th><th scope=col>V253</th><th scope=col>V254</th><th scope=col>V255</th><th scope=col>V256</th><th scope=col>V257</th></tr>\n",
       "\t<tr><th></th><th scope=col>&lt;dbl&gt;</th><th scope=col>&lt;dbl&gt;</th><th scope=col>&lt;dbl&gt;</th><th scope=col>&lt;dbl&gt;</th><th scope=col>&lt;dbl&gt;</th><th scope=col>&lt;dbl&gt;</th><th scope=col>&lt;dbl&gt;</th><th scope=col>&lt;dbl&gt;</th><th scope=col>&lt;dbl&gt;</th><th scope=col>&lt;dbl&gt;</th><th scope=col>⋯</th><th scope=col>&lt;dbl&gt;</th><th scope=col>&lt;dbl&gt;</th><th scope=col>&lt;dbl&gt;</th><th scope=col>&lt;dbl&gt;</th><th scope=col>&lt;dbl&gt;</th><th scope=col>&lt;dbl&gt;</th><th scope=col>&lt;dbl&gt;</th><th scope=col>&lt;dbl&gt;</th><th scope=col>&lt;dbl&gt;</th><th scope=col>&lt;dbl&gt;</th></tr>\n",
       "</thead>\n",
       "<tbody>\n",
       "\t<tr><th scope=row>4</th><td>7</td><td>-1</td><td>-1</td><td>-1</td><td>-1.000</td><td>-1.000</td><td>-0.273</td><td> 0.684</td><td> 0.960</td><td> 0.450</td><td>⋯</td><td>-0.318</td><td> 1.000</td><td> 0.536</td><td>-0.987</td><td>-1</td><td>-1</td><td>-1</td><td>-1</td><td>-1</td><td>-1</td></tr>\n",
       "\t<tr><th scope=row>11</th><td>7</td><td>-1</td><td>-1</td><td>-1</td><td>-1.000</td><td>-1.000</td><td>-0.596</td><td> 0.912</td><td> 1.000</td><td> 0.290</td><td>⋯</td><td>-1.000</td><td>-0.795</td><td> 0.663</td><td>-0.074</td><td>-1</td><td>-1</td><td>-1</td><td>-1</td><td>-1</td><td>-1</td></tr>\n",
       "\t<tr><th scope=row>15</th><td>7</td><td>-1</td><td>-1</td><td>-1</td><td>-1.000</td><td>-1.000</td><td>-1.000</td><td>-1.000</td><td>-1.000</td><td>-0.632</td><td>⋯</td><td>-1.000</td><td>-0.967</td><td> 0.866</td><td>-0.001</td><td>-1</td><td>-1</td><td>-1</td><td>-1</td><td>-1</td><td>-1</td></tr>\n",
       "\t<tr><th scope=row>16</th><td>7</td><td>-1</td><td>-1</td><td>-1</td><td>-0.929</td><td> 0.351</td><td> 0.798</td><td> 0.806</td><td> 0.114</td><td> 0.015</td><td>⋯</td><td> 0.835</td><td>-0.086</td><td>-0.991</td><td>-1.000</td><td>-1</td><td>-1</td><td>-1</td><td>-1</td><td>-1</td><td>-1</td></tr>\n",
       "\t<tr><th scope=row>23</th><td>7</td><td>-1</td><td>-1</td><td>-1</td><td>-1.000</td><td>-0.869</td><td> 0.777</td><td>-0.007</td><td>-0.697</td><td>-1.000</td><td>⋯</td><td>-0.933</td><td> 0.667</td><td>-0.315</td><td>-1.000</td><td>-1</td><td>-1</td><td>-1</td><td>-1</td><td>-1</td><td>-1</td></tr>\n",
       "\t<tr><th scope=row>26</th><td>7</td><td>-1</td><td>-1</td><td>-1</td><td>-1.000</td><td>-0.846</td><td>-0.011</td><td>-0.920</td><td>-1.000</td><td>-1.000</td><td>⋯</td><td>-1.000</td><td> 0.008</td><td> 0.405</td><td>-1.000</td><td>-1</td><td>-1</td><td>-1</td><td>-1</td><td>-1</td><td>-1</td></tr>\n",
       "</tbody>\n",
       "</table>\n"
      ],
      "text/latex": [
       "A data.frame: 6 × 257\n",
       "\\begin{tabular}{r|lllllllllllllllllllll}\n",
       "  & V1 & V2 & V3 & V4 & V5 & V6 & V7 & V8 & V9 & V10 & ⋯ & V248 & V249 & V250 & V251 & V252 & V253 & V254 & V255 & V256 & V257\\\\\n",
       "  & <dbl> & <dbl> & <dbl> & <dbl> & <dbl> & <dbl> & <dbl> & <dbl> & <dbl> & <dbl> & ⋯ & <dbl> & <dbl> & <dbl> & <dbl> & <dbl> & <dbl> & <dbl> & <dbl> & <dbl> & <dbl>\\\\\n",
       "\\hline\n",
       "\t4 & 7 & -1 & -1 & -1 & -1.000 & -1.000 & -0.273 &  0.684 &  0.960 &  0.450 & ⋯ & -0.318 &  1.000 &  0.536 & -0.987 & -1 & -1 & -1 & -1 & -1 & -1\\\\\n",
       "\t11 & 7 & -1 & -1 & -1 & -1.000 & -1.000 & -0.596 &  0.912 &  1.000 &  0.290 & ⋯ & -1.000 & -0.795 &  0.663 & -0.074 & -1 & -1 & -1 & -1 & -1 & -1\\\\\n",
       "\t15 & 7 & -1 & -1 & -1 & -1.000 & -1.000 & -1.000 & -1.000 & -1.000 & -0.632 & ⋯ & -1.000 & -0.967 &  0.866 & -0.001 & -1 & -1 & -1 & -1 & -1 & -1\\\\\n",
       "\t16 & 7 & -1 & -1 & -1 & -0.929 &  0.351 &  0.798 &  0.806 &  0.114 &  0.015 & ⋯ &  0.835 & -0.086 & -0.991 & -1.000 & -1 & -1 & -1 & -1 & -1 & -1\\\\\n",
       "\t23 & 7 & -1 & -1 & -1 & -1.000 & -0.869 &  0.777 & -0.007 & -0.697 & -1.000 & ⋯ & -0.933 &  0.667 & -0.315 & -1.000 & -1 & -1 & -1 & -1 & -1 & -1\\\\\n",
       "\t26 & 7 & -1 & -1 & -1 & -1.000 & -0.846 & -0.011 & -0.920 & -1.000 & -1.000 & ⋯ & -1.000 &  0.008 &  0.405 & -1.000 & -1 & -1 & -1 & -1 & -1 & -1\\\\\n",
       "\\end{tabular}\n"
      ],
      "text/markdown": [
       "\n",
       "A data.frame: 6 × 257\n",
       "\n",
       "| <!--/--> | V1 &lt;dbl&gt; | V2 &lt;dbl&gt; | V3 &lt;dbl&gt; | V4 &lt;dbl&gt; | V5 &lt;dbl&gt; | V6 &lt;dbl&gt; | V7 &lt;dbl&gt; | V8 &lt;dbl&gt; | V9 &lt;dbl&gt; | V10 &lt;dbl&gt; | ⋯ ⋯ | V248 &lt;dbl&gt; | V249 &lt;dbl&gt; | V250 &lt;dbl&gt; | V251 &lt;dbl&gt; | V252 &lt;dbl&gt; | V253 &lt;dbl&gt; | V254 &lt;dbl&gt; | V255 &lt;dbl&gt; | V256 &lt;dbl&gt; | V257 &lt;dbl&gt; |\n",
       "|---|---|---|---|---|---|---|---|---|---|---|---|---|---|---|---|---|---|---|---|---|---|\n",
       "| 4 | 7 | -1 | -1 | -1 | -1.000 | -1.000 | -0.273 |  0.684 |  0.960 |  0.450 | ⋯ | -0.318 |  1.000 |  0.536 | -0.987 | -1 | -1 | -1 | -1 | -1 | -1 |\n",
       "| 11 | 7 | -1 | -1 | -1 | -1.000 | -1.000 | -0.596 |  0.912 |  1.000 |  0.290 | ⋯ | -1.000 | -0.795 |  0.663 | -0.074 | -1 | -1 | -1 | -1 | -1 | -1 |\n",
       "| 15 | 7 | -1 | -1 | -1 | -1.000 | -1.000 | -1.000 | -1.000 | -1.000 | -0.632 | ⋯ | -1.000 | -0.967 |  0.866 | -0.001 | -1 | -1 | -1 | -1 | -1 | -1 |\n",
       "| 16 | 7 | -1 | -1 | -1 | -0.929 |  0.351 |  0.798 |  0.806 |  0.114 |  0.015 | ⋯ |  0.835 | -0.086 | -0.991 | -1.000 | -1 | -1 | -1 | -1 | -1 | -1 |\n",
       "| 23 | 7 | -1 | -1 | -1 | -1.000 | -0.869 |  0.777 | -0.007 | -0.697 | -1.000 | ⋯ | -0.933 |  0.667 | -0.315 | -1.000 | -1 | -1 | -1 | -1 | -1 | -1 |\n",
       "| 26 | 7 | -1 | -1 | -1 | -1.000 | -0.846 | -0.011 | -0.920 | -1.000 | -1.000 | ⋯ | -1.000 |  0.008 |  0.405 | -1.000 | -1 | -1 | -1 | -1 | -1 | -1 |\n",
       "\n"
      ],
      "text/plain": [
       "   V1 V2 V3 V4 V5     V6     V7     V8     V9     V10    ⋯ V248   V249   V250  \n",
       "4  7  -1 -1 -1 -1.000 -1.000 -0.273  0.684  0.960  0.450 ⋯ -0.318  1.000  0.536\n",
       "11 7  -1 -1 -1 -1.000 -1.000 -0.596  0.912  1.000  0.290 ⋯ -1.000 -0.795  0.663\n",
       "15 7  -1 -1 -1 -1.000 -1.000 -1.000 -1.000 -1.000 -0.632 ⋯ -1.000 -0.967  0.866\n",
       "16 7  -1 -1 -1 -0.929  0.351  0.798  0.806  0.114  0.015 ⋯  0.835 -0.086 -0.991\n",
       "23 7  -1 -1 -1 -1.000 -0.869  0.777 -0.007 -0.697 -1.000 ⋯ -0.933  0.667 -0.315\n",
       "26 7  -1 -1 -1 -1.000 -0.846 -0.011 -0.920 -1.000 -1.000 ⋯ -1.000  0.008  0.405\n",
       "   V251   V252 V253 V254 V255 V256 V257\n",
       "4  -0.987 -1   -1   -1   -1   -1   -1  \n",
       "11 -0.074 -1   -1   -1   -1   -1   -1  \n",
       "15 -0.001 -1   -1   -1   -1   -1   -1  \n",
       "16 -1.000 -1   -1   -1   -1   -1   -1  \n",
       "23 -1.000 -1   -1   -1   -1   -1   -1  \n",
       "26 -1.000 -1   -1   -1   -1   -1   -1  "
      ]
     },
     "metadata": {},
     "output_type": "display_data"
    },
    {
     "data": {
      "text/html": [
       "<style>\n",
       ".list-inline {list-style: none; margin:0; padding: 0}\n",
       ".list-inline>li {display: inline-block}\n",
       ".list-inline>li:not(:last-child)::after {content: \"\\00b7\"; padding: 0 .5ex}\n",
       "</style>\n",
       "<ol class=list-inline><li>1289</li><li>257</li></ol>\n"
      ],
      "text/latex": [
       "\\begin{enumerate*}\n",
       "\\item 1289\n",
       "\\item 257\n",
       "\\end{enumerate*}\n"
      ],
      "text/markdown": [
       "1. 1289\n",
       "2. 257\n",
       "\n",
       "\n"
      ],
      "text/plain": [
       "[1] 1289  257"
      ]
     },
     "metadata": {},
     "output_type": "display_data"
    },
    {
     "data": {
      "text/html": [
       "<style>\n",
       ".list-inline {list-style: none; margin:0; padding: 0}\n",
       ".list-inline>li {display: inline-block}\n",
       ".list-inline>li:not(:last-child)::after {content: \"\\00b7\"; padding: 0 .5ex}\n",
       "</style>\n",
       "<ol class=list-inline><li>7</li><li>7</li><li>7</li><li>7</li><li>7</li><li>7</li></ol>\n"
      ],
      "text/latex": [
       "\\begin{enumerate*}\n",
       "\\item 7\n",
       "\\item 7\n",
       "\\item 7\n",
       "\\item 7\n",
       "\\item 7\n",
       "\\item 7\n",
       "\\end{enumerate*}\n"
      ],
      "text/markdown": [
       "1. 7\n",
       "2. 7\n",
       "3. 7\n",
       "4. 7\n",
       "5. 7\n",
       "6. 7\n",
       "\n",
       "\n"
      ],
      "text/plain": [
       "[1] 7 7 7 7 7 7"
      ]
     },
     "metadata": {},
     "output_type": "display_data"
    }
   ],
   "source": [
    "#3\n",
    "library()\n",
    "#Reading the train data \n",
    "X_train <- read.table(gzfile(\"zip.train.gz\"))\n",
    "y7or9 <- which(X_train[, 1] == 7 | X_train[, 1] == 9)\n",
    "X.train <- X_train[y7or9,]\n",
    "y.train <- X_train[y7or9, 1]\n",
    "head(X.train)\n",
    "dim(X.train)\n",
    "#head(X.train)\n",
    "head(y.train)"
   ]
  },
  {
   "cell_type": "code",
   "execution_count": 4,
   "id": "e37c54e6",
   "metadata": {},
   "outputs": [
    {
     "data": {
      "text/html": [
       "<style>\n",
       ".list-inline {list-style: none; margin:0; padding: 0}\n",
       ".list-inline>li {display: inline-block}\n",
       ".list-inline>li:not(:last-child)::after {content: \"\\00b7\"; padding: 0 .5ex}\n",
       "</style>\n",
       "<ol class=list-inline><li>324</li><li>257</li></ol>\n"
      ],
      "text/latex": [
       "\\begin{enumerate*}\n",
       "\\item 324\n",
       "\\item 257\n",
       "\\end{enumerate*}\n"
      ],
      "text/markdown": [
       "1. 324\n",
       "2. 257\n",
       "\n",
       "\n"
      ],
      "text/plain": [
       "[1] 324 257"
      ]
     },
     "metadata": {},
     "output_type": "display_data"
    },
    {
     "data": {
      "text/html": [
       "<table class=\"dataframe\">\n",
       "<caption>A data.frame: 6 × 257</caption>\n",
       "<thead>\n",
       "\t<tr><th></th><th scope=col>V1</th><th scope=col>V2</th><th scope=col>V3</th><th scope=col>V4</th><th scope=col>V5</th><th scope=col>V6</th><th scope=col>V7</th><th scope=col>V8</th><th scope=col>V9</th><th scope=col>V10</th><th scope=col>⋯</th><th scope=col>V248</th><th scope=col>V249</th><th scope=col>V250</th><th scope=col>V251</th><th scope=col>V252</th><th scope=col>V253</th><th scope=col>V254</th><th scope=col>V255</th><th scope=col>V256</th><th scope=col>V257</th></tr>\n",
       "\t<tr><th></th><th scope=col>&lt;int&gt;</th><th scope=col>&lt;dbl&gt;</th><th scope=col>&lt;dbl&gt;</th><th scope=col>&lt;dbl&gt;</th><th scope=col>&lt;dbl&gt;</th><th scope=col>&lt;dbl&gt;</th><th scope=col>&lt;dbl&gt;</th><th scope=col>&lt;dbl&gt;</th><th scope=col>&lt;dbl&gt;</th><th scope=col>&lt;dbl&gt;</th><th scope=col>⋯</th><th scope=col>&lt;dbl&gt;</th><th scope=col>&lt;dbl&gt;</th><th scope=col>&lt;dbl&gt;</th><th scope=col>&lt;dbl&gt;</th><th scope=col>&lt;dbl&gt;</th><th scope=col>&lt;dbl&gt;</th><th scope=col>&lt;dbl&gt;</th><th scope=col>&lt;dbl&gt;</th><th scope=col>&lt;dbl&gt;</th><th scope=col>&lt;dbl&gt;</th></tr>\n",
       "</thead>\n",
       "<tbody>\n",
       "\t<tr><th scope=row>1</th><td>9</td><td>-1</td><td>-1.00</td><td>-1.000</td><td>-1.000</td><td>-1.000</td><td>-0.948</td><td>-0.561</td><td> 0.148</td><td> 0.384</td><td>⋯</td><td>-1.000</td><td>-0.908</td><td> 0.430</td><td> 0.622</td><td>-0.973</td><td>-1.000</td><td>-1</td><td>-1</td><td>-1</td><td>-1</td></tr>\n",
       "\t<tr><th scope=row>10</th><td>9</td><td>-1</td><td>-1.00</td><td>-1.000</td><td>-1.000</td><td>-1.000</td><td>-0.904</td><td>-0.060</td><td> 0.638</td><td> 0.678</td><td>⋯</td><td>-0.567</td><td> 0.642</td><td>-0.925</td><td>-1.000</td><td>-1.000</td><td>-1.000</td><td>-1</td><td>-1</td><td>-1</td><td>-1</td></tr>\n",
       "\t<tr><th scope=row>19</th><td>9</td><td>-1</td><td>-1.00</td><td>-1.000</td><td>-0.916</td><td>-0.600</td><td>-0.034</td><td> 0.711</td><td> 1.000</td><td> 0.488</td><td>⋯</td><td> 1.000</td><td> 0.375</td><td>-0.982</td><td>-1.000</td><td>-1.000</td><td>-1.000</td><td>-1</td><td>-1</td><td>-1</td><td>-1</td></tr>\n",
       "\t<tr><th scope=row>24</th><td>9</td><td>-1</td><td>-1.00</td><td>-1.000</td><td>-1.000</td><td>-1.000</td><td>-1.000</td><td>-1.000</td><td>-0.441</td><td> 0.530</td><td>⋯</td><td>-1.000</td><td>-1.000</td><td>-1.000</td><td>-0.057</td><td> 0.558</td><td>-0.999</td><td>-1</td><td>-1</td><td>-1</td><td>-1</td></tr>\n",
       "\t<tr><th scope=row>31</th><td>7</td><td>-1</td><td>-0.99</td><td> 0.700</td><td> 0.283</td><td>-0.131</td><td>-0.598</td><td>-1.000</td><td>-1.000</td><td>-1.000</td><td>⋯</td><td>-0.700</td><td> 0.734</td><td>-0.261</td><td>-1.000</td><td>-1.000</td><td>-1.000</td><td>-1</td><td>-1</td><td>-1</td><td>-1</td></tr>\n",
       "\t<tr><th scope=row>35</th><td>7</td><td>-1</td><td>-1.00</td><td>-0.862</td><td> 0.000</td><td> 0.296</td><td>-0.231</td><td> 0.142</td><td> 0.384</td><td> 0.763</td><td>⋯</td><td> 0.703</td><td>-0.448</td><td>-1.000</td><td>-1.000</td><td>-1.000</td><td>-1.000</td><td>-1</td><td>-1</td><td>-1</td><td>-1</td></tr>\n",
       "</tbody>\n",
       "</table>\n"
      ],
      "text/latex": [
       "A data.frame: 6 × 257\n",
       "\\begin{tabular}{r|lllllllllllllllllllll}\n",
       "  & V1 & V2 & V3 & V4 & V5 & V6 & V7 & V8 & V9 & V10 & ⋯ & V248 & V249 & V250 & V251 & V252 & V253 & V254 & V255 & V256 & V257\\\\\n",
       "  & <int> & <dbl> & <dbl> & <dbl> & <dbl> & <dbl> & <dbl> & <dbl> & <dbl> & <dbl> & ⋯ & <dbl> & <dbl> & <dbl> & <dbl> & <dbl> & <dbl> & <dbl> & <dbl> & <dbl> & <dbl>\\\\\n",
       "\\hline\n",
       "\t1 & 9 & -1 & -1.00 & -1.000 & -1.000 & -1.000 & -0.948 & -0.561 &  0.148 &  0.384 & ⋯ & -1.000 & -0.908 &  0.430 &  0.622 & -0.973 & -1.000 & -1 & -1 & -1 & -1\\\\\n",
       "\t10 & 9 & -1 & -1.00 & -1.000 & -1.000 & -1.000 & -0.904 & -0.060 &  0.638 &  0.678 & ⋯ & -0.567 &  0.642 & -0.925 & -1.000 & -1.000 & -1.000 & -1 & -1 & -1 & -1\\\\\n",
       "\t19 & 9 & -1 & -1.00 & -1.000 & -0.916 & -0.600 & -0.034 &  0.711 &  1.000 &  0.488 & ⋯ &  1.000 &  0.375 & -0.982 & -1.000 & -1.000 & -1.000 & -1 & -1 & -1 & -1\\\\\n",
       "\t24 & 9 & -1 & -1.00 & -1.000 & -1.000 & -1.000 & -1.000 & -1.000 & -0.441 &  0.530 & ⋯ & -1.000 & -1.000 & -1.000 & -0.057 &  0.558 & -0.999 & -1 & -1 & -1 & -1\\\\\n",
       "\t31 & 7 & -1 & -0.99 &  0.700 &  0.283 & -0.131 & -0.598 & -1.000 & -1.000 & -1.000 & ⋯ & -0.700 &  0.734 & -0.261 & -1.000 & -1.000 & -1.000 & -1 & -1 & -1 & -1\\\\\n",
       "\t35 & 7 & -1 & -1.00 & -0.862 &  0.000 &  0.296 & -0.231 &  0.142 &  0.384 &  0.763 & ⋯ &  0.703 & -0.448 & -1.000 & -1.000 & -1.000 & -1.000 & -1 & -1 & -1 & -1\\\\\n",
       "\\end{tabular}\n"
      ],
      "text/markdown": [
       "\n",
       "A data.frame: 6 × 257\n",
       "\n",
       "| <!--/--> | V1 &lt;int&gt; | V2 &lt;dbl&gt; | V3 &lt;dbl&gt; | V4 &lt;dbl&gt; | V5 &lt;dbl&gt; | V6 &lt;dbl&gt; | V7 &lt;dbl&gt; | V8 &lt;dbl&gt; | V9 &lt;dbl&gt; | V10 &lt;dbl&gt; | ⋯ ⋯ | V248 &lt;dbl&gt; | V249 &lt;dbl&gt; | V250 &lt;dbl&gt; | V251 &lt;dbl&gt; | V252 &lt;dbl&gt; | V253 &lt;dbl&gt; | V254 &lt;dbl&gt; | V255 &lt;dbl&gt; | V256 &lt;dbl&gt; | V257 &lt;dbl&gt; |\n",
       "|---|---|---|---|---|---|---|---|---|---|---|---|---|---|---|---|---|---|---|---|---|---|\n",
       "| 1 | 9 | -1 | -1.00 | -1.000 | -1.000 | -1.000 | -0.948 | -0.561 |  0.148 |  0.384 | ⋯ | -1.000 | -0.908 |  0.430 |  0.622 | -0.973 | -1.000 | -1 | -1 | -1 | -1 |\n",
       "| 10 | 9 | -1 | -1.00 | -1.000 | -1.000 | -1.000 | -0.904 | -0.060 |  0.638 |  0.678 | ⋯ | -0.567 |  0.642 | -0.925 | -1.000 | -1.000 | -1.000 | -1 | -1 | -1 | -1 |\n",
       "| 19 | 9 | -1 | -1.00 | -1.000 | -0.916 | -0.600 | -0.034 |  0.711 |  1.000 |  0.488 | ⋯ |  1.000 |  0.375 | -0.982 | -1.000 | -1.000 | -1.000 | -1 | -1 | -1 | -1 |\n",
       "| 24 | 9 | -1 | -1.00 | -1.000 | -1.000 | -1.000 | -1.000 | -1.000 | -0.441 |  0.530 | ⋯ | -1.000 | -1.000 | -1.000 | -0.057 |  0.558 | -0.999 | -1 | -1 | -1 | -1 |\n",
       "| 31 | 7 | -1 | -0.99 |  0.700 |  0.283 | -0.131 | -0.598 | -1.000 | -1.000 | -1.000 | ⋯ | -0.700 |  0.734 | -0.261 | -1.000 | -1.000 | -1.000 | -1 | -1 | -1 | -1 |\n",
       "| 35 | 7 | -1 | -1.00 | -0.862 |  0.000 |  0.296 | -0.231 |  0.142 |  0.384 |  0.763 | ⋯ |  0.703 | -0.448 | -1.000 | -1.000 | -1.000 | -1.000 | -1 | -1 | -1 | -1 |\n",
       "\n"
      ],
      "text/plain": [
       "   V1 V2 V3    V4     V5     V6     V7     V8     V9     V10    ⋯ V248   V249  \n",
       "1  9  -1 -1.00 -1.000 -1.000 -1.000 -0.948 -0.561  0.148  0.384 ⋯ -1.000 -0.908\n",
       "10 9  -1 -1.00 -1.000 -1.000 -1.000 -0.904 -0.060  0.638  0.678 ⋯ -0.567  0.642\n",
       "19 9  -1 -1.00 -1.000 -0.916 -0.600 -0.034  0.711  1.000  0.488 ⋯  1.000  0.375\n",
       "24 9  -1 -1.00 -1.000 -1.000 -1.000 -1.000 -1.000 -0.441  0.530 ⋯ -1.000 -1.000\n",
       "31 7  -1 -0.99  0.700  0.283 -0.131 -0.598 -1.000 -1.000 -1.000 ⋯ -0.700  0.734\n",
       "35 7  -1 -1.00 -0.862  0.000  0.296 -0.231  0.142  0.384  0.763 ⋯  0.703 -0.448\n",
       "   V250   V251   V252   V253   V254 V255 V256 V257\n",
       "1   0.430  0.622 -0.973 -1.000 -1   -1   -1   -1  \n",
       "10 -0.925 -1.000 -1.000 -1.000 -1   -1   -1   -1  \n",
       "19 -0.982 -1.000 -1.000 -1.000 -1   -1   -1   -1  \n",
       "24 -1.000 -0.057  0.558 -0.999 -1   -1   -1   -1  \n",
       "31 -0.261 -1.000 -1.000 -1.000 -1   -1   -1   -1  \n",
       "35 -1.000 -1.000 -1.000 -1.000 -1   -1   -1   -1  "
      ]
     },
     "metadata": {},
     "output_type": "display_data"
    },
    {
     "data": {
      "text/html": [
       "<style>\n",
       ".list-inline {list-style: none; margin:0; padding: 0}\n",
       ".list-inline>li {display: inline-block}\n",
       ".list-inline>li:not(:last-child)::after {content: \"\\00b7\"; padding: 0 .5ex}\n",
       "</style>\n",
       "<ol class=list-inline><li>9</li><li>9</li><li>9</li><li>9</li><li>7</li><li>7</li></ol>\n"
      ],
      "text/latex": [
       "\\begin{enumerate*}\n",
       "\\item 9\n",
       "\\item 9\n",
       "\\item 9\n",
       "\\item 9\n",
       "\\item 7\n",
       "\\item 7\n",
       "\\end{enumerate*}\n"
      ],
      "text/markdown": [
       "1. 9\n",
       "2. 9\n",
       "3. 9\n",
       "4. 9\n",
       "5. 7\n",
       "6. 7\n",
       "\n",
       "\n"
      ],
      "text/plain": [
       "[1] 9 9 9 9 7 7"
      ]
     },
     "metadata": {},
     "output_type": "display_data"
    }
   ],
   "source": [
    "#Reading in the test data\n",
    "X_test <- read.table(gzfile(\"zip.test.gz\"))\n",
    "y7or9 <- which(X_test[, 1] == 7 | X_test[, 1] == 9)\n",
    "X.test <- X_test[y7or9,]\n",
    "y.test <- X_test[y7or9, 1] \n",
    "dim(X.test)\n",
    "head(X.test)\n",
    "head(y.test)\n"
   ]
  },
  {
   "cell_type": "code",
   "execution_count": 5,
   "id": "239ab422",
   "metadata": {},
   "outputs": [
    {
     "name": "stderr",
     "output_type": "stream",
     "text": [
      "Warning message in predict.lm(L, X.test):\n",
      "“prediction from a rank-deficient fit may be misleading”\n"
     ]
    },
    {
     "data": {
      "text/html": [
       "1.78032702511834e+26"
      ],
      "text/latex": [
       "1.78032702511834e+26"
      ],
      "text/markdown": [
       "1.78032702511834e+26"
      ],
      "text/plain": [
       "[1] 1.780327e+26"
      ]
     },
     "metadata": {},
     "output_type": "display_data"
    }
   ],
   "source": [
    "#Performing Classification of Linear Regression\n",
    "L <- lm(V1 ~., data = X.train)\n",
    "L_predict <- predict(L, X.test)\n",
    "L.error <-  mean((L_predict - y.test)^2)\n",
    "L.error"
   ]
  },
  {
   "cell_type": "code",
   "execution_count": 6,
   "id": "f9970058",
   "metadata": {},
   "outputs": [
    {
     "data": {
      "text/html": [
       "0.0185185185185185"
      ],
      "text/latex": [
       "0.0185185185185185"
      ],
      "text/markdown": [
       "0.0185185185185185"
      ],
      "text/plain": [
       "[1] 0.01851852"
      ]
     },
     "metadata": {},
     "output_type": "display_data"
    },
    {
     "data": {
      "text/html": [
       "0.0185185185185185"
      ],
      "text/latex": [
       "0.0185185185185185"
      ],
      "text/markdown": [
       "0.0185185185185185"
      ],
      "text/plain": [
       "[1] 0.01851852"
      ]
     },
     "metadata": {},
     "output_type": "display_data"
    },
    {
     "data": {
      "text/html": [
       "0.0154320987654321"
      ],
      "text/latex": [
       "0.0154320987654321"
      ],
      "text/markdown": [
       "0.0154320987654321"
      ],
      "text/plain": [
       "[1] 0.0154321"
      ]
     },
     "metadata": {},
     "output_type": "display_data"
    },
    {
     "data": {
      "text/html": [
       "0.0185185185185185"
      ],
      "text/latex": [
       "0.0185185185185185"
      ],
      "text/markdown": [
       "0.0185185185185185"
      ],
      "text/plain": [
       "[1] 0.01851852"
      ]
     },
     "metadata": {},
     "output_type": "display_data"
    },
    {
     "data": {
      "text/html": [
       "0.0216049382716049"
      ],
      "text/latex": [
       "0.0216049382716049"
      ],
      "text/markdown": [
       "0.0216049382716049"
      ],
      "text/plain": [
       "[1] 0.02160494"
      ]
     },
     "metadata": {},
     "output_type": "display_data"
    },
    {
     "data": {
      "text/html": [
       "0.0277777777777778"
      ],
      "text/latex": [
       "0.0277777777777778"
      ],
      "text/markdown": [
       "0.0277777777777778"
      ],
      "text/plain": [
       "[1] 0.02777778"
      ]
     },
     "metadata": {},
     "output_type": "display_data"
    },
    {
     "data": {
      "text/html": [
       "0.0308641975308642"
      ],
      "text/latex": [
       "0.0308641975308642"
      ],
      "text/markdown": [
       "0.0308641975308642"
      ],
      "text/plain": [
       "[1] 0.0308642"
      ]
     },
     "metadata": {},
     "output_type": "display_data"
    },
    {
     "data": {
      "text/html": [
       "0.0277777777777778"
      ],
      "text/latex": [
       "0.0277777777777778"
      ],
      "text/markdown": [
       "0.0277777777777778"
      ],
      "text/plain": [
       "[1] 0.02777778"
      ]
     },
     "metadata": {},
     "output_type": "display_data"
    }
   ],
   "source": [
    "library(class)\n",
    "k <- c(1, 3, 5, 7, 9, 11, 13, 15)\n",
    "k.error <- rep(NA, length(k))\n",
    "for (i in 1:length(k)) {\n",
    "    knn_predict <- knn(X.train, X.test, y.train, k[i])\n",
    "    k.error[i] <- mean((knn_predict != y.test))\n",
    "}\n",
    "k.error[1]\n",
    "k.error[2]\n",
    "k.error[3]\n",
    "k.error[4]\n",
    "k.error[5]\n",
    "k.error[6]\n",
    "k.error[7]\n",
    "k.error[8]"
   ]
  },
  {
   "cell_type": "code",
   "execution_count": 7,
   "id": "5b6789e9",
   "metadata": {},
   "outputs": [
    {
     "data": {
      "text/html": [
       "<table class=\"dataframe\">\n",
       "<caption>A matrix: 9 × 1 of type dbl</caption>\n",
       "<thead>\n",
       "\t<tr><th></th><th scope=col>Error Rate</th></tr>\n",
       "</thead>\n",
       "<tbody>\n",
       "\t<tr><th scope=row>Linear Regression</th><td>1.780327e+26</td></tr>\n",
       "\t<tr><th scope=row>k-NN with k = 1</th><td>1.851852e-02</td></tr>\n",
       "\t<tr><th scope=row>k-NN with k = 3</th><td>1.851852e-02</td></tr>\n",
       "\t<tr><th scope=row>k-NN with k = 5</th><td>1.543210e-02</td></tr>\n",
       "\t<tr><th scope=row>k-NN with k = 7</th><td>1.851852e-02</td></tr>\n",
       "\t<tr><th scope=row>k-NN with k = 9</th><td>2.160494e-02</td></tr>\n",
       "\t<tr><th scope=row>k-NN with k = 11</th><td>2.777778e-02</td></tr>\n",
       "\t<tr><th scope=row>k-NN with k = 13</th><td>3.086420e-02</td></tr>\n",
       "\t<tr><th scope=row>k-NN with k = 15</th><td>2.777778e-02</td></tr>\n",
       "</tbody>\n",
       "</table>\n"
      ],
      "text/latex": [
       "A matrix: 9 × 1 of type dbl\n",
       "\\begin{tabular}{r|l}\n",
       "  & Error Rate\\\\\n",
       "\\hline\n",
       "\tLinear Regression & 1.780327e+26\\\\\n",
       "\tk-NN with k = 1 & 1.851852e-02\\\\\n",
       "\tk-NN with k = 3 & 1.851852e-02\\\\\n",
       "\tk-NN with k = 5 & 1.543210e-02\\\\\n",
       "\tk-NN with k = 7 & 1.851852e-02\\\\\n",
       "\tk-NN with k = 9 & 2.160494e-02\\\\\n",
       "\tk-NN with k = 11 & 2.777778e-02\\\\\n",
       "\tk-NN with k = 13 & 3.086420e-02\\\\\n",
       "\tk-NN with k = 15 & 2.777778e-02\\\\\n",
       "\\end{tabular}\n"
      ],
      "text/markdown": [
       "\n",
       "A matrix: 9 × 1 of type dbl\n",
       "\n",
       "| <!--/--> | Error Rate |\n",
       "|---|---|\n",
       "| Linear Regression | 1.780327e+26 |\n",
       "| k-NN with k = 1 | 1.851852e-02 |\n",
       "| k-NN with k = 3 | 1.851852e-02 |\n",
       "| k-NN with k = 5 | 1.543210e-02 |\n",
       "| k-NN with k = 7 | 1.851852e-02 |\n",
       "| k-NN with k = 9 | 2.160494e-02 |\n",
       "| k-NN with k = 11 | 2.777778e-02 |\n",
       "| k-NN with k = 13 | 3.086420e-02 |\n",
       "| k-NN with k = 15 | 2.777778e-02 |\n",
       "\n"
      ],
      "text/plain": [
       "                  Error Rate  \n",
       "Linear Regression 1.780327e+26\n",
       "k-NN with k = 1   1.851852e-02\n",
       "k-NN with k = 3   1.851852e-02\n",
       "k-NN with k = 5   1.543210e-02\n",
       "k-NN with k = 7   1.851852e-02\n",
       "k-NN with k = 9   2.160494e-02\n",
       "k-NN with k = 11  2.777778e-02\n",
       "k-NN with k = 13  3.086420e-02\n",
       "k-NN with k = 15  2.777778e-02"
      ]
     },
     "metadata": {},
     "output_type": "display_data"
    }
   ],
   "source": [
    "error <- matrix(c(L.error, k.error), ncol = 1)\n",
    "colnames(error) <- c(\"Error Rate\")\n",
    "rownames(error) <- c(\"Linear Regression\", paste(\"k-NN with k =\", k))\n",
    "error"
   ]
  },
  {
   "cell_type": "markdown",
   "id": "d0741876",
   "metadata": {},
   "source": [
    "The error rate of Linear regression is varying by a lot with knn regression. The knn outperforms Linear regression very well. This signifies that the knn regression is a very good and better method for classification when compared with Linear regression.The training error results are reduced by the fact that there is one direct hit. The amount of error goes up as the number of neighbors is increased."
   ]
  }
 ],
 "metadata": {
  "kernelspec": {
   "display_name": "R",
   "language": "R",
   "name": "ir"
  },
  "language_info": {
   "codemirror_mode": "r",
   "file_extension": ".r",
   "mimetype": "text/x-r-source",
   "name": "R",
   "pygments_lexer": "r",
   "version": "4.2.1"
  }
 },
 "nbformat": 4,
 "nbformat_minor": 5
}
