{
 "cells": [
  {
   "cell_type": "markdown",
   "id": "7d4813bb",
   "metadata": {},
   "source": [
    "# Question 4"
   ]
  },
  {
   "cell_type": "markdown",
   "id": "15d98b7a",
   "metadata": {},
   "source": [
    "The Supporting code for my homework is in :\n",
    "https://github.com/Geethik07/Statistical-Data-Mining-I/tree/main/Final%20HW"
   ]
  },
  {
   "cell_type": "code",
   "execution_count": 1,
   "id": "7f758b5c",
   "metadata": {},
   "outputs": [],
   "source": [
    "rm (list = ls())"
   ]
  },
  {
   "cell_type": "code",
   "execution_count": 2,
   "id": "abbee07d",
   "metadata": {},
   "outputs": [
    {
     "name": "stderr",
     "output_type": "stream",
     "text": [
      "── \u001b[1mAttaching packages\u001b[22m ─────────────────────────────────────── tidyverse 1.3.2 ──\n",
      "\u001b[32m✔\u001b[39m \u001b[34mggplot2\u001b[39m 3.3.6      \u001b[32m✔\u001b[39m \u001b[34mpurrr  \u001b[39m 0.3.4 \n",
      "\u001b[32m✔\u001b[39m \u001b[34mtibble \u001b[39m 3.1.8      \u001b[32m✔\u001b[39m \u001b[34mdplyr  \u001b[39m 1.0.10\n",
      "\u001b[32m✔\u001b[39m \u001b[34mtidyr  \u001b[39m 1.2.1      \u001b[32m✔\u001b[39m \u001b[34mstringr\u001b[39m 1.4.1 \n",
      "\u001b[32m✔\u001b[39m \u001b[34mreadr  \u001b[39m 2.1.3      \u001b[32m✔\u001b[39m \u001b[34mforcats\u001b[39m 0.5.2 \n",
      "── \u001b[1mConflicts\u001b[22m ────────────────────────────────────────── tidyverse_conflicts() ──\n",
      "\u001b[31m✖\u001b[39m \u001b[34mdplyr\u001b[39m::\u001b[32mfilter()\u001b[39m masks \u001b[34mstats\u001b[39m::filter()\n",
      "\u001b[31m✖\u001b[39m \u001b[34mdplyr\u001b[39m::\u001b[32mlag()\u001b[39m    masks \u001b[34mstats\u001b[39m::lag()\n",
      "Loading required package: lattice\n",
      "\n",
      "\n",
      "Attaching package: ‘caret’\n",
      "\n",
      "\n",
      "The following object is masked from ‘package:purrr’:\n",
      "\n",
      "    lift\n",
      "\n",
      "\n"
     ]
    }
   ],
   "source": [
    "library(ISLR2)\n",
    "library(tidyverse)\n",
    "library(caret)\n",
    "library(ggthemes)"
   ]
  },
  {
   "cell_type": "code",
   "execution_count": 3,
   "id": "fe3567b5",
   "metadata": {},
   "outputs": [],
   "source": [
    "#install.packages(\"e1071\")"
   ]
  },
  {
   "cell_type": "code",
   "execution_count": 3,
   "id": "aa050072",
   "metadata": {},
   "outputs": [],
   "source": [
    "library(e1071)"
   ]
  },
  {
   "cell_type": "markdown",
   "id": "a070c12e",
   "metadata": {},
   "source": [
    "### a) Create a training set containing a random sample of 800 observations, and a test set containing the remaining observations."
   ]
  },
  {
   "cell_type": "code",
   "execution_count": 4,
   "id": "440a2a23",
   "metadata": {},
   "outputs": [
    {
     "data": {
      "text/html": [
       "<style>\n",
       ".list-inline {list-style: none; margin:0; padding: 0}\n",
       ".list-inline>li {display: inline-block}\n",
       ".list-inline>li:not(:last-child)::after {content: \"\\00b7\"; padding: 0 .5ex}\n",
       "</style>\n",
       "<ol class=list-inline><li>1070</li><li>18</li></ol>\n"
      ],
      "text/latex": [
       "\\begin{enumerate*}\n",
       "\\item 1070\n",
       "\\item 18\n",
       "\\end{enumerate*}\n"
      ],
      "text/markdown": [
       "1. 1070\n",
       "2. 18\n",
       "\n",
       "\n"
      ],
      "text/plain": [
       "[1] 1070   18"
      ]
     },
     "metadata": {},
     "output_type": "display_data"
    },
    {
     "data": {
      "text/html": [
       "<table class=\"dataframe\">\n",
       "<caption>A data.frame: 6 × 18</caption>\n",
       "<thead>\n",
       "\t<tr><th></th><th scope=col>Purchase</th><th scope=col>WeekofPurchase</th><th scope=col>StoreID</th><th scope=col>PriceCH</th><th scope=col>PriceMM</th><th scope=col>DiscCH</th><th scope=col>DiscMM</th><th scope=col>SpecialCH</th><th scope=col>SpecialMM</th><th scope=col>LoyalCH</th><th scope=col>SalePriceMM</th><th scope=col>SalePriceCH</th><th scope=col>PriceDiff</th><th scope=col>Store7</th><th scope=col>PctDiscMM</th><th scope=col>PctDiscCH</th><th scope=col>ListPriceDiff</th><th scope=col>STORE</th></tr>\n",
       "\t<tr><th></th><th scope=col>&lt;fct&gt;</th><th scope=col>&lt;dbl&gt;</th><th scope=col>&lt;dbl&gt;</th><th scope=col>&lt;dbl&gt;</th><th scope=col>&lt;dbl&gt;</th><th scope=col>&lt;dbl&gt;</th><th scope=col>&lt;dbl&gt;</th><th scope=col>&lt;dbl&gt;</th><th scope=col>&lt;dbl&gt;</th><th scope=col>&lt;dbl&gt;</th><th scope=col>&lt;dbl&gt;</th><th scope=col>&lt;dbl&gt;</th><th scope=col>&lt;dbl&gt;</th><th scope=col>&lt;fct&gt;</th><th scope=col>&lt;dbl&gt;</th><th scope=col>&lt;dbl&gt;</th><th scope=col>&lt;dbl&gt;</th><th scope=col>&lt;dbl&gt;</th></tr>\n",
       "</thead>\n",
       "<tbody>\n",
       "\t<tr><th scope=row>1</th><td>CH</td><td>237</td><td>1</td><td>1.75</td><td>1.99</td><td>0.00</td><td>0.0</td><td>0</td><td>0</td><td>0.500000</td><td>1.99</td><td>1.75</td><td> 0.24</td><td>No </td><td>0.000000</td><td>0.000000</td><td>0.24</td><td>1</td></tr>\n",
       "\t<tr><th scope=row>2</th><td>CH</td><td>239</td><td>1</td><td>1.75</td><td>1.99</td><td>0.00</td><td>0.3</td><td>0</td><td>1</td><td>0.600000</td><td>1.69</td><td>1.75</td><td>-0.06</td><td>No </td><td>0.150754</td><td>0.000000</td><td>0.24</td><td>1</td></tr>\n",
       "\t<tr><th scope=row>3</th><td>CH</td><td>245</td><td>1</td><td>1.86</td><td>2.09</td><td>0.17</td><td>0.0</td><td>0</td><td>0</td><td>0.680000</td><td>2.09</td><td>1.69</td><td> 0.40</td><td>No </td><td>0.000000</td><td>0.091398</td><td>0.23</td><td>1</td></tr>\n",
       "\t<tr><th scope=row>4</th><td>MM</td><td>227</td><td>1</td><td>1.69</td><td>1.69</td><td>0.00</td><td>0.0</td><td>0</td><td>0</td><td>0.400000</td><td>1.69</td><td>1.69</td><td> 0.00</td><td>No </td><td>0.000000</td><td>0.000000</td><td>0.00</td><td>1</td></tr>\n",
       "\t<tr><th scope=row>5</th><td>CH</td><td>228</td><td>7</td><td>1.69</td><td>1.69</td><td>0.00</td><td>0.0</td><td>0</td><td>0</td><td>0.956535</td><td>1.69</td><td>1.69</td><td> 0.00</td><td>Yes</td><td>0.000000</td><td>0.000000</td><td>0.00</td><td>0</td></tr>\n",
       "\t<tr><th scope=row>6</th><td>CH</td><td>230</td><td>7</td><td>1.69</td><td>1.99</td><td>0.00</td><td>0.0</td><td>0</td><td>1</td><td>0.965228</td><td>1.99</td><td>1.69</td><td> 0.30</td><td>Yes</td><td>0.000000</td><td>0.000000</td><td>0.30</td><td>0</td></tr>\n",
       "</tbody>\n",
       "</table>\n"
      ],
      "text/latex": [
       "A data.frame: 6 × 18\n",
       "\\begin{tabular}{r|llllllllllllllllll}\n",
       "  & Purchase & WeekofPurchase & StoreID & PriceCH & PriceMM & DiscCH & DiscMM & SpecialCH & SpecialMM & LoyalCH & SalePriceMM & SalePriceCH & PriceDiff & Store7 & PctDiscMM & PctDiscCH & ListPriceDiff & STORE\\\\\n",
       "  & <fct> & <dbl> & <dbl> & <dbl> & <dbl> & <dbl> & <dbl> & <dbl> & <dbl> & <dbl> & <dbl> & <dbl> & <dbl> & <fct> & <dbl> & <dbl> & <dbl> & <dbl>\\\\\n",
       "\\hline\n",
       "\t1 & CH & 237 & 1 & 1.75 & 1.99 & 0.00 & 0.0 & 0 & 0 & 0.500000 & 1.99 & 1.75 &  0.24 & No  & 0.000000 & 0.000000 & 0.24 & 1\\\\\n",
       "\t2 & CH & 239 & 1 & 1.75 & 1.99 & 0.00 & 0.3 & 0 & 1 & 0.600000 & 1.69 & 1.75 & -0.06 & No  & 0.150754 & 0.000000 & 0.24 & 1\\\\\n",
       "\t3 & CH & 245 & 1 & 1.86 & 2.09 & 0.17 & 0.0 & 0 & 0 & 0.680000 & 2.09 & 1.69 &  0.40 & No  & 0.000000 & 0.091398 & 0.23 & 1\\\\\n",
       "\t4 & MM & 227 & 1 & 1.69 & 1.69 & 0.00 & 0.0 & 0 & 0 & 0.400000 & 1.69 & 1.69 &  0.00 & No  & 0.000000 & 0.000000 & 0.00 & 1\\\\\n",
       "\t5 & CH & 228 & 7 & 1.69 & 1.69 & 0.00 & 0.0 & 0 & 0 & 0.956535 & 1.69 & 1.69 &  0.00 & Yes & 0.000000 & 0.000000 & 0.00 & 0\\\\\n",
       "\t6 & CH & 230 & 7 & 1.69 & 1.99 & 0.00 & 0.0 & 0 & 1 & 0.965228 & 1.99 & 1.69 &  0.30 & Yes & 0.000000 & 0.000000 & 0.30 & 0\\\\\n",
       "\\end{tabular}\n"
      ],
      "text/markdown": [
       "\n",
       "A data.frame: 6 × 18\n",
       "\n",
       "| <!--/--> | Purchase &lt;fct&gt; | WeekofPurchase &lt;dbl&gt; | StoreID &lt;dbl&gt; | PriceCH &lt;dbl&gt; | PriceMM &lt;dbl&gt; | DiscCH &lt;dbl&gt; | DiscMM &lt;dbl&gt; | SpecialCH &lt;dbl&gt; | SpecialMM &lt;dbl&gt; | LoyalCH &lt;dbl&gt; | SalePriceMM &lt;dbl&gt; | SalePriceCH &lt;dbl&gt; | PriceDiff &lt;dbl&gt; | Store7 &lt;fct&gt; | PctDiscMM &lt;dbl&gt; | PctDiscCH &lt;dbl&gt; | ListPriceDiff &lt;dbl&gt; | STORE &lt;dbl&gt; |\n",
       "|---|---|---|---|---|---|---|---|---|---|---|---|---|---|---|---|---|---|---|\n",
       "| 1 | CH | 237 | 1 | 1.75 | 1.99 | 0.00 | 0.0 | 0 | 0 | 0.500000 | 1.99 | 1.75 |  0.24 | No  | 0.000000 | 0.000000 | 0.24 | 1 |\n",
       "| 2 | CH | 239 | 1 | 1.75 | 1.99 | 0.00 | 0.3 | 0 | 1 | 0.600000 | 1.69 | 1.75 | -0.06 | No  | 0.150754 | 0.000000 | 0.24 | 1 |\n",
       "| 3 | CH | 245 | 1 | 1.86 | 2.09 | 0.17 | 0.0 | 0 | 0 | 0.680000 | 2.09 | 1.69 |  0.40 | No  | 0.000000 | 0.091398 | 0.23 | 1 |\n",
       "| 4 | MM | 227 | 1 | 1.69 | 1.69 | 0.00 | 0.0 | 0 | 0 | 0.400000 | 1.69 | 1.69 |  0.00 | No  | 0.000000 | 0.000000 | 0.00 | 1 |\n",
       "| 5 | CH | 228 | 7 | 1.69 | 1.69 | 0.00 | 0.0 | 0 | 0 | 0.956535 | 1.69 | 1.69 |  0.00 | Yes | 0.000000 | 0.000000 | 0.00 | 0 |\n",
       "| 6 | CH | 230 | 7 | 1.69 | 1.99 | 0.00 | 0.0 | 0 | 1 | 0.965228 | 1.99 | 1.69 |  0.30 | Yes | 0.000000 | 0.000000 | 0.30 | 0 |\n",
       "\n"
      ],
      "text/plain": [
       "  Purchase WeekofPurchase StoreID PriceCH PriceMM DiscCH DiscMM SpecialCH\n",
       "1 CH       237            1       1.75    1.99    0.00   0.0    0        \n",
       "2 CH       239            1       1.75    1.99    0.00   0.3    0        \n",
       "3 CH       245            1       1.86    2.09    0.17   0.0    0        \n",
       "4 MM       227            1       1.69    1.69    0.00   0.0    0        \n",
       "5 CH       228            7       1.69    1.69    0.00   0.0    0        \n",
       "6 CH       230            7       1.69    1.99    0.00   0.0    0        \n",
       "  SpecialMM LoyalCH  SalePriceMM SalePriceCH PriceDiff Store7 PctDiscMM\n",
       "1 0         0.500000 1.99        1.75         0.24     No     0.000000 \n",
       "2 1         0.600000 1.69        1.75        -0.06     No     0.150754 \n",
       "3 0         0.680000 2.09        1.69         0.40     No     0.000000 \n",
       "4 0         0.400000 1.69        1.69         0.00     No     0.000000 \n",
       "5 0         0.956535 1.69        1.69         0.00     Yes    0.000000 \n",
       "6 1         0.965228 1.99        1.69         0.30     Yes    0.000000 \n",
       "  PctDiscCH ListPriceDiff STORE\n",
       "1 0.000000  0.24          1    \n",
       "2 0.000000  0.24          1    \n",
       "3 0.091398  0.23          1    \n",
       "4 0.000000  0.00          1    \n",
       "5 0.000000  0.00          0    \n",
       "6 0.000000  0.30          0    "
      ]
     },
     "metadata": {},
     "output_type": "display_data"
    }
   ],
   "source": [
    "set.seed(123)\n",
    "data('OJ')\n",
    "dim(OJ)\n",
    "head(OJ)\n",
    "inTrain <- sample(nrow(OJ), 800, replace = FALSE)"
   ]
  },
  {
   "cell_type": "code",
   "execution_count": 5,
   "id": "8ec1cf1d",
   "metadata": {},
   "outputs": [
    {
     "data": {
      "text/html": [
       "<style>\n",
       ".list-inline {list-style: none; margin:0; padding: 0}\n",
       ".list-inline>li {display: inline-block}\n",
       ".list-inline>li:not(:last-child)::after {content: \"\\00b7\"; padding: 0 .5ex}\n",
       "</style>\n",
       "<ol class=list-inline><li>800</li><li>18</li></ol>\n"
      ],
      "text/latex": [
       "\\begin{enumerate*}\n",
       "\\item 800\n",
       "\\item 18\n",
       "\\end{enumerate*}\n"
      ],
      "text/markdown": [
       "1. 800\n",
       "2. 18\n",
       "\n",
       "\n"
      ],
      "text/plain": [
       "[1] 800  18"
      ]
     },
     "metadata": {},
     "output_type": "display_data"
    },
    {
     "data": {
      "text/html": [
       "<table class=\"dataframe\">\n",
       "<caption>A data.frame: 6 × 18</caption>\n",
       "<thead>\n",
       "\t<tr><th></th><th scope=col>Purchase</th><th scope=col>WeekofPurchase</th><th scope=col>StoreID</th><th scope=col>PriceCH</th><th scope=col>PriceMM</th><th scope=col>DiscCH</th><th scope=col>DiscMM</th><th scope=col>SpecialCH</th><th scope=col>SpecialMM</th><th scope=col>LoyalCH</th><th scope=col>SalePriceMM</th><th scope=col>SalePriceCH</th><th scope=col>PriceDiff</th><th scope=col>Store7</th><th scope=col>PctDiscMM</th><th scope=col>PctDiscCH</th><th scope=col>ListPriceDiff</th><th scope=col>STORE</th></tr>\n",
       "\t<tr><th></th><th scope=col>&lt;fct&gt;</th><th scope=col>&lt;dbl&gt;</th><th scope=col>&lt;dbl&gt;</th><th scope=col>&lt;dbl&gt;</th><th scope=col>&lt;dbl&gt;</th><th scope=col>&lt;dbl&gt;</th><th scope=col>&lt;dbl&gt;</th><th scope=col>&lt;dbl&gt;</th><th scope=col>&lt;dbl&gt;</th><th scope=col>&lt;dbl&gt;</th><th scope=col>&lt;dbl&gt;</th><th scope=col>&lt;dbl&gt;</th><th scope=col>&lt;dbl&gt;</th><th scope=col>&lt;fct&gt;</th><th scope=col>&lt;dbl&gt;</th><th scope=col>&lt;dbl&gt;</th><th scope=col>&lt;dbl&gt;</th><th scope=col>&lt;dbl&gt;</th></tr>\n",
       "</thead>\n",
       "<tbody>\n",
       "\t<tr><th scope=row>415</th><td>MM</td><td>238</td><td>3</td><td>1.79</td><td>2.09</td><td>0.0</td><td>0.0</td><td>0</td><td>0</td><td>0.145350</td><td>2.09</td><td>1.79</td><td> 0.30</td><td>No </td><td>0.000000</td><td>0.000000</td><td>0.30</td><td>3</td></tr>\n",
       "\t<tr><th scope=row>463</th><td>CH</td><td>228</td><td>7</td><td>1.69</td><td>1.69</td><td>0.0</td><td>0.0</td><td>0</td><td>0</td><td>0.584000</td><td>1.69</td><td>1.69</td><td> 0.00</td><td>Yes</td><td>0.000000</td><td>0.000000</td><td>0.00</td><td>0</td></tr>\n",
       "\t<tr><th scope=row>179</th><td>CH</td><td>244</td><td>7</td><td>1.86</td><td>2.09</td><td>0.0</td><td>0.2</td><td>0</td><td>0</td><td>0.992794</td><td>1.89</td><td>1.86</td><td> 0.03</td><td>Yes</td><td>0.095694</td><td>0.000000</td><td>0.23</td><td>0</td></tr>\n",
       "\t<tr><th scope=row>526</th><td>MM</td><td>263</td><td>1</td><td>1.76</td><td>1.99</td><td>0.0</td><td>0.4</td><td>0</td><td>1</td><td>0.400000</td><td>1.59</td><td>1.76</td><td>-0.17</td><td>No </td><td>0.201005</td><td>0.000000</td><td>0.23</td><td>1</td></tr>\n",
       "\t<tr><th scope=row>195</th><td>CH</td><td>271</td><td>4</td><td>1.99</td><td>2.09</td><td>0.1</td><td>0.4</td><td>1</td><td>0</td><td>0.999797</td><td>1.69</td><td>1.89</td><td>-0.20</td><td>No </td><td>0.191388</td><td>0.050251</td><td>0.10</td><td>4</td></tr>\n",
       "\t<tr><th scope=row>938</th><td>MM</td><td>233</td><td>2</td><td>1.69</td><td>1.69</td><td>0.0</td><td>0.0</td><td>0</td><td>0</td><td>0.108486</td><td>1.69</td><td>1.69</td><td> 0.00</td><td>No </td><td>0.000000</td><td>0.000000</td><td>0.00</td><td>2</td></tr>\n",
       "</tbody>\n",
       "</table>\n"
      ],
      "text/latex": [
       "A data.frame: 6 × 18\n",
       "\\begin{tabular}{r|llllllllllllllllll}\n",
       "  & Purchase & WeekofPurchase & StoreID & PriceCH & PriceMM & DiscCH & DiscMM & SpecialCH & SpecialMM & LoyalCH & SalePriceMM & SalePriceCH & PriceDiff & Store7 & PctDiscMM & PctDiscCH & ListPriceDiff & STORE\\\\\n",
       "  & <fct> & <dbl> & <dbl> & <dbl> & <dbl> & <dbl> & <dbl> & <dbl> & <dbl> & <dbl> & <dbl> & <dbl> & <dbl> & <fct> & <dbl> & <dbl> & <dbl> & <dbl>\\\\\n",
       "\\hline\n",
       "\t415 & MM & 238 & 3 & 1.79 & 2.09 & 0.0 & 0.0 & 0 & 0 & 0.145350 & 2.09 & 1.79 &  0.30 & No  & 0.000000 & 0.000000 & 0.30 & 3\\\\\n",
       "\t463 & CH & 228 & 7 & 1.69 & 1.69 & 0.0 & 0.0 & 0 & 0 & 0.584000 & 1.69 & 1.69 &  0.00 & Yes & 0.000000 & 0.000000 & 0.00 & 0\\\\\n",
       "\t179 & CH & 244 & 7 & 1.86 & 2.09 & 0.0 & 0.2 & 0 & 0 & 0.992794 & 1.89 & 1.86 &  0.03 & Yes & 0.095694 & 0.000000 & 0.23 & 0\\\\\n",
       "\t526 & MM & 263 & 1 & 1.76 & 1.99 & 0.0 & 0.4 & 0 & 1 & 0.400000 & 1.59 & 1.76 & -0.17 & No  & 0.201005 & 0.000000 & 0.23 & 1\\\\\n",
       "\t195 & CH & 271 & 4 & 1.99 & 2.09 & 0.1 & 0.4 & 1 & 0 & 0.999797 & 1.69 & 1.89 & -0.20 & No  & 0.191388 & 0.050251 & 0.10 & 4\\\\\n",
       "\t938 & MM & 233 & 2 & 1.69 & 1.69 & 0.0 & 0.0 & 0 & 0 & 0.108486 & 1.69 & 1.69 &  0.00 & No  & 0.000000 & 0.000000 & 0.00 & 2\\\\\n",
       "\\end{tabular}\n"
      ],
      "text/markdown": [
       "\n",
       "A data.frame: 6 × 18\n",
       "\n",
       "| <!--/--> | Purchase &lt;fct&gt; | WeekofPurchase &lt;dbl&gt; | StoreID &lt;dbl&gt; | PriceCH &lt;dbl&gt; | PriceMM &lt;dbl&gt; | DiscCH &lt;dbl&gt; | DiscMM &lt;dbl&gt; | SpecialCH &lt;dbl&gt; | SpecialMM &lt;dbl&gt; | LoyalCH &lt;dbl&gt; | SalePriceMM &lt;dbl&gt; | SalePriceCH &lt;dbl&gt; | PriceDiff &lt;dbl&gt; | Store7 &lt;fct&gt; | PctDiscMM &lt;dbl&gt; | PctDiscCH &lt;dbl&gt; | ListPriceDiff &lt;dbl&gt; | STORE &lt;dbl&gt; |\n",
       "|---|---|---|---|---|---|---|---|---|---|---|---|---|---|---|---|---|---|---|\n",
       "| 415 | MM | 238 | 3 | 1.79 | 2.09 | 0.0 | 0.0 | 0 | 0 | 0.145350 | 2.09 | 1.79 |  0.30 | No  | 0.000000 | 0.000000 | 0.30 | 3 |\n",
       "| 463 | CH | 228 | 7 | 1.69 | 1.69 | 0.0 | 0.0 | 0 | 0 | 0.584000 | 1.69 | 1.69 |  0.00 | Yes | 0.000000 | 0.000000 | 0.00 | 0 |\n",
       "| 179 | CH | 244 | 7 | 1.86 | 2.09 | 0.0 | 0.2 | 0 | 0 | 0.992794 | 1.89 | 1.86 |  0.03 | Yes | 0.095694 | 0.000000 | 0.23 | 0 |\n",
       "| 526 | MM | 263 | 1 | 1.76 | 1.99 | 0.0 | 0.4 | 0 | 1 | 0.400000 | 1.59 | 1.76 | -0.17 | No  | 0.201005 | 0.000000 | 0.23 | 1 |\n",
       "| 195 | CH | 271 | 4 | 1.99 | 2.09 | 0.1 | 0.4 | 1 | 0 | 0.999797 | 1.69 | 1.89 | -0.20 | No  | 0.191388 | 0.050251 | 0.10 | 4 |\n",
       "| 938 | MM | 233 | 2 | 1.69 | 1.69 | 0.0 | 0.0 | 0 | 0 | 0.108486 | 1.69 | 1.69 |  0.00 | No  | 0.000000 | 0.000000 | 0.00 | 2 |\n",
       "\n"
      ],
      "text/plain": [
       "    Purchase WeekofPurchase StoreID PriceCH PriceMM DiscCH DiscMM SpecialCH\n",
       "415 MM       238            3       1.79    2.09    0.0    0.0    0        \n",
       "463 CH       228            7       1.69    1.69    0.0    0.0    0        \n",
       "179 CH       244            7       1.86    2.09    0.0    0.2    0        \n",
       "526 MM       263            1       1.76    1.99    0.0    0.4    0        \n",
       "195 CH       271            4       1.99    2.09    0.1    0.4    1        \n",
       "938 MM       233            2       1.69    1.69    0.0    0.0    0        \n",
       "    SpecialMM LoyalCH  SalePriceMM SalePriceCH PriceDiff Store7 PctDiscMM\n",
       "415 0         0.145350 2.09        1.79         0.30     No     0.000000 \n",
       "463 0         0.584000 1.69        1.69         0.00     Yes    0.000000 \n",
       "179 0         0.992794 1.89        1.86         0.03     Yes    0.095694 \n",
       "526 1         0.400000 1.59        1.76        -0.17     No     0.201005 \n",
       "195 0         0.999797 1.69        1.89        -0.20     No     0.191388 \n",
       "938 0         0.108486 1.69        1.69         0.00     No     0.000000 \n",
       "    PctDiscCH ListPriceDiff STORE\n",
       "415 0.000000  0.30          3    \n",
       "463 0.000000  0.00          0    \n",
       "179 0.000000  0.23          0    \n",
       "526 0.000000  0.23          1    \n",
       "195 0.050251  0.10          4    \n",
       "938 0.000000  0.00          2    "
      ]
     },
     "metadata": {},
     "output_type": "display_data"
    },
    {
     "data": {
      "text/html": [
       "<style>\n",
       ".list-inline {list-style: none; margin:0; padding: 0}\n",
       ".list-inline>li {display: inline-block}\n",
       ".list-inline>li:not(:last-child)::after {content: \"\\00b7\"; padding: 0 .5ex}\n",
       "</style>\n",
       "<ol class=list-inline><li>270</li><li>18</li></ol>\n"
      ],
      "text/latex": [
       "\\begin{enumerate*}\n",
       "\\item 270\n",
       "\\item 18\n",
       "\\end{enumerate*}\n"
      ],
      "text/markdown": [
       "1. 270\n",
       "2. 18\n",
       "\n",
       "\n"
      ],
      "text/plain": [
       "[1] 270  18"
      ]
     },
     "metadata": {},
     "output_type": "display_data"
    },
    {
     "data": {
      "text/html": [
       "<table class=\"dataframe\">\n",
       "<caption>A data.frame: 6 × 18</caption>\n",
       "<thead>\n",
       "\t<tr><th></th><th scope=col>Purchase</th><th scope=col>WeekofPurchase</th><th scope=col>StoreID</th><th scope=col>PriceCH</th><th scope=col>PriceMM</th><th scope=col>DiscCH</th><th scope=col>DiscMM</th><th scope=col>SpecialCH</th><th scope=col>SpecialMM</th><th scope=col>LoyalCH</th><th scope=col>SalePriceMM</th><th scope=col>SalePriceCH</th><th scope=col>PriceDiff</th><th scope=col>Store7</th><th scope=col>PctDiscMM</th><th scope=col>PctDiscCH</th><th scope=col>ListPriceDiff</th><th scope=col>STORE</th></tr>\n",
       "\t<tr><th></th><th scope=col>&lt;fct&gt;</th><th scope=col>&lt;dbl&gt;</th><th scope=col>&lt;dbl&gt;</th><th scope=col>&lt;dbl&gt;</th><th scope=col>&lt;dbl&gt;</th><th scope=col>&lt;dbl&gt;</th><th scope=col>&lt;dbl&gt;</th><th scope=col>&lt;dbl&gt;</th><th scope=col>&lt;dbl&gt;</th><th scope=col>&lt;dbl&gt;</th><th scope=col>&lt;dbl&gt;</th><th scope=col>&lt;dbl&gt;</th><th scope=col>&lt;dbl&gt;</th><th scope=col>&lt;fct&gt;</th><th scope=col>&lt;dbl&gt;</th><th scope=col>&lt;dbl&gt;</th><th scope=col>&lt;dbl&gt;</th><th scope=col>&lt;dbl&gt;</th></tr>\n",
       "</thead>\n",
       "<tbody>\n",
       "\t<tr><th scope=row>1</th><td>CH</td><td>237</td><td>1</td><td>1.75</td><td>1.99</td><td>0.00</td><td>0.0</td><td>0</td><td>0</td><td>0.500000</td><td>1.99</td><td>1.75</td><td> 0.24</td><td>No </td><td>0.000000</td><td>0.000000</td><td>0.24</td><td>1</td></tr>\n",
       "\t<tr><th scope=row>3</th><td>CH</td><td>245</td><td>1</td><td>1.86</td><td>2.09</td><td>0.17</td><td>0.0</td><td>0</td><td>0</td><td>0.680000</td><td>2.09</td><td>1.69</td><td> 0.40</td><td>No </td><td>0.000000</td><td>0.091398</td><td>0.23</td><td>1</td></tr>\n",
       "\t<tr><th scope=row>7</th><td>CH</td><td>232</td><td>7</td><td>1.69</td><td>1.99</td><td>0.00</td><td>0.4</td><td>1</td><td>1</td><td>0.972182</td><td>1.59</td><td>1.69</td><td>-0.10</td><td>Yes</td><td>0.201005</td><td>0.000000</td><td>0.30</td><td>0</td></tr>\n",
       "\t<tr><th scope=row>9</th><td>CH</td><td>235</td><td>7</td><td>1.75</td><td>1.99</td><td>0.00</td><td>0.4</td><td>0</td><td>0</td><td>0.982197</td><td>1.59</td><td>1.75</td><td>-0.16</td><td>Yes</td><td>0.201005</td><td>0.000000</td><td>0.24</td><td>0</td></tr>\n",
       "\t<tr><th scope=row>12</th><td>CH</td><td>263</td><td>7</td><td>1.86</td><td>2.13</td><td>0.27</td><td>0.0</td><td>0</td><td>0</td><td>0.990885</td><td>2.13</td><td>1.59</td><td> 0.54</td><td>Yes</td><td>0.000000</td><td>0.145161</td><td>0.27</td><td>0</td></tr>\n",
       "\t<tr><th scope=row>14</th><td>CH</td><td>268</td><td>7</td><td>1.86</td><td>2.13</td><td>0.00</td><td>0.0</td><td>0</td><td>0</td><td>0.680000</td><td>2.13</td><td>1.86</td><td> 0.27</td><td>Yes</td><td>0.000000</td><td>0.000000</td><td>0.27</td><td>0</td></tr>\n",
       "</tbody>\n",
       "</table>\n"
      ],
      "text/latex": [
       "A data.frame: 6 × 18\n",
       "\\begin{tabular}{r|llllllllllllllllll}\n",
       "  & Purchase & WeekofPurchase & StoreID & PriceCH & PriceMM & DiscCH & DiscMM & SpecialCH & SpecialMM & LoyalCH & SalePriceMM & SalePriceCH & PriceDiff & Store7 & PctDiscMM & PctDiscCH & ListPriceDiff & STORE\\\\\n",
       "  & <fct> & <dbl> & <dbl> & <dbl> & <dbl> & <dbl> & <dbl> & <dbl> & <dbl> & <dbl> & <dbl> & <dbl> & <dbl> & <fct> & <dbl> & <dbl> & <dbl> & <dbl>\\\\\n",
       "\\hline\n",
       "\t1 & CH & 237 & 1 & 1.75 & 1.99 & 0.00 & 0.0 & 0 & 0 & 0.500000 & 1.99 & 1.75 &  0.24 & No  & 0.000000 & 0.000000 & 0.24 & 1\\\\\n",
       "\t3 & CH & 245 & 1 & 1.86 & 2.09 & 0.17 & 0.0 & 0 & 0 & 0.680000 & 2.09 & 1.69 &  0.40 & No  & 0.000000 & 0.091398 & 0.23 & 1\\\\\n",
       "\t7 & CH & 232 & 7 & 1.69 & 1.99 & 0.00 & 0.4 & 1 & 1 & 0.972182 & 1.59 & 1.69 & -0.10 & Yes & 0.201005 & 0.000000 & 0.30 & 0\\\\\n",
       "\t9 & CH & 235 & 7 & 1.75 & 1.99 & 0.00 & 0.4 & 0 & 0 & 0.982197 & 1.59 & 1.75 & -0.16 & Yes & 0.201005 & 0.000000 & 0.24 & 0\\\\\n",
       "\t12 & CH & 263 & 7 & 1.86 & 2.13 & 0.27 & 0.0 & 0 & 0 & 0.990885 & 2.13 & 1.59 &  0.54 & Yes & 0.000000 & 0.145161 & 0.27 & 0\\\\\n",
       "\t14 & CH & 268 & 7 & 1.86 & 2.13 & 0.00 & 0.0 & 0 & 0 & 0.680000 & 2.13 & 1.86 &  0.27 & Yes & 0.000000 & 0.000000 & 0.27 & 0\\\\\n",
       "\\end{tabular}\n"
      ],
      "text/markdown": [
       "\n",
       "A data.frame: 6 × 18\n",
       "\n",
       "| <!--/--> | Purchase &lt;fct&gt; | WeekofPurchase &lt;dbl&gt; | StoreID &lt;dbl&gt; | PriceCH &lt;dbl&gt; | PriceMM &lt;dbl&gt; | DiscCH &lt;dbl&gt; | DiscMM &lt;dbl&gt; | SpecialCH &lt;dbl&gt; | SpecialMM &lt;dbl&gt; | LoyalCH &lt;dbl&gt; | SalePriceMM &lt;dbl&gt; | SalePriceCH &lt;dbl&gt; | PriceDiff &lt;dbl&gt; | Store7 &lt;fct&gt; | PctDiscMM &lt;dbl&gt; | PctDiscCH &lt;dbl&gt; | ListPriceDiff &lt;dbl&gt; | STORE &lt;dbl&gt; |\n",
       "|---|---|---|---|---|---|---|---|---|---|---|---|---|---|---|---|---|---|---|\n",
       "| 1 | CH | 237 | 1 | 1.75 | 1.99 | 0.00 | 0.0 | 0 | 0 | 0.500000 | 1.99 | 1.75 |  0.24 | No  | 0.000000 | 0.000000 | 0.24 | 1 |\n",
       "| 3 | CH | 245 | 1 | 1.86 | 2.09 | 0.17 | 0.0 | 0 | 0 | 0.680000 | 2.09 | 1.69 |  0.40 | No  | 0.000000 | 0.091398 | 0.23 | 1 |\n",
       "| 7 | CH | 232 | 7 | 1.69 | 1.99 | 0.00 | 0.4 | 1 | 1 | 0.972182 | 1.59 | 1.69 | -0.10 | Yes | 0.201005 | 0.000000 | 0.30 | 0 |\n",
       "| 9 | CH | 235 | 7 | 1.75 | 1.99 | 0.00 | 0.4 | 0 | 0 | 0.982197 | 1.59 | 1.75 | -0.16 | Yes | 0.201005 | 0.000000 | 0.24 | 0 |\n",
       "| 12 | CH | 263 | 7 | 1.86 | 2.13 | 0.27 | 0.0 | 0 | 0 | 0.990885 | 2.13 | 1.59 |  0.54 | Yes | 0.000000 | 0.145161 | 0.27 | 0 |\n",
       "| 14 | CH | 268 | 7 | 1.86 | 2.13 | 0.00 | 0.0 | 0 | 0 | 0.680000 | 2.13 | 1.86 |  0.27 | Yes | 0.000000 | 0.000000 | 0.27 | 0 |\n",
       "\n"
      ],
      "text/plain": [
       "   Purchase WeekofPurchase StoreID PriceCH PriceMM DiscCH DiscMM SpecialCH\n",
       "1  CH       237            1       1.75    1.99    0.00   0.0    0        \n",
       "3  CH       245            1       1.86    2.09    0.17   0.0    0        \n",
       "7  CH       232            7       1.69    1.99    0.00   0.4    1        \n",
       "9  CH       235            7       1.75    1.99    0.00   0.4    0        \n",
       "12 CH       263            7       1.86    2.13    0.27   0.0    0        \n",
       "14 CH       268            7       1.86    2.13    0.00   0.0    0        \n",
       "   SpecialMM LoyalCH  SalePriceMM SalePriceCH PriceDiff Store7 PctDiscMM\n",
       "1  0         0.500000 1.99        1.75         0.24     No     0.000000 \n",
       "3  0         0.680000 2.09        1.69         0.40     No     0.000000 \n",
       "7  1         0.972182 1.59        1.69        -0.10     Yes    0.201005 \n",
       "9  0         0.982197 1.59        1.75        -0.16     Yes    0.201005 \n",
       "12 0         0.990885 2.13        1.59         0.54     Yes    0.000000 \n",
       "14 0         0.680000 2.13        1.86         0.27     Yes    0.000000 \n",
       "   PctDiscCH ListPriceDiff STORE\n",
       "1  0.000000  0.24          1    \n",
       "3  0.091398  0.23          1    \n",
       "7  0.000000  0.30          0    \n",
       "9  0.000000  0.24          0    \n",
       "12 0.145161  0.27          0    \n",
       "14 0.000000  0.27          0    "
      ]
     },
     "metadata": {},
     "output_type": "display_data"
    }
   ],
   "source": [
    "train <- OJ[inTrain,]\n",
    "test <- OJ[-inTrain,]\n",
    "dim(train)\n",
    "head(train)\n",
    "dim(test)\n",
    "head(test)"
   ]
  },
  {
   "cell_type": "markdown",
   "id": "7bb3d47b",
   "metadata": {},
   "source": [
    "### b)  Fit a support vector classifier to the training data using cost = 0.01, with Purchase as the response and the other variables as predictors. Use the summary() function to produce summary statistics, and describe the results obtained."
   ]
  },
  {
   "cell_type": "code",
   "execution_count": 6,
   "id": "d91d5ec9",
   "metadata": {},
   "outputs": [
    {
     "data": {
      "text/plain": [
       "\n",
       "Call:\n",
       "svm(formula = Purchase ~ ., data = train, kernel = \"linear\", cost = 0.01)\n",
       "\n",
       "\n",
       "Parameters:\n",
       "   SVM-Type:  C-classification \n",
       " SVM-Kernel:  linear \n",
       "       cost:  0.01 \n",
       "\n",
       "Number of Support Vectors:  442\n",
       "\n",
       " ( 220 222 )\n",
       "\n",
       "\n",
       "Number of Classes:  2 \n",
       "\n",
       "Levels: \n",
       " CH MM\n",
       "\n",
       "\n"
      ]
     },
     "metadata": {},
     "output_type": "display_data"
    }
   ],
   "source": [
    "svm_linear <- svm(Purchase ~ . , kernel = \"linear\", data = train, cost = 0.01)\n",
    "summary(svm_linear)"
   ]
  },
  {
   "cell_type": "markdown",
   "id": "04b75666",
   "metadata": {},
   "source": [
    "### c) What are the training and test error rates?"
   ]
  },
  {
   "cell_type": "code",
   "execution_count": 7,
   "id": "08a77849",
   "metadata": {},
   "outputs": [],
   "source": [
    "error_rate <- function(svm_model, dataset, true_classes) {\n",
    "  confusion_matrix <- table(predict(svm_model, dataset), true_classes)\n",
    "  return(1 - sum(diag(confusion_matrix)) / sum(confusion_matrix))\n",
    "}"
   ]
  },
  {
   "cell_type": "code",
   "execution_count": 10,
   "id": "f5e2b731",
   "metadata": {},
   "outputs": [
    {
     "name": "stdout",
     "output_type": "stream",
     "text": [
      "Train Error Rate: 0.165"
     ]
    }
   ],
   "source": [
    "cat(\"Train Error Rate:\", error_rate(svm_linear, train, train$Purchase))\n"
   ]
  },
  {
   "cell_type": "code",
   "execution_count": 11,
   "id": "979adf56",
   "metadata": {},
   "outputs": [
    {
     "name": "stdout",
     "output_type": "stream",
     "text": [
      "Test Error Rate: 0.1777778"
     ]
    }
   ],
   "source": [
    "cat(\"Test Error Rate:\", error_rate(svm_linear, test, test$Purchase))\n"
   ]
  },
  {
   "cell_type": "markdown",
   "id": "66a11774",
   "metadata": {},
   "source": [
    "### d)  Use the tune() function to select an optimal cost. Consider values in the range 0.01 to 10."
   ]
  },
  {
   "cell_type": "code",
   "execution_count": 12,
   "id": "cf50f1e6",
   "metadata": {},
   "outputs": [],
   "source": [
    "svm_linear_tune <- tune(svm, Purchase ~ . , data = OJ, kernel = \"linear\", \n",
    "                  ranges = list(cost = seq(0.01, 10, length = 100)))\n"
   ]
  },
  {
   "cell_type": "code",
   "execution_count": 13,
   "id": "46603fcc",
   "metadata": {},
   "outputs": [
    {
     "data": {
      "text/plain": [
       "\n",
       "Parameter tuning of ‘svm’:\n",
       "\n",
       "- sampling method: 10-fold cross validation \n",
       "\n",
       "- best parameters:\n",
       "     cost\n",
       " 1.523636\n",
       "\n",
       "- best performance: 0.1691589 \n",
       "\n",
       "- Detailed performance results:\n",
       "          cost     error dispersion\n",
       "1    0.0100000 0.1757009 0.02981554\n",
       "2    0.1109091 0.1775701 0.02112875\n",
       "3    0.2118182 0.1728972 0.02423107\n",
       "4    0.3127273 0.1728972 0.02578340\n",
       "5    0.4136364 0.1747664 0.02454939\n",
       "6    0.5145455 0.1719626 0.02538511\n",
       "7    0.6154545 0.1719626 0.02538511\n",
       "8    0.7163636 0.1719626 0.02538511\n",
       "9    0.8172727 0.1719626 0.02538511\n",
       "10   0.9181818 0.1719626 0.02538511\n",
       "11   1.0190909 0.1719626 0.02538511\n",
       "12   1.1200000 0.1710280 0.02608279\n",
       "13   1.2209091 0.1719626 0.02687085\n",
       "14   1.3218182 0.1710280 0.02890657\n",
       "15   1.4227273 0.1719626 0.02793335\n",
       "16   1.5236364 0.1691589 0.02802007\n",
       "17   1.6245455 0.1691589 0.02802007\n",
       "18   1.7254545 0.1691589 0.02802007\n",
       "19   1.8263636 0.1719626 0.02758373\n",
       "20   1.9272727 0.1719626 0.02499988\n",
       "21   2.0281818 0.1719626 0.02499988\n",
       "22   2.1290909 0.1719626 0.02499988\n",
       "23   2.2300000 0.1719626 0.02499988\n",
       "24   2.3309091 0.1719626 0.02499988\n",
       "25   2.4318182 0.1710280 0.02645225\n",
       "26   2.5327273 0.1710280 0.02645225\n",
       "27   2.6336364 0.1719626 0.02758373\n",
       "28   2.7345455 0.1719626 0.02758373\n",
       "29   2.8354545 0.1728972 0.02615710\n",
       "30   2.9363636 0.1728972 0.02615710\n",
       "31   3.0372727 0.1728972 0.02615710\n",
       "32   3.1381818 0.1719626 0.02460862\n",
       "33   3.2390909 0.1719626 0.02460862\n",
       "34   3.3400000 0.1710280 0.02333331\n",
       "35   3.4409091 0.1719626 0.02460862\n",
       "36   3.5418182 0.1719626 0.02460862\n",
       "37   3.6427273 0.1719626 0.02460862\n",
       "38   3.7436364 0.1719626 0.02460862\n",
       "39   3.8445455 0.1719626 0.02460862\n",
       "40   3.9454545 0.1728972 0.02462833\n",
       "41   4.0463636 0.1728972 0.02462833\n",
       "42   4.1472727 0.1728972 0.02462833\n",
       "43   4.2481818 0.1728972 0.02462833\n",
       "44   4.3490909 0.1719626 0.02499988\n",
       "45   4.4500000 0.1719626 0.02499988\n",
       "46   4.5509091 0.1710280 0.02374559\n",
       "47   4.6518182 0.1710280 0.02374559\n",
       "48   4.7527273 0.1710280 0.02374559\n",
       "49   4.8536364 0.1710280 0.02374559\n",
       "50   4.9545455 0.1710280 0.02374559\n",
       "51   5.0554545 0.1710280 0.02374559\n",
       "52   5.1563636 0.1710280 0.02374559\n",
       "53   5.2572727 0.1710280 0.02374559\n",
       "54   5.3581818 0.1710280 0.02374559\n",
       "55   5.4590909 0.1710280 0.02374559\n",
       "56   5.5600000 0.1719626 0.02255073\n",
       "57   5.6609091 0.1719626 0.02255073\n",
       "58   5.7618182 0.1710280 0.02374559\n",
       "59   5.8627273 0.1710280 0.02374559\n",
       "60   5.9636364 0.1700935 0.02364320\n",
       "61   6.0645455 0.1700935 0.02364320\n",
       "62   6.1654545 0.1700935 0.02364320\n",
       "63   6.2663636 0.1700935 0.02364320\n",
       "64   6.3672727 0.1710280 0.02248608\n",
       "65   6.4681818 0.1700935 0.02364320\n",
       "66   6.5690909 0.1710280 0.02248608\n",
       "67   6.6700000 0.1700935 0.02364320\n",
       "68   6.7709091 0.1700935 0.02364320\n",
       "69   6.8718182 0.1700935 0.02364320\n",
       "70   6.9727273 0.1700935 0.02364320\n",
       "71   7.0736364 0.1700935 0.02364320\n",
       "72   7.1745455 0.1700935 0.02364320\n",
       "73   7.2754545 0.1700935 0.02364320\n",
       "74   7.3763636 0.1700935 0.02364320\n",
       "75   7.4772727 0.1700935 0.02364320\n",
       "76   7.5781818 0.1700935 0.02364320\n",
       "77   7.6790909 0.1700935 0.02364320\n",
       "78   7.7800000 0.1710280 0.02248608\n",
       "79   7.8809091 0.1710280 0.02248608\n",
       "80   7.9818182 0.1710280 0.02248608\n",
       "81   8.0827273 0.1710280 0.02248608\n",
       "82   8.1836364 0.1710280 0.02248608\n",
       "83   8.2845455 0.1710280 0.02248608\n",
       "84   8.3854545 0.1710280 0.02248608\n",
       "85   8.4863636 0.1710280 0.02248608\n",
       "86   8.5872727 0.1710280 0.02248608\n",
       "87   8.6881818 0.1710280 0.02248608\n",
       "88   8.7890909 0.1700935 0.02149307\n",
       "89   8.8900000 0.1700935 0.02149307\n",
       "90   8.9909091 0.1700935 0.02149307\n",
       "91   9.0918182 0.1700935 0.02149307\n",
       "92   9.1927273 0.1700935 0.02149307\n",
       "93   9.2936364 0.1710280 0.02160566\n",
       "94   9.3945455 0.1700935 0.02149307\n",
       "95   9.4954545 0.1710280 0.02160566\n",
       "96   9.5963636 0.1700935 0.02280748\n",
       "97   9.6972727 0.1700935 0.02280748\n",
       "98   9.7981818 0.1700935 0.02280748\n",
       "99   9.8990909 0.1700935 0.02280748\n",
       "100 10.0000000 0.1700935 0.02280748\n"
      ]
     },
     "metadata": {},
     "output_type": "display_data"
    }
   ],
   "source": [
    "summary(svm_linear_tune)"
   ]
  },
  {
   "cell_type": "markdown",
   "id": "bfde1b56",
   "metadata": {},
   "source": [
    "### e) Compute the training and test error rates using this new value for cost"
   ]
  },
  {
   "cell_type": "code",
   "execution_count": 16,
   "id": "a543d2dc",
   "metadata": {},
   "outputs": [
    {
     "name": "stdout",
     "output_type": "stream",
     "text": [
      "Train Error Rate: 0.15875"
     ]
    }
   ],
   "source": [
    "svm_linear_tune_final <- svm(Purchase ~ . , kernel = \"linear\", \n",
    "                  data = train, cost = svm_linear_tune$best.parameters$cost)\n",
    "\n",
    "cat(\"Train Error Rate:\", error_rate(svm_linear_tune_final, train, train$Purchase))"
   ]
  },
  {
   "cell_type": "code",
   "execution_count": 17,
   "id": "ab316d81",
   "metadata": {},
   "outputs": [
    {
     "name": "stdout",
     "output_type": "stream",
     "text": [
      "Test Error Rate: 0.1518519"
     ]
    }
   ],
   "source": [
    "cat(\"Test Error Rate:\", error_rate(svm_linear_tune_final, test, test$Purchase))"
   ]
  },
  {
   "cell_type": "markdown",
   "id": "21b04569",
   "metadata": {},
   "source": [
    "### f) Repeat parts (b) through (e) using a support vector machine with a radial kernel. Use the default value for gamma."
   ]
  },
  {
   "cell_type": "code",
   "execution_count": 19,
   "id": "aa243736",
   "metadata": {},
   "outputs": [
    {
     "data": {
      "text/plain": [
       "\n",
       "Call:\n",
       "svm(formula = Purchase ~ ., data = train, method = \"radial\", cost = 0.01)\n",
       "\n",
       "\n",
       "Parameters:\n",
       "   SVM-Type:  C-classification \n",
       " SVM-Kernel:  radial \n",
       "       cost:  0.01 \n",
       "\n",
       "Number of Support Vectors:  629\n",
       "\n",
       " ( 313 316 )\n",
       "\n",
       "\n",
       "Number of Classes:  2 \n",
       "\n",
       "Levels: \n",
       " CH MM\n",
       "\n",
       "\n"
      ]
     },
     "metadata": {},
     "output_type": "display_data"
    }
   ],
   "source": [
    "svm_radial <- svm(Purchase ~ ., data = train,\n",
    "                  method = 'radial',\n",
    "                  cost = 0.01)\n",
    "summary(svm_radial)"
   ]
  },
  {
   "cell_type": "code",
   "execution_count": 20,
   "id": "9bc482f4",
   "metadata": {},
   "outputs": [
    {
     "name": "stdout",
     "output_type": "stream",
     "text": [
      "Train Error Rate: 0.39125"
     ]
    }
   ],
   "source": [
    "cat(\"Train Error Rate:\", error_rate(svm_radial, train, train$Purchase))"
   ]
  },
  {
   "cell_type": "code",
   "execution_count": 21,
   "id": "e691c296",
   "metadata": {},
   "outputs": [
    {
     "name": "stdout",
     "output_type": "stream",
     "text": [
      "Test Error Rate: 0.3851852"
     ]
    }
   ],
   "source": [
    "cat(\"Test Error Rate:\", error_rate(svm_radial, test, test$Purchase))"
   ]
  },
  {
   "cell_type": "code",
   "execution_count": 22,
   "id": "a26b97f6",
   "metadata": {},
   "outputs": [
    {
     "name": "stderr",
     "output_type": "stream",
     "text": [
      "\n",
      "Attaching package: ‘kernlab’\n",
      "\n",
      "\n",
      "The following object is masked from ‘package:purrr’:\n",
      "\n",
      "    cross\n",
      "\n",
      "\n",
      "The following object is masked from ‘package:ggplot2’:\n",
      "\n",
      "    alpha\n",
      "\n",
      "\n"
     ]
    }
   ],
   "source": [
    "#install.packages(\"kernlab\")\n",
    "library(kernlab)"
   ]
  },
  {
   "cell_type": "code",
   "execution_count": 23,
   "id": "5b802b2f",
   "metadata": {},
   "outputs": [],
   "source": [
    "svm_radial_tune <- tune(svm, Purchase ~ . , data = train, kernel = \"radial\",\n",
    "                  ranges = list(cost = seq(0.01, 10, length = 100)))\n"
   ]
  },
  {
   "cell_type": "code",
   "execution_count": 24,
   "id": "e4393afd",
   "metadata": {},
   "outputs": [
    {
     "data": {
      "text/plain": [
       "\n",
       "Parameter tuning of ‘svm’:\n",
       "\n",
       "- sampling method: 10-fold cross validation \n",
       "\n",
       "- best parameters:\n",
       "     cost\n",
       " 1.725455\n",
       "\n",
       "- best performance: 0.16125 \n",
       "\n",
       "- Detailed performance results:\n",
       "          cost   error dispersion\n",
       "1    0.0100000 0.39125 0.05466120\n",
       "2    0.1109091 0.17125 0.04641674\n",
       "3    0.2118182 0.17125 0.04528076\n",
       "4    0.3127273 0.16750 0.04533824\n",
       "5    0.4136364 0.17000 0.03961621\n",
       "6    0.5145455 0.16500 0.04479893\n",
       "7    0.6154545 0.16250 0.04526159\n",
       "8    0.7163636 0.16375 0.04185375\n",
       "9    0.8172727 0.16250 0.03952847\n",
       "10   0.9181818 0.16625 0.03955042\n",
       "11   1.0190909 0.16750 0.03736085\n",
       "12   1.1200000 0.16750 0.03689324\n",
       "13   1.2209091 0.17000 0.03827895\n",
       "14   1.3218182 0.16875 0.03644345\n",
       "15   1.4227273 0.16750 0.03641962\n",
       "16   1.5236364 0.16625 0.03488573\n",
       "17   1.6245455 0.16250 0.03280837\n",
       "18   1.7254545 0.16125 0.03304563\n",
       "19   1.8263636 0.16375 0.03356689\n",
       "20   1.9272727 0.16250 0.03280837\n",
       "21   2.0281818 0.16375 0.03408018\n",
       "22   2.1290909 0.16375 0.03408018\n",
       "23   2.2300000 0.16500 0.03050501\n",
       "24   2.3309091 0.16375 0.03251602\n",
       "25   2.4318182 0.16500 0.03270236\n",
       "26   2.5327273 0.16375 0.03197764\n",
       "27   2.6336364 0.16375 0.03197764\n",
       "28   2.7345455 0.16375 0.03197764\n",
       "29   2.8354545 0.16375 0.03197764\n",
       "30   2.9363636 0.16375 0.03197764\n",
       "31   3.0372727 0.16375 0.03197764\n",
       "32   3.1381818 0.16250 0.03435921\n",
       "33   3.2390909 0.16375 0.03508422\n",
       "34   3.3400000 0.16375 0.03508422\n",
       "35   3.4409091 0.16375 0.03508422\n",
       "36   3.5418182 0.16375 0.03508422\n",
       "37   3.6427273 0.16250 0.03435921\n",
       "38   3.7436364 0.16250 0.03435921\n",
       "39   3.8445455 0.16250 0.03435921\n",
       "40   3.9454545 0.16250 0.03435921\n",
       "41   4.0463636 0.16250 0.03435921\n",
       "42   4.1472727 0.16375 0.03408018\n",
       "43   4.2481818 0.16375 0.03408018\n",
       "44   4.3490909 0.16375 0.03408018\n",
       "45   4.4500000 0.16375 0.03408018\n",
       "46   4.5509091 0.16375 0.03408018\n",
       "47   4.6518182 0.16500 0.03987829\n",
       "48   4.7527273 0.16500 0.03987829\n",
       "49   4.8536364 0.16625 0.04084609\n",
       "50   4.9545455 0.16625 0.04084609\n",
       "51   5.0554545 0.16625 0.03586723\n",
       "52   5.1563636 0.16625 0.03586723\n",
       "53   5.2572727 0.16750 0.03343734\n",
       "54   5.3581818 0.16875 0.03294039\n",
       "55   5.4590909 0.16875 0.03294039\n",
       "56   5.5600000 0.16875 0.03294039\n",
       "57   5.6609091 0.16750 0.03184162\n",
       "58   5.7618182 0.16750 0.03184162\n",
       "59   5.8627273 0.16750 0.03073181\n",
       "60   5.9636364 0.16750 0.03073181\n",
       "61   6.0645455 0.16750 0.03073181\n",
       "62   6.1654545 0.16750 0.03073181\n",
       "63   6.2663636 0.16750 0.03073181\n",
       "64   6.3672727 0.16750 0.03073181\n",
       "65   6.4681818 0.16875 0.03294039\n",
       "66   6.5690909 0.16875 0.03294039\n",
       "67   6.6700000 0.17000 0.03545341\n",
       "68   6.7709091 0.17000 0.03545341\n",
       "69   6.8718182 0.17000 0.03545341\n",
       "70   6.9727273 0.17000 0.03545341\n",
       "71   7.0736364 0.17000 0.03545341\n",
       "72   7.1745455 0.17000 0.03545341\n",
       "73   7.2754545 0.16875 0.03738408\n",
       "74   7.3763636 0.16875 0.03738408\n",
       "75   7.4772727 0.16875 0.03738408\n",
       "76   7.5781818 0.16875 0.03738408\n",
       "77   7.6790909 0.17000 0.03545341\n",
       "78   7.7800000 0.17000 0.03545341\n",
       "79   7.8809091 0.17000 0.03545341\n",
       "80   7.9818182 0.17000 0.03545341\n",
       "81   8.0827273 0.17000 0.03545341\n",
       "82   8.1836364 0.17000 0.03545341\n",
       "83   8.2845455 0.17000 0.03545341\n",
       "84   8.3854545 0.17000 0.03545341\n",
       "85   8.4863636 0.16875 0.03596391\n",
       "86   8.5872727 0.16875 0.03596391\n",
       "87   8.6881818 0.16750 0.03496029\n",
       "88   8.7890909 0.16875 0.03547789\n",
       "89   8.8900000 0.16875 0.03547789\n",
       "90   8.9909091 0.16875 0.03547789\n",
       "91   9.0918182 0.16875 0.03547789\n",
       "92   9.1927273 0.16875 0.03547789\n",
       "93   9.2936364 0.16875 0.03547789\n",
       "94   9.3945455 0.16875 0.03547789\n",
       "95   9.4954545 0.16875 0.03547789\n",
       "96   9.5963636 0.16875 0.03547789\n",
       "97   9.6972727 0.16875 0.03547789\n",
       "98   9.7981818 0.17000 0.03641962\n",
       "99   9.8990909 0.17125 0.03586723\n",
       "100 10.0000000 0.17125 0.03586723\n"
      ]
     },
     "metadata": {},
     "output_type": "display_data"
    }
   ],
   "source": [
    "summary(svm_radial_tune)"
   ]
  },
  {
   "cell_type": "code",
   "execution_count": 25,
   "id": "94a787c2",
   "metadata": {},
   "outputs": [
    {
     "name": "stdout",
     "output_type": "stream",
     "text": [
      "Train Error Rate: 0.13625"
     ]
    }
   ],
   "source": [
    "svm_radial_tune_final <- svm(Purchase ~ . , kernel = \"radial\", \n",
    "                  data = train, cost = svm_linear_tune$best.parameters$cost)\n",
    "\n",
    "cat(\"Train Error Rate:\", error_rate(svm_radial_tune_final, train, train$Purchase))"
   ]
  },
  {
   "cell_type": "code",
   "execution_count": 26,
   "id": "0de34fb4",
   "metadata": {},
   "outputs": [
    {
     "name": "stdout",
     "output_type": "stream",
     "text": [
      "Test Error Rate: 0.1962963"
     ]
    }
   ],
   "source": [
    "cat(\"Test Error Rate:\", error_rate(svm_radial_tune_final, test, test$Purchase))"
   ]
  },
  {
   "cell_type": "markdown",
   "id": "00bd7341",
   "metadata": {},
   "source": [
    "### g) Repeat parts (b) through (e) using a support vector machine with a polynomial kernel. Set degree = 2."
   ]
  },
  {
   "cell_type": "code",
   "execution_count": 28,
   "id": "f7b59265",
   "metadata": {},
   "outputs": [
    {
     "data": {
      "text/plain": [
       "\n",
       "Call:\n",
       "svm(formula = Purchase ~ ., data = train, method = \"polynomial\", \n",
       "    degree = 2, cost = 0.01)\n",
       "\n",
       "\n",
       "Parameters:\n",
       "   SVM-Type:  C-classification \n",
       " SVM-Kernel:  radial \n",
       "       cost:  0.01 \n",
       "\n",
       "Number of Support Vectors:  629\n",
       "\n",
       " ( 313 316 )\n",
       "\n",
       "\n",
       "Number of Classes:  2 \n",
       "\n",
       "Levels: \n",
       " CH MM\n",
       "\n",
       "\n"
      ]
     },
     "metadata": {},
     "output_type": "display_data"
    }
   ],
   "source": [
    "svm_polynomial <- svm(Purchase ~ ., data = train,\n",
    "                  method = 'polynomial', degree = 2,\n",
    "                  cost = 0.01)\n",
    "summary(svm_polynomial)"
   ]
  },
  {
   "cell_type": "code",
   "execution_count": 29,
   "id": "673dfaf7",
   "metadata": {},
   "outputs": [
    {
     "name": "stdout",
     "output_type": "stream",
     "text": [
      "Train Error Rate: 0.39125"
     ]
    }
   ],
   "source": [
    "cat(\"Train Error Rate:\", error_rate(svm_polynomial, train, train$Purchase))"
   ]
  },
  {
   "cell_type": "code",
   "execution_count": 34,
   "id": "b15f6d8e",
   "metadata": {},
   "outputs": [
    {
     "name": "stdout",
     "output_type": "stream",
     "text": [
      "Test Error Rate: 0.3851852"
     ]
    }
   ],
   "source": [
    "cat(\"Test Error Rate:\", error_rate(svm_polynomial, test, test$Purchase))"
   ]
  },
  {
   "cell_type": "code",
   "execution_count": 32,
   "id": "c2758a11",
   "metadata": {},
   "outputs": [],
   "source": [
    "svm_polynomial_tune <- tune(svm, Purchase ~ . , data = train, kernel = \"polynomial\", \n",
    "                  degree = 2, ranges = list(cost = seq(0.01, 10, length = 100)))\n"
   ]
  },
  {
   "cell_type": "code",
   "execution_count": 33,
   "id": "b4677e79",
   "metadata": {},
   "outputs": [
    {
     "data": {
      "text/plain": [
       "\n",
       "Parameter tuning of ‘svm’:\n",
       "\n",
       "- sampling method: 10-fold cross validation \n",
       "\n",
       "- best parameters:\n",
       "     cost\n",
       " 9.596364\n",
       "\n",
       "- best performance: 0.17 \n",
       "\n",
       "- Detailed performance results:\n",
       "          cost   error dispersion\n",
       "1    0.0100000 0.38875 0.04016027\n",
       "2    0.1109091 0.30875 0.03230175\n",
       "3    0.2118182 0.22250 0.03717451\n",
       "4    0.3127273 0.21250 0.03435921\n",
       "5    0.4136364 0.20625 0.02960973\n",
       "6    0.5145455 0.20125 0.03197764\n",
       "7    0.6154545 0.19875 0.03356689\n",
       "8    0.7163636 0.19875 0.03928617\n",
       "9    0.8172727 0.19625 0.03998698\n",
       "10   0.9181818 0.19750 0.03987829\n",
       "11   1.0190909 0.19750 0.03944053\n",
       "12   1.1200000 0.19875 0.03701070\n",
       "13   1.2209091 0.19250 0.04456581\n",
       "14   1.3218182 0.19375 0.03875224\n",
       "15   1.4227273 0.19125 0.03866254\n",
       "16   1.5236364 0.19000 0.04031129\n",
       "17   1.6245455 0.19125 0.04411554\n",
       "18   1.7254545 0.18750 0.03952847\n",
       "19   1.8263636 0.18625 0.04143687\n",
       "20   1.9272727 0.18625 0.04543387\n",
       "21   2.0281818 0.18375 0.04860913\n",
       "22   2.1290909 0.18000 0.04338138\n",
       "23   2.2300000 0.17875 0.04678927\n",
       "24   2.3309091 0.17875 0.04450733\n",
       "25   2.4318182 0.18000 0.04257347\n",
       "26   2.5327273 0.18000 0.04456581\n",
       "27   2.6336364 0.17875 0.04411554\n",
       "28   2.7345455 0.17875 0.04411554\n",
       "29   2.8354545 0.17875 0.04641674\n",
       "30   2.9363636 0.17875 0.04210189\n",
       "31   3.0372727 0.17625 0.04185375\n",
       "32   3.1381818 0.17625 0.04185375\n",
       "33   3.2390909 0.17500 0.04208127\n",
       "34   3.3400000 0.17500 0.04289846\n",
       "35   3.4409091 0.17750 0.04518481\n",
       "36   3.5418182 0.17625 0.04505013\n",
       "37   3.6427273 0.17750 0.04322101\n",
       "38   3.7436364 0.17875 0.04126894\n",
       "39   3.8445455 0.17875 0.04126894\n",
       "40   3.9454545 0.17875 0.04126894\n",
       "41   4.0463636 0.17875 0.04126894\n",
       "42   4.1472727 0.17875 0.04126894\n",
       "43   4.2481818 0.18125 0.04218428\n",
       "44   4.3490909 0.18125 0.04218428\n",
       "45   4.4500000 0.18250 0.04216370\n",
       "46   4.5509091 0.18125 0.04259385\n",
       "47   4.6518182 0.18125 0.04259385\n",
       "48   4.7527273 0.18125 0.04259385\n",
       "49   4.8536364 0.18125 0.04299952\n",
       "50   4.9545455 0.18125 0.04299952\n",
       "51   5.0554545 0.18250 0.04174992\n",
       "52   5.1563636 0.18000 0.04297932\n",
       "53   5.2572727 0.17875 0.04372023\n",
       "54   5.3581818 0.17625 0.04619178\n",
       "55   5.4590909 0.17625 0.04581439\n",
       "56   5.5600000 0.17625 0.04581439\n",
       "57   5.6609091 0.17625 0.04581439\n",
       "58   5.7618182 0.17625 0.04581439\n",
       "59   5.8627273 0.17375 0.04466309\n",
       "60   5.9636364 0.17375 0.04466309\n",
       "61   6.0645455 0.17375 0.04466309\n",
       "62   6.1654545 0.17375 0.04466309\n",
       "63   6.2663636 0.17625 0.03839216\n",
       "64   6.3672727 0.17500 0.03864008\n",
       "65   6.4681818 0.17500 0.03864008\n",
       "66   6.5690909 0.17500 0.03864008\n",
       "67   6.6700000 0.17375 0.03884174\n",
       "68   6.7709091 0.17500 0.03864008\n",
       "69   6.8718182 0.17625 0.03701070\n",
       "70   6.9727273 0.17625 0.03701070\n",
       "71   7.0736364 0.17375 0.03884174\n",
       "72   7.1745455 0.17375 0.03884174\n",
       "73   7.2754545 0.17375 0.03884174\n",
       "74   7.3763636 0.17500 0.03773077\n",
       "75   7.4772727 0.17375 0.03884174\n",
       "76   7.5781818 0.17375 0.03884174\n",
       "77   7.6790909 0.17250 0.03899786\n",
       "78   7.7800000 0.17250 0.03899786\n",
       "79   7.8809091 0.17250 0.03899786\n",
       "80   7.9818182 0.17250 0.03899786\n",
       "81   8.0827273 0.17250 0.03899786\n",
       "82   8.1836364 0.17125 0.04041881\n",
       "83   8.2845455 0.17125 0.04041881\n",
       "84   8.3854545 0.17125 0.04041881\n",
       "85   8.4863636 0.17125 0.04041881\n",
       "86   8.5872727 0.17125 0.04041881\n",
       "87   8.6881818 0.17125 0.04041881\n",
       "88   8.7890909 0.17125 0.04041881\n",
       "89   8.8900000 0.17125 0.04041881\n",
       "90   8.9909091 0.17125 0.04041881\n",
       "91   9.0918182 0.17125 0.04041881\n",
       "92   9.1927273 0.17125 0.04041881\n",
       "93   9.2936364 0.17125 0.04041881\n",
       "94   9.3945455 0.17125 0.04041881\n",
       "95   9.4954545 0.17125 0.04041881\n",
       "96   9.5963636 0.17000 0.04090979\n",
       "97   9.6972727 0.17125 0.03998698\n",
       "98   9.7981818 0.17250 0.04281744\n",
       "99   9.8990909 0.17125 0.04372023\n",
       "100 10.0000000 0.17125 0.04372023\n"
      ]
     },
     "metadata": {},
     "output_type": "display_data"
    }
   ],
   "source": [
    "summary(svm_polynomial_tune)"
   ]
  },
  {
   "cell_type": "code",
   "execution_count": 36,
   "id": "cfa9351b",
   "metadata": {},
   "outputs": [
    {
     "name": "stdout",
     "output_type": "stream",
     "text": [
      "Train Error Rate: 0.14375"
     ]
    }
   ],
   "source": [
    "svm_polynomial_tune_final <- svm(Purchase ~ . , data = train, kernel = \"poly\", \n",
    "                 degree = 2, cost = svm_polynomial_tune$best.parameters$cost)\n",
    "\n",
    "cat(\"Train Error Rate:\", error_rate(svm_polynomial_tune_final, train, train$Purchase))"
   ]
  },
  {
   "cell_type": "code",
   "execution_count": 37,
   "id": "f6268f1b",
   "metadata": {},
   "outputs": [
    {
     "name": "stdout",
     "output_type": "stream",
     "text": [
      "Test Error Rate: 0.2037037"
     ]
    }
   ],
   "source": [
    "cat(\"Test Error Rate:\", error_rate(svm_polynomial_tune_final, test, test$Purchase))"
   ]
  },
  {
   "cell_type": "markdown",
   "id": "1916dcab",
   "metadata": {},
   "source": [
    "### h) Overall, which approach seems to give the best results on this data?"
   ]
  },
  {
   "cell_type": "markdown",
   "id": "1810bc8e",
   "metadata": {},
   "source": [
    "Overall the models are very similar, but the radial kernel does best by giving lesser error on the train data with 13.625% but linear kernel did better on the test data with error rate of 15.185%"
   ]
  },
  {
   "cell_type": "code",
   "execution_count": null,
   "id": "0f9d61f9",
   "metadata": {},
   "outputs": [],
   "source": []
  }
 ],
 "metadata": {
  "kernelspec": {
   "display_name": "R",
   "language": "R",
   "name": "ir"
  },
  "language_info": {
   "codemirror_mode": "r",
   "file_extension": ".r",
   "mimetype": "text/x-r-source",
   "name": "R",
   "pygments_lexer": "r",
   "version": "4.2.1"
  }
 },
 "nbformat": 4,
 "nbformat_minor": 5
}
