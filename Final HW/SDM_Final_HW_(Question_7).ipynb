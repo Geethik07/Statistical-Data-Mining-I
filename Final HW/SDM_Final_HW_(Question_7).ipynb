{
 "cells": [
  {
   "cell_type": "markdown",
   "metadata": {},
   "source": [
    "## Question 7 \n",
    "### Fit a neural network to the Default data in the ISLR2 package. Use a single hidden layer with 10 units, and regularization. Have a look at ISLR Labs 10.9.1–10.9.2, and in class, for guidance. Compare the classification performance of yourmodel with that of logistic regression."
   ]
  },
  {
   "cell_type": "code",
   "execution_count": 1,
   "metadata": {
    "colab": {
     "base_uri": "https://localhost:8080/"
    },
    "id": "y-WRPCcf6FK-",
    "outputId": "1ab5383a-5aa8-4f5c-ba06-fde8f0a4cc84"
   },
   "outputs": [
    {
     "name": "stderr",
     "output_type": "stream",
     "text": [
      "Installing package into ‘/usr/local/lib/R/site-library’\n",
      "(as ‘lib’ is unspecified)\n",
      "\n"
     ]
    }
   ],
   "source": [
    "install.packages(\"ISLR2\")"
   ]
  },
  {
   "cell_type": "code",
   "execution_count": 2,
   "metadata": {
    "colab": {
     "base_uri": "https://localhost:8080/"
    },
    "id": "C5LuDOT16IEO",
    "outputId": "9f1d698a-8930-41c6-82e4-8c15113a34b2"
   },
   "outputs": [
    {
     "name": "stderr",
     "output_type": "stream",
     "text": [
      "Installing package into ‘/usr/local/lib/R/site-library’\n",
      "(as ‘lib’ is unspecified)\n",
      "\n",
      "also installing the dependencies ‘Rcpp’, ‘RcppTOML’, ‘here’, ‘png’, ‘config’, ‘tfautograph’, ‘reticulate’, ‘tensorflow’, ‘tfruns’, ‘zeallot’\n",
      "\n",
      "\n"
     ]
    }
   ],
   "source": [
    "install.packages(\"keras\")"
   ]
  },
  {
   "cell_type": "code",
   "execution_count": 3,
   "metadata": {
    "colab": {
     "base_uri": "https://localhost:8080/"
    },
    "id": "wW8n2dhy6M8g",
    "outputId": "eca5486e-affa-4f38-e786-59b32a554d99"
   },
   "outputs": [
    {
     "name": "stderr",
     "output_type": "stream",
     "text": [
      "Installing package into ‘/usr/local/lib/R/site-library’\n",
      "(as ‘lib’ is unspecified)\n",
      "\n"
     ]
    }
   ],
   "source": [
    "install.packages(\"tensorflow\")"
   ]
  },
  {
   "cell_type": "code",
   "execution_count": 4,
   "metadata": {
    "id": "NaJ1ahfW6y9B"
   },
   "outputs": [],
   "source": [
    "library(ISLR2)\n",
    "library(tensorflow)\n",
    "library(keras)"
   ]
  },
  {
   "cell_type": "code",
   "execution_count": 5,
   "metadata": {
    "colab": {
     "base_uri": "https://localhost:8080/",
     "height": 142
    },
    "id": "AISWN5r663HU",
    "outputId": "e481f2b5-7c6c-4c5c-895d-8ac86ed073fa"
   },
   "outputs": [
    {
     "data": {
      "text/plain": [
       " default    student       balance           income     \n",
       " No :9667   No :7056   Min.   :   0.0   Min.   :  772  \n",
       " Yes: 333   Yes:2944   1st Qu.: 481.7   1st Qu.:21340  \n",
       "                       Median : 823.6   Median :34553  \n",
       "                       Mean   : 835.4   Mean   :33517  \n",
       "                       3rd Qu.:1166.3   3rd Qu.:43808  \n",
       "                       Max.   :2654.3   Max.   :73554  "
      ]
     },
     "metadata": {},
     "output_type": "display_data"
    }
   ],
   "source": [
    "summary(Default)"
   ]
  },
  {
   "cell_type": "code",
   "execution_count": 16,
   "metadata": {
    "id": "qnJHJgQb66RF"
   },
   "outputs": [],
   "source": [
    "set.seed(1234)\n",
    "n_row <- nrow(Default)\n",
    "n_test <- trunc(n_row/5)\n",
    "test_id <- sample(1:n, n_test)\n",
    "y_test <- Default$default[test_id] == 'Yes'"
   ]
  },
  {
   "cell_type": "code",
   "execution_count": 17,
   "metadata": {
    "colab": {
     "base_uri": "https://localhost:8080/"
    },
    "id": "5WhxzR4d6-zD",
    "outputId": "a98dc4e1-d2ae-498c-d699-db8907589222"
   },
   "outputs": [
    {
     "name": "stdout",
     "output_type": "stream",
     "text": [
      "Accuracy : 0.95175"
     ]
    }
   ],
   "source": [
    "linlog.reg <- glm(default~student+balance+income,family=\"binomial\",data=Default[-test_id,])\n",
    "linlog.pred <- predict(linlog.reg, data=Default[test_id,], type='response') > 0.5\n",
    "linlog.accuracy = mean(linlog.pred == y_test)\n",
    "cat( 'Accuracy :', linlog.accuracy)"
   ]
  },
  {
   "cell_type": "code",
   "execution_count": 18,
   "metadata": {
    "id": "Xlb3WEJe7FgG"
   },
   "outputs": [],
   "source": [
    "x = model.matrix(default ~. -1, data=Default)\n",
    "\n",
    "x_train <- x[-test_id,]\n",
    "g_train <- Default$default[-test_id]=='Yes'\n",
    "\n",
    "x_test <- x[test_id,]\n",
    "g_test <- Default$default[test_id] == 'Yes'\n",
    "\n",
    "model_nn <- keras_model_sequential() %>% \n",
    "  layer_dense(units=10, activation='relu', input_shape=ncol(x)) %>%\n",
    "  layer_dropout(rate=0.4) %>% \n",
    "  layer_dense(units = 1, activation='sigmoid')"
   ]
  },
  {
   "cell_type": "code",
   "execution_count": 25,
   "metadata": {
    "id": "P-r5iZVL7X6F"
   },
   "outputs": [],
   "source": [
    "model_nn %>% compile(\n",
    "  optimizer=optimizer_rmsprop(), \n",
    "  loss='binary_crossentropy', \n",
    "  metrics='accuracy')"
   ]
  },
  {
   "cell_type": "code",
   "execution_count": 27,
   "metadata": {
    "id": "LnYu_ReH7cft"
   },
   "outputs": [],
   "source": [
    "history <- model_nn %>% fit(\n",
    "  x = x_train, \n",
    "  y = g_train, \n",
    "  epochs=30, \n",
    "  batch_size=128)"
   ]
  },
  {
   "cell_type": "code",
   "execution_count": 28,
   "metadata": {
    "colab": {
     "base_uri": "https://localhost:8080/"
    },
    "id": "Q3VHp2Fe7e83",
    "outputId": "5ea7783d-4fa1-4522-894d-7b61b6697481"
   },
   "outputs": [
    {
     "name": "stdout",
     "output_type": "stream",
     "text": [
      "Accuracy : 0.9645"
     ]
    }
   ],
   "source": [
    "nn_pred <- predict(model_nn, x_test) > 0.5\n",
    "nn.accuracy <- mean(nn_pred == g_test)\n",
    "cat('Accuracy :',nn.accuracy)"
   ]
  },
  {
   "cell_type": "markdown",
   "metadata": {
    "id": "diK06JsN7lOD"
   },
   "source": [
    "Neural network test set accuracy is about 96%. This is comparable to logistic regression which had 95% accuracy."
   ]
  },
  {
   "cell_type": "code",
   "execution_count": null,
   "metadata": {},
   "outputs": [],
   "source": []
  }
 ],
 "metadata": {
  "colab": {
   "provenance": []
  },
  "kernelspec": {
   "display_name": "R",
   "language": "R",
   "name": "ir"
  },
  "language_info": {
   "codemirror_mode": "r",
   "file_extension": ".r",
   "mimetype": "text/x-r-source",
   "name": "R",
   "pygments_lexer": "r",
   "version": "4.2.1"
  }
 },
 "nbformat": 4,
 "nbformat_minor": 1
}
