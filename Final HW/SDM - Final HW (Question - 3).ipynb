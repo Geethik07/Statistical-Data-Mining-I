{
 "cells": [
  {
   "cell_type": "markdown",
   "id": "bf585198",
   "metadata": {},
   "source": [
    "My Supporting code for Final Homework is in https://github.com/Geethik07/Statistical-Data-Mining-I/tree/main/Final%20HW"
   ]
  },
  {
   "cell_type": "markdown",
   "id": "6d698caf",
   "metadata": {},
   "source": [
    "## Question 3\n",
    "\n",
    "### Fit a series of random-forest classifiers to the SPAM data, to explore the sensitivity to m (the number of randomly selected inputs for each tree). Plot both the OOB error as well as the test error against a suitably chosen range of values for m."
   ]
  },
  {
   "cell_type": "code",
   "execution_count": 1,
   "id": "22f731c2",
   "metadata": {},
   "outputs": [],
   "source": [
    "rm (list =ls())"
   ]
  },
  {
   "cell_type": "code",
   "execution_count": 2,
   "id": "de45e196",
   "metadata": {},
   "outputs": [
    {
     "name": "stderr",
     "output_type": "stream",
     "text": [
      "randomForest 4.7-1.1\n",
      "\n",
      "Type rfNews() to see new features/changes/bug fixes.\n",
      "\n",
      "\n",
      "Attaching package: ‘ggplot2’\n",
      "\n",
      "\n",
      "The following object is masked from ‘package:randomForest’:\n",
      "\n",
      "    margin\n",
      "\n",
      "\n",
      "\n",
      "Attaching package: ‘dplyr’\n",
      "\n",
      "\n",
      "The following object is masked from ‘package:randomForest’:\n",
      "\n",
      "    combine\n",
      "\n",
      "\n",
      "The following objects are masked from ‘package:stats’:\n",
      "\n",
      "    filter, lag\n",
      "\n",
      "\n",
      "The following objects are masked from ‘package:base’:\n",
      "\n",
      "    intersect, setdiff, setequal, union\n",
      "\n",
      "\n",
      "Loading required package: lattice\n",
      "\n"
     ]
    }
   ],
   "source": [
    "library(randomForest)\n",
    "library(ggplot2)\n",
    "library(dplyr)\n",
    "library(caret)"
   ]
  },
  {
   "cell_type": "code",
   "execution_count": 3,
   "id": "d86ab3fd",
   "metadata": {},
   "outputs": [
    {
     "name": "stdout",
     "output_type": "stream",
     "text": [
      "\n",
      "The downloaded binary packages are in\n",
      "\t/var/folders/_3/nbf8r53d0f19nygyl0lz56p40000gn/T//Rtmp370zuy/downloaded_packages\n"
     ]
    }
   ],
   "source": [
    "install.packages(\"patchwork\")"
   ]
  },
  {
   "cell_type": "code",
   "execution_count": 4,
   "id": "b9fc0ae9",
   "metadata": {},
   "outputs": [],
   "source": [
    "library(patchwork)"
   ]
  },
  {
   "cell_type": "code",
   "execution_count": 5,
   "id": "b3558a60",
   "metadata": {},
   "outputs": [],
   "source": [
    "spam = read.table(\"data.spam.txt\")"
   ]
  },
  {
   "cell_type": "code",
   "execution_count": 6,
   "id": "341a0493",
   "metadata": {},
   "outputs": [
    {
     "data": {
      "text/html": [
       "<table class=\"dataframe\">\n",
       "<caption>A data.frame: 5 × 58</caption>\n",
       "<thead>\n",
       "\t<tr><th></th><th scope=col>V1</th><th scope=col>V2</th><th scope=col>V3</th><th scope=col>V4</th><th scope=col>V5</th><th scope=col>V6</th><th scope=col>V7</th><th scope=col>V8</th><th scope=col>V9</th><th scope=col>V10</th><th scope=col>⋯</th><th scope=col>V49</th><th scope=col>V50</th><th scope=col>V51</th><th scope=col>V52</th><th scope=col>V53</th><th scope=col>V54</th><th scope=col>V55</th><th scope=col>V56</th><th scope=col>V57</th><th scope=col>V58</th></tr>\n",
       "\t<tr><th></th><th scope=col>&lt;dbl&gt;</th><th scope=col>&lt;dbl&gt;</th><th scope=col>&lt;dbl&gt;</th><th scope=col>&lt;dbl&gt;</th><th scope=col>&lt;dbl&gt;</th><th scope=col>&lt;dbl&gt;</th><th scope=col>&lt;dbl&gt;</th><th scope=col>&lt;dbl&gt;</th><th scope=col>&lt;dbl&gt;</th><th scope=col>&lt;dbl&gt;</th><th scope=col>⋯</th><th scope=col>&lt;dbl&gt;</th><th scope=col>&lt;dbl&gt;</th><th scope=col>&lt;dbl&gt;</th><th scope=col>&lt;dbl&gt;</th><th scope=col>&lt;dbl&gt;</th><th scope=col>&lt;dbl&gt;</th><th scope=col>&lt;dbl&gt;</th><th scope=col>&lt;int&gt;</th><th scope=col>&lt;int&gt;</th><th scope=col>&lt;int&gt;</th></tr>\n",
       "</thead>\n",
       "<tbody>\n",
       "\t<tr><th scope=row>1</th><td>0.00</td><td>0.64</td><td>0.64</td><td>0</td><td>0.32</td><td>0.00</td><td>0.00</td><td>0.00</td><td>0.00</td><td>0.00</td><td>⋯</td><td>0.00</td><td>0.000</td><td>0</td><td>0.778</td><td>0.000</td><td>0.000</td><td>3.756</td><td> 61</td><td> 278</td><td>1</td></tr>\n",
       "\t<tr><th scope=row>2</th><td>0.21</td><td>0.28</td><td>0.50</td><td>0</td><td>0.14</td><td>0.28</td><td>0.21</td><td>0.07</td><td>0.00</td><td>0.94</td><td>⋯</td><td>0.00</td><td>0.132</td><td>0</td><td>0.372</td><td>0.180</td><td>0.048</td><td>5.114</td><td>101</td><td>1028</td><td>1</td></tr>\n",
       "\t<tr><th scope=row>3</th><td>0.06</td><td>0.00</td><td>0.71</td><td>0</td><td>1.23</td><td>0.19</td><td>0.19</td><td>0.12</td><td>0.64</td><td>0.25</td><td>⋯</td><td>0.01</td><td>0.143</td><td>0</td><td>0.276</td><td>0.184</td><td>0.010</td><td>9.821</td><td>485</td><td>2259</td><td>1</td></tr>\n",
       "\t<tr><th scope=row>4</th><td>0.00</td><td>0.00</td><td>0.00</td><td>0</td><td>0.63</td><td>0.00</td><td>0.31</td><td>0.63</td><td>0.31</td><td>0.63</td><td>⋯</td><td>0.00</td><td>0.137</td><td>0</td><td>0.137</td><td>0.000</td><td>0.000</td><td>3.537</td><td> 40</td><td> 191</td><td>1</td></tr>\n",
       "\t<tr><th scope=row>5</th><td>0.00</td><td>0.00</td><td>0.00</td><td>0</td><td>0.63</td><td>0.00</td><td>0.31</td><td>0.63</td><td>0.31</td><td>0.63</td><td>⋯</td><td>0.00</td><td>0.135</td><td>0</td><td>0.135</td><td>0.000</td><td>0.000</td><td>3.537</td><td> 40</td><td> 191</td><td>1</td></tr>\n",
       "</tbody>\n",
       "</table>\n"
      ],
      "text/latex": [
       "A data.frame: 5 × 58\n",
       "\\begin{tabular}{r|lllllllllllllllllllll}\n",
       "  & V1 & V2 & V3 & V4 & V5 & V6 & V7 & V8 & V9 & V10 & ⋯ & V49 & V50 & V51 & V52 & V53 & V54 & V55 & V56 & V57 & V58\\\\\n",
       "  & <dbl> & <dbl> & <dbl> & <dbl> & <dbl> & <dbl> & <dbl> & <dbl> & <dbl> & <dbl> & ⋯ & <dbl> & <dbl> & <dbl> & <dbl> & <dbl> & <dbl> & <dbl> & <int> & <int> & <int>\\\\\n",
       "\\hline\n",
       "\t1 & 0.00 & 0.64 & 0.64 & 0 & 0.32 & 0.00 & 0.00 & 0.00 & 0.00 & 0.00 & ⋯ & 0.00 & 0.000 & 0 & 0.778 & 0.000 & 0.000 & 3.756 &  61 &  278 & 1\\\\\n",
       "\t2 & 0.21 & 0.28 & 0.50 & 0 & 0.14 & 0.28 & 0.21 & 0.07 & 0.00 & 0.94 & ⋯ & 0.00 & 0.132 & 0 & 0.372 & 0.180 & 0.048 & 5.114 & 101 & 1028 & 1\\\\\n",
       "\t3 & 0.06 & 0.00 & 0.71 & 0 & 1.23 & 0.19 & 0.19 & 0.12 & 0.64 & 0.25 & ⋯ & 0.01 & 0.143 & 0 & 0.276 & 0.184 & 0.010 & 9.821 & 485 & 2259 & 1\\\\\n",
       "\t4 & 0.00 & 0.00 & 0.00 & 0 & 0.63 & 0.00 & 0.31 & 0.63 & 0.31 & 0.63 & ⋯ & 0.00 & 0.137 & 0 & 0.137 & 0.000 & 0.000 & 3.537 &  40 &  191 & 1\\\\\n",
       "\t5 & 0.00 & 0.00 & 0.00 & 0 & 0.63 & 0.00 & 0.31 & 0.63 & 0.31 & 0.63 & ⋯ & 0.00 & 0.135 & 0 & 0.135 & 0.000 & 0.000 & 3.537 &  40 &  191 & 1\\\\\n",
       "\\end{tabular}\n"
      ],
      "text/markdown": [
       "\n",
       "A data.frame: 5 × 58\n",
       "\n",
       "| <!--/--> | V1 &lt;dbl&gt; | V2 &lt;dbl&gt; | V3 &lt;dbl&gt; | V4 &lt;dbl&gt; | V5 &lt;dbl&gt; | V6 &lt;dbl&gt; | V7 &lt;dbl&gt; | V8 &lt;dbl&gt; | V9 &lt;dbl&gt; | V10 &lt;dbl&gt; | ⋯ ⋯ | V49 &lt;dbl&gt; | V50 &lt;dbl&gt; | V51 &lt;dbl&gt; | V52 &lt;dbl&gt; | V53 &lt;dbl&gt; | V54 &lt;dbl&gt; | V55 &lt;dbl&gt; | V56 &lt;int&gt; | V57 &lt;int&gt; | V58 &lt;int&gt; |\n",
       "|---|---|---|---|---|---|---|---|---|---|---|---|---|---|---|---|---|---|---|---|---|---|\n",
       "| 1 | 0.00 | 0.64 | 0.64 | 0 | 0.32 | 0.00 | 0.00 | 0.00 | 0.00 | 0.00 | ⋯ | 0.00 | 0.000 | 0 | 0.778 | 0.000 | 0.000 | 3.756 |  61 |  278 | 1 |\n",
       "| 2 | 0.21 | 0.28 | 0.50 | 0 | 0.14 | 0.28 | 0.21 | 0.07 | 0.00 | 0.94 | ⋯ | 0.00 | 0.132 | 0 | 0.372 | 0.180 | 0.048 | 5.114 | 101 | 1028 | 1 |\n",
       "| 3 | 0.06 | 0.00 | 0.71 | 0 | 1.23 | 0.19 | 0.19 | 0.12 | 0.64 | 0.25 | ⋯ | 0.01 | 0.143 | 0 | 0.276 | 0.184 | 0.010 | 9.821 | 485 | 2259 | 1 |\n",
       "| 4 | 0.00 | 0.00 | 0.00 | 0 | 0.63 | 0.00 | 0.31 | 0.63 | 0.31 | 0.63 | ⋯ | 0.00 | 0.137 | 0 | 0.137 | 0.000 | 0.000 | 3.537 |  40 |  191 | 1 |\n",
       "| 5 | 0.00 | 0.00 | 0.00 | 0 | 0.63 | 0.00 | 0.31 | 0.63 | 0.31 | 0.63 | ⋯ | 0.00 | 0.135 | 0 | 0.135 | 0.000 | 0.000 | 3.537 |  40 |  191 | 1 |\n",
       "\n"
      ],
      "text/plain": [
       "  V1   V2   V3   V4 V5   V6   V7   V8   V9   V10  ⋯ V49  V50   V51 V52   V53  \n",
       "1 0.00 0.64 0.64 0  0.32 0.00 0.00 0.00 0.00 0.00 ⋯ 0.00 0.000 0   0.778 0.000\n",
       "2 0.21 0.28 0.50 0  0.14 0.28 0.21 0.07 0.00 0.94 ⋯ 0.00 0.132 0   0.372 0.180\n",
       "3 0.06 0.00 0.71 0  1.23 0.19 0.19 0.12 0.64 0.25 ⋯ 0.01 0.143 0   0.276 0.184\n",
       "4 0.00 0.00 0.00 0  0.63 0.00 0.31 0.63 0.31 0.63 ⋯ 0.00 0.137 0   0.137 0.000\n",
       "5 0.00 0.00 0.00 0  0.63 0.00 0.31 0.63 0.31 0.63 ⋯ 0.00 0.135 0   0.135 0.000\n",
       "  V54   V55   V56 V57  V58\n",
       "1 0.000 3.756  61  278 1  \n",
       "2 0.048 5.114 101 1028 1  \n",
       "3 0.010 9.821 485 2259 1  \n",
       "4 0.000 3.537  40  191 1  \n",
       "5 0.000 3.537  40  191 1  "
      ]
     },
     "metadata": {},
     "output_type": "display_data"
    }
   ],
   "source": [
    "head(spam, 5)"
   ]
  },
  {
   "cell_type": "code",
   "execution_count": 7,
   "id": "750a07e1",
   "metadata": {},
   "outputs": [],
   "source": [
    "# converting to factor \n",
    "\n",
    "spam$V58 <- factor(spam$V58)"
   ]
  },
  {
   "cell_type": "code",
   "execution_count": 8,
   "id": "ccda4a11",
   "metadata": {},
   "outputs": [],
   "source": [
    "rows <- nrow(spam)"
   ]
  },
  {
   "cell_type": "code",
   "execution_count": 10,
   "id": "f5c67bc6",
   "metadata": {},
   "outputs": [],
   "source": [
    "# Number of rows for the training set is 80% of the dataset\n",
    "inTrain <- sample(1:nrow(spam), nrow(spam)*0.80)"
   ]
  },
  {
   "cell_type": "code",
   "execution_count": 11,
   "id": "52d6f2e6",
   "metadata": {},
   "outputs": [
    {
     "data": {
      "text/html": [
       "<style>\n",
       ".list-inline {list-style: none; margin:0; padding: 0}\n",
       ".list-inline>li {display: inline-block}\n",
       ".list-inline>li:not(:last-child)::after {content: \"\\00b7\"; padding: 0 .5ex}\n",
       "</style>\n",
       "<ol class=list-inline><li>3680</li><li>58</li></ol>\n"
      ],
      "text/latex": [
       "\\begin{enumerate*}\n",
       "\\item 3680\n",
       "\\item 58\n",
       "\\end{enumerate*}\n"
      ],
      "text/markdown": [
       "1. 3680\n",
       "2. 58\n",
       "\n",
       "\n"
      ],
      "text/plain": [
       "[1] 3680   58"
      ]
     },
     "metadata": {},
     "output_type": "display_data"
    },
    {
     "data": {
      "text/html": [
       "<table class=\"dataframe\">\n",
       "<caption>A data.frame: 6 × 58</caption>\n",
       "<thead>\n",
       "\t<tr><th></th><th scope=col>V1</th><th scope=col>V2</th><th scope=col>V3</th><th scope=col>V4</th><th scope=col>V5</th><th scope=col>V6</th><th scope=col>V7</th><th scope=col>V8</th><th scope=col>V9</th><th scope=col>V10</th><th scope=col>⋯</th><th scope=col>V49</th><th scope=col>V50</th><th scope=col>V51</th><th scope=col>V52</th><th scope=col>V53</th><th scope=col>V54</th><th scope=col>V55</th><th scope=col>V56</th><th scope=col>V57</th><th scope=col>V58</th></tr>\n",
       "\t<tr><th></th><th scope=col>&lt;dbl&gt;</th><th scope=col>&lt;dbl&gt;</th><th scope=col>&lt;dbl&gt;</th><th scope=col>&lt;dbl&gt;</th><th scope=col>&lt;dbl&gt;</th><th scope=col>&lt;dbl&gt;</th><th scope=col>&lt;dbl&gt;</th><th scope=col>&lt;dbl&gt;</th><th scope=col>&lt;dbl&gt;</th><th scope=col>&lt;dbl&gt;</th><th scope=col>⋯</th><th scope=col>&lt;dbl&gt;</th><th scope=col>&lt;dbl&gt;</th><th scope=col>&lt;dbl&gt;</th><th scope=col>&lt;dbl&gt;</th><th scope=col>&lt;dbl&gt;</th><th scope=col>&lt;dbl&gt;</th><th scope=col>&lt;dbl&gt;</th><th scope=col>&lt;int&gt;</th><th scope=col>&lt;int&gt;</th><th scope=col>&lt;fct&gt;</th></tr>\n",
       "</thead>\n",
       "<tbody>\n",
       "\t<tr><th scope=row>3774</th><td>0.00</td><td>0.00</td><td>0.00</td><td>0</td><td>1.23</td><td>0</td><td>0.00</td><td>0.00</td><td>0.00</td><td>0.00</td><td>⋯</td><td>0.000</td><td>0.468</td><td>0.000</td><td>0.000</td><td>0.000</td><td>0.000</td><td>  1.058</td><td>  2</td><td> 18</td><td>0</td></tr>\n",
       "\t<tr><th scope=row>2531</th><td>0.00</td><td>0.28</td><td>0.00</td><td>0</td><td>0.56</td><td>0</td><td>0.00</td><td>0.00</td><td>0.28</td><td>0.00</td><td>⋯</td><td>0.046</td><td>0.281</td><td>0.046</td><td>0.000</td><td>0.000</td><td>0.000</td><td>  1.834</td><td> 15</td><td>200</td><td>0</td></tr>\n",
       "\t<tr><th scope=row>4332</th><td>0.00</td><td>0.00</td><td>2.12</td><td>0</td><td>1.06</td><td>0</td><td>0.00</td><td>0.00</td><td>0.00</td><td>0.00</td><td>⋯</td><td>0.000</td><td>0.000</td><td>0.000</td><td>0.000</td><td>0.000</td><td>0.000</td><td>  1.238</td><td>  4</td><td> 26</td><td>0</td></tr>\n",
       "\t<tr><th scope=row>1270</th><td>0.17</td><td>0.17</td><td>0.00</td><td>0</td><td>0.52</td><td>0</td><td>0.00</td><td>0.43</td><td>0.00</td><td>0.17</td><td>⋯</td><td>0.000</td><td>0.376</td><td>0.000</td><td>0.250</td><td>0.721</td><td>0.000</td><td>  2.742</td><td> 35</td><td>617</td><td>1</td></tr>\n",
       "\t<tr><th scope=row>4175</th><td>0.00</td><td>0.00</td><td>0.00</td><td>0</td><td>0.00</td><td>0</td><td>0.00</td><td>0.00</td><td>0.00</td><td>0.00</td><td>⋯</td><td>0.000</td><td>0.000</td><td>0.000</td><td>0.471</td><td>0.000</td><td>0.000</td><td>  1.033</td><td>  2</td><td> 31</td><td>0</td></tr>\n",
       "\t<tr><th scope=row>235</th><td>0.84</td><td>0.84</td><td>0.00</td><td>0</td><td>0.00</td><td>0</td><td>1.69</td><td>0.00</td><td>0.84</td><td>0.84</td><td>⋯</td><td>0.000</td><td>0.000</td><td>0.000</td><td>1.113</td><td>0.278</td><td>0.092</td><td>173.000</td><td>418</td><td>519</td><td>1</td></tr>\n",
       "</tbody>\n",
       "</table>\n"
      ],
      "text/latex": [
       "A data.frame: 6 × 58\n",
       "\\begin{tabular}{r|lllllllllllllllllllll}\n",
       "  & V1 & V2 & V3 & V4 & V5 & V6 & V7 & V8 & V9 & V10 & ⋯ & V49 & V50 & V51 & V52 & V53 & V54 & V55 & V56 & V57 & V58\\\\\n",
       "  & <dbl> & <dbl> & <dbl> & <dbl> & <dbl> & <dbl> & <dbl> & <dbl> & <dbl> & <dbl> & ⋯ & <dbl> & <dbl> & <dbl> & <dbl> & <dbl> & <dbl> & <dbl> & <int> & <int> & <fct>\\\\\n",
       "\\hline\n",
       "\t3774 & 0.00 & 0.00 & 0.00 & 0 & 1.23 & 0 & 0.00 & 0.00 & 0.00 & 0.00 & ⋯ & 0.000 & 0.468 & 0.000 & 0.000 & 0.000 & 0.000 &   1.058 &   2 &  18 & 0\\\\\n",
       "\t2531 & 0.00 & 0.28 & 0.00 & 0 & 0.56 & 0 & 0.00 & 0.00 & 0.28 & 0.00 & ⋯ & 0.046 & 0.281 & 0.046 & 0.000 & 0.000 & 0.000 &   1.834 &  15 & 200 & 0\\\\\n",
       "\t4332 & 0.00 & 0.00 & 2.12 & 0 & 1.06 & 0 & 0.00 & 0.00 & 0.00 & 0.00 & ⋯ & 0.000 & 0.000 & 0.000 & 0.000 & 0.000 & 0.000 &   1.238 &   4 &  26 & 0\\\\\n",
       "\t1270 & 0.17 & 0.17 & 0.00 & 0 & 0.52 & 0 & 0.00 & 0.43 & 0.00 & 0.17 & ⋯ & 0.000 & 0.376 & 0.000 & 0.250 & 0.721 & 0.000 &   2.742 &  35 & 617 & 1\\\\\n",
       "\t4175 & 0.00 & 0.00 & 0.00 & 0 & 0.00 & 0 & 0.00 & 0.00 & 0.00 & 0.00 & ⋯ & 0.000 & 0.000 & 0.000 & 0.471 & 0.000 & 0.000 &   1.033 &   2 &  31 & 0\\\\\n",
       "\t235 & 0.84 & 0.84 & 0.00 & 0 & 0.00 & 0 & 1.69 & 0.00 & 0.84 & 0.84 & ⋯ & 0.000 & 0.000 & 0.000 & 1.113 & 0.278 & 0.092 & 173.000 & 418 & 519 & 1\\\\\n",
       "\\end{tabular}\n"
      ],
      "text/markdown": [
       "\n",
       "A data.frame: 6 × 58\n",
       "\n",
       "| <!--/--> | V1 &lt;dbl&gt; | V2 &lt;dbl&gt; | V3 &lt;dbl&gt; | V4 &lt;dbl&gt; | V5 &lt;dbl&gt; | V6 &lt;dbl&gt; | V7 &lt;dbl&gt; | V8 &lt;dbl&gt; | V9 &lt;dbl&gt; | V10 &lt;dbl&gt; | ⋯ ⋯ | V49 &lt;dbl&gt; | V50 &lt;dbl&gt; | V51 &lt;dbl&gt; | V52 &lt;dbl&gt; | V53 &lt;dbl&gt; | V54 &lt;dbl&gt; | V55 &lt;dbl&gt; | V56 &lt;int&gt; | V57 &lt;int&gt; | V58 &lt;fct&gt; |\n",
       "|---|---|---|---|---|---|---|---|---|---|---|---|---|---|---|---|---|---|---|---|---|---|\n",
       "| 3774 | 0.00 | 0.00 | 0.00 | 0 | 1.23 | 0 | 0.00 | 0.00 | 0.00 | 0.00 | ⋯ | 0.000 | 0.468 | 0.000 | 0.000 | 0.000 | 0.000 |   1.058 |   2 |  18 | 0 |\n",
       "| 2531 | 0.00 | 0.28 | 0.00 | 0 | 0.56 | 0 | 0.00 | 0.00 | 0.28 | 0.00 | ⋯ | 0.046 | 0.281 | 0.046 | 0.000 | 0.000 | 0.000 |   1.834 |  15 | 200 | 0 |\n",
       "| 4332 | 0.00 | 0.00 | 2.12 | 0 | 1.06 | 0 | 0.00 | 0.00 | 0.00 | 0.00 | ⋯ | 0.000 | 0.000 | 0.000 | 0.000 | 0.000 | 0.000 |   1.238 |   4 |  26 | 0 |\n",
       "| 1270 | 0.17 | 0.17 | 0.00 | 0 | 0.52 | 0 | 0.00 | 0.43 | 0.00 | 0.17 | ⋯ | 0.000 | 0.376 | 0.000 | 0.250 | 0.721 | 0.000 |   2.742 |  35 | 617 | 1 |\n",
       "| 4175 | 0.00 | 0.00 | 0.00 | 0 | 0.00 | 0 | 0.00 | 0.00 | 0.00 | 0.00 | ⋯ | 0.000 | 0.000 | 0.000 | 0.471 | 0.000 | 0.000 |   1.033 |   2 |  31 | 0 |\n",
       "| 235 | 0.84 | 0.84 | 0.00 | 0 | 0.00 | 0 | 1.69 | 0.00 | 0.84 | 0.84 | ⋯ | 0.000 | 0.000 | 0.000 | 1.113 | 0.278 | 0.092 | 173.000 | 418 | 519 | 1 |\n",
       "\n"
      ],
      "text/plain": [
       "     V1   V2   V3   V4 V5   V6 V7   V8   V9   V10  ⋯ V49   V50   V51   V52  \n",
       "3774 0.00 0.00 0.00 0  1.23 0  0.00 0.00 0.00 0.00 ⋯ 0.000 0.468 0.000 0.000\n",
       "2531 0.00 0.28 0.00 0  0.56 0  0.00 0.00 0.28 0.00 ⋯ 0.046 0.281 0.046 0.000\n",
       "4332 0.00 0.00 2.12 0  1.06 0  0.00 0.00 0.00 0.00 ⋯ 0.000 0.000 0.000 0.000\n",
       "1270 0.17 0.17 0.00 0  0.52 0  0.00 0.43 0.00 0.17 ⋯ 0.000 0.376 0.000 0.250\n",
       "4175 0.00 0.00 0.00 0  0.00 0  0.00 0.00 0.00 0.00 ⋯ 0.000 0.000 0.000 0.471\n",
       "235  0.84 0.84 0.00 0  0.00 0  1.69 0.00 0.84 0.84 ⋯ 0.000 0.000 0.000 1.113\n",
       "     V53   V54   V55     V56 V57 V58\n",
       "3774 0.000 0.000   1.058   2  18 0  \n",
       "2531 0.000 0.000   1.834  15 200 0  \n",
       "4332 0.000 0.000   1.238   4  26 0  \n",
       "1270 0.721 0.000   2.742  35 617 1  \n",
       "4175 0.000 0.000   1.033   2  31 0  \n",
       "235  0.278 0.092 173.000 418 519 1  "
      ]
     },
     "metadata": {},
     "output_type": "display_data"
    },
    {
     "data": {
      "text/html": [
       "<style>\n",
       ".list-inline {list-style: none; margin:0; padding: 0}\n",
       ".list-inline>li {display: inline-block}\n",
       ".list-inline>li:not(:last-child)::after {content: \"\\00b7\"; padding: 0 .5ex}\n",
       "</style>\n",
       "<ol class=list-inline><li>921</li><li>58</li></ol>\n"
      ],
      "text/latex": [
       "\\begin{enumerate*}\n",
       "\\item 921\n",
       "\\item 58\n",
       "\\end{enumerate*}\n"
      ],
      "text/markdown": [
       "1. 921\n",
       "2. 58\n",
       "\n",
       "\n"
      ],
      "text/plain": [
       "[1] 921  58"
      ]
     },
     "metadata": {},
     "output_type": "display_data"
    },
    {
     "data": {
      "text/html": [
       "<table class=\"dataframe\">\n",
       "<caption>A data.frame: 6 × 58</caption>\n",
       "<thead>\n",
       "\t<tr><th></th><th scope=col>V1</th><th scope=col>V2</th><th scope=col>V3</th><th scope=col>V4</th><th scope=col>V5</th><th scope=col>V6</th><th scope=col>V7</th><th scope=col>V8</th><th scope=col>V9</th><th scope=col>V10</th><th scope=col>⋯</th><th scope=col>V49</th><th scope=col>V50</th><th scope=col>V51</th><th scope=col>V52</th><th scope=col>V53</th><th scope=col>V54</th><th scope=col>V55</th><th scope=col>V56</th><th scope=col>V57</th><th scope=col>V58</th></tr>\n",
       "\t<tr><th></th><th scope=col>&lt;dbl&gt;</th><th scope=col>&lt;dbl&gt;</th><th scope=col>&lt;dbl&gt;</th><th scope=col>&lt;dbl&gt;</th><th scope=col>&lt;dbl&gt;</th><th scope=col>&lt;dbl&gt;</th><th scope=col>&lt;dbl&gt;</th><th scope=col>&lt;dbl&gt;</th><th scope=col>&lt;dbl&gt;</th><th scope=col>&lt;dbl&gt;</th><th scope=col>⋯</th><th scope=col>&lt;dbl&gt;</th><th scope=col>&lt;dbl&gt;</th><th scope=col>&lt;dbl&gt;</th><th scope=col>&lt;dbl&gt;</th><th scope=col>&lt;dbl&gt;</th><th scope=col>&lt;dbl&gt;</th><th scope=col>&lt;dbl&gt;</th><th scope=col>&lt;int&gt;</th><th scope=col>&lt;int&gt;</th><th scope=col>&lt;fct&gt;</th></tr>\n",
       "</thead>\n",
       "<tbody>\n",
       "\t<tr><th scope=row>9</th><td>0.15</td><td>0</td><td>0.46</td><td>0</td><td>0.61</td><td>0</td><td>0.30</td><td>0</td><td>0.92</td><td>0.76</td><td>⋯</td><td>0</td><td>0.271</td><td>0</td><td>0.181</td><td>0.203</td><td>0.022</td><td>9.744</td><td>445</td><td>1257</td><td>1</td></tr>\n",
       "\t<tr><th scope=row>21</th><td>0.00</td><td>0</td><td>0.00</td><td>0</td><td>0.00</td><td>0</td><td>0.00</td><td>0</td><td>0.00</td><td>0.00</td><td>⋯</td><td>0</td><td>0.729</td><td>0</td><td>0.729</td><td>0.000</td><td>0.000</td><td>3.833</td><td>  9</td><td>  23</td><td>1</td></tr>\n",
       "\t<tr><th scope=row>24</th><td>0.00</td><td>0</td><td>0.00</td><td>0</td><td>1.16</td><td>0</td><td>0.00</td><td>0</td><td>0.00</td><td>0.00</td><td>⋯</td><td>0</td><td>0.133</td><td>0</td><td>0.667</td><td>0.000</td><td>0.000</td><td>1.131</td><td>  5</td><td>  69</td><td>1</td></tr>\n",
       "\t<tr><th scope=row>27</th><td>0.00</td><td>0</td><td>0.00</td><td>0</td><td>0.00</td><td>0</td><td>0.00</td><td>0</td><td>0.00</td><td>0.00</td><td>⋯</td><td>0</td><td>0.196</td><td>0</td><td>0.392</td><td>0.196</td><td>0.000</td><td>5.466</td><td> 22</td><td>  82</td><td>1</td></tr>\n",
       "\t<tr><th scope=row>28</th><td>0.00</td><td>0</td><td>0.00</td><td>0</td><td>0.00</td><td>0</td><td>1.66</td><td>0</td><td>0.00</td><td>0.00</td><td>⋯</td><td>0</td><td>0.000</td><td>0</td><td>0.368</td><td>0.000</td><td>0.000</td><td>2.611</td><td> 12</td><td>  47</td><td>1</td></tr>\n",
       "\t<tr><th scope=row>34</th><td>0.00</td><td>0</td><td>0.00</td><td>0</td><td>0.00</td><td>0</td><td>0.00</td><td>0</td><td>0.00</td><td>0.00</td><td>⋯</td><td>0</td><td>0.000</td><td>0</td><td>0.000</td><td>0.302</td><td>0.000</td><td>1.700</td><td>  5</td><td>  17</td><td>1</td></tr>\n",
       "</tbody>\n",
       "</table>\n"
      ],
      "text/latex": [
       "A data.frame: 6 × 58\n",
       "\\begin{tabular}{r|lllllllllllllllllllll}\n",
       "  & V1 & V2 & V3 & V4 & V5 & V6 & V7 & V8 & V9 & V10 & ⋯ & V49 & V50 & V51 & V52 & V53 & V54 & V55 & V56 & V57 & V58\\\\\n",
       "  & <dbl> & <dbl> & <dbl> & <dbl> & <dbl> & <dbl> & <dbl> & <dbl> & <dbl> & <dbl> & ⋯ & <dbl> & <dbl> & <dbl> & <dbl> & <dbl> & <dbl> & <dbl> & <int> & <int> & <fct>\\\\\n",
       "\\hline\n",
       "\t9 & 0.15 & 0 & 0.46 & 0 & 0.61 & 0 & 0.30 & 0 & 0.92 & 0.76 & ⋯ & 0 & 0.271 & 0 & 0.181 & 0.203 & 0.022 & 9.744 & 445 & 1257 & 1\\\\\n",
       "\t21 & 0.00 & 0 & 0.00 & 0 & 0.00 & 0 & 0.00 & 0 & 0.00 & 0.00 & ⋯ & 0 & 0.729 & 0 & 0.729 & 0.000 & 0.000 & 3.833 &   9 &   23 & 1\\\\\n",
       "\t24 & 0.00 & 0 & 0.00 & 0 & 1.16 & 0 & 0.00 & 0 & 0.00 & 0.00 & ⋯ & 0 & 0.133 & 0 & 0.667 & 0.000 & 0.000 & 1.131 &   5 &   69 & 1\\\\\n",
       "\t27 & 0.00 & 0 & 0.00 & 0 & 0.00 & 0 & 0.00 & 0 & 0.00 & 0.00 & ⋯ & 0 & 0.196 & 0 & 0.392 & 0.196 & 0.000 & 5.466 &  22 &   82 & 1\\\\\n",
       "\t28 & 0.00 & 0 & 0.00 & 0 & 0.00 & 0 & 1.66 & 0 & 0.00 & 0.00 & ⋯ & 0 & 0.000 & 0 & 0.368 & 0.000 & 0.000 & 2.611 &  12 &   47 & 1\\\\\n",
       "\t34 & 0.00 & 0 & 0.00 & 0 & 0.00 & 0 & 0.00 & 0 & 0.00 & 0.00 & ⋯ & 0 & 0.000 & 0 & 0.000 & 0.302 & 0.000 & 1.700 &   5 &   17 & 1\\\\\n",
       "\\end{tabular}\n"
      ],
      "text/markdown": [
       "\n",
       "A data.frame: 6 × 58\n",
       "\n",
       "| <!--/--> | V1 &lt;dbl&gt; | V2 &lt;dbl&gt; | V3 &lt;dbl&gt; | V4 &lt;dbl&gt; | V5 &lt;dbl&gt; | V6 &lt;dbl&gt; | V7 &lt;dbl&gt; | V8 &lt;dbl&gt; | V9 &lt;dbl&gt; | V10 &lt;dbl&gt; | ⋯ ⋯ | V49 &lt;dbl&gt; | V50 &lt;dbl&gt; | V51 &lt;dbl&gt; | V52 &lt;dbl&gt; | V53 &lt;dbl&gt; | V54 &lt;dbl&gt; | V55 &lt;dbl&gt; | V56 &lt;int&gt; | V57 &lt;int&gt; | V58 &lt;fct&gt; |\n",
       "|---|---|---|---|---|---|---|---|---|---|---|---|---|---|---|---|---|---|---|---|---|---|\n",
       "| 9 | 0.15 | 0 | 0.46 | 0 | 0.61 | 0 | 0.30 | 0 | 0.92 | 0.76 | ⋯ | 0 | 0.271 | 0 | 0.181 | 0.203 | 0.022 | 9.744 | 445 | 1257 | 1 |\n",
       "| 21 | 0.00 | 0 | 0.00 | 0 | 0.00 | 0 | 0.00 | 0 | 0.00 | 0.00 | ⋯ | 0 | 0.729 | 0 | 0.729 | 0.000 | 0.000 | 3.833 |   9 |   23 | 1 |\n",
       "| 24 | 0.00 | 0 | 0.00 | 0 | 1.16 | 0 | 0.00 | 0 | 0.00 | 0.00 | ⋯ | 0 | 0.133 | 0 | 0.667 | 0.000 | 0.000 | 1.131 |   5 |   69 | 1 |\n",
       "| 27 | 0.00 | 0 | 0.00 | 0 | 0.00 | 0 | 0.00 | 0 | 0.00 | 0.00 | ⋯ | 0 | 0.196 | 0 | 0.392 | 0.196 | 0.000 | 5.466 |  22 |   82 | 1 |\n",
       "| 28 | 0.00 | 0 | 0.00 | 0 | 0.00 | 0 | 1.66 | 0 | 0.00 | 0.00 | ⋯ | 0 | 0.000 | 0 | 0.368 | 0.000 | 0.000 | 2.611 |  12 |   47 | 1 |\n",
       "| 34 | 0.00 | 0 | 0.00 | 0 | 0.00 | 0 | 0.00 | 0 | 0.00 | 0.00 | ⋯ | 0 | 0.000 | 0 | 0.000 | 0.302 | 0.000 | 1.700 |   5 |   17 | 1 |\n",
       "\n"
      ],
      "text/plain": [
       "   V1   V2 V3   V4 V5   V6 V7   V8 V9   V10  ⋯ V49 V50   V51 V52   V53   V54  \n",
       "9  0.15 0  0.46 0  0.61 0  0.30 0  0.92 0.76 ⋯ 0   0.271 0   0.181 0.203 0.022\n",
       "21 0.00 0  0.00 0  0.00 0  0.00 0  0.00 0.00 ⋯ 0   0.729 0   0.729 0.000 0.000\n",
       "24 0.00 0  0.00 0  1.16 0  0.00 0  0.00 0.00 ⋯ 0   0.133 0   0.667 0.000 0.000\n",
       "27 0.00 0  0.00 0  0.00 0  0.00 0  0.00 0.00 ⋯ 0   0.196 0   0.392 0.196 0.000\n",
       "28 0.00 0  0.00 0  0.00 0  1.66 0  0.00 0.00 ⋯ 0   0.000 0   0.368 0.000 0.000\n",
       "34 0.00 0  0.00 0  0.00 0  0.00 0  0.00 0.00 ⋯ 0   0.000 0   0.000 0.302 0.000\n",
       "   V55   V56 V57  V58\n",
       "9  9.744 445 1257 1  \n",
       "21 3.833   9   23 1  \n",
       "24 1.131   5   69 1  \n",
       "27 5.466  22   82 1  \n",
       "28 2.611  12   47 1  \n",
       "34 1.700   5   17 1  "
      ]
     },
     "metadata": {},
     "output_type": "display_data"
    }
   ],
   "source": [
    "#splitting train and test\n",
    "train <- spam[inTrain ,]\n",
    "dim(train)\n",
    "head(train)\n",
    "test <- spam[-inTrain ,]\n",
    "dim(test)\n",
    "head(test)"
   ]
  },
  {
   "cell_type": "code",
   "execution_count": 12,
   "id": "fa489032",
   "metadata": {},
   "outputs": [],
   "source": [
    "#training random forest\n",
    "\n",
    "m.var <- c(1:37)\n",
    "\n",
    "error <- function(var){\n",
    "  n = length(var)\n",
    "  obb_error = rep(0,n)\n",
    "  test_error = rep(0,n)\n",
    "    \n",
    "    for(i in var){\n",
    "    forest <- randomForest(as.factor(V58) ~ .,data = train, mtry = i, ntree = 100)\n",
    "    predic <- predict(forest, newdata = test)\n",
    "    obb_error[i] <- mean((forest$predicted != train$V58)^2)\n",
    "    test_error[i] <- mean((predic != test$V58)^2)\n",
    "  }\n",
    "  return(data.frame(obb = obb_error,test_err = test_error))\n",
    "}"
   ]
  },
  {
   "cell_type": "code",
   "execution_count": 13,
   "id": "f6a04caa",
   "metadata": {},
   "outputs": [],
   "source": [
    "r_errors <- error(m.var)"
   ]
  },
  {
   "cell_type": "code",
   "execution_count": 14,
   "id": "1551c3fc",
   "metadata": {},
   "outputs": [
    {
     "data": {
      "text/html": [
       "6"
      ],
      "text/latex": [
       "6"
      ],
      "text/markdown": [
       "6"
      ],
      "text/plain": [
       "[1] 6"
      ]
     },
     "metadata": {},
     "output_type": "display_data"
    },
    {
     "data": {
      "image/png": "[encoded data removed]",
      "text/plain": [
       "plot without title"
      ]
     },
     "metadata": {
      "image/png": {
       "height": 420,
       "width": 420
      }
     },
     "output_type": "display_data"
    }
   ],
   "source": [
    "#plotting obb error\n",
    "plot(m.var, r_errors$obb, xlab = \"Variables\", ylab = \"OBB Errors\")\n",
    "\n",
    "obb_opt <- m.var[which.min(r_errors$obb)]\n",
    "obb_opt"
   ]
  },
  {
   "cell_type": "code",
   "execution_count": 15,
   "id": "536eca8d",
   "metadata": {},
   "outputs": [
    {
     "data": {
      "text/html": [
       "10"
      ],
      "text/latex": [
       "10"
      ],
      "text/markdown": [
       "10"
      ],
      "text/plain": [
       "[1] 10"
      ]
     },
     "metadata": {},
     "output_type": "display_data"
    },
    {
     "data": {
      "image/png": "[encoded data removed]",
      "text/plain": [
       "plot without title"
      ]
     },
     "metadata": {
      "image/png": {
       "height": 420,
       "width": 420
      }
     },
     "output_type": "display_data"
    }
   ],
   "source": [
    "#plotting test error\n",
    "plot(m.var, r_errors$test_err, xlab = \"Variables\", ylab = \"Test Errors\")\n",
    "\n",
    "test_opt <- m.var[which.min(r_errors$test_err)]\n",
    "test_opt\n"
   ]
  },
  {
   "cell_type": "code",
   "execution_count": 16,
   "id": "3f545f9f",
   "metadata": {},
   "outputs": [
    {
     "data": {
      "text/html": [
       "0.0477741585233442"
      ],
      "text/latex": [
       "0.0477741585233442"
      ],
      "text/markdown": [
       "0.0477741585233442"
      ],
      "text/plain": [
       "[1] 0.04777416"
      ]
     },
     "metadata": {},
     "output_type": "display_data"
    }
   ],
   "source": [
    "forest_err <- min(r_errors$test_err)\n",
    "forest_err"
   ]
  },
  {
   "cell_type": "code",
   "execution_count": null,
   "id": "50363c46",
   "metadata": {},
   "outputs": [],
   "source": []
  }
 ],
 "metadata": {
  "kernelspec": {
   "display_name": "R",
   "language": "R",
   "name": "ir"
  },
  "language_info": {
   "codemirror_mode": "r",
   "file_extension": ".r",
   "mimetype": "text/x-r-source",
   "name": "R",
   "pygments_lexer": "r",
   "version": "4.2.1"
  }
 },
 "nbformat": 4,
 "nbformat_minor": 5
}
